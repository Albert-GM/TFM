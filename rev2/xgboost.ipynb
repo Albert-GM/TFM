{
 "cells": [
  {
   "cell_type": "markdown",
   "metadata": {},
   "source": [
    "# SET ENVIRONMENT"
   ]
  },
  {
   "cell_type": "code",
   "execution_count": 1,
   "metadata": {},
   "outputs": [],
   "source": [
    "# allows to import own functions\n",
    "import sys\n",
    "import os\n",
    "import re\n",
    "root_project = re.findall(r'(^\\S*TFM)', os.getcwd())[0]\n",
    "sys.path.append(root_project)"
   ]
  },
  {
   "cell_type": "code",
   "execution_count": 2,
   "metadata": {},
   "outputs": [
    {
     "name": "stderr",
     "output_type": "stream",
     "text": [
      "/disks/hdd2T/Drive/TFM/conda_env/lib/python3.8/site-packages/sklearn/utils/deprecation.py:143: FutureWarning: The sklearn.metrics.classification module is  deprecated in version 0.22 and will be removed in version 0.24. The corresponding classes / functions should instead be imported from sklearn.metrics. Anything that cannot be imported from sklearn.metrics is now part of the private API.\n",
      "  warnings.warn(message, FutureWarning)\n"
     ]
    }
   ],
   "source": [
    "import pandas as pd\n",
    "from src.features.add_features import add_features\n",
    "from src.utils.help_func import rename_indicators\n",
    "from sklearn.model_selection import  train_test_split, cross_validate, RandomizedSearchCV\n",
    "from sklearn.preprocessing import StandardScaler\n",
    "from sklearn.compose import TransformedTargetRegressor\n",
    "from sklearn.pipeline import Pipeline\n",
    "import numpy as np\n",
    "import matplotlib.pyplot as plt\n",
    "import seaborn as sns\n",
    "from sklearn.metrics import mean_absolute_error, mean_squared_error, r2_score\n",
    "import xgboost as xgb\n",
    "from yellowbrick.regressor import residuals_plot, prediction_error, PredictionError\n",
    "from yellowbrick.model_selection import validation_curve, learning_curve, feature_importances\n",
    "import pickle\n",
    "from scipy.stats import  loguniform, randint, uniform\n",
    "import joblib\n",
    "\n",
    "from skopt import BayesSearchCV\n",
    "from skopt.space import Real, Integer\n",
    "from skopt.callbacks import DeltaYStopper\n",
    "\n",
    "sns.set()"
   ]
  },
  {
   "cell_type": "code",
   "execution_count": 3,
   "metadata": {},
   "outputs": [
    {
     "data": {
      "text/html": [
       "<div>\n",
       "<style scoped>\n",
       "    .dataframe tbody tr th:only-of-type {\n",
       "        vertical-align: middle;\n",
       "    }\n",
       "\n",
       "    .dataframe tbody tr th {\n",
       "        vertical-align: top;\n",
       "    }\n",
       "\n",
       "    .dataframe thead th {\n",
       "        text-align: right;\n",
       "    }\n",
       "</style>\n",
       "<table border=\"1\" class=\"dataframe\">\n",
       "  <thead>\n",
       "    <tr style=\"text-align: right;\">\n",
       "      <th></th>\n",
       "      <th>i_country</th>\n",
       "      <th>R0</th>\n",
       "      <th>Tc</th>\n",
       "      <th>Tr</th>\n",
       "      <th>omega</th>\n",
       "      <th>ind_inf_1</th>\n",
       "      <th>ind_inf_2</th>\n",
       "      <th>ind_inf_sumgrad</th>\n",
       "      <th>ind_inf_p</th>\n",
       "      <th>ind_mort_1</th>\n",
       "      <th>ind_mort_2</th>\n",
       "      <th>ind_mort_3</th>\n",
       "      <th>ind_mort_sumgrad</th>\n",
       "      <th>n_closed</th>\n",
       "      <th>react_time</th>\n",
       "      <th>total_infected</th>\n",
       "      <th>total_deceased</th>\n",
       "      <th>total_recovered</th>\n",
       "    </tr>\n",
       "  </thead>\n",
       "  <tbody>\n",
       "    <tr>\n",
       "      <th>46730</th>\n",
       "      <td>NIC</td>\n",
       "      <td>2.726164</td>\n",
       "      <td>2.880362</td>\n",
       "      <td>7.852337</td>\n",
       "      <td>0.333682</td>\n",
       "      <td>0.000000</td>\n",
       "      <td>0.000000</td>\n",
       "      <td>0.000000</td>\n",
       "      <td>0.000000</td>\n",
       "      <td>0.000000</td>\n",
       "      <td>0.000000</td>\n",
       "      <td>0.000000</td>\n",
       "      <td>0.0</td>\n",
       "      <td>16</td>\n",
       "      <td>13</td>\n",
       "      <td>1.0</td>\n",
       "      <td>0.0</td>\n",
       "      <td>0.0</td>\n",
       "    </tr>\n",
       "    <tr>\n",
       "      <th>48393</th>\n",
       "      <td>TTO</td>\n",
       "      <td>15.615708</td>\n",
       "      <td>1.581239</td>\n",
       "      <td>24.692166</td>\n",
       "      <td>0.508220</td>\n",
       "      <td>5.233333</td>\n",
       "      <td>10.139389</td>\n",
       "      <td>23.526981</td>\n",
       "      <td>0.000113</td>\n",
       "      <td>0.783439</td>\n",
       "      <td>4.970197</td>\n",
       "      <td>10.266054</td>\n",
       "      <td>10.5</td>\n",
       "      <td>15</td>\n",
       "      <td>14</td>\n",
       "      <td>359605.0</td>\n",
       "      <td>333040.0</td>\n",
       "      <td>26437.0</td>\n",
       "    </tr>\n",
       "    <tr>\n",
       "      <th>41416</th>\n",
       "      <td>SUR</td>\n",
       "      <td>13.349681</td>\n",
       "      <td>1.923908</td>\n",
       "      <td>25.683558</td>\n",
       "      <td>0.438960</td>\n",
       "      <td>2.000000</td>\n",
       "      <td>2.419256</td>\n",
       "      <td>6.085120</td>\n",
       "      <td>0.000104</td>\n",
       "      <td>0.850000</td>\n",
       "      <td>8.045612</td>\n",
       "      <td>8.642644</td>\n",
       "      <td>2.0</td>\n",
       "      <td>18</td>\n",
       "      <td>13</td>\n",
       "      <td>156036370.0</td>\n",
       "      <td>142061448.0</td>\n",
       "      <td>12594398.0</td>\n",
       "    </tr>\n",
       "    <tr>\n",
       "      <th>34506</th>\n",
       "      <td>VEN</td>\n",
       "      <td>12.878925</td>\n",
       "      <td>1.575816</td>\n",
       "      <td>20.294810</td>\n",
       "      <td>0.665217</td>\n",
       "      <td>0.000000</td>\n",
       "      <td>0.000000</td>\n",
       "      <td>0.000000</td>\n",
       "      <td>0.000000</td>\n",
       "      <td>0.000000</td>\n",
       "      <td>0.000000</td>\n",
       "      <td>0.000000</td>\n",
       "      <td>0.0</td>\n",
       "      <td>19</td>\n",
       "      <td>15</td>\n",
       "      <td>1.0</td>\n",
       "      <td>0.0</td>\n",
       "      <td>0.0</td>\n",
       "    </tr>\n",
       "    <tr>\n",
       "      <th>43725</th>\n",
       "      <td>TKM</td>\n",
       "      <td>6.054086</td>\n",
       "      <td>2.731820</td>\n",
       "      <td>16.538675</td>\n",
       "      <td>0.678012</td>\n",
       "      <td>0.000000</td>\n",
       "      <td>0.000000</td>\n",
       "      <td>0.000000</td>\n",
       "      <td>0.000000</td>\n",
       "      <td>0.000000</td>\n",
       "      <td>0.000000</td>\n",
       "      <td>0.000000</td>\n",
       "      <td>0.0</td>\n",
       "      <td>7</td>\n",
       "      <td>1</td>\n",
       "      <td>1.0</td>\n",
       "      <td>0.0</td>\n",
       "      <td>0.0</td>\n",
       "    </tr>\n",
       "  </tbody>\n",
       "</table>\n",
       "</div>"
      ],
      "text/plain": [
       "      i_country         R0        Tc         Tr     omega  ind_inf_1  \\\n",
       "46730       NIC   2.726164  2.880362   7.852337  0.333682   0.000000   \n",
       "48393       TTO  15.615708  1.581239  24.692166  0.508220   5.233333   \n",
       "41416       SUR  13.349681  1.923908  25.683558  0.438960   2.000000   \n",
       "34506       VEN  12.878925  1.575816  20.294810  0.665217   0.000000   \n",
       "43725       TKM   6.054086  2.731820  16.538675  0.678012   0.000000   \n",
       "\n",
       "       ind_inf_2  ind_inf_sumgrad  ind_inf_p  ind_mort_1  ind_mort_2  \\\n",
       "46730   0.000000         0.000000   0.000000    0.000000    0.000000   \n",
       "48393  10.139389        23.526981   0.000113    0.783439    4.970197   \n",
       "41416   2.419256         6.085120   0.000104    0.850000    8.045612   \n",
       "34506   0.000000         0.000000   0.000000    0.000000    0.000000   \n",
       "43725   0.000000         0.000000   0.000000    0.000000    0.000000   \n",
       "\n",
       "       ind_mort_3  ind_mort_sumgrad  n_closed  react_time  total_infected  \\\n",
       "46730    0.000000               0.0        16          13             1.0   \n",
       "48393   10.266054              10.5        15          14        359605.0   \n",
       "41416    8.642644               2.0        18          13     156036370.0   \n",
       "34506    0.000000               0.0        19          15             1.0   \n",
       "43725    0.000000               0.0         7           1             1.0   \n",
       "\n",
       "       total_deceased  total_recovered  \n",
       "46730             0.0              0.0  \n",
       "48393        333040.0          26437.0  \n",
       "41416     142061448.0       12594398.0  \n",
       "34506             0.0              0.0  \n",
       "43725             0.0              0.0  "
      ]
     },
     "execution_count": 3,
     "metadata": {},
     "output_type": "execute_result"
    }
   ],
   "source": [
    "seed = 42\n",
    "df_raw = pd.read_csv(\"../../data/processed/simulation_results_REV4.csv\")\n",
    "df_raw = df_raw.sample(30000, random_state=seed)\n",
    "df_raw.head()"
   ]
  },
  {
   "cell_type": "code",
   "execution_count": 4,
   "metadata": {},
   "outputs": [
    {
     "name": "stderr",
     "output_type": "stream",
     "text": [
      "/disks/hdd2T/Drive/TFM/conda_env/lib/python3.8/site-packages/pandas/core/series.py:726: RuntimeWarning: invalid value encountered in log\n",
      "  result = getattr(ufunc, method)(*inputs, **kwargs)\n"
     ]
    }
   ],
   "source": [
    "df = add_features(df_raw)\n",
    "df = rename_indicators(df)"
   ]
  },
  {
   "cell_type": "code",
   "execution_count": 5,
   "metadata": {},
   "outputs": [
    {
     "data": {
      "text/plain": [
       "Index(['i_country', 'R0', 'Tc', 'Tr', 'omega', 'ind_inf_1', 'ind_inf_2',\n",
       "       'ind_inf_sumgrad', 'ind_inf_p', 'ind_mort_1', 'ind_mort_2',\n",
       "       'ind_mort_3', 'ind_mort_sumgrad', 'n_closed', 'react_time',\n",
       "       'total_infected', 'total_deceased', 'total_recovered', 'betweenness',\n",
       "       'degree', 'closeness', 'country_pop', 'country_departures',\n",
       "       'exposed_pop', 'total_deceased_log', 'ind_1.3', 'ind_1.4', 'ind_1.1',\n",
       "       'ind_1.2', 'ind_2.2', 'ind_2.3', 'ind_2.4', 'ind_2.1',\n",
       "       'betweenness_log', 'degree_log', 'country_pop_log',\n",
       "       'country_departures_log', 'exposed_pop_log', 'affected_population'],\n",
       "      dtype='object')"
      ]
     },
     "execution_count": 5,
     "metadata": {},
     "output_type": "execute_result"
    }
   ],
   "source": [
    "df.columns"
   ]
  },
  {
   "cell_type": "code",
   "execution_count": 6,
   "metadata": {},
   "outputs": [
    {
     "name": "stdout",
     "output_type": "stream",
     "text": [
      "(20204, 39)\n",
      "(19259, 39)\n"
     ]
    }
   ],
   "source": [
    "df = df.loc[df['total_deceased'] > 1 ]\n",
    "print(df.shape)\n",
    "df.dropna(inplace=True)\n",
    "print(df.shape)"
   ]
  },
  {
   "cell_type": "code",
   "execution_count": 7,
   "metadata": {},
   "outputs": [
    {
     "data": {
      "text/html": [
       "<div>\n",
       "<style scoped>\n",
       "    .dataframe tbody tr th:only-of-type {\n",
       "        vertical-align: middle;\n",
       "    }\n",
       "\n",
       "    .dataframe tbody tr th {\n",
       "        vertical-align: top;\n",
       "    }\n",
       "\n",
       "    .dataframe thead th {\n",
       "        text-align: right;\n",
       "    }\n",
       "</style>\n",
       "<table border=\"1\" class=\"dataframe\">\n",
       "  <thead>\n",
       "    <tr style=\"text-align: right;\">\n",
       "      <th></th>\n",
       "      <th>ind_1.1</th>\n",
       "      <th>ind_1.2</th>\n",
       "      <th>ind_1.3</th>\n",
       "      <th>ind_1.4</th>\n",
       "      <th>ind_2.1</th>\n",
       "      <th>ind_2.2</th>\n",
       "      <th>ind_2.3</th>\n",
       "      <th>ind_2.4</th>\n",
       "      <th>n_closed</th>\n",
       "      <th>react_time</th>\n",
       "      <th>betweenness_log</th>\n",
       "      <th>degree_log</th>\n",
       "      <th>closeness</th>\n",
       "      <th>country_pop_log</th>\n",
       "      <th>country_departures_log</th>\n",
       "      <th>exposed_pop_log</th>\n",
       "      <th>affected_population</th>\n",
       "    </tr>\n",
       "  </thead>\n",
       "  <tbody>\n",
       "    <tr>\n",
       "      <th>48393</th>\n",
       "      <td>3.158148</td>\n",
       "      <td>-9.088466</td>\n",
       "      <td>1.655048</td>\n",
       "      <td>2.316428</td>\n",
       "      <td>2.351375</td>\n",
       "      <td>-0.244061</td>\n",
       "      <td>1.603460</td>\n",
       "      <td>2.328843</td>\n",
       "      <td>15</td>\n",
       "      <td>14</td>\n",
       "      <td>-5.547479</td>\n",
       "      <td>-2.106841</td>\n",
       "      <td>0.441352</td>\n",
       "      <td>14.144712</td>\n",
       "      <td>6.616065</td>\n",
       "      <td>19.965769</td>\n",
       "      <td>0.000044</td>\n",
       "    </tr>\n",
       "    <tr>\n",
       "      <th>41416</th>\n",
       "      <td>1.805846</td>\n",
       "      <td>-9.169503</td>\n",
       "      <td>0.693147</td>\n",
       "      <td>0.883460</td>\n",
       "      <td>0.693147</td>\n",
       "      <td>-0.162519</td>\n",
       "      <td>2.085127</td>\n",
       "      <td>2.156709</td>\n",
       "      <td>18</td>\n",
       "      <td>13</td>\n",
       "      <td>-8.140420</td>\n",
       "      <td>-2.917771</td>\n",
       "      <td>0.385417</td>\n",
       "      <td>13.263847</td>\n",
       "      <td>6.700731</td>\n",
       "      <td>19.249124</td>\n",
       "      <td>0.018858</td>\n",
       "    </tr>\n",
       "    <tr>\n",
       "      <th>24656</th>\n",
       "      <td>10.979096</td>\n",
       "      <td>-6.045470</td>\n",
       "      <td>8.352413</td>\n",
       "      <td>9.572624</td>\n",
       "      <td>9.948628</td>\n",
       "      <td>-0.634691</td>\n",
       "      <td>-0.050146</td>\n",
       "      <td>1.791781</td>\n",
       "      <td>4</td>\n",
       "      <td>9</td>\n",
       "      <td>-9.577623</td>\n",
       "      <td>-2.144581</td>\n",
       "      <td>0.393617</td>\n",
       "      <td>17.799080</td>\n",
       "      <td>9.513994</td>\n",
       "      <td>21.921267</td>\n",
       "      <td>0.473662</td>\n",
       "    </tr>\n",
       "    <tr>\n",
       "      <th>22411</th>\n",
       "      <td>12.998546</td>\n",
       "      <td>1.544631</td>\n",
       "      <td>9.723803</td>\n",
       "      <td>8.968487</td>\n",
       "      <td>9.553717</td>\n",
       "      <td>-2.093050</td>\n",
       "      <td>-2.184036</td>\n",
       "      <td>-0.079092</td>\n",
       "      <td>2</td>\n",
       "      <td>7</td>\n",
       "      <td>-5.853222</td>\n",
       "      <td>-2.917771</td>\n",
       "      <td>0.388792</td>\n",
       "      <td>11.580369</td>\n",
       "      <td>7.012115</td>\n",
       "      <td>19.616169</td>\n",
       "      <td>0.440854</td>\n",
       "    </tr>\n",
       "    <tr>\n",
       "      <th>936</th>\n",
       "      <td>12.068965</td>\n",
       "      <td>-8.469177</td>\n",
       "      <td>9.184157</td>\n",
       "      <td>10.229026</td>\n",
       "      <td>10.572662</td>\n",
       "      <td>-0.906085</td>\n",
       "      <td>-0.595658</td>\n",
       "      <td>1.349568</td>\n",
       "      <td>7</td>\n",
       "      <td>19</td>\n",
       "      <td>-3.484589</td>\n",
       "      <td>-0.574364</td>\n",
       "      <td>0.560606</td>\n",
       "      <td>21.054532</td>\n",
       "      <td>12.924383</td>\n",
       "      <td>22.212935</td>\n",
       "      <td>0.131193</td>\n",
       "    </tr>\n",
       "  </tbody>\n",
       "</table>\n",
       "</div>"
      ],
      "text/plain": [
       "         ind_1.1   ind_1.2   ind_1.3    ind_1.4    ind_2.1   ind_2.2  \\\n",
       "48393   3.158148 -9.088466  1.655048   2.316428   2.351375 -0.244061   \n",
       "41416   1.805846 -9.169503  0.693147   0.883460   0.693147 -0.162519   \n",
       "24656  10.979096 -6.045470  8.352413   9.572624   9.948628 -0.634691   \n",
       "22411  12.998546  1.544631  9.723803   8.968487   9.553717 -2.093050   \n",
       "936    12.068965 -8.469177  9.184157  10.229026  10.572662 -0.906085   \n",
       "\n",
       "        ind_2.3   ind_2.4  n_closed  react_time  betweenness_log  degree_log  \\\n",
       "48393  1.603460  2.328843        15          14        -5.547479   -2.106841   \n",
       "41416  2.085127  2.156709        18          13        -8.140420   -2.917771   \n",
       "24656 -0.050146  1.791781         4           9        -9.577623   -2.144581   \n",
       "22411 -2.184036 -0.079092         2           7        -5.853222   -2.917771   \n",
       "936   -0.595658  1.349568         7          19        -3.484589   -0.574364   \n",
       "\n",
       "       closeness  country_pop_log  country_departures_log  exposed_pop_log  \\\n",
       "48393   0.441352        14.144712                6.616065        19.965769   \n",
       "41416   0.385417        13.263847                6.700731        19.249124   \n",
       "24656   0.393617        17.799080                9.513994        21.921267   \n",
       "22411   0.388792        11.580369                7.012115        19.616169   \n",
       "936     0.560606        21.054532               12.924383        22.212935   \n",
       "\n",
       "       affected_population  \n",
       "48393             0.000044  \n",
       "41416             0.018858  \n",
       "24656             0.473662  \n",
       "22411             0.440854  \n",
       "936               0.131193  "
      ]
     },
     "execution_count": 7,
     "metadata": {},
     "output_type": "execute_result"
    }
   ],
   "source": [
    "features = [\n",
    "    'ind_1.1',\n",
    "    'ind_1.2',\n",
    "    'ind_1.3',\n",
    "    'ind_1.4',\n",
    "    'ind_2.1',\n",
    "    'ind_2.2',\n",
    "    'ind_2.3',\n",
    "    'ind_2.4',\n",
    "    'n_closed',\n",
    "    'react_time',\n",
    "    'betweenness_log',\n",
    "    'degree_log',\n",
    "    'closeness',\n",
    "    'country_pop_log',\n",
    "    'country_departures_log',\n",
    "    'exposed_pop_log',\n",
    "    'affected_population'\n",
    "    ]\n",
    "\n",
    "\n",
    "df = df[features]\n",
    "df.head()"
   ]
  },
  {
   "cell_type": "markdown",
   "metadata": {},
   "source": [
    "# DATA PREPARATION"
   ]
  },
  {
   "cell_type": "code",
   "execution_count": 8,
   "metadata": {},
   "outputs": [],
   "source": [
    "X = df.drop('affected_population', axis=1)\n",
    "y = df['affected_population']\n",
    "\n",
    "X_train, X_test, y_train, y_test = train_test_split(X,\n",
    "                                                  y,\n",
    "                                                  random_state=seed)"
   ]
  },
  {
   "cell_type": "code",
   "execution_count": 9,
   "metadata": {},
   "outputs": [],
   "source": [
    "def ResultsRegressorCV(scores):\n",
    "    print(f\"R2: {scores['test_r2'].mean()}, {scores['test_r2'].std()}\")\n",
    "    print(f\"MAE: {-scores['test_neg_mean_absolute_error'].mean()}, {scores['test_neg_mean_absolute_error'].std()}\")\n",
    "    print(f\"RMSE: {-scores['test_neg_root_mean_squared_error'].mean()}, {scores['test_neg_root_mean_squared_error'].std()}\")\n",
    "    return None\n",
    "\n",
    "def make_scores(d_score, model_name):\n",
    "    try:\n",
    "        df = pd.read_pickle('scores_models.pkl')\n",
    "        df[model_name] = list(d_score.values())\n",
    "        df.to_pickle('scores_models.pkl')\n",
    "    except:\n",
    "        s = pd.Series(d_score)\n",
    "        s.name = model_name\n",
    "        df = pd.DataFrame(s)\n",
    "        df.to_pickle('scores_models.pkl')"
   ]
  },
  {
   "cell_type": "markdown",
   "metadata": {},
   "source": [
    "# MODEL"
   ]
  },
  {
   "cell_type": "code",
   "execution_count": 10,
   "metadata": {},
   "outputs": [],
   "source": [
    "estimator = xgb.XGBRegressor(random_state=seed)\n",
    "\n",
    "pipe = Pipeline(\n",
    "    [\n",
    "        (\"estimator\", estimator),\n",
    "    ]\n",
    ")"
   ]
  },
  {
   "cell_type": "code",
   "execution_count": 11,
   "metadata": {},
   "outputs": [
    {
     "name": "stdout",
     "output_type": "stream",
     "text": [
      "R2: 0.923163342308807, 0.003052723109947848\n",
      "MAE: 0.0329092918586876, 0.0005325020357575002\n",
      "RMSE: 0.0555420940128481, 0.0012615990980998396\n"
     ]
    }
   ],
   "source": [
    "score = cross_validate(pipe, X, y, n_jobs=-1, scoring=['r2','neg_mean_absolute_error','neg_root_mean_squared_error'])\n",
    "ResultsRegressorCV(score)"
   ]
  },
  {
   "cell_type": "code",
   "execution_count": 12,
   "metadata": {},
   "outputs": [],
   "source": [
    "make_scores(score, 'XGBoost')"
   ]
  },
  {
   "cell_type": "code",
   "execution_count": 13,
   "metadata": {},
   "outputs": [
    {
     "data": {
      "text/plain": [
       "{'fit_time': array([1.58998823, 1.57972383, 1.58176923, 1.60623407, 1.57051444]),\n",
       " 'score_time': array([0.01615405, 0.01576972, 0.01630807, 0.01611876, 0.015517  ]),\n",
       " 'test_r2': array([0.92297635, 0.91878494, 0.92673433, 0.92100124, 0.92631986]),\n",
       " 'test_neg_mean_absolute_error': array([-0.03299802, -0.03363809, -0.03241175, -0.03328783, -0.03221077]),\n",
       " 'test_neg_root_mean_squared_error': array([-0.05539835, -0.05775874, -0.05453853, -0.05585745, -0.0541574 ])}"
      ]
     },
     "execution_count": 13,
     "metadata": {},
     "output_type": "execute_result"
    }
   ],
   "source": [
    "score"
   ]
  },
  {
   "cell_type": "code",
   "execution_count": 14,
   "metadata": {},
   "outputs": [
    {
     "data": {
      "image/png": "[encoded data removed]",
      "text/plain": [
       "<Figure size 1080x576 with 2 Axes>"
      ]
     },
     "metadata": {},
     "output_type": "display_data"
    },
    {
     "data": {
      "image/png": "[encoded data removed]",
      "text/plain": [
       "<Figure size 1080x576 with 1 Axes>"
      ]
     },
     "metadata": {},
     "output_type": "display_data"
    },
    {
     "name": "stderr",
     "output_type": "stream",
     "text": [
      "/disks/hdd2T/Drive/TFM/conda_env/lib/python3.8/site-packages/sklearn/base.py:209: FutureWarning: From version 0.24, get_params will raise an AttributeError if a parameter cannot be retrieved as an instance attribute. Previously it would return None.\n",
      "  warnings.warn('From version 0.24, get_params will raise an '\n"
     ]
    },
    {
     "data": {
      "image/png": "[encoded data removed]",
      "text/plain": [
       "<Figure size 576x396 with 1 Axes>"
      ]
     },
     "metadata": {},
     "output_type": "display_data"
    },
    {
     "name": "stderr",
     "output_type": "stream",
     "text": [
      "/disks/hdd2T/Drive/TFM/conda_env/lib/python3.8/site-packages/sklearn/base.py:209: FutureWarning: From version 0.24, get_params will raise an AttributeError if a parameter cannot be retrieved as an instance attribute. Previously it would return None.\n",
      "  warnings.warn('From version 0.24, get_params will raise an '\n"
     ]
    },
    {
     "data": {
      "image/png": "[encoded data removed]",
      "text/plain": [
       "<Figure size 576x396 with 1 Axes>"
      ]
     },
     "metadata": {},
     "output_type": "display_data"
    },
    {
     "data": {
      "text/plain": [
       "FeatureImportances(ax=<AxesSubplot:title={'center':'Feature Importances of 16 Features using XGBRegressor'}, xlabel='relative importance'>,\n",
       "                   model=None)"
      ]
     },
     "execution_count": 14,
     "metadata": {},
     "output_type": "execute_result"
    }
   ],
   "source": [
    "fig, ax = plt.subplots(1,1, figsize=(15,8))\n",
    "viz = residuals_plot(pipe, X_train, y_train, X_test, y_test, ax=ax)\n",
    "\n",
    "fig, ax = plt.subplots(1,1, figsize=(15,8))\n",
    "viz = prediction_error(pipe, X_train, y_train, X_test, y_test, ax=ax)\n",
    "\n",
    "learning_curve(pipe, X, y, scoring='r2', n_jobs=-1)\n",
    "\n",
    "feature_importances(estimator, X, y)"
   ]
  },
  {
   "cell_type": "markdown",
   "metadata": {},
   "source": [
    "# FINE TUNNING"
   ]
  },
  {
   "cell_type": "code",
   "execution_count": 15,
   "metadata": {},
   "outputs": [],
   "source": [
    "def results_searchcv(\n",
    "        cv_estimator,\n",
    "        path=None,\n",
    "        estimator=None,\n",
    "        X_test=None,\n",
    "        y_test=None):\n",
    "\n",
    "    res_dict = {}\n",
    "    res_dict['best_score_cross-val'] = cv_estimator.best_score_\n",
    "    res_dict['std_cross-val'] = cv_estimator.cv_results_['std_test_R2'][cv_estimator.best_index_]\n",
    "    res_dict['RMSE_cross-val'] = - \\\n",
    "        cv_estimator.cv_results_['mean_test_RMSE'][cv_estimator.best_index_]\n",
    "    res_dict['MAE_cross-val'] = - \\\n",
    "        cv_estimator.cv_results_['mean_test_MAE'][cv_estimator.best_index_]\n",
    "    res_dict['best_params'] = cv_estimator.best_params_\n",
    "\n",
    "    print(\"=\" * 20)\n",
    "    print(f\"Cross-val best score:\\n{res_dict['best_score_cross-val']}\")\n",
    "    print(\n",
    "        f\"Cross-val std:\\n{res_dict['std_cross-val']}\")\n",
    "    print(f\"Cross-val RMSE:\\n{res_dict['RMSE_cross-val']}\")\n",
    "    print(f\"Cross-val MAE:\\n{res_dict['MAE_cross-val']}\")\n",
    "    print(f\"Best parameters found:\\n{res_dict['best_params']}\")\n",
    "    print(\"=\" * 20)\n",
    "    \n",
    "    \n",
    "def results_searchcv_bayes(\n",
    "        cv_estimator,\n",
    "        path=None,\n",
    "        estimator=None,\n",
    "        X_test=None,\n",
    "        y_test=None):\n",
    "\n",
    "    res_dict = {}\n",
    "    res_dict['best_score_cross-val'] = cv_estimator.best_score_\n",
    "    res_dict['std_cross-val'] = cv_estimator.cv_results_['std_test_score'][cv_estimator.best_index_]\n",
    "    res_dict['best_params'] = cv_estimator.best_params_\n",
    "\n",
    "    print(\"=\" * 20)\n",
    "    print(f\"Cross-val best score:\\n{res_dict['best_score_cross-val']}\")\n",
    "    print(\n",
    "        f\"Cross-val std:\\n{res_dict['std_cross-val']}\")\n",
    "\n",
    "    print(f\"Best parameters found:\\n{res_dict['best_params']}\")\n",
    "    print(\"=\" * 20)"
   ]
  },
  {
   "cell_type": "code",
   "execution_count": 16,
   "metadata": {},
   "outputs": [],
   "source": [
    "param_dist = {'n_estimators': randint(150, 1000),\n",
    "              'learning_rate': uniform(0.01, 0.6),\n",
    "              'subsample': uniform(0.3, 0.9),\n",
    "              'max_depth': randint(3,10),\n",
    "              'colsample_bytree': uniform(0.5, 0.9),\n",
    "              'min_child_weight': randint(1,5)\n",
    "             }"
   ]
  },
  {
   "cell_type": "code",
   "execution_count": 17,
   "metadata": {},
   "outputs": [
    {
     "name": "stdout",
     "output_type": "stream",
     "text": [
      "Fitting 3 folds for each of 100 candidates, totalling 300 fits\n"
     ]
    },
    {
     "name": "stderr",
     "output_type": "stream",
     "text": [
      "[Parallel(n_jobs=-1)]: Using backend LokyBackend with 8 concurrent workers.\n",
      "[Parallel(n_jobs=-1)]: Done  43 tasks      | elapsed:   21.2s\n",
      "[Parallel(n_jobs=-1)]: Done 200 tasks      | elapsed:  1.8min\n",
      "[Parallel(n_jobs=-1)]: Done 300 out of 300 | elapsed:  2.3min finished\n"
     ]
    },
    {
     "data": {
      "text/plain": [
       "RandomizedSearchCV(cv=3,\n",
       "                   estimator=XGBRegressor(base_score=None, booster=None,\n",
       "                                          colsample_bylevel=None,\n",
       "                                          colsample_bynode=None,\n",
       "                                          colsample_bytree=None, gamma=None,\n",
       "                                          gpu_id=None, importance_type='gain',\n",
       "                                          interaction_constraints=None,\n",
       "                                          learning_rate=None,\n",
       "                                          max_delta_step=None, max_depth=None,\n",
       "                                          min_child_weight=None, missing=nan,\n",
       "                                          monotone_constraints=None,\n",
       "                                          n_estimators=100, n...\n",
       "                                        'min_child_weight': <scipy.stats._distn_infrastructure.rv_frozen object at 0x7f1b2cf7ee80>,\n",
       "                                        'n_estimators': <scipy.stats._distn_infrastructure.rv_frozen object at 0x7f1b2d087ca0>,\n",
       "                                        'subsample': <scipy.stats._distn_infrastructure.rv_frozen object at 0x7f1ae80e6880>},\n",
       "                   random_state=42, refit='R2',\n",
       "                   scoring={'MAE': 'neg_mean_absolute_error', 'R2': 'r2',\n",
       "                            'RMSE': 'neg_root_mean_squared_error'},\n",
       "                   verbose=1)"
      ]
     },
     "execution_count": 17,
     "metadata": {},
     "output_type": "execute_result"
    }
   ],
   "source": [
    "scoring = {'R2': 'r2', 'RMSE': 'neg_root_mean_squared_error',\n",
    "           'MAE': 'neg_mean_absolute_error'}\n",
    "\n",
    "random_search = RandomizedSearchCV(xgb.XGBRegressor(random_state=seed), param_distributions=param_dist,\n",
    "                                   scoring=scoring,\n",
    "                                   refit='R2',                                      \n",
    "                                   verbose=1, n_iter=100, cv=3,\n",
    "                                   random_state=seed, n_jobs=-1)\n",
    "\n",
    "# random_search.fit(X, y)"
   ]
  },
  {
   "cell_type": "code",
   "execution_count": 18,
   "metadata": {},
   "outputs": [],
   "source": [
    "# joblib.dump(random_search,'models/xgboost_randomsearch.pkl')\n",
    "random_search = joblib.load('models/xgboost_randomsearch.pkl')"
   ]
  },
  {
   "cell_type": "code",
   "execution_count": 19,
   "metadata": {},
   "outputs": [
    {
     "name": "stdout",
     "output_type": "stream",
     "text": [
      "====================\n",
      "Cross-val best score:\n",
      "0.9372983135001096\n",
      "Cross-val std:\n",
      "0.0022077900990413453\n",
      "Cross-val RMSE:\n",
      "0.05018048042361626\n",
      "Cross-val MAE:\n",
      "0.02749329614447979\n",
      "Best parameters found:\n",
      "{'colsample_bytree': 0.9249934326457544, 'learning_rate': 0.08175654756298101, 'max_depth': 8, 'min_child_weight': 3, 'n_estimators': 918, 'subsample': 0.9495565690483858}\n",
      "====================\n"
     ]
    }
   ],
   "source": [
    "results_searchcv(random_search)"
   ]
  },
  {
   "cell_type": "code",
   "execution_count": 20,
   "metadata": {},
   "outputs": [],
   "source": [
    "search_space = dict(\n",
    "    n_estimators=Integer(150, 1000),\n",
    "    max_depth=Integer(3, 10),\n",
    "    learning_rate=Real(0.01, 0.8),\n",
    "    subsample=Real(0.3, 1),\n",
    "    colsample_bytree=Real(0.5, 1),\n",
    "    gamma=Integer(0,5)\n",
    ")\n",
    "\n",
    "scores = []\n",
    "i = 0\n",
    "def on_step(optim_result, n_last=10):\n",
    "    \"\"\"\n",
    "    Callback meant to view scores after each iteration while performing Bayesian\n",
    "    Optimization in Skopt. Stops the optimization if the score in the last\n",
    "    n_last iterations are equal.\"\"\"\n",
    "    global i\n",
    "    i += 1\n",
    "    scores.append(opt.best_score_)\n",
    "    print(f\"best score: {scores[-1]}\")\n",
    "    if i > n_last and len(set(scores[i-n_last:])) <= 1:\n",
    "        return True"
   ]
  },
  {
   "cell_type": "code",
   "execution_count": 21,
   "metadata": {},
   "outputs": [],
   "source": [
    "opt = BayesSearchCV(xgb.XGBRegressor(random_state=seed), search_space, random_state=seed, verbose=1,\n",
    "                    n_iter=100, n_jobs=-1)"
   ]
  },
  {
   "cell_type": "code",
   "execution_count": 22,
   "metadata": {},
   "outputs": [
    {
     "name": "stdout",
     "output_type": "stream",
     "text": [
      "Fitting 5 folds for each of 1 candidates, totalling 5 fits\n"
     ]
    },
    {
     "name": "stderr",
     "output_type": "stream",
     "text": [
      "[Parallel(n_jobs=-1)]: Using backend LokyBackend with 8 concurrent workers.\n",
      "[Parallel(n_jobs=-1)]: Done   2 out of   5 | elapsed:    7.0s remaining:   10.5s\n",
      "[Parallel(n_jobs=-1)]: Done   5 out of   5 | elapsed:    7.3s finished\n",
      "[Parallel(n_jobs=-1)]: Using backend LokyBackend with 8 concurrent workers.\n"
     ]
    },
    {
     "name": "stdout",
     "output_type": "stream",
     "text": [
      "best score: 0.6922400886270047\n",
      "Fitting 5 folds for each of 1 candidates, totalling 5 fits\n"
     ]
    },
    {
     "name": "stderr",
     "output_type": "stream",
     "text": [
      "[Parallel(n_jobs=-1)]: Done   2 out of   5 | elapsed:   19.1s remaining:   28.7s\n",
      "[Parallel(n_jobs=-1)]: Done   5 out of   5 | elapsed:   19.7s finished\n",
      "[Parallel(n_jobs=-1)]: Using backend LokyBackend with 8 concurrent workers.\n"
     ]
    },
    {
     "name": "stdout",
     "output_type": "stream",
     "text": [
      "best score: 0.6922400886270047\n",
      "Fitting 5 folds for each of 1 candidates, totalling 5 fits\n"
     ]
    },
    {
     "name": "stderr",
     "output_type": "stream",
     "text": [
      "[Parallel(n_jobs=-1)]: Done   2 out of   5 | elapsed:    3.7s remaining:    5.6s\n",
      "[Parallel(n_jobs=-1)]: Done   5 out of   5 | elapsed:    3.8s finished\n",
      "[Parallel(n_jobs=-1)]: Using backend LokyBackend with 8 concurrent workers.\n"
     ]
    },
    {
     "name": "stdout",
     "output_type": "stream",
     "text": [
      "best score: 0.7091732586876701\n",
      "Fitting 5 folds for each of 1 candidates, totalling 5 fits\n"
     ]
    },
    {
     "name": "stderr",
     "output_type": "stream",
     "text": [
      "[Parallel(n_jobs=-1)]: Done   2 out of   5 | elapsed:   11.8s remaining:   17.7s\n",
      "[Parallel(n_jobs=-1)]: Done   5 out of   5 | elapsed:   12.2s finished\n",
      "[Parallel(n_jobs=-1)]: Using backend LokyBackend with 8 concurrent workers.\n"
     ]
    },
    {
     "name": "stdout",
     "output_type": "stream",
     "text": [
      "best score: 0.8171080800867797\n",
      "Fitting 5 folds for each of 1 candidates, totalling 5 fits\n"
     ]
    },
    {
     "name": "stderr",
     "output_type": "stream",
     "text": [
      "[Parallel(n_jobs=-1)]: Done   2 out of   5 | elapsed:   18.4s remaining:   27.6s\n",
      "[Parallel(n_jobs=-1)]: Done   5 out of   5 | elapsed:   19.6s finished\n",
      "[Parallel(n_jobs=-1)]: Using backend LokyBackend with 8 concurrent workers.\n"
     ]
    },
    {
     "name": "stdout",
     "output_type": "stream",
     "text": [
      "best score: 0.8171080800867797\n",
      "Fitting 5 folds for each of 1 candidates, totalling 5 fits\n"
     ]
    },
    {
     "name": "stderr",
     "output_type": "stream",
     "text": [
      "[Parallel(n_jobs=-1)]: Done   2 out of   5 | elapsed:    7.4s remaining:   11.1s\n",
      "[Parallel(n_jobs=-1)]: Done   5 out of   5 | elapsed:    7.6s finished\n",
      "[Parallel(n_jobs=-1)]: Using backend LokyBackend with 8 concurrent workers.\n"
     ]
    },
    {
     "name": "stdout",
     "output_type": "stream",
     "text": [
      "best score: 0.8171080800867797\n",
      "Fitting 5 folds for each of 1 candidates, totalling 5 fits\n"
     ]
    },
    {
     "name": "stderr",
     "output_type": "stream",
     "text": [
      "[Parallel(n_jobs=-1)]: Done   2 out of   5 | elapsed:   13.7s remaining:   20.5s\n",
      "[Parallel(n_jobs=-1)]: Done   5 out of   5 | elapsed:   14.2s finished\n",
      "[Parallel(n_jobs=-1)]: Using backend LokyBackend with 8 concurrent workers.\n"
     ]
    },
    {
     "name": "stdout",
     "output_type": "stream",
     "text": [
      "best score: 0.8171080800867797\n",
      "Fitting 5 folds for each of 1 candidates, totalling 5 fits\n"
     ]
    },
    {
     "name": "stderr",
     "output_type": "stream",
     "text": [
      "[Parallel(n_jobs=-1)]: Done   2 out of   5 | elapsed:    7.1s remaining:   10.6s\n",
      "[Parallel(n_jobs=-1)]: Done   5 out of   5 | elapsed:    7.5s finished\n",
      "[Parallel(n_jobs=-1)]: Using backend LokyBackend with 8 concurrent workers.\n"
     ]
    },
    {
     "name": "stdout",
     "output_type": "stream",
     "text": [
      "best score: 0.8171080800867797\n",
      "Fitting 5 folds for each of 1 candidates, totalling 5 fits\n"
     ]
    },
    {
     "name": "stderr",
     "output_type": "stream",
     "text": [
      "[Parallel(n_jobs=-1)]: Done   2 out of   5 | elapsed:    6.5s remaining:    9.7s\n",
      "[Parallel(n_jobs=-1)]: Done   5 out of   5 | elapsed:    6.8s finished\n"
     ]
    },
    {
     "name": "stdout",
     "output_type": "stream",
     "text": [
      "best score: 0.8171080800867797\n",
      "Fitting 5 folds for each of 1 candidates, totalling 5 fits\n"
     ]
    },
    {
     "name": "stderr",
     "output_type": "stream",
     "text": [
      "[Parallel(n_jobs=-1)]: Using backend LokyBackend with 8 concurrent workers.\n",
      "[Parallel(n_jobs=-1)]: Done   2 out of   5 | elapsed:    4.8s remaining:    7.2s\n",
      "[Parallel(n_jobs=-1)]: Done   5 out of   5 | elapsed:    4.9s finished\n"
     ]
    },
    {
     "name": "stdout",
     "output_type": "stream",
     "text": [
      "best score: 0.8171080800867797\n",
      "Fitting 5 folds for each of 1 candidates, totalling 5 fits\n"
     ]
    },
    {
     "name": "stderr",
     "output_type": "stream",
     "text": [
      "[Parallel(n_jobs=-1)]: Using backend LokyBackend with 8 concurrent workers.\n",
      "[Parallel(n_jobs=-1)]: Done   2 out of   5 | elapsed:    0.8s remaining:    1.1s\n",
      "[Parallel(n_jobs=-1)]: Done   5 out of   5 | elapsed:    0.8s finished\n"
     ]
    },
    {
     "name": "stdout",
     "output_type": "stream",
     "text": [
      "best score: 0.8171080800867797\n",
      "Fitting 5 folds for each of 1 candidates, totalling 5 fits\n"
     ]
    },
    {
     "name": "stderr",
     "output_type": "stream",
     "text": [
      "[Parallel(n_jobs=-1)]: Using backend LokyBackend with 8 concurrent workers.\n",
      "[Parallel(n_jobs=-1)]: Done   2 out of   5 | elapsed:    6.4s remaining:    9.6s\n",
      "[Parallel(n_jobs=-1)]: Done   5 out of   5 | elapsed:    7.0s finished\n"
     ]
    },
    {
     "name": "stdout",
     "output_type": "stream",
     "text": [
      "best score: 0.8215947889971125\n",
      "Fitting 5 folds for each of 1 candidates, totalling 5 fits\n"
     ]
    },
    {
     "name": "stderr",
     "output_type": "stream",
     "text": [
      "[Parallel(n_jobs=-1)]: Using backend LokyBackend with 8 concurrent workers.\n",
      "[Parallel(n_jobs=-1)]: Done   2 out of   5 | elapsed:   10.9s remaining:   16.3s\n",
      "[Parallel(n_jobs=-1)]: Done   5 out of   5 | elapsed:   11.0s finished\n"
     ]
    },
    {
     "name": "stdout",
     "output_type": "stream",
     "text": [
      "best score: 0.8546502162526449\n",
      "Fitting 5 folds for each of 1 candidates, totalling 5 fits\n"
     ]
    },
    {
     "name": "stderr",
     "output_type": "stream",
     "text": [
      "[Parallel(n_jobs=-1)]: Using backend LokyBackend with 8 concurrent workers.\n",
      "[Parallel(n_jobs=-1)]: Done   2 out of   5 | elapsed:    7.5s remaining:   11.3s\n",
      "[Parallel(n_jobs=-1)]: Done   5 out of   5 | elapsed:    8.3s finished\n"
     ]
    },
    {
     "name": "stdout",
     "output_type": "stream",
     "text": [
      "best score: 0.8546502162526449\n",
      "Fitting 5 folds for each of 1 candidates, totalling 5 fits\n"
     ]
    },
    {
     "name": "stderr",
     "output_type": "stream",
     "text": [
      "[Parallel(n_jobs=-1)]: Using backend LokyBackend with 8 concurrent workers.\n",
      "[Parallel(n_jobs=-1)]: Done   2 out of   5 | elapsed:    5.2s remaining:    7.8s\n",
      "[Parallel(n_jobs=-1)]: Done   5 out of   5 | elapsed:    5.3s finished\n"
     ]
    },
    {
     "name": "stdout",
     "output_type": "stream",
     "text": [
      "best score: 0.8546502162526449\n",
      "Fitting 5 folds for each of 1 candidates, totalling 5 fits\n"
     ]
    },
    {
     "name": "stderr",
     "output_type": "stream",
     "text": [
      "[Parallel(n_jobs=-1)]: Using backend LokyBackend with 8 concurrent workers.\n",
      "[Parallel(n_jobs=-1)]: Done   2 out of   5 | elapsed:   16.3s remaining:   24.5s\n",
      "[Parallel(n_jobs=-1)]: Done   5 out of   5 | elapsed:   18.4s finished\n"
     ]
    },
    {
     "name": "stdout",
     "output_type": "stream",
     "text": [
      "best score: 0.8546502162526449\n",
      "Fitting 5 folds for each of 1 candidates, totalling 5 fits\n"
     ]
    },
    {
     "name": "stderr",
     "output_type": "stream",
     "text": [
      "[Parallel(n_jobs=-1)]: Using backend LokyBackend with 8 concurrent workers.\n",
      "[Parallel(n_jobs=-1)]: Done   2 out of   5 | elapsed:   11.2s remaining:   16.8s\n",
      "[Parallel(n_jobs=-1)]: Done   5 out of   5 | elapsed:   12.1s finished\n"
     ]
    },
    {
     "name": "stdout",
     "output_type": "stream",
     "text": [
      "best score: 0.8546502162526449\n",
      "Fitting 5 folds for each of 1 candidates, totalling 5 fits\n"
     ]
    },
    {
     "name": "stderr",
     "output_type": "stream",
     "text": [
      "[Parallel(n_jobs=-1)]: Using backend LokyBackend with 8 concurrent workers.\n",
      "[Parallel(n_jobs=-1)]: Done   2 out of   5 | elapsed:    3.3s remaining:    4.9s\n",
      "[Parallel(n_jobs=-1)]: Done   5 out of   5 | elapsed:    3.5s finished\n"
     ]
    },
    {
     "name": "stdout",
     "output_type": "stream",
     "text": [
      "best score: 0.8546502162526449\n",
      "Fitting 5 folds for each of 1 candidates, totalling 5 fits\n"
     ]
    },
    {
     "name": "stderr",
     "output_type": "stream",
     "text": [
      "[Parallel(n_jobs=-1)]: Using backend LokyBackend with 8 concurrent workers.\n",
      "[Parallel(n_jobs=-1)]: Done   2 out of   5 | elapsed:   33.0s remaining:   49.5s\n",
      "[Parallel(n_jobs=-1)]: Done   5 out of   5 | elapsed:   34.2s finished\n"
     ]
    },
    {
     "name": "stdout",
     "output_type": "stream",
     "text": [
      "best score: 0.8634579167810723\n",
      "Fitting 5 folds for each of 1 candidates, totalling 5 fits\n"
     ]
    },
    {
     "name": "stderr",
     "output_type": "stream",
     "text": [
      "[Parallel(n_jobs=-1)]: Using backend LokyBackend with 8 concurrent workers.\n",
      "[Parallel(n_jobs=-1)]: Done   2 out of   5 | elapsed:   13.7s remaining:   20.5s\n",
      "[Parallel(n_jobs=-1)]: Done   5 out of   5 | elapsed:   13.8s finished\n"
     ]
    },
    {
     "name": "stdout",
     "output_type": "stream",
     "text": [
      "best score: 0.8634579167810723\n",
      "Fitting 5 folds for each of 1 candidates, totalling 5 fits\n"
     ]
    },
    {
     "name": "stderr",
     "output_type": "stream",
     "text": [
      "[Parallel(n_jobs=-1)]: Using backend LokyBackend with 8 concurrent workers.\n",
      "[Parallel(n_jobs=-1)]: Done   2 out of   5 | elapsed:    2.8s remaining:    4.2s\n",
      "[Parallel(n_jobs=-1)]: Done   5 out of   5 | elapsed:    2.8s finished\n"
     ]
    },
    {
     "name": "stdout",
     "output_type": "stream",
     "text": [
      "best score: 0.8634579167810723\n",
      "Fitting 5 folds for each of 1 candidates, totalling 5 fits\n"
     ]
    },
    {
     "name": "stderr",
     "output_type": "stream",
     "text": [
      "[Parallel(n_jobs=-1)]: Using backend LokyBackend with 8 concurrent workers.\n",
      "[Parallel(n_jobs=-1)]: Done   2 out of   5 | elapsed:   19.6s remaining:   29.5s\n",
      "[Parallel(n_jobs=-1)]: Done   5 out of   5 | elapsed:   19.9s finished\n"
     ]
    },
    {
     "name": "stdout",
     "output_type": "stream",
     "text": [
      "best score: 0.8634579167810723\n",
      "Fitting 5 folds for each of 1 candidates, totalling 5 fits\n"
     ]
    },
    {
     "name": "stderr",
     "output_type": "stream",
     "text": [
      "[Parallel(n_jobs=-1)]: Using backend LokyBackend with 8 concurrent workers.\n",
      "[Parallel(n_jobs=-1)]: Done   2 out of   5 | elapsed:    7.4s remaining:   11.1s\n",
      "[Parallel(n_jobs=-1)]: Done   5 out of   5 | elapsed:    7.6s finished\n"
     ]
    },
    {
     "name": "stdout",
     "output_type": "stream",
     "text": [
      "best score: 0.8634579167810723\n",
      "Fitting 5 folds for each of 1 candidates, totalling 5 fits\n"
     ]
    },
    {
     "name": "stderr",
     "output_type": "stream",
     "text": [
      "[Parallel(n_jobs=-1)]: Using backend LokyBackend with 8 concurrent workers.\n",
      "[Parallel(n_jobs=-1)]: Done   2 out of   5 | elapsed:   31.9s remaining:   47.9s\n",
      "[Parallel(n_jobs=-1)]: Done   5 out of   5 | elapsed:   33.5s finished\n"
     ]
    },
    {
     "name": "stdout",
     "output_type": "stream",
     "text": [
      "best score: 0.8634579167810723\n",
      "Fitting 5 folds for each of 1 candidates, totalling 5 fits\n"
     ]
    },
    {
     "name": "stderr",
     "output_type": "stream",
     "text": [
      "[Parallel(n_jobs=-1)]: Using backend LokyBackend with 8 concurrent workers.\n",
      "[Parallel(n_jobs=-1)]: Done   2 out of   5 | elapsed:   21.5s remaining:   32.2s\n",
      "[Parallel(n_jobs=-1)]: Done   5 out of   5 | elapsed:   21.6s finished\n"
     ]
    },
    {
     "name": "stdout",
     "output_type": "stream",
     "text": [
      "best score: 0.8634579167810723\n",
      "Fitting 5 folds for each of 1 candidates, totalling 5 fits\n"
     ]
    },
    {
     "name": "stderr",
     "output_type": "stream",
     "text": [
      "[Parallel(n_jobs=-1)]: Using backend LokyBackend with 8 concurrent workers.\n",
      "[Parallel(n_jobs=-1)]: Done   2 out of   5 | elapsed:   28.8s remaining:   43.1s\n",
      "[Parallel(n_jobs=-1)]: Done   5 out of   5 | elapsed:   29.8s finished\n"
     ]
    },
    {
     "name": "stdout",
     "output_type": "stream",
     "text": [
      "best score: 0.8634579167810723\n",
      "Fitting 5 folds for each of 1 candidates, totalling 5 fits\n"
     ]
    },
    {
     "name": "stderr",
     "output_type": "stream",
     "text": [
      "[Parallel(n_jobs=-1)]: Using backend LokyBackend with 8 concurrent workers.\n",
      "[Parallel(n_jobs=-1)]: Done   2 out of   5 | elapsed:   13.8s remaining:   20.6s\n",
      "[Parallel(n_jobs=-1)]: Done   5 out of   5 | elapsed:   14.4s finished\n"
     ]
    },
    {
     "name": "stdout",
     "output_type": "stream",
     "text": [
      "best score: 0.8634579167810723\n",
      "Fitting 5 folds for each of 1 candidates, totalling 5 fits\n"
     ]
    },
    {
     "name": "stderr",
     "output_type": "stream",
     "text": [
      "[Parallel(n_jobs=-1)]: Using backend LokyBackend with 8 concurrent workers.\n",
      "[Parallel(n_jobs=-1)]: Done   2 out of   5 | elapsed:   30.5s remaining:   45.7s\n",
      "[Parallel(n_jobs=-1)]: Done   5 out of   5 | elapsed:   32.3s finished\n"
     ]
    },
    {
     "name": "stdout",
     "output_type": "stream",
     "text": [
      "best score: 0.8634579167810723\n"
     ]
    },
    {
     "data": {
      "text/plain": [
       "BayesSearchCV(estimator=XGBRegressor(base_score=None, booster=None,\n",
       "                                     colsample_bylevel=None,\n",
       "                                     colsample_bynode=None,\n",
       "                                     colsample_bytree=None, gamma=None,\n",
       "                                     gpu_id=None, importance_type='gain',\n",
       "                                     interaction_constraints=None,\n",
       "                                     learning_rate=None, max_delta_step=None,\n",
       "                                     max_depth=None, min_child_weight=None,\n",
       "                                     missing=nan, monotone_constraints=None,\n",
       "                                     n_estimators=100, n_jobs=None...\n",
       "                             'gamma': Integer(low=0, high=5, prior='uniform', transform='identity'),\n",
       "                             'learning_rate': Real(low=0.01, high=0.8, prior='uniform', transform='identity'),\n",
       "                             'max_depth': Integer(low=3, high=10, prior='uniform', transform='identity'),\n",
       "                             'n_estimators': Integer(low=150, high=1000, prior='uniform', transform='identity'),\n",
       "                             'subsample': Real(low=0.3, high=1, prior='uniform', transform='identity')},\n",
       "              verbose=1)"
      ]
     },
     "execution_count": 22,
     "metadata": {},
     "output_type": "execute_result"
    }
   ],
   "source": [
    "# opt.fit(X, y, callback=on_step)"
   ]
  },
  {
   "cell_type": "code",
   "execution_count": 23,
   "metadata": {},
   "outputs": [],
   "source": [
    "# joblib.dump(opt,'models/xgboost_bayessearch.pkl')\n",
    "opt = joblib.load('models/xgboost_bayessearch.pkl')"
   ]
  },
  {
   "cell_type": "code",
   "execution_count": 24,
   "metadata": {},
   "outputs": [
    {
     "name": "stdout",
     "output_type": "stream",
     "text": [
      "====================\n",
      "Cross-val best score:\n",
      "0.8634579167810723\n",
      "Cross-val std:\n",
      "0.0038343929851073224\n",
      "Best parameters found:\n",
      "OrderedDict([('colsample_bytree', 1.0), ('gamma', 1), ('learning_rate', 0.19430705426820724), ('max_depth', 10), ('n_estimators', 1000), ('subsample', 0.9088527944151519)])\n",
      "====================\n"
     ]
    }
   ],
   "source": [
    "results_searchcv_bayes(opt)"
   ]
  },
  {
   "cell_type": "markdown",
   "metadata": {},
   "source": [
    "# TEST SET"
   ]
  },
  {
   "cell_type": "code",
   "execution_count": 25,
   "metadata": {},
   "outputs": [
    {
     "data": {
      "text/html": [
       "<div>\n",
       "<style scoped>\n",
       "    .dataframe tbody tr th:only-of-type {\n",
       "        vertical-align: middle;\n",
       "    }\n",
       "\n",
       "    .dataframe tbody tr th {\n",
       "        vertical-align: top;\n",
       "    }\n",
       "\n",
       "    .dataframe thead th {\n",
       "        text-align: right;\n",
       "    }\n",
       "</style>\n",
       "<table border=\"1\" class=\"dataframe\">\n",
       "  <thead>\n",
       "    <tr style=\"text-align: right;\">\n",
       "      <th></th>\n",
       "      <th>i_country</th>\n",
       "      <th>R0</th>\n",
       "      <th>Tc</th>\n",
       "      <th>Tr</th>\n",
       "      <th>omega</th>\n",
       "      <th>ind_inf_1</th>\n",
       "      <th>ind_inf_2</th>\n",
       "      <th>ind_inf_sumgrad</th>\n",
       "      <th>ind_inf_p</th>\n",
       "      <th>ind_mort_1</th>\n",
       "      <th>ind_mort_2</th>\n",
       "      <th>ind_mort_3</th>\n",
       "      <th>ind_mort_sumgrad</th>\n",
       "      <th>n_closed</th>\n",
       "      <th>react_time</th>\n",
       "      <th>total_infected</th>\n",
       "      <th>total_deceased</th>\n",
       "      <th>total_recovered</th>\n",
       "    </tr>\n",
       "  </thead>\n",
       "  <tbody>\n",
       "    <tr>\n",
       "      <th>0</th>\n",
       "      <td>MRT</td>\n",
       "      <td>6.957955</td>\n",
       "      <td>1.712730</td>\n",
       "      <td>11.917101</td>\n",
       "      <td>0.421474</td>\n",
       "      <td>5.200000e+00</td>\n",
       "      <td>8.642633e+00</td>\n",
       "      <td>2.391741e+01</td>\n",
       "      <td>0.000035</td>\n",
       "      <td>0.717949</td>\n",
       "      <td>4.460011</td>\n",
       "      <td>4.170287</td>\n",
       "      <td>9.5</td>\n",
       "      <td>11</td>\n",
       "      <td>20</td>\n",
       "      <td>1.128905e+06</td>\n",
       "      <td>9.414420e+05</td>\n",
       "      <td>1.873230e+05</td>\n",
       "    </tr>\n",
       "    <tr>\n",
       "      <th>1</th>\n",
       "      <td>CRI</td>\n",
       "      <td>10.071858</td>\n",
       "      <td>1.993278</td>\n",
       "      <td>20.076016</td>\n",
       "      <td>0.256798</td>\n",
       "      <td>8.853333e+01</td>\n",
       "      <td>2.085479e+02</td>\n",
       "      <td>1.121798e+03</td>\n",
       "      <td>0.000531</td>\n",
       "      <td>0.508660</td>\n",
       "      <td>1.089355</td>\n",
       "      <td>4.263092</td>\n",
       "      <td>240.0</td>\n",
       "      <td>18</td>\n",
       "      <td>16</td>\n",
       "      <td>2.215812e+09</td>\n",
       "      <td>1.856075e+09</td>\n",
       "      <td>3.600110e+08</td>\n",
       "    </tr>\n",
       "    <tr>\n",
       "      <th>2</th>\n",
       "      <td>DNK</td>\n",
       "      <td>13.220658</td>\n",
       "      <td>2.176956</td>\n",
       "      <td>28.780786</td>\n",
       "      <td>0.556694</td>\n",
       "      <td>0.000000e+00</td>\n",
       "      <td>0.000000e+00</td>\n",
       "      <td>0.000000e+00</td>\n",
       "      <td>0.000000</td>\n",
       "      <td>0.000000</td>\n",
       "      <td>0.000000</td>\n",
       "      <td>0.000000</td>\n",
       "      <td>0.0</td>\n",
       "      <td>9</td>\n",
       "      <td>12</td>\n",
       "      <td>1.000000e+00</td>\n",
       "      <td>0.000000e+00</td>\n",
       "      <td>0.000000e+00</td>\n",
       "    </tr>\n",
       "    <tr>\n",
       "      <th>3</th>\n",
       "      <td>GRC</td>\n",
       "      <td>10.596798</td>\n",
       "      <td>0.878435</td>\n",
       "      <td>9.308599</td>\n",
       "      <td>0.953062</td>\n",
       "      <td>4.333333e+00</td>\n",
       "      <td>8.490222e+00</td>\n",
       "      <td>1.022128e+01</td>\n",
       "      <td>0.000012</td>\n",
       "      <td>0.823077</td>\n",
       "      <td>9.969037</td>\n",
       "      <td>7.228118</td>\n",
       "      <td>8.0</td>\n",
       "      <td>10</td>\n",
       "      <td>20</td>\n",
       "      <td>4.477377e+08</td>\n",
       "      <td>4.023809e+08</td>\n",
       "      <td>4.534857e+07</td>\n",
       "    </tr>\n",
       "    <tr>\n",
       "      <th>4</th>\n",
       "      <td>FIN</td>\n",
       "      <td>7.026326</td>\n",
       "      <td>2.165711</td>\n",
       "      <td>15.216989</td>\n",
       "      <td>0.433996</td>\n",
       "      <td>0.000000e+00</td>\n",
       "      <td>0.000000e+00</td>\n",
       "      <td>0.000000e+00</td>\n",
       "      <td>0.000000</td>\n",
       "      <td>0.000000</td>\n",
       "      <td>0.000000</td>\n",
       "      <td>0.000000</td>\n",
       "      <td>0.0</td>\n",
       "      <td>9</td>\n",
       "      <td>18</td>\n",
       "      <td>1.000000e+00</td>\n",
       "      <td>0.000000e+00</td>\n",
       "      <td>0.000000e+00</td>\n",
       "    </tr>\n",
       "    <tr>\n",
       "      <th>...</th>\n",
       "      <td>...</td>\n",
       "      <td>...</td>\n",
       "      <td>...</td>\n",
       "      <td>...</td>\n",
       "      <td>...</td>\n",
       "      <td>...</td>\n",
       "      <td>...</td>\n",
       "      <td>...</td>\n",
       "      <td>...</td>\n",
       "      <td>...</td>\n",
       "      <td>...</td>\n",
       "      <td>...</td>\n",
       "      <td>...</td>\n",
       "      <td>...</td>\n",
       "      <td>...</td>\n",
       "      <td>...</td>\n",
       "      <td>...</td>\n",
       "      <td>...</td>\n",
       "    </tr>\n",
       "    <tr>\n",
       "      <th>7995</th>\n",
       "      <td>PLW</td>\n",
       "      <td>15.000192</td>\n",
       "      <td>1.136469</td>\n",
       "      <td>17.047250</td>\n",
       "      <td>0.062791</td>\n",
       "      <td>1.058593e+05</td>\n",
       "      <td>9.130263e+04</td>\n",
       "      <td>3.299506e+06</td>\n",
       "      <td>176.353732</td>\n",
       "      <td>0.074554</td>\n",
       "      <td>0.049978</td>\n",
       "      <td>0.621937</td>\n",
       "      <td>118502.5</td>\n",
       "      <td>11</td>\n",
       "      <td>18</td>\n",
       "      <td>5.120920e+09</td>\n",
       "      <td>2.647732e+09</td>\n",
       "      <td>2.473577e+09</td>\n",
       "    </tr>\n",
       "    <tr>\n",
       "      <th>7996</th>\n",
       "      <td>GUM</td>\n",
       "      <td>15.249274</td>\n",
       "      <td>1.770462</td>\n",
       "      <td>26.998260</td>\n",
       "      <td>0.327660</td>\n",
       "      <td>9.250000e+01</td>\n",
       "      <td>2.244101e+02</td>\n",
       "      <td>1.052011e+03</td>\n",
       "      <td>0.016740</td>\n",
       "      <td>0.581622</td>\n",
       "      <td>1.391915</td>\n",
       "      <td>7.305558</td>\n",
       "      <td>288.0</td>\n",
       "      <td>13</td>\n",
       "      <td>10</td>\n",
       "      <td>3.000256e+09</td>\n",
       "      <td>2.695716e+09</td>\n",
       "      <td>3.047204e+08</td>\n",
       "    </tr>\n",
       "    <tr>\n",
       "      <th>7997</th>\n",
       "      <td>OMN</td>\n",
       "      <td>10.832344</td>\n",
       "      <td>1.294841</td>\n",
       "      <td>14.026168</td>\n",
       "      <td>0.455143</td>\n",
       "      <td>2.284667e+02</td>\n",
       "      <td>7.268619e+02</td>\n",
       "      <td>2.398521e+03</td>\n",
       "      <td>0.001419</td>\n",
       "      <td>0.589145</td>\n",
       "      <td>1.485245</td>\n",
       "      <td>5.108631</td>\n",
       "      <td>876.5</td>\n",
       "      <td>11</td>\n",
       "      <td>9</td>\n",
       "      <td>2.862542e+09</td>\n",
       "      <td>2.474888e+09</td>\n",
       "      <td>3.876690e+08</td>\n",
       "    </tr>\n",
       "    <tr>\n",
       "      <th>7998</th>\n",
       "      <td>NCL</td>\n",
       "      <td>13.829648</td>\n",
       "      <td>0.589161</td>\n",
       "      <td>8.147894</td>\n",
       "      <td>0.098775</td>\n",
       "      <td>8.396607e+06</td>\n",
       "      <td>1.930275e+06</td>\n",
       "      <td>1.220615e+08</td>\n",
       "      <td>886.778145</td>\n",
       "      <td>0.261722</td>\n",
       "      <td>0.367218</td>\n",
       "      <td>0.696197</td>\n",
       "      <td>7306416.5</td>\n",
       "      <td>14</td>\n",
       "      <td>7</td>\n",
       "      <td>4.966547e+09</td>\n",
       "      <td>2.214751e+09</td>\n",
       "      <td>2.751913e+09</td>\n",
       "    </tr>\n",
       "    <tr>\n",
       "      <th>7999</th>\n",
       "      <td>AZE</td>\n",
       "      <td>9.027026</td>\n",
       "      <td>0.671068</td>\n",
       "      <td>6.057748</td>\n",
       "      <td>0.731421</td>\n",
       "      <td>1.364662e+05</td>\n",
       "      <td>2.595687e+05</td>\n",
       "      <td>1.126425e+06</td>\n",
       "      <td>0.411773</td>\n",
       "      <td>0.603231</td>\n",
       "      <td>2.350649</td>\n",
       "      <td>3.366744</td>\n",
       "      <td>763705.0</td>\n",
       "      <td>5</td>\n",
       "      <td>16</td>\n",
       "      <td>3.972298e+09</td>\n",
       "      <td>3.240877e+09</td>\n",
       "      <td>7.314459e+08</td>\n",
       "    </tr>\n",
       "  </tbody>\n",
       "</table>\n",
       "<p>8000 rows × 18 columns</p>\n",
       "</div>"
      ],
      "text/plain": [
       "     i_country         R0        Tc         Tr     omega     ind_inf_1  \\\n",
       "0          MRT   6.957955  1.712730  11.917101  0.421474  5.200000e+00   \n",
       "1          CRI  10.071858  1.993278  20.076016  0.256798  8.853333e+01   \n",
       "2          DNK  13.220658  2.176956  28.780786  0.556694  0.000000e+00   \n",
       "3          GRC  10.596798  0.878435   9.308599  0.953062  4.333333e+00   \n",
       "4          FIN   7.026326  2.165711  15.216989  0.433996  0.000000e+00   \n",
       "...        ...        ...       ...        ...       ...           ...   \n",
       "7995       PLW  15.000192  1.136469  17.047250  0.062791  1.058593e+05   \n",
       "7996       GUM  15.249274  1.770462  26.998260  0.327660  9.250000e+01   \n",
       "7997       OMN  10.832344  1.294841  14.026168  0.455143  2.284667e+02   \n",
       "7998       NCL  13.829648  0.589161   8.147894  0.098775  8.396607e+06   \n",
       "7999       AZE   9.027026  0.671068   6.057748  0.731421  1.364662e+05   \n",
       "\n",
       "         ind_inf_2  ind_inf_sumgrad   ind_inf_p  ind_mort_1  ind_mort_2  \\\n",
       "0     8.642633e+00     2.391741e+01    0.000035    0.717949    4.460011   \n",
       "1     2.085479e+02     1.121798e+03    0.000531    0.508660    1.089355   \n",
       "2     0.000000e+00     0.000000e+00    0.000000    0.000000    0.000000   \n",
       "3     8.490222e+00     1.022128e+01    0.000012    0.823077    9.969037   \n",
       "4     0.000000e+00     0.000000e+00    0.000000    0.000000    0.000000   \n",
       "...            ...              ...         ...         ...         ...   \n",
       "7995  9.130263e+04     3.299506e+06  176.353732    0.074554    0.049978   \n",
       "7996  2.244101e+02     1.052011e+03    0.016740    0.581622    1.391915   \n",
       "7997  7.268619e+02     2.398521e+03    0.001419    0.589145    1.485245   \n",
       "7998  1.930275e+06     1.220615e+08  886.778145    0.261722    0.367218   \n",
       "7999  2.595687e+05     1.126425e+06    0.411773    0.603231    2.350649   \n",
       "\n",
       "      ind_mort_3  ind_mort_sumgrad  n_closed  react_time  total_infected  \\\n",
       "0       4.170287               9.5        11          20    1.128905e+06   \n",
       "1       4.263092             240.0        18          16    2.215812e+09   \n",
       "2       0.000000               0.0         9          12    1.000000e+00   \n",
       "3       7.228118               8.0        10          20    4.477377e+08   \n",
       "4       0.000000               0.0         9          18    1.000000e+00   \n",
       "...          ...               ...       ...         ...             ...   \n",
       "7995    0.621937          118502.5        11          18    5.120920e+09   \n",
       "7996    7.305558             288.0        13          10    3.000256e+09   \n",
       "7997    5.108631             876.5        11           9    2.862542e+09   \n",
       "7998    0.696197         7306416.5        14           7    4.966547e+09   \n",
       "7999    3.366744          763705.0         5          16    3.972298e+09   \n",
       "\n",
       "      total_deceased  total_recovered  \n",
       "0       9.414420e+05     1.873230e+05  \n",
       "1       1.856075e+09     3.600110e+08  \n",
       "2       0.000000e+00     0.000000e+00  \n",
       "3       4.023809e+08     4.534857e+07  \n",
       "4       0.000000e+00     0.000000e+00  \n",
       "...              ...              ...  \n",
       "7995    2.647732e+09     2.473577e+09  \n",
       "7996    2.695716e+09     3.047204e+08  \n",
       "7997    2.474888e+09     3.876690e+08  \n",
       "7998    2.214751e+09     2.751913e+09  \n",
       "7999    3.240877e+09     7.314459e+08  \n",
       "\n",
       "[8000 rows x 18 columns]"
      ]
     },
     "execution_count": 25,
     "metadata": {},
     "output_type": "execute_result"
    }
   ],
   "source": [
    "df_test = pd.read_csv('../../data/processed/simulation_results_REV4_test.csv')\n",
    "df_test"
   ]
  },
  {
   "cell_type": "code",
   "execution_count": 26,
   "metadata": {},
   "outputs": [
    {
     "name": "stderr",
     "output_type": "stream",
     "text": [
      "/disks/hdd2T/Drive/TFM/conda_env/lib/python3.8/site-packages/pandas/core/series.py:726: RuntimeWarning: invalid value encountered in log\n",
      "  result = getattr(ufunc, method)(*inputs, **kwargs)\n"
     ]
    }
   ],
   "source": [
    "df_test = add_features(df_test)\n",
    "df_test = rename_indicators(df_test)"
   ]
  },
  {
   "cell_type": "code",
   "execution_count": 27,
   "metadata": {},
   "outputs": [
    {
     "name": "stdout",
     "output_type": "stream",
     "text": [
      "(5436, 39)\n",
      "(5185, 39)\n"
     ]
    }
   ],
   "source": [
    "df_test = df_test.loc[df_test['total_deceased'] > 1 ]\n",
    "print(df_test.shape)\n",
    "df_test.dropna(inplace=True)\n",
    "print(df_test.shape)"
   ]
  },
  {
   "cell_type": "code",
   "execution_count": 28,
   "metadata": {},
   "outputs": [
    {
     "data": {
      "text/html": [
       "<div>\n",
       "<style scoped>\n",
       "    .dataframe tbody tr th:only-of-type {\n",
       "        vertical-align: middle;\n",
       "    }\n",
       "\n",
       "    .dataframe tbody tr th {\n",
       "        vertical-align: top;\n",
       "    }\n",
       "\n",
       "    .dataframe thead th {\n",
       "        text-align: right;\n",
       "    }\n",
       "</style>\n",
       "<table border=\"1\" class=\"dataframe\">\n",
       "  <thead>\n",
       "    <tr style=\"text-align: right;\">\n",
       "      <th></th>\n",
       "      <th>ind_1.1</th>\n",
       "      <th>ind_1.2</th>\n",
       "      <th>ind_1.3</th>\n",
       "      <th>ind_1.4</th>\n",
       "      <th>ind_2.1</th>\n",
       "      <th>ind_2.2</th>\n",
       "      <th>ind_2.3</th>\n",
       "      <th>ind_2.4</th>\n",
       "      <th>n_closed</th>\n",
       "      <th>react_time</th>\n",
       "      <th>betweenness_log</th>\n",
       "      <th>degree_log</th>\n",
       "      <th>closeness</th>\n",
       "      <th>country_pop_log</th>\n",
       "      <th>country_departures_log</th>\n",
       "      <th>exposed_pop_log</th>\n",
       "      <th>affected_population</th>\n",
       "    </tr>\n",
       "  </thead>\n",
       "  <tbody>\n",
       "    <tr>\n",
       "      <th>0</th>\n",
       "      <td>3.174607</td>\n",
       "      <td>-10.248013</td>\n",
       "      <td>1.648659</td>\n",
       "      <td>2.156707</td>\n",
       "      <td>2.251292</td>\n",
       "      <td>-0.331357</td>\n",
       "      <td>1.495151</td>\n",
       "      <td>1.427985</td>\n",
       "      <td>11</td>\n",
       "      <td>20</td>\n",
       "      <td>-9.989554</td>\n",
       "      <td>-2.763620</td>\n",
       "      <td>0.402904</td>\n",
       "      <td>15.297869</td>\n",
       "      <td>6.858565</td>\n",
       "      <td>19.156177</td>\n",
       "      <td>0.000125</td>\n",
       "    </tr>\n",
       "    <tr>\n",
       "      <th>1</th>\n",
       "      <td>7.022688</td>\n",
       "      <td>-7.540260</td>\n",
       "      <td>4.483379</td>\n",
       "      <td>5.340169</td>\n",
       "      <td>5.480639</td>\n",
       "      <td>-0.675976</td>\n",
       "      <td>0.085586</td>\n",
       "      <td>1.449995</td>\n",
       "      <td>18</td>\n",
       "      <td>16</td>\n",
       "      <td>-8.073405</td>\n",
       "      <td>-2.224624</td>\n",
       "      <td>0.408088</td>\n",
       "      <td>15.424837</td>\n",
       "      <td>7.991931</td>\n",
       "      <td>20.327708</td>\n",
       "      <td>0.246387</td>\n",
       "    </tr>\n",
       "    <tr>\n",
       "      <th>3</th>\n",
       "      <td>2.324472</td>\n",
       "      <td>-11.320802</td>\n",
       "      <td>1.466337</td>\n",
       "      <td>2.138915</td>\n",
       "      <td>2.079442</td>\n",
       "      <td>-0.194706</td>\n",
       "      <td>2.299484</td>\n",
       "      <td>1.977979</td>\n",
       "      <td>10</td>\n",
       "      <td>20</td>\n",
       "      <td>-6.129009</td>\n",
       "      <td>-0.971861</td>\n",
       "      <td>0.504545</td>\n",
       "      <td>16.188337</td>\n",
       "      <td>9.990124</td>\n",
       "      <td>20.978504</td>\n",
       "      <td>0.053415</td>\n",
       "    </tr>\n",
       "    <tr>\n",
       "      <th>5</th>\n",
       "      <td>17.296856</td>\n",
       "      <td>7.314873</td>\n",
       "      <td>19.338513</td>\n",
       "      <td>11.886407</td>\n",
       "      <td>15.410504</td>\n",
       "      <td>-1.486454</td>\n",
       "      <td>4.059960</td>\n",
       "      <td>-1.224325</td>\n",
       "      <td>0</td>\n",
       "      <td>14</td>\n",
       "      <td>-8.073405</td>\n",
       "      <td>-2.224624</td>\n",
       "      <td>0.408088</td>\n",
       "      <td>15.424837</td>\n",
       "      <td>7.991931</td>\n",
       "      <td>20.327708</td>\n",
       "      <td>0.227000</td>\n",
       "    </tr>\n",
       "    <tr>\n",
       "      <th>7</th>\n",
       "      <td>18.732431</td>\n",
       "      <td>8.647402</td>\n",
       "      <td>16.166950</td>\n",
       "      <td>14.393026</td>\n",
       "      <td>16.057403</td>\n",
       "      <td>-1.978746</td>\n",
       "      <td>-1.026244</td>\n",
       "      <td>-1.220580</td>\n",
       "      <td>18</td>\n",
       "      <td>7</td>\n",
       "      <td>-36.043653</td>\n",
       "      <td>-4.709530</td>\n",
       "      <td>0.383420</td>\n",
       "      <td>10.920745</td>\n",
       "      <td>7.980024</td>\n",
       "      <td>19.605983</td>\n",
       "      <td>0.011278</td>\n",
       "    </tr>\n",
       "  </tbody>\n",
       "</table>\n",
       "</div>"
      ],
      "text/plain": [
       "     ind_1.1    ind_1.2    ind_1.3    ind_1.4    ind_2.1   ind_2.2   ind_2.3  \\\n",
       "0   3.174607 -10.248013   1.648659   2.156707   2.251292 -0.331357  1.495151   \n",
       "1   7.022688  -7.540260   4.483379   5.340169   5.480639 -0.675976  0.085586   \n",
       "3   2.324472 -11.320802   1.466337   2.138915   2.079442 -0.194706  2.299484   \n",
       "5  17.296856   7.314873  19.338513  11.886407  15.410504 -1.486454  4.059960   \n",
       "7  18.732431   8.647402  16.166950  14.393026  16.057403 -1.978746 -1.026244   \n",
       "\n",
       "    ind_2.4  n_closed  react_time  betweenness_log  degree_log  closeness  \\\n",
       "0  1.427985        11          20        -9.989554   -2.763620   0.402904   \n",
       "1  1.449995        18          16        -8.073405   -2.224624   0.408088   \n",
       "3  1.977979        10          20        -6.129009   -0.971861   0.504545   \n",
       "5 -1.224325         0          14        -8.073405   -2.224624   0.408088   \n",
       "7 -1.220580        18           7       -36.043653   -4.709530   0.383420   \n",
       "\n",
       "   country_pop_log  country_departures_log  exposed_pop_log  \\\n",
       "0        15.297869                6.858565        19.156177   \n",
       "1        15.424837                7.991931        20.327708   \n",
       "3        16.188337                9.990124        20.978504   \n",
       "5        15.424837                7.991931        20.327708   \n",
       "7        10.920745                7.980024        19.605983   \n",
       "\n",
       "   affected_population  \n",
       "0             0.000125  \n",
       "1             0.246387  \n",
       "3             0.053415  \n",
       "5             0.227000  \n",
       "7             0.011278  "
      ]
     },
     "execution_count": 28,
     "metadata": {},
     "output_type": "execute_result"
    }
   ],
   "source": [
    "features = [\n",
    "    'ind_1.1',\n",
    "    'ind_1.2',\n",
    "    'ind_1.3',\n",
    "    'ind_1.4',\n",
    "    'ind_2.1',\n",
    "    'ind_2.2',\n",
    "    'ind_2.3',\n",
    "    'ind_2.4',\n",
    "    'n_closed',\n",
    "    'react_time',\n",
    "    'betweenness_log',\n",
    "    'degree_log',\n",
    "    'closeness',\n",
    "    'country_pop_log',\n",
    "    'country_departures_log',\n",
    "    'exposed_pop_log',\n",
    "    'affected_population',\n",
    "    ]\n",
    "\n",
    "df_test = df_test[features]\n",
    "df_test.head()"
   ]
  },
  {
   "cell_type": "code",
   "execution_count": 33,
   "metadata": {},
   "outputs": [],
   "source": [
    "X_test = df_test.drop('affected_population', axis=1)\n",
    "y_test = df_test['affected_population']"
   ]
  },
  {
   "cell_type": "code",
   "execution_count": 34,
   "metadata": {},
   "outputs": [],
   "source": [
    "y_pred = random_search.predict(X_test)"
   ]
  },
  {
   "cell_type": "code",
   "execution_count": 35,
   "metadata": {},
   "outputs": [
    {
     "data": {
      "text/plain": [
       "0.9476749650279285"
      ]
     },
     "execution_count": 35,
     "metadata": {},
     "output_type": "execute_result"
    }
   ],
   "source": [
    "r2_score(y_test, y_pred)"
   ]
  },
  {
   "cell_type": "code",
   "execution_count": 37,
   "metadata": {},
   "outputs": [
    {
     "data": {
      "text/plain": [
       "0.0249642721531401"
      ]
     },
     "execution_count": 37,
     "metadata": {},
     "output_type": "execute_result"
    }
   ],
   "source": [
    "mean_absolute_error(y_test, y_pred)"
   ]
  },
  {
   "cell_type": "code",
   "execution_count": 39,
   "metadata": {},
   "outputs": [
    {
     "data": {
      "text/plain": [
       "0.046181177742775636"
      ]
     },
     "execution_count": 39,
     "metadata": {},
     "output_type": "execute_result"
    }
   ],
   "source": [
    "np.sqrt(mean_squared_error(y_test, y_pred))"
   ]
  },
  {
   "cell_type": "code",
   "execution_count": null,
   "metadata": {},
   "outputs": [],
   "source": []
  }
 ],
 "metadata": {
  "kernelspec": {
   "display_name": "Python 3",
   "language": "python",
   "name": "python3"
  },
  "language_info": {
   "codemirror_mode": {
    "name": "ipython",
    "version": 3
   },
   "file_extension": ".py",
   "mimetype": "text/x-python",
   "name": "python",
   "nbconvert_exporter": "python",
   "pygments_lexer": "ipython3",
   "version": "3.8.5"
  }
 },
 "nbformat": 4,
 "nbformat_minor": 4
}
