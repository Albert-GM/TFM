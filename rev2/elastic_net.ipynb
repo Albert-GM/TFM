{
 "cells": [
  {
   "cell_type": "markdown",
   "metadata": {},
   "source": [
    "# SET ENVIRONMENT"
   ]
  },
  {
   "cell_type": "code",
   "execution_count": 1,
   "metadata": {},
   "outputs": [],
   "source": [
    "# allows to import own functions\n",
    "import sys\n",
    "import os\n",
    "import re\n",
    "root_project = re.findall(r'(^\\S*TFM)', os.getcwd())[0]\n",
    "sys.path.append(root_project)"
   ]
  },
  {
   "cell_type": "code",
   "execution_count": 2,
   "metadata": {},
   "outputs": [
    {
     "name": "stderr",
     "output_type": "stream",
     "text": [
      "/disks/hdd2T/Drive/TFM/conda_env/lib/python3.8/site-packages/sklearn/utils/deprecation.py:143: FutureWarning: The sklearn.metrics.classification module is  deprecated in version 0.22 and will be removed in version 0.24. The corresponding classes / functions should instead be imported from sklearn.metrics. Anything that cannot be imported from sklearn.metrics is now part of the private API.\n",
      "  warnings.warn(message, FutureWarning)\n"
     ]
    }
   ],
   "source": [
    "import pandas as pd\n",
    "from src.features.add_features import add_features\n",
    "from sklearn.model_selection import  train_test_split, cross_validate\n",
    "from sklearn.preprocessing import StandardScaler\n",
    "from sklearn.linear_model import ElasticNet\n",
    "from sklearn.pipeline import Pipeline\n",
    "import numpy as np\n",
    "import matplotlib.pyplot as plt\n",
    "import seaborn as sns\n",
    "from sklearn.metrics import mean_absolute_error, mean_squared_error, r2_score\n",
    "from yellowbrick.regressor import residuals_plot, prediction_error, PredictionError\n",
    "from yellowbrick.model_selection import validation_curve, learning_curve, feature_importances\n",
    "import pickle\n",
    "sns.set()"
   ]
  },
  {
   "cell_type": "code",
   "execution_count": 3,
   "metadata": {},
   "outputs": [
    {
     "data": {
      "text/html": [
       "<div>\n",
       "<style scoped>\n",
       "    .dataframe tbody tr th:only-of-type {\n",
       "        vertical-align: middle;\n",
       "    }\n",
       "\n",
       "    .dataframe tbody tr th {\n",
       "        vertical-align: top;\n",
       "    }\n",
       "\n",
       "    .dataframe thead th {\n",
       "        text-align: right;\n",
       "    }\n",
       "</style>\n",
       "<table border=\"1\" class=\"dataframe\">\n",
       "  <thead>\n",
       "    <tr style=\"text-align: right;\">\n",
       "      <th></th>\n",
       "      <th>i_country</th>\n",
       "      <th>R0</th>\n",
       "      <th>Tc</th>\n",
       "      <th>Tr</th>\n",
       "      <th>omega</th>\n",
       "      <th>ind_inf_1</th>\n",
       "      <th>ind_inf_2</th>\n",
       "      <th>ind_inf_sumgrad</th>\n",
       "      <th>ind_inf_p</th>\n",
       "      <th>ind_mort_1</th>\n",
       "      <th>ind_mort_2</th>\n",
       "      <th>ind_mort_3</th>\n",
       "      <th>ind_mort_sumgrad</th>\n",
       "      <th>n_closed</th>\n",
       "      <th>react_time</th>\n",
       "      <th>total_infected</th>\n",
       "      <th>total_deceased</th>\n",
       "      <th>total_recovered</th>\n",
       "    </tr>\n",
       "  </thead>\n",
       "  <tbody>\n",
       "    <tr>\n",
       "      <th>0</th>\n",
       "      <td>DJI</td>\n",
       "      <td>12.187967</td>\n",
       "      <td>1.733278</td>\n",
       "      <td>21.125133</td>\n",
       "      <td>0.197944</td>\n",
       "      <td>2.160967e+03</td>\n",
       "      <td>4757.961648</td>\n",
       "      <td>4.063839e+04</td>\n",
       "      <td>0.067606</td>\n",
       "      <td>0.353545</td>\n",
       "      <td>0.487118</td>\n",
       "      <td>3.178464</td>\n",
       "      <td>6190.5</td>\n",
       "      <td>19</td>\n",
       "      <td>20</td>\n",
       "      <td>3.023155e+09</td>\n",
       "      <td>2.439964e+09</td>\n",
       "      <td>5.834951e+08</td>\n",
       "    </tr>\n",
       "    <tr>\n",
       "      <th>1</th>\n",
       "      <td>KAZ</td>\n",
       "      <td>8.802094</td>\n",
       "      <td>0.776828</td>\n",
       "      <td>6.837709</td>\n",
       "      <td>0.886055</td>\n",
       "      <td>2.402667e+02</td>\n",
       "      <td>907.398367</td>\n",
       "      <td>1.574797e+03</td>\n",
       "      <td>0.000394</td>\n",
       "      <td>0.687708</td>\n",
       "      <td>2.763238</td>\n",
       "      <td>4.812301</td>\n",
       "      <td>1111.5</td>\n",
       "      <td>11</td>\n",
       "      <td>8</td>\n",
       "      <td>1.828206e+09</td>\n",
       "      <td>1.569210e+09</td>\n",
       "      <td>2.590006e+08</td>\n",
       "    </tr>\n",
       "    <tr>\n",
       "      <th>2</th>\n",
       "      <td>LTU</td>\n",
       "      <td>12.787478</td>\n",
       "      <td>0.195316</td>\n",
       "      <td>2.497605</td>\n",
       "      <td>0.113979</td>\n",
       "      <td>2.503724e+08</td>\n",
       "      <td>7666.911039</td>\n",
       "      <td>1.304820e+06</td>\n",
       "      <td>2692.626822</td>\n",
       "      <td>0.221513</td>\n",
       "      <td>1232.088915</td>\n",
       "      <td>0.284607</td>\n",
       "      <td>305603.0</td>\n",
       "      <td>13</td>\n",
       "      <td>15</td>\n",
       "      <td>7.511292e+09</td>\n",
       "      <td>1.664463e+09</td>\n",
       "      <td>5.846913e+09</td>\n",
       "    </tr>\n",
       "    <tr>\n",
       "      <th>3</th>\n",
       "      <td>DMA</td>\n",
       "      <td>16.545501</td>\n",
       "      <td>1.022406</td>\n",
       "      <td>16.916222</td>\n",
       "      <td>0.104739</td>\n",
       "      <td>1.404241e+05</td>\n",
       "      <td>50184.583240</td>\n",
       "      <td>1.678547e+06</td>\n",
       "      <td>58.666486</td>\n",
       "      <td>0.378172</td>\n",
       "      <td>0.890632</td>\n",
       "      <td>1.590765</td>\n",
       "      <td>180539.5</td>\n",
       "      <td>13</td>\n",
       "      <td>10</td>\n",
       "      <td>4.906761e+09</td>\n",
       "      <td>3.136703e+09</td>\n",
       "      <td>1.770351e+09</td>\n",
       "    </tr>\n",
       "    <tr>\n",
       "      <th>4</th>\n",
       "      <td>CPV</td>\n",
       "      <td>10.116505</td>\n",
       "      <td>2.062013</td>\n",
       "      <td>20.860369</td>\n",
       "      <td>0.129716</td>\n",
       "      <td>1.649600e+03</td>\n",
       "      <td>2644.412518</td>\n",
       "      <td>3.383422e+04</td>\n",
       "      <td>0.091010</td>\n",
       "      <td>0.278977</td>\n",
       "      <td>0.358051</td>\n",
       "      <td>2.099191</td>\n",
       "      <td>3457.5</td>\n",
       "      <td>8</td>\n",
       "      <td>5</td>\n",
       "      <td>5.049934e+09</td>\n",
       "      <td>3.687545e+09</td>\n",
       "      <td>1.362756e+09</td>\n",
       "    </tr>\n",
       "  </tbody>\n",
       "</table>\n",
       "</div>"
      ],
      "text/plain": [
       "  i_country         R0        Tc         Tr     omega     ind_inf_1  \\\n",
       "0       DJI  12.187967  1.733278  21.125133  0.197944  2.160967e+03   \n",
       "1       KAZ   8.802094  0.776828   6.837709  0.886055  2.402667e+02   \n",
       "2       LTU  12.787478  0.195316   2.497605  0.113979  2.503724e+08   \n",
       "3       DMA  16.545501  1.022406  16.916222  0.104739  1.404241e+05   \n",
       "4       CPV  10.116505  2.062013  20.860369  0.129716  1.649600e+03   \n",
       "\n",
       "      ind_inf_2  ind_inf_sumgrad    ind_inf_p  ind_mort_1   ind_mort_2  \\\n",
       "0   4757.961648     4.063839e+04     0.067606    0.353545     0.487118   \n",
       "1    907.398367     1.574797e+03     0.000394    0.687708     2.763238   \n",
       "2   7666.911039     1.304820e+06  2692.626822    0.221513  1232.088915   \n",
       "3  50184.583240     1.678547e+06    58.666486    0.378172     0.890632   \n",
       "4   2644.412518     3.383422e+04     0.091010    0.278977     0.358051   \n",
       "\n",
       "   ind_mort_3  ind_mort_sumgrad  n_closed  react_time  total_infected  \\\n",
       "0    3.178464            6190.5        19          20    3.023155e+09   \n",
       "1    4.812301            1111.5        11           8    1.828206e+09   \n",
       "2    0.284607          305603.0        13          15    7.511292e+09   \n",
       "3    1.590765          180539.5        13          10    4.906761e+09   \n",
       "4    2.099191            3457.5         8           5    5.049934e+09   \n",
       "\n",
       "   total_deceased  total_recovered  \n",
       "0    2.439964e+09     5.834951e+08  \n",
       "1    1.569210e+09     2.590006e+08  \n",
       "2    1.664463e+09     5.846913e+09  \n",
       "3    3.136703e+09     1.770351e+09  \n",
       "4    3.687545e+09     1.362756e+09  "
      ]
     },
     "execution_count": 3,
     "metadata": {},
     "output_type": "execute_result"
    }
   ],
   "source": [
    "df_raw = pd.read_csv(\"../../data/processed/simulation_results_REV4.csv\", nrows=5000)\n",
    "df_raw.head()"
   ]
  },
  {
   "cell_type": "code",
   "execution_count": 4,
   "metadata": {},
   "outputs": [
    {
     "name": "stderr",
     "output_type": "stream",
     "text": [
      "/disks/hdd2T/Drive/TFM/conda_env/lib/python3.8/site-packages/pandas/core/series.py:726: RuntimeWarning: invalid value encountered in log\n",
      "  result = getattr(ufunc, method)(*inputs, **kwargs)\n"
     ]
    }
   ],
   "source": [
    "df = add_features(df_raw)"
   ]
  },
  {
   "cell_type": "code",
   "execution_count": 5,
   "metadata": {},
   "outputs": [
    {
     "data": {
      "text/html": [
       "<div>\n",
       "<style scoped>\n",
       "    .dataframe tbody tr th:only-of-type {\n",
       "        vertical-align: middle;\n",
       "    }\n",
       "\n",
       "    .dataframe tbody tr th {\n",
       "        vertical-align: top;\n",
       "    }\n",
       "\n",
       "    .dataframe thead th {\n",
       "        text-align: right;\n",
       "    }\n",
       "</style>\n",
       "<table border=\"1\" class=\"dataframe\">\n",
       "  <thead>\n",
       "    <tr style=\"text-align: right;\">\n",
       "      <th></th>\n",
       "      <th>Tr</th>\n",
       "      <th>ind_inf_1</th>\n",
       "      <th>ind_inf_2</th>\n",
       "      <th>ind_inf_sumgrad</th>\n",
       "      <th>ind_inf_p</th>\n",
       "      <th>ind_mort_1</th>\n",
       "      <th>ind_mort_2</th>\n",
       "      <th>ind_mort_3</th>\n",
       "      <th>ind_mort_sumgrad</th>\n",
       "      <th>n_closed</th>\n",
       "      <th>react_time</th>\n",
       "      <th>betweenness_log</th>\n",
       "      <th>degree_log</th>\n",
       "      <th>closeness</th>\n",
       "      <th>country_pop_log</th>\n",
       "      <th>country_departures_log</th>\n",
       "      <th>exposed_pop_log</th>\n",
       "      <th>total_deceased</th>\n",
       "      <th>affected_population</th>\n",
       "    </tr>\n",
       "  </thead>\n",
       "  <tbody>\n",
       "    <tr>\n",
       "      <th>0</th>\n",
       "      <td>21.125133</td>\n",
       "      <td>2.160967e+03</td>\n",
       "      <td>4757.961648</td>\n",
       "      <td>4.063839e+04</td>\n",
       "      <td>0.067606</td>\n",
       "      <td>0.353545</td>\n",
       "      <td>0.487118</td>\n",
       "      <td>3.178464</td>\n",
       "      <td>6190.5</td>\n",
       "      <td>19</td>\n",
       "      <td>20</td>\n",
       "      <td>-6.821070</td>\n",
       "      <td>-2.569464</td>\n",
       "      <td>0.426104</td>\n",
       "      <td>13.773563</td>\n",
       "      <td>6.638568</td>\n",
       "      <td>19.800943</td>\n",
       "      <td>2.439964e+09</td>\n",
       "      <td>0.323896</td>\n",
       "    </tr>\n",
       "    <tr>\n",
       "      <th>1</th>\n",
       "      <td>6.837709</td>\n",
       "      <td>2.402667e+02</td>\n",
       "      <td>907.398367</td>\n",
       "      <td>1.574797e+03</td>\n",
       "      <td>0.000394</td>\n",
       "      <td>0.687708</td>\n",
       "      <td>2.763238</td>\n",
       "      <td>4.812301</td>\n",
       "      <td>1111.5</td>\n",
       "      <td>11</td>\n",
       "      <td>8</td>\n",
       "      <td>-7.093339</td>\n",
       "      <td>-1.531476</td>\n",
       "      <td>0.449393</td>\n",
       "      <td>16.721127</td>\n",
       "      <td>10.240924</td>\n",
       "      <td>22.010951</td>\n",
       "      <td>1.569210e+09</td>\n",
       "      <td>0.208307</td>\n",
       "    </tr>\n",
       "    <tr>\n",
       "      <th>2</th>\n",
       "      <td>2.497605</td>\n",
       "      <td>2.503724e+08</td>\n",
       "      <td>7666.911039</td>\n",
       "      <td>1.304820e+06</td>\n",
       "      <td>2692.626822</td>\n",
       "      <td>0.221513</td>\n",
       "      <td>1232.088915</td>\n",
       "      <td>0.284607</td>\n",
       "      <td>305603.0</td>\n",
       "      <td>13</td>\n",
       "      <td>15</td>\n",
       "      <td>-8.981960</td>\n",
       "      <td>-1.451434</td>\n",
       "      <td>0.448485</td>\n",
       "      <td>14.841385</td>\n",
       "      <td>8.723719</td>\n",
       "      <td>20.436248</td>\n",
       "      <td>1.664463e+09</td>\n",
       "      <td>0.220952</td>\n",
       "    </tr>\n",
       "    <tr>\n",
       "      <th>3</th>\n",
       "      <td>16.916222</td>\n",
       "      <td>1.404241e+05</td>\n",
       "      <td>50184.583240</td>\n",
       "      <td>1.678547e+06</td>\n",
       "      <td>58.666486</td>\n",
       "      <td>0.378172</td>\n",
       "      <td>0.890632</td>\n",
       "      <td>1.590765</td>\n",
       "      <td>180539.5</td>\n",
       "      <td>13</td>\n",
       "      <td>10</td>\n",
       "      <td>-7.675671</td>\n",
       "      <td>-2.763620</td>\n",
       "      <td>0.323615</td>\n",
       "      <td>11.181751</td>\n",
       "      <td>6.643790</td>\n",
       "      <td>15.157147</td>\n",
       "      <td>3.136703e+09</td>\n",
       "      <td>0.416386</td>\n",
       "    </tr>\n",
       "    <tr>\n",
       "      <th>4</th>\n",
       "      <td>20.860369</td>\n",
       "      <td>1.649600e+03</td>\n",
       "      <td>2644.412518</td>\n",
       "      <td>3.383422e+04</td>\n",
       "      <td>0.091010</td>\n",
       "      <td>0.278977</td>\n",
       "      <td>0.358051</td>\n",
       "      <td>2.099191</td>\n",
       "      <td>3457.5</td>\n",
       "      <td>8</td>\n",
       "      <td>5</td>\n",
       "      <td>-5.465003</td>\n",
       "      <td>-2.070473</td>\n",
       "      <td>0.462500</td>\n",
       "      <td>13.206276</td>\n",
       "      <td>7.631917</td>\n",
       "      <td>20.600119</td>\n",
       "      <td>3.687545e+09</td>\n",
       "      <td>0.489508</td>\n",
       "    </tr>\n",
       "  </tbody>\n",
       "</table>\n",
       "</div>"
      ],
      "text/plain": [
       "          Tr     ind_inf_1     ind_inf_2  ind_inf_sumgrad    ind_inf_p  \\\n",
       "0  21.125133  2.160967e+03   4757.961648     4.063839e+04     0.067606   \n",
       "1   6.837709  2.402667e+02    907.398367     1.574797e+03     0.000394   \n",
       "2   2.497605  2.503724e+08   7666.911039     1.304820e+06  2692.626822   \n",
       "3  16.916222  1.404241e+05  50184.583240     1.678547e+06    58.666486   \n",
       "4  20.860369  1.649600e+03   2644.412518     3.383422e+04     0.091010   \n",
       "\n",
       "   ind_mort_1   ind_mort_2  ind_mort_3  ind_mort_sumgrad  n_closed  \\\n",
       "0    0.353545     0.487118    3.178464            6190.5        19   \n",
       "1    0.687708     2.763238    4.812301            1111.5        11   \n",
       "2    0.221513  1232.088915    0.284607          305603.0        13   \n",
       "3    0.378172     0.890632    1.590765          180539.5        13   \n",
       "4    0.278977     0.358051    2.099191            3457.5         8   \n",
       "\n",
       "   react_time  betweenness_log  degree_log  closeness  country_pop_log  \\\n",
       "0          20        -6.821070   -2.569464   0.426104        13.773563   \n",
       "1           8        -7.093339   -1.531476   0.449393        16.721127   \n",
       "2          15        -8.981960   -1.451434   0.448485        14.841385   \n",
       "3          10        -7.675671   -2.763620   0.323615        11.181751   \n",
       "4           5        -5.465003   -2.070473   0.462500        13.206276   \n",
       "\n",
       "   country_departures_log  exposed_pop_log  total_deceased  \\\n",
       "0                6.638568        19.800943    2.439964e+09   \n",
       "1               10.240924        22.010951    1.569210e+09   \n",
       "2                8.723719        20.436248    1.664463e+09   \n",
       "3                6.643790        15.157147    3.136703e+09   \n",
       "4                7.631917        20.600119    3.687545e+09   \n",
       "\n",
       "   affected_population  \n",
       "0             0.323896  \n",
       "1             0.208307  \n",
       "2             0.220952  \n",
       "3             0.416386  \n",
       "4             0.489508  "
      ]
     },
     "execution_count": 5,
     "metadata": {},
     "output_type": "execute_result"
    }
   ],
   "source": [
    "features = [\n",
    "    'Tr',\n",
    "    'ind_inf_1',\n",
    "    'ind_inf_2',\n",
    "    'ind_inf_sumgrad',\n",
    "    'ind_inf_p',\n",
    "    'ind_mort_1',\n",
    "    'ind_mort_2',\n",
    "    'ind_mort_3',\n",
    "    'ind_mort_sumgrad',\n",
    "    'n_closed',\n",
    "    'react_time',\n",
    "    'betweenness_log',\n",
    "    'degree_log',\n",
    "    'closeness',\n",
    "    'country_pop_log',\n",
    "    'country_departures_log',\n",
    "    'exposed_pop_log',\n",
    "    'total_deceased',\n",
    "    'affected_population'\n",
    "    ]\n",
    "\n",
    "df = df[features]\n",
    "df.head()"
   ]
  },
  {
   "cell_type": "code",
   "execution_count": 6,
   "metadata": {},
   "outputs": [
    {
     "data": {
      "text/plain": [
       "(5000, 19)"
      ]
     },
     "execution_count": 6,
     "metadata": {},
     "output_type": "execute_result"
    }
   ],
   "source": [
    "df.shape"
   ]
  },
  {
   "cell_type": "code",
   "execution_count": 7,
   "metadata": {},
   "outputs": [
    {
     "data": {
      "text/plain": [
       "Tr                        0\n",
       "ind_inf_1                 0\n",
       "ind_inf_2                 0\n",
       "ind_inf_sumgrad           0\n",
       "ind_inf_p                 0\n",
       "ind_mort_1                0\n",
       "ind_mort_2                0\n",
       "ind_mort_3                0\n",
       "ind_mort_sumgrad          0\n",
       "n_closed                  0\n",
       "react_time                0\n",
       "betweenness_log           0\n",
       "degree_log                0\n",
       "closeness                 0\n",
       "country_pop_log           0\n",
       "country_departures_log    0\n",
       "exposed_pop_log           0\n",
       "total_deceased            0\n",
       "affected_population       0\n",
       "dtype: int64"
      ]
     },
     "execution_count": 7,
     "metadata": {},
     "output_type": "execute_result"
    }
   ],
   "source": [
    "df.isna().sum()"
   ]
  },
  {
   "cell_type": "markdown",
   "metadata": {},
   "source": [
    "# DATA PREPARATION"
   ]
  },
  {
   "cell_type": "code",
   "execution_count": 8,
   "metadata": {},
   "outputs": [
    {
     "name": "stderr",
     "output_type": "stream",
     "text": [
      "<ipython-input-8-90a1610a9ce6>:3: SettingWithCopyWarning: \n",
      "A value is trying to be set on a copy of a slice from a DataFrame\n",
      "\n",
      "See the caveats in the documentation: https://pandas.pydata.org/pandas-docs/stable/user_guide/indexing.html#returning-a-view-versus-a-copy\n",
      "  df.dropna(inplace=True)\n"
     ]
    }
   ],
   "source": [
    "seed = 42\n",
    "\n",
    "df.dropna(inplace=True)\n",
    "\n",
    "X = df.drop(['total_deceased','affected_population'], axis=1)\n",
    "y = df['affected_population']\n",
    "\n",
    "X_train, X_test, y_train, y_test = train_test_split(X,\n",
    "                                                  y,\n",
    "                                                  random_state=seed)"
   ]
  },
  {
   "cell_type": "code",
   "execution_count": 9,
   "metadata": {},
   "outputs": [],
   "source": [
    "def ResultsRegressorCV(scores):\n",
    "    print(f\"R2: {scores['test_r2'].mean()}, {scores['test_r2'].std()}\")\n",
    "    print(f\"MAE: {-scores['test_neg_mean_absolute_error'].mean()}, {scores['test_neg_mean_absolute_error'].std()}\")\n",
    "    print(f\"RMSE: {-scores['test_neg_root_mean_squared_error'].mean()}, {scores['test_neg_root_mean_squared_error'].std()}\")\n",
    "    return None\n",
    "\n",
    "def make_scores(d_score, model_name):\n",
    "    try:\n",
    "        df = pd.read_pickle('scores_models.pkl')\n",
    "        df[model_name] = list(d_score.values())\n",
    "        df.to_pickle('scores_models.pkl')\n",
    "    except:\n",
    "        s = pd.Series(d_score)\n",
    "        s.name = model_name\n",
    "        df = pd.DataFrame(s)\n",
    "        df.to_pickle('scores_models.pkl')"
   ]
  },
  {
   "cell_type": "markdown",
   "metadata": {},
   "source": [
    "# MODEL"
   ]
  },
  {
   "cell_type": "code",
   "execution_count": 22,
   "metadata": {},
   "outputs": [],
   "source": [
    "estimator = ElasticNet(fit_intercept=False)\n",
    "\n",
    "pipe = Pipeline(\n",
    "    [\n",
    "        ('preprocessing', StandardScaler()),\n",
    "        (\"estimator\", estimator),\n",
    "    ]\n",
    ")"
   ]
  },
  {
   "cell_type": "code",
   "execution_count": 23,
   "metadata": {},
   "outputs": [
    {
     "name": "stdout",
     "output_type": "stream",
     "text": [
      "R2: -0.9563978134664456, 0.06639548978815883\n",
      "MAE: 0.227567793513124, 0.008068148764660823\n",
      "RMSE: 0.32563926446833186, 0.006321873775631024\n"
     ]
    }
   ],
   "source": [
    "score = cross_validate(pipe, X, y, n_jobs=-1, scoring=['r2','neg_mean_absolute_error','neg_root_mean_squared_error'])\n",
    "ResultsRegressorCV(score)"
   ]
  },
  {
   "cell_type": "code",
   "execution_count": 20,
   "metadata": {},
   "outputs": [],
   "source": [
    "make_scores(score, 'Elastic Net')"
   ]
  },
  {
   "cell_type": "code",
   "execution_count": 21,
   "metadata": {},
   "outputs": [
    {
     "data": {
      "image/png": "[encoded data removed]",
      "text/plain": [
       "<Figure size 1080x576 with 2 Axes>"
      ]
     },
     "metadata": {},
     "output_type": "display_data"
    },
    {
     "data": {
      "image/png": "[encoded data removed]",
      "text/plain": [
       "<Figure size 1080x576 with 1 Axes>"
      ]
     },
     "metadata": {},
     "output_type": "display_data"
    },
    {
     "name": "stderr",
     "output_type": "stream",
     "text": [
      "/disks/hdd2T/Drive/TFM/conda_env/lib/python3.8/site-packages/sklearn/base.py:209: FutureWarning: From version 0.24, get_params will raise an AttributeError if a parameter cannot be retrieved as an instance attribute. Previously it would return None.\n",
      "  warnings.warn('From version 0.24, get_params will raise an '\n"
     ]
    },
    {
     "data": {
      "image/png": "[encoded data removed]",
      "text/plain": [
       "<Figure size 576x396 with 1 Axes>"
      ]
     },
     "metadata": {},
     "output_type": "display_data"
    },
    {
     "name": "stderr",
     "output_type": "stream",
     "text": [
      "/disks/hdd2T/Drive/TFM/conda_env/lib/python3.8/site-packages/sklearn/base.py:209: FutureWarning: From version 0.24, get_params will raise an AttributeError if a parameter cannot be retrieved as an instance attribute. Previously it would return None.\n",
      "  warnings.warn('From version 0.24, get_params will raise an '\n",
      "/disks/hdd2T/Drive/TFM/conda_env/lib/python3.8/site-packages/yellowbrick/model_selection/importances.py:205: RuntimeWarning: invalid value encountered in true_divide\n",
      "  self.feature_importances_ /= maxv\n"
     ]
    },
    {
     "data": {
      "image/png": "[encoded data removed]",
      "text/plain": [
       "<Figure size 576x396 with 1 Axes>"
      ]
     },
     "metadata": {},
     "output_type": "display_data"
    },
    {
     "name": "stderr",
     "output_type": "stream",
     "text": [
      "/disks/hdd2T/Drive/TFM/conda_env/lib/python3.8/site-packages/sklearn/base.py:209: FutureWarning: From version 0.24, get_params will raise an AttributeError if a parameter cannot be retrieved as an instance attribute. Previously it would return None.\n",
      "  warnings.warn('From version 0.24, get_params will raise an '\n"
     ]
    },
    {
     "data": {
      "text/plain": [
       "FeatureImportances(ax=<AxesSubplot:title={'center':'Feature Importances of 17 Features using ElasticNet'}, xlabel='relative coefficient magnitude'>,\n",
       "                   model=None)"
      ]
     },
     "execution_count": 21,
     "metadata": {},
     "output_type": "execute_result"
    }
   ],
   "source": [
    "fig, ax = plt.subplots(1,1, figsize=(15,8))\n",
    "viz = residuals_plot(pipe, X_train, y_train, X_test, y_test, ax=ax)\n",
    "\n",
    "fig, ax = plt.subplots(1,1, figsize=(15,8))\n",
    "viz = prediction_error(pipe, X_train, y_train, X_test, y_test, ax=ax)\n",
    "\n",
    "learning_curve(pipe, X, y, scoring='r2', n_jobs=-1)\n",
    "\n",
    "feature_importances(estimator, X, y)"
   ]
  },
  {
   "cell_type": "code",
   "execution_count": null,
   "metadata": {},
   "outputs": [],
   "source": []
  }
 ],
 "metadata": {
  "kernelspec": {
   "display_name": "Python 3",
   "language": "python",
   "name": "python3"
  },
  "language_info": {
   "codemirror_mode": {
    "name": "ipython",
    "version": 3
   },
   "file_extension": ".py",
   "mimetype": "text/x-python",
   "name": "python",
   "nbconvert_exporter": "python",
   "pygments_lexer": "ipython3",
   "version": "3.8.5"
  }
 },
 "nbformat": 4,
 "nbformat_minor": 4
}
