{
 "cells": [
  {
   "cell_type": "markdown",
   "metadata": {},
   "source": [
    "# SET ENVIRONMENT"
   ]
  },
  {
   "cell_type": "code",
   "execution_count": 1,
   "metadata": {},
   "outputs": [],
   "source": [
    "# allows to import own functions\n",
    "import sys\n",
    "import os\n",
    "import re\n",
    "root_project = re.findall(r'(^\\S*TFM)', os.getcwd())[0]\n",
    "sys.path.append(root_project)"
   ]
  },
  {
   "cell_type": "code",
   "execution_count": 2,
   "metadata": {},
   "outputs": [
    {
     "name": "stderr",
     "output_type": "stream",
     "text": [
      "/disks/hdd2T/Drive/TFM/conda_env/lib/python3.8/site-packages/sklearn/utils/deprecation.py:143: FutureWarning: The sklearn.metrics.classification module is  deprecated in version 0.22 and will be removed in version 0.24. The corresponding classes / functions should instead be imported from sklearn.metrics. Anything that cannot be imported from sklearn.metrics is now part of the private API.\n",
      "  warnings.warn(message, FutureWarning)\n"
     ]
    }
   ],
   "source": [
    "import pandas as pd\n",
    "from src.features.add_features import add_features\n",
    "from sklearn.model_selection import  train_test_split, cross_validate\n",
    "from sklearn.preprocessing import StandardScaler\n",
    "from sklearn.dummy import DummyRegressor\n",
    "from sklearn.pipeline import Pipeline\n",
    "import numpy as np\n",
    "import matplotlib.pyplot as plt\n",
    "import seaborn as sns\n",
    "from sklearn.metrics import mean_absolute_error, mean_squared_error, r2_score\n",
    "from yellowbrick.regressor import residuals_plot, prediction_error, PredictionError\n",
    "from yellowbrick.model_selection import validation_curve, learning_curve, feature_importances\n",
    "import pickle\n",
    "from src.utils.help_func import rename_indicators\n",
    "\n",
    "sns.set()"
   ]
  },
  {
   "cell_type": "code",
   "execution_count": 3,
   "metadata": {},
   "outputs": [
    {
     "data": {
      "text/html": [
       "<div>\n",
       "<style scoped>\n",
       "    .dataframe tbody tr th:only-of-type {\n",
       "        vertical-align: middle;\n",
       "    }\n",
       "\n",
       "    .dataframe tbody tr th {\n",
       "        vertical-align: top;\n",
       "    }\n",
       "\n",
       "    .dataframe thead th {\n",
       "        text-align: right;\n",
       "    }\n",
       "</style>\n",
       "<table border=\"1\" class=\"dataframe\">\n",
       "  <thead>\n",
       "    <tr style=\"text-align: right;\">\n",
       "      <th></th>\n",
       "      <th>i_country</th>\n",
       "      <th>R0</th>\n",
       "      <th>Tc</th>\n",
       "      <th>Tr</th>\n",
       "      <th>omega</th>\n",
       "      <th>ind_inf_1</th>\n",
       "      <th>ind_inf_2</th>\n",
       "      <th>ind_inf_sumgrad</th>\n",
       "      <th>ind_inf_p</th>\n",
       "      <th>ind_mort_1</th>\n",
       "      <th>ind_mort_2</th>\n",
       "      <th>ind_mort_3</th>\n",
       "      <th>ind_mort_sumgrad</th>\n",
       "      <th>n_closed</th>\n",
       "      <th>react_time</th>\n",
       "      <th>total_infected</th>\n",
       "      <th>total_deceased</th>\n",
       "      <th>total_recovered</th>\n",
       "    </tr>\n",
       "  </thead>\n",
       "  <tbody>\n",
       "    <tr>\n",
       "      <th>46730</th>\n",
       "      <td>NIC</td>\n",
       "      <td>2.726164</td>\n",
       "      <td>2.880362</td>\n",
       "      <td>7.852337</td>\n",
       "      <td>0.333682</td>\n",
       "      <td>0.000000</td>\n",
       "      <td>0.000000</td>\n",
       "      <td>0.000000</td>\n",
       "      <td>0.000000</td>\n",
       "      <td>0.000000</td>\n",
       "      <td>0.000000</td>\n",
       "      <td>0.000000</td>\n",
       "      <td>0.0</td>\n",
       "      <td>16</td>\n",
       "      <td>13</td>\n",
       "      <td>1.0</td>\n",
       "      <td>0.0</td>\n",
       "      <td>0.0</td>\n",
       "    </tr>\n",
       "    <tr>\n",
       "      <th>48393</th>\n",
       "      <td>TTO</td>\n",
       "      <td>15.615708</td>\n",
       "      <td>1.581239</td>\n",
       "      <td>24.692166</td>\n",
       "      <td>0.508220</td>\n",
       "      <td>5.233333</td>\n",
       "      <td>10.139389</td>\n",
       "      <td>23.526981</td>\n",
       "      <td>0.000113</td>\n",
       "      <td>0.783439</td>\n",
       "      <td>4.970197</td>\n",
       "      <td>10.266054</td>\n",
       "      <td>10.5</td>\n",
       "      <td>15</td>\n",
       "      <td>14</td>\n",
       "      <td>359605.0</td>\n",
       "      <td>333040.0</td>\n",
       "      <td>26437.0</td>\n",
       "    </tr>\n",
       "    <tr>\n",
       "      <th>41416</th>\n",
       "      <td>SUR</td>\n",
       "      <td>13.349681</td>\n",
       "      <td>1.923908</td>\n",
       "      <td>25.683558</td>\n",
       "      <td>0.438960</td>\n",
       "      <td>2.000000</td>\n",
       "      <td>2.419256</td>\n",
       "      <td>6.085120</td>\n",
       "      <td>0.000104</td>\n",
       "      <td>0.850000</td>\n",
       "      <td>8.045612</td>\n",
       "      <td>8.642644</td>\n",
       "      <td>2.0</td>\n",
       "      <td>18</td>\n",
       "      <td>13</td>\n",
       "      <td>156036370.0</td>\n",
       "      <td>142061448.0</td>\n",
       "      <td>12594398.0</td>\n",
       "    </tr>\n",
       "    <tr>\n",
       "      <th>34506</th>\n",
       "      <td>VEN</td>\n",
       "      <td>12.878925</td>\n",
       "      <td>1.575816</td>\n",
       "      <td>20.294810</td>\n",
       "      <td>0.665217</td>\n",
       "      <td>0.000000</td>\n",
       "      <td>0.000000</td>\n",
       "      <td>0.000000</td>\n",
       "      <td>0.000000</td>\n",
       "      <td>0.000000</td>\n",
       "      <td>0.000000</td>\n",
       "      <td>0.000000</td>\n",
       "      <td>0.0</td>\n",
       "      <td>19</td>\n",
       "      <td>15</td>\n",
       "      <td>1.0</td>\n",
       "      <td>0.0</td>\n",
       "      <td>0.0</td>\n",
       "    </tr>\n",
       "    <tr>\n",
       "      <th>43725</th>\n",
       "      <td>TKM</td>\n",
       "      <td>6.054086</td>\n",
       "      <td>2.731820</td>\n",
       "      <td>16.538675</td>\n",
       "      <td>0.678012</td>\n",
       "      <td>0.000000</td>\n",
       "      <td>0.000000</td>\n",
       "      <td>0.000000</td>\n",
       "      <td>0.000000</td>\n",
       "      <td>0.000000</td>\n",
       "      <td>0.000000</td>\n",
       "      <td>0.000000</td>\n",
       "      <td>0.0</td>\n",
       "      <td>7</td>\n",
       "      <td>1</td>\n",
       "      <td>1.0</td>\n",
       "      <td>0.0</td>\n",
       "      <td>0.0</td>\n",
       "    </tr>\n",
       "  </tbody>\n",
       "</table>\n",
       "</div>"
      ],
      "text/plain": [
       "      i_country         R0        Tc         Tr     omega  ind_inf_1  \\\n",
       "46730       NIC   2.726164  2.880362   7.852337  0.333682   0.000000   \n",
       "48393       TTO  15.615708  1.581239  24.692166  0.508220   5.233333   \n",
       "41416       SUR  13.349681  1.923908  25.683558  0.438960   2.000000   \n",
       "34506       VEN  12.878925  1.575816  20.294810  0.665217   0.000000   \n",
       "43725       TKM   6.054086  2.731820  16.538675  0.678012   0.000000   \n",
       "\n",
       "       ind_inf_2  ind_inf_sumgrad  ind_inf_p  ind_mort_1  ind_mort_2  \\\n",
       "46730   0.000000         0.000000   0.000000    0.000000    0.000000   \n",
       "48393  10.139389        23.526981   0.000113    0.783439    4.970197   \n",
       "41416   2.419256         6.085120   0.000104    0.850000    8.045612   \n",
       "34506   0.000000         0.000000   0.000000    0.000000    0.000000   \n",
       "43725   0.000000         0.000000   0.000000    0.000000    0.000000   \n",
       "\n",
       "       ind_mort_3  ind_mort_sumgrad  n_closed  react_time  total_infected  \\\n",
       "46730    0.000000               0.0        16          13             1.0   \n",
       "48393   10.266054              10.5        15          14        359605.0   \n",
       "41416    8.642644               2.0        18          13     156036370.0   \n",
       "34506    0.000000               0.0        19          15             1.0   \n",
       "43725    0.000000               0.0         7           1             1.0   \n",
       "\n",
       "       total_deceased  total_recovered  \n",
       "46730             0.0              0.0  \n",
       "48393        333040.0          26437.0  \n",
       "41416     142061448.0       12594398.0  \n",
       "34506             0.0              0.0  \n",
       "43725             0.0              0.0  "
      ]
     },
     "execution_count": 3,
     "metadata": {},
     "output_type": "execute_result"
    }
   ],
   "source": [
    "seed = 42\n",
    "df_raw = pd.read_csv(\"../../data/processed/simulation_results_REV4.csv\")\n",
    "df_raw = df_raw.sample(15000, random_state=seed)\n",
    "df_raw.head()"
   ]
  },
  {
   "cell_type": "code",
   "execution_count": 4,
   "metadata": {},
   "outputs": [
    {
     "name": "stderr",
     "output_type": "stream",
     "text": [
      "/disks/hdd2T/Drive/TFM/conda_env/lib/python3.8/site-packages/pandas/core/series.py:726: RuntimeWarning: invalid value encountered in log\n",
      "  result = getattr(ufunc, method)(*inputs, **kwargs)\n"
     ]
    }
   ],
   "source": [
    "df = add_features(df_raw)\n",
    "df = rename_indicators(df)"
   ]
  },
  {
   "cell_type": "code",
   "execution_count": 5,
   "metadata": {},
   "outputs": [
    {
     "name": "stdout",
     "output_type": "stream",
     "text": [
      "(10099, 39)\n",
      "(9624, 39)\n"
     ]
    }
   ],
   "source": [
    "df = df.loc[df['total_deceased'] > 1 ]\n",
    "print(df.shape)\n",
    "df.dropna(inplace=True)\n",
    "print(df.shape)"
   ]
  },
  {
   "cell_type": "code",
   "execution_count": 6,
   "metadata": {},
   "outputs": [
    {
     "data": {
      "text/html": [
       "<div>\n",
       "<style scoped>\n",
       "    .dataframe tbody tr th:only-of-type {\n",
       "        vertical-align: middle;\n",
       "    }\n",
       "\n",
       "    .dataframe tbody tr th {\n",
       "        vertical-align: top;\n",
       "    }\n",
       "\n",
       "    .dataframe thead th {\n",
       "        text-align: right;\n",
       "    }\n",
       "</style>\n",
       "<table border=\"1\" class=\"dataframe\">\n",
       "  <thead>\n",
       "    <tr style=\"text-align: right;\">\n",
       "      <th></th>\n",
       "      <th>ind_1.1</th>\n",
       "      <th>ind_1.2</th>\n",
       "      <th>ind_1.3</th>\n",
       "      <th>ind_1.4</th>\n",
       "      <th>ind_2.1</th>\n",
       "      <th>ind_2.2</th>\n",
       "      <th>ind_2.3</th>\n",
       "      <th>ind_2.4</th>\n",
       "      <th>n_closed</th>\n",
       "      <th>react_time</th>\n",
       "      <th>betweenness_log</th>\n",
       "      <th>degree_log</th>\n",
       "      <th>closeness</th>\n",
       "      <th>country_pop_log</th>\n",
       "      <th>country_departures_log</th>\n",
       "      <th>exposed_pop_log</th>\n",
       "      <th>affected_population</th>\n",
       "    </tr>\n",
       "  </thead>\n",
       "  <tbody>\n",
       "    <tr>\n",
       "      <th>48393</th>\n",
       "      <td>3.158148</td>\n",
       "      <td>-9.088466</td>\n",
       "      <td>1.655048</td>\n",
       "      <td>2.316428</td>\n",
       "      <td>2.351375</td>\n",
       "      <td>-0.244061</td>\n",
       "      <td>1.603460</td>\n",
       "      <td>2.328843</td>\n",
       "      <td>15</td>\n",
       "      <td>14</td>\n",
       "      <td>-5.547479</td>\n",
       "      <td>-2.106841</td>\n",
       "      <td>0.441352</td>\n",
       "      <td>14.144712</td>\n",
       "      <td>6.616065</td>\n",
       "      <td>19.965769</td>\n",
       "      <td>0.000044</td>\n",
       "    </tr>\n",
       "    <tr>\n",
       "      <th>41416</th>\n",
       "      <td>1.805846</td>\n",
       "      <td>-9.169503</td>\n",
       "      <td>0.693147</td>\n",
       "      <td>0.883460</td>\n",
       "      <td>0.693147</td>\n",
       "      <td>-0.162519</td>\n",
       "      <td>2.085127</td>\n",
       "      <td>2.156709</td>\n",
       "      <td>18</td>\n",
       "      <td>13</td>\n",
       "      <td>-8.140420</td>\n",
       "      <td>-2.917771</td>\n",
       "      <td>0.385417</td>\n",
       "      <td>13.263847</td>\n",
       "      <td>6.700731</td>\n",
       "      <td>19.249124</td>\n",
       "      <td>0.018858</td>\n",
       "    </tr>\n",
       "    <tr>\n",
       "      <th>24656</th>\n",
       "      <td>10.979096</td>\n",
       "      <td>-6.045470</td>\n",
       "      <td>8.352413</td>\n",
       "      <td>9.572624</td>\n",
       "      <td>9.948628</td>\n",
       "      <td>-0.634691</td>\n",
       "      <td>-0.050146</td>\n",
       "      <td>1.791781</td>\n",
       "      <td>4</td>\n",
       "      <td>9</td>\n",
       "      <td>-9.577623</td>\n",
       "      <td>-2.144581</td>\n",
       "      <td>0.393617</td>\n",
       "      <td>17.799080</td>\n",
       "      <td>9.513994</td>\n",
       "      <td>21.921267</td>\n",
       "      <td>0.473662</td>\n",
       "    </tr>\n",
       "    <tr>\n",
       "      <th>22411</th>\n",
       "      <td>12.998546</td>\n",
       "      <td>1.544631</td>\n",
       "      <td>9.723803</td>\n",
       "      <td>8.968487</td>\n",
       "      <td>9.553717</td>\n",
       "      <td>-2.093050</td>\n",
       "      <td>-2.184036</td>\n",
       "      <td>-0.079092</td>\n",
       "      <td>2</td>\n",
       "      <td>7</td>\n",
       "      <td>-5.853222</td>\n",
       "      <td>-2.917771</td>\n",
       "      <td>0.388792</td>\n",
       "      <td>11.580369</td>\n",
       "      <td>7.012115</td>\n",
       "      <td>19.616169</td>\n",
       "      <td>0.440854</td>\n",
       "    </tr>\n",
       "    <tr>\n",
       "      <th>936</th>\n",
       "      <td>12.068965</td>\n",
       "      <td>-8.469177</td>\n",
       "      <td>9.184157</td>\n",
       "      <td>10.229026</td>\n",
       "      <td>10.572662</td>\n",
       "      <td>-0.906085</td>\n",
       "      <td>-0.595658</td>\n",
       "      <td>1.349568</td>\n",
       "      <td>7</td>\n",
       "      <td>19</td>\n",
       "      <td>-3.484589</td>\n",
       "      <td>-0.574364</td>\n",
       "      <td>0.560606</td>\n",
       "      <td>21.054532</td>\n",
       "      <td>12.924383</td>\n",
       "      <td>22.212935</td>\n",
       "      <td>0.131193</td>\n",
       "    </tr>\n",
       "  </tbody>\n",
       "</table>\n",
       "</div>"
      ],
      "text/plain": [
       "         ind_1.1   ind_1.2   ind_1.3    ind_1.4    ind_2.1   ind_2.2  \\\n",
       "48393   3.158148 -9.088466  1.655048   2.316428   2.351375 -0.244061   \n",
       "41416   1.805846 -9.169503  0.693147   0.883460   0.693147 -0.162519   \n",
       "24656  10.979096 -6.045470  8.352413   9.572624   9.948628 -0.634691   \n",
       "22411  12.998546  1.544631  9.723803   8.968487   9.553717 -2.093050   \n",
       "936    12.068965 -8.469177  9.184157  10.229026  10.572662 -0.906085   \n",
       "\n",
       "        ind_2.3   ind_2.4  n_closed  react_time  betweenness_log  degree_log  \\\n",
       "48393  1.603460  2.328843        15          14        -5.547479   -2.106841   \n",
       "41416  2.085127  2.156709        18          13        -8.140420   -2.917771   \n",
       "24656 -0.050146  1.791781         4           9        -9.577623   -2.144581   \n",
       "22411 -2.184036 -0.079092         2           7        -5.853222   -2.917771   \n",
       "936   -0.595658  1.349568         7          19        -3.484589   -0.574364   \n",
       "\n",
       "       closeness  country_pop_log  country_departures_log  exposed_pop_log  \\\n",
       "48393   0.441352        14.144712                6.616065        19.965769   \n",
       "41416   0.385417        13.263847                6.700731        19.249124   \n",
       "24656   0.393617        17.799080                9.513994        21.921267   \n",
       "22411   0.388792        11.580369                7.012115        19.616169   \n",
       "936     0.560606        21.054532               12.924383        22.212935   \n",
       "\n",
       "       affected_population  \n",
       "48393             0.000044  \n",
       "41416             0.018858  \n",
       "24656             0.473662  \n",
       "22411             0.440854  \n",
       "936               0.131193  "
      ]
     },
     "execution_count": 6,
     "metadata": {},
     "output_type": "execute_result"
    }
   ],
   "source": [
    "features = [\n",
    "    'ind_1.1',\n",
    "    'ind_1.2',\n",
    "    'ind_1.3',\n",
    "    'ind_1.4',\n",
    "    'ind_2.1',\n",
    "    'ind_2.2',\n",
    "    'ind_2.3',\n",
    "    'ind_2.4',\n",
    "    'n_closed',\n",
    "    'react_time',\n",
    "    'betweenness_log',\n",
    "    'degree_log',\n",
    "    'closeness',\n",
    "    'country_pop_log',\n",
    "    'country_departures_log',\n",
    "    'exposed_pop_log',\n",
    "    'affected_population'\n",
    "    ]\n",
    "\n",
    "df = df[features]\n",
    "df.head()"
   ]
  },
  {
   "cell_type": "markdown",
   "metadata": {},
   "source": [
    "# DATA PREPARATION"
   ]
  },
  {
   "cell_type": "code",
   "execution_count": 7,
   "metadata": {},
   "outputs": [],
   "source": [
    "X = df.drop('affected_population', axis=1)\n",
    "y = df['affected_population']\n",
    "\n",
    "X_train, X_test, y_train, y_test = train_test_split(X,\n",
    "                                                  y,\n",
    "                                                  random_state=seed)"
   ]
  },
  {
   "cell_type": "code",
   "execution_count": 8,
   "metadata": {},
   "outputs": [],
   "source": [
    "def ResultsRegressorCV(scores):\n",
    "    print(f\"R2: {scores['test_r2'].mean()}, {scores['test_r2'].std()}\")\n",
    "    print(f\"MAE: {-scores['test_neg_mean_absolute_error'].mean()}, {scores['test_neg_mean_absolute_error'].std()}\")\n",
    "    print(f\"RMSE: {-scores['test_neg_root_mean_squared_error'].mean()}, {scores['test_neg_root_mean_squared_error'].std()}\")\n",
    "    return None\n",
    "\n",
    "def make_scores(d_score, model_name):\n",
    "    try:\n",
    "        df = pd.read_pickle('scores_models.pkl')\n",
    "        df[model_name] = list(d_score.values())\n",
    "        df.to_pickle('scores_models.pkl')\n",
    "    except:\n",
    "        s = pd.Series(d_score)\n",
    "        s.name = model_name\n",
    "        df = pd.DataFrame(s)\n",
    "        df.to_pickle('scores_models.pkl')"
   ]
  },
  {
   "cell_type": "markdown",
   "metadata": {},
   "source": [
    "# MODEL"
   ]
  },
  {
   "cell_type": "code",
   "execution_count": 9,
   "metadata": {},
   "outputs": [],
   "source": [
    "estimator = DummyRegressor()\n",
    "\n",
    "pipe = Pipeline(\n",
    "    [\n",
    "        ('preprocessing', StandardScaler()),\n",
    "        (\"estimator\", estimator),\n",
    "    ]\n",
    ")"
   ]
  },
  {
   "cell_type": "code",
   "execution_count": 10,
   "metadata": {},
   "outputs": [
    {
     "name": "stdout",
     "output_type": "stream",
     "text": [
      "R2: -0.0004448134038213869, 0.00023706339427563778\n",
      "MAE: 0.1662019929683264, 0.00324581787775014\n",
      "RMSE: 0.20135744329506083, 0.0026984137261872555\n"
     ]
    }
   ],
   "source": [
    "score = cross_validate(pipe, X, y, n_jobs=-1, scoring=['r2','neg_mean_absolute_error','neg_root_mean_squared_error'])\n",
    "ResultsRegressorCV(score)"
   ]
  },
  {
   "cell_type": "code",
   "execution_count": 11,
   "metadata": {},
   "outputs": [],
   "source": [
    "make_scores(score, 'Dummy')"
   ]
  },
  {
   "cell_type": "code",
   "execution_count": 12,
   "metadata": {},
   "outputs": [
    {
     "data": {
      "image/png": "[encoded data removed]",
      "text/plain": [
       "<Figure size 1080x576 with 2 Axes>"
      ]
     },
     "metadata": {},
     "output_type": "display_data"
    },
    {
     "data": {
      "image/png": "[encoded data removed]",
      "text/plain": [
       "<Figure size 1080x576 with 1 Axes>"
      ]
     },
     "metadata": {},
     "output_type": "display_data"
    },
    {
     "name": "stderr",
     "output_type": "stream",
     "text": [
      "/disks/hdd2T/Drive/TFM/conda_env/lib/python3.8/site-packages/sklearn/base.py:209: FutureWarning: From version 0.24, get_params will raise an AttributeError if a parameter cannot be retrieved as an instance attribute. Previously it would return None.\n",
      "  warnings.warn('From version 0.24, get_params will raise an '\n"
     ]
    },
    {
     "data": {
      "image/png": "[encoded data removed]",
      "text/plain": [
       "<Figure size 576x396 with 1 Axes>"
      ]
     },
     "metadata": {},
     "output_type": "display_data"
    },
    {
     "name": "stderr",
     "output_type": "stream",
     "text": [
      "/disks/hdd2T/Drive/TFM/conda_env/lib/python3.8/site-packages/sklearn/base.py:209: FutureWarning: From version 0.24, get_params will raise an AttributeError if a parameter cannot be retrieved as an instance attribute. Previously it would return None.\n",
      "  warnings.warn('From version 0.24, get_params will raise an '\n"
     ]
    },
    {
     "ename": "YellowbrickTypeError",
     "evalue": "could not find feature importances param on DummyRegressor",
     "output_type": "error",
     "traceback": [
      "\u001b[0;31m---------------------------------------------------------------------------\u001b[0m",
      "\u001b[0;31mYellowbrickTypeError\u001b[0m                      Traceback (most recent call last)",
      "\u001b[0;32m<ipython-input-12-ad3f7b44e702>\u001b[0m in \u001b[0;36m<module>\u001b[0;34m\u001b[0m\n\u001b[1;32m      7\u001b[0m \u001b[0mlearning_curve\u001b[0m\u001b[0;34m(\u001b[0m\u001b[0mpipe\u001b[0m\u001b[0;34m,\u001b[0m \u001b[0mX\u001b[0m\u001b[0;34m,\u001b[0m \u001b[0my\u001b[0m\u001b[0;34m,\u001b[0m \u001b[0mscoring\u001b[0m\u001b[0;34m=\u001b[0m\u001b[0;34m'r2'\u001b[0m\u001b[0;34m,\u001b[0m \u001b[0mn_jobs\u001b[0m\u001b[0;34m=\u001b[0m\u001b[0;34m-\u001b[0m\u001b[0;36m1\u001b[0m\u001b[0;34m)\u001b[0m\u001b[0;34m\u001b[0m\u001b[0;34m\u001b[0m\u001b[0m\n\u001b[1;32m      8\u001b[0m \u001b[0;34m\u001b[0m\u001b[0m\n\u001b[0;32m----> 9\u001b[0;31m \u001b[0mfeature_importances\u001b[0m\u001b[0;34m(\u001b[0m\u001b[0mestimator\u001b[0m\u001b[0;34m,\u001b[0m \u001b[0mX\u001b[0m\u001b[0;34m,\u001b[0m \u001b[0my\u001b[0m\u001b[0;34m)\u001b[0m\u001b[0;34m\u001b[0m\u001b[0;34m\u001b[0m\u001b[0m\n\u001b[0m",
      "\u001b[0;32m/disks/hdd2T/Drive/TFM/conda_env/lib/python3.8/site-packages/yellowbrick/model_selection/importances.py\u001b[0m in \u001b[0;36mfeature_importances\u001b[0;34m(model, X, y, ax, labels, relative, absolute, xlabel, stack, colors, colormap, is_fitted, show, **kwargs)\u001b[0m\n\u001b[1;32m    458\u001b[0m \u001b[0;34m\u001b[0m\u001b[0m\n\u001b[1;32m    459\u001b[0m     \u001b[0;31m# Fit and transform the visualizer (calls draw)\u001b[0m\u001b[0;34m\u001b[0m\u001b[0;34m\u001b[0m\u001b[0;34m\u001b[0m\u001b[0m\n\u001b[0;32m--> 460\u001b[0;31m     \u001b[0mvisualizer\u001b[0m\u001b[0;34m.\u001b[0m\u001b[0mfit\u001b[0m\u001b[0;34m(\u001b[0m\u001b[0mX\u001b[0m\u001b[0;34m,\u001b[0m \u001b[0my\u001b[0m\u001b[0;34m)\u001b[0m\u001b[0;34m\u001b[0m\u001b[0;34m\u001b[0m\u001b[0m\n\u001b[0m\u001b[1;32m    461\u001b[0m \u001b[0;34m\u001b[0m\u001b[0m\n\u001b[1;32m    462\u001b[0m     \u001b[0;32mif\u001b[0m \u001b[0mshow\u001b[0m\u001b[0;34m:\u001b[0m\u001b[0;34m\u001b[0m\u001b[0;34m\u001b[0m\u001b[0m\n",
      "\u001b[0;32m/disks/hdd2T/Drive/TFM/conda_env/lib/python3.8/site-packages/yellowbrick/model_selection/importances.py\u001b[0m in \u001b[0;36mfit\u001b[0;34m(self, X, y, **kwargs)\u001b[0m\n\u001b[1;32m    173\u001b[0m \u001b[0;34m\u001b[0m\u001b[0m\n\u001b[1;32m    174\u001b[0m         \u001b[0;31m# Get the feature importances from the model\u001b[0m\u001b[0;34m\u001b[0m\u001b[0;34m\u001b[0m\u001b[0;34m\u001b[0m\u001b[0m\n\u001b[0;32m--> 175\u001b[0;31m         \u001b[0mself\u001b[0m\u001b[0;34m.\u001b[0m\u001b[0mfeature_importances_\u001b[0m \u001b[0;34m=\u001b[0m \u001b[0mself\u001b[0m\u001b[0;34m.\u001b[0m\u001b[0m_find_importances_param\u001b[0m\u001b[0;34m(\u001b[0m\u001b[0;34m)\u001b[0m\u001b[0;34m\u001b[0m\u001b[0;34m\u001b[0m\u001b[0m\n\u001b[0m\u001b[1;32m    176\u001b[0m \u001b[0;34m\u001b[0m\u001b[0m\n\u001b[1;32m    177\u001b[0m         \u001b[0;31m# Get the classes from the model\u001b[0m\u001b[0;34m\u001b[0m\u001b[0;34m\u001b[0m\u001b[0;34m\u001b[0m\u001b[0m\n",
      "\u001b[0;32m/disks/hdd2T/Drive/TFM/conda_env/lib/python3.8/site-packages/yellowbrick/model_selection/importances.py\u001b[0m in \u001b[0;36m_find_importances_param\u001b[0;34m(self)\u001b[0m\n\u001b[1;32m    317\u001b[0m                 \u001b[0;32mcontinue\u001b[0m\u001b[0;34m\u001b[0m\u001b[0;34m\u001b[0m\u001b[0m\n\u001b[1;32m    318\u001b[0m \u001b[0;34m\u001b[0m\u001b[0m\n\u001b[0;32m--> 319\u001b[0;31m         raise YellowbrickTypeError(\n\u001b[0m\u001b[1;32m    320\u001b[0m             \"could not find feature importances param on {}\".format(\n\u001b[1;32m    321\u001b[0m                 \u001b[0mself\u001b[0m\u001b[0;34m.\u001b[0m\u001b[0mestimator\u001b[0m\u001b[0;34m.\u001b[0m\u001b[0m__class__\u001b[0m\u001b[0;34m.\u001b[0m\u001b[0m__name__\u001b[0m\u001b[0;34m\u001b[0m\u001b[0;34m\u001b[0m\u001b[0m\n",
      "\u001b[0;31mYellowbrickTypeError\u001b[0m: could not find feature importances param on DummyRegressor"
     ]
    },
    {
     "data": {
      "image/png": "[encoded data removed]",
      "text/plain": [
       "<Figure size 576x396 with 1 Axes>"
      ]
     },
     "metadata": {},
     "output_type": "display_data"
    }
   ],
   "source": [
    "fig, ax = plt.subplots(1,1, figsize=(15,8))\n",
    "viz = residuals_plot(pipe, X_train, y_train, X_test, y_test, ax=ax)\n",
    "\n",
    "fig, ax = plt.subplots(1,1, figsize=(15,8))\n",
    "viz = prediction_error(pipe, X_train, y_train, X_test, y_test, ax=ax)\n",
    "\n",
    "learning_curve(pipe, X, y, scoring='r2', n_jobs=-1)\n",
    "\n",
    "feature_importances(estimator, X, y)"
   ]
  },
  {
   "cell_type": "code",
   "execution_count": null,
   "metadata": {},
   "outputs": [],
   "source": []
  }
 ],
 "metadata": {
  "kernelspec": {
   "display_name": "Python 3",
   "language": "python",
   "name": "python3"
  },
  "language_info": {
   "codemirror_mode": {
    "name": "ipython",
    "version": 3
   },
   "file_extension": ".py",
   "mimetype": "text/x-python",
   "name": "python",
   "nbconvert_exporter": "python",
   "pygments_lexer": "ipython3",
   "version": "3.8.5"
  }
 },
 "nbformat": 4,
 "nbformat_minor": 4
}
