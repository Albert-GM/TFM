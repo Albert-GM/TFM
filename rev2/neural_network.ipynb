{
 "cells": [
  {
   "cell_type": "markdown",
   "metadata": {},
   "source": [
    "# SET ENVIRONMENT"
   ]
  },
  {
   "cell_type": "code",
   "execution_count": 1,
   "metadata": {},
   "outputs": [],
   "source": [
    "# allows to import own functions\n",
    "import sys\n",
    "import os\n",
    "import re\n",
    "root_project = re.findall(r'(^\\S*TFM)', os.getcwd())[0]\n",
    "sys.path.append(root_project)"
   ]
  },
  {
   "cell_type": "code",
   "execution_count": 39,
   "metadata": {},
   "outputs": [],
   "source": [
    "import pandas as pd\n",
    "from src.features.add_features import add_features\n",
    "import numpy as np\n",
    "import matplotlib.pyplot as plt\n",
    "import seaborn as sns\n",
    "from sklearn.metrics import mean_absolute_error, mean_squared_error, r2_score\n",
    "from sklearn.model_selection import  train_test_split\n",
    "from sklearn.preprocessing import StandardScaler\n",
    "\n",
    "import tensorflow as tf\n",
    "from tensorflow.keras.optimizers import Nadam, Adam\n",
    "from tensorflow.keras.models import  Sequential, load_model\n",
    "from tensorflow.keras.layers import Input, Dense, Flatten\n",
    "from tensorflow.keras import Model\n",
    "from tensorflow.keras import backend as K\n",
    "from tensorflow.python.client import device_lib \n",
    "from tensorflow.keras.callbacks import EarlyStopping\n",
    "from kerastuner.tuners import RandomSearch\n",
    "from kerastuner import Objective\n",
    "import keras\n",
    "from livelossplot import PlotLossesKeras\n",
    "from src.utils.help_func import rename_indicators\n",
    "import eli5\n",
    "from eli5.sklearn import PermutationImportance\n",
    "\n",
    "import pickle\n",
    "sns.set()"
   ]
  },
  {
   "cell_type": "code",
   "execution_count": 3,
   "metadata": {},
   "outputs": [
    {
     "name": "stdout",
     "output_type": "stream",
     "text": [
      "[name: \"/device:CPU:0\"\n",
      "device_type: \"CPU\"\n",
      "memory_limit: 268435456\n",
      "locality {\n",
      "}\n",
      "incarnation: 11584360895681692483\n",
      ", name: \"/device:XLA_CPU:0\"\n",
      "device_type: \"XLA_CPU\"\n",
      "memory_limit: 17179869184\n",
      "locality {\n",
      "}\n",
      "incarnation: 8382277933659189101\n",
      "physical_device_desc: \"device: XLA_CPU device\"\n",
      ", name: \"/device:GPU:0\"\n",
      "device_type: \"GPU\"\n",
      "memory_limit: 6440927904\n",
      "locality {\n",
      "  bus_id: 1\n",
      "  links {\n",
      "  }\n",
      "}\n",
      "incarnation: 11266558593914551698\n",
      "physical_device_desc: \"device: 0, name: GeForce RTX 2060 SUPER, pci bus id: 0000:01:00.0, compute capability: 7.5\"\n",
      ", name: \"/device:XLA_GPU:0\"\n",
      "device_type: \"XLA_GPU\"\n",
      "memory_limit: 17179869184\n",
      "locality {\n",
      "}\n",
      "incarnation: 6486394629018243935\n",
      "physical_device_desc: \"device: XLA_GPU device\"\n",
      "]\n"
     ]
    }
   ],
   "source": [
    "print(device_lib.list_local_devices())"
   ]
  },
  {
   "cell_type": "code",
   "execution_count": 4,
   "metadata": {},
   "outputs": [
    {
     "data": {
      "text/html": [
       "<div>\n",
       "<style scoped>\n",
       "    .dataframe tbody tr th:only-of-type {\n",
       "        vertical-align: middle;\n",
       "    }\n",
       "\n",
       "    .dataframe tbody tr th {\n",
       "        vertical-align: top;\n",
       "    }\n",
       "\n",
       "    .dataframe thead th {\n",
       "        text-align: right;\n",
       "    }\n",
       "</style>\n",
       "<table border=\"1\" class=\"dataframe\">\n",
       "  <thead>\n",
       "    <tr style=\"text-align: right;\">\n",
       "      <th></th>\n",
       "      <th>i_country</th>\n",
       "      <th>R0</th>\n",
       "      <th>Tc</th>\n",
       "      <th>Tr</th>\n",
       "      <th>omega</th>\n",
       "      <th>ind_inf_1</th>\n",
       "      <th>ind_inf_2</th>\n",
       "      <th>ind_inf_sumgrad</th>\n",
       "      <th>ind_inf_p</th>\n",
       "      <th>ind_mort_1</th>\n",
       "      <th>ind_mort_2</th>\n",
       "      <th>ind_mort_3</th>\n",
       "      <th>ind_mort_sumgrad</th>\n",
       "      <th>n_closed</th>\n",
       "      <th>react_time</th>\n",
       "      <th>total_infected</th>\n",
       "      <th>total_deceased</th>\n",
       "      <th>total_recovered</th>\n",
       "    </tr>\n",
       "  </thead>\n",
       "  <tbody>\n",
       "    <tr>\n",
       "      <th>0</th>\n",
       "      <td>DJI</td>\n",
       "      <td>12.187967</td>\n",
       "      <td>1.733278</td>\n",
       "      <td>21.125133</td>\n",
       "      <td>0.197944</td>\n",
       "      <td>2.160967e+03</td>\n",
       "      <td>4757.961648</td>\n",
       "      <td>4.063839e+04</td>\n",
       "      <td>0.067606</td>\n",
       "      <td>0.353545</td>\n",
       "      <td>0.487118</td>\n",
       "      <td>3.178464</td>\n",
       "      <td>6190.5</td>\n",
       "      <td>19</td>\n",
       "      <td>20</td>\n",
       "      <td>3.023155e+09</td>\n",
       "      <td>2.439964e+09</td>\n",
       "      <td>5.834951e+08</td>\n",
       "    </tr>\n",
       "    <tr>\n",
       "      <th>1</th>\n",
       "      <td>KAZ</td>\n",
       "      <td>8.802094</td>\n",
       "      <td>0.776828</td>\n",
       "      <td>6.837709</td>\n",
       "      <td>0.886055</td>\n",
       "      <td>2.402667e+02</td>\n",
       "      <td>907.398367</td>\n",
       "      <td>1.574797e+03</td>\n",
       "      <td>0.000394</td>\n",
       "      <td>0.687708</td>\n",
       "      <td>2.763238</td>\n",
       "      <td>4.812301</td>\n",
       "      <td>1111.5</td>\n",
       "      <td>11</td>\n",
       "      <td>8</td>\n",
       "      <td>1.828206e+09</td>\n",
       "      <td>1.569210e+09</td>\n",
       "      <td>2.590006e+08</td>\n",
       "    </tr>\n",
       "    <tr>\n",
       "      <th>2</th>\n",
       "      <td>LTU</td>\n",
       "      <td>12.787478</td>\n",
       "      <td>0.195316</td>\n",
       "      <td>2.497605</td>\n",
       "      <td>0.113979</td>\n",
       "      <td>2.503724e+08</td>\n",
       "      <td>7666.911039</td>\n",
       "      <td>1.304820e+06</td>\n",
       "      <td>2692.626822</td>\n",
       "      <td>0.221513</td>\n",
       "      <td>1232.088915</td>\n",
       "      <td>0.284607</td>\n",
       "      <td>305603.0</td>\n",
       "      <td>13</td>\n",
       "      <td>15</td>\n",
       "      <td>7.511292e+09</td>\n",
       "      <td>1.664463e+09</td>\n",
       "      <td>5.846913e+09</td>\n",
       "    </tr>\n",
       "    <tr>\n",
       "      <th>3</th>\n",
       "      <td>DMA</td>\n",
       "      <td>16.545501</td>\n",
       "      <td>1.022406</td>\n",
       "      <td>16.916222</td>\n",
       "      <td>0.104739</td>\n",
       "      <td>1.404241e+05</td>\n",
       "      <td>50184.583240</td>\n",
       "      <td>1.678547e+06</td>\n",
       "      <td>58.666486</td>\n",
       "      <td>0.378172</td>\n",
       "      <td>0.890632</td>\n",
       "      <td>1.590765</td>\n",
       "      <td>180539.5</td>\n",
       "      <td>13</td>\n",
       "      <td>10</td>\n",
       "      <td>4.906761e+09</td>\n",
       "      <td>3.136703e+09</td>\n",
       "      <td>1.770351e+09</td>\n",
       "    </tr>\n",
       "    <tr>\n",
       "      <th>4</th>\n",
       "      <td>CPV</td>\n",
       "      <td>10.116505</td>\n",
       "      <td>2.062013</td>\n",
       "      <td>20.860369</td>\n",
       "      <td>0.129716</td>\n",
       "      <td>1.649600e+03</td>\n",
       "      <td>2644.412518</td>\n",
       "      <td>3.383422e+04</td>\n",
       "      <td>0.091010</td>\n",
       "      <td>0.278977</td>\n",
       "      <td>0.358051</td>\n",
       "      <td>2.099191</td>\n",
       "      <td>3457.5</td>\n",
       "      <td>8</td>\n",
       "      <td>5</td>\n",
       "      <td>5.049934e+09</td>\n",
       "      <td>3.687545e+09</td>\n",
       "      <td>1.362756e+09</td>\n",
       "    </tr>\n",
       "  </tbody>\n",
       "</table>\n",
       "</div>"
      ],
      "text/plain": [
       "  i_country         R0        Tc         Tr     omega     ind_inf_1  \\\n",
       "0       DJI  12.187967  1.733278  21.125133  0.197944  2.160967e+03   \n",
       "1       KAZ   8.802094  0.776828   6.837709  0.886055  2.402667e+02   \n",
       "2       LTU  12.787478  0.195316   2.497605  0.113979  2.503724e+08   \n",
       "3       DMA  16.545501  1.022406  16.916222  0.104739  1.404241e+05   \n",
       "4       CPV  10.116505  2.062013  20.860369  0.129716  1.649600e+03   \n",
       "\n",
       "      ind_inf_2  ind_inf_sumgrad    ind_inf_p  ind_mort_1   ind_mort_2  \\\n",
       "0   4757.961648     4.063839e+04     0.067606    0.353545     0.487118   \n",
       "1    907.398367     1.574797e+03     0.000394    0.687708     2.763238   \n",
       "2   7666.911039     1.304820e+06  2692.626822    0.221513  1232.088915   \n",
       "3  50184.583240     1.678547e+06    58.666486    0.378172     0.890632   \n",
       "4   2644.412518     3.383422e+04     0.091010    0.278977     0.358051   \n",
       "\n",
       "   ind_mort_3  ind_mort_sumgrad  n_closed  react_time  total_infected  \\\n",
       "0    3.178464            6190.5        19          20    3.023155e+09   \n",
       "1    4.812301            1111.5        11           8    1.828206e+09   \n",
       "2    0.284607          305603.0        13          15    7.511292e+09   \n",
       "3    1.590765          180539.5        13          10    4.906761e+09   \n",
       "4    2.099191            3457.5         8           5    5.049934e+09   \n",
       "\n",
       "   total_deceased  total_recovered  \n",
       "0    2.439964e+09     5.834951e+08  \n",
       "1    1.569210e+09     2.590006e+08  \n",
       "2    1.664463e+09     5.846913e+09  \n",
       "3    3.136703e+09     1.770351e+09  \n",
       "4    3.687545e+09     1.362756e+09  "
      ]
     },
     "execution_count": 4,
     "metadata": {},
     "output_type": "execute_result"
    }
   ],
   "source": [
    "seed = 42\n",
    "df_raw = pd.read_csv(\"../../data/processed/simulation_results_REV4.csv\")\n",
    "df_raw.head()"
   ]
  },
  {
   "cell_type": "code",
   "execution_count": 5,
   "metadata": {},
   "outputs": [
    {
     "name": "stderr",
     "output_type": "stream",
     "text": [
      "/disks/hdd2T/Drive/TFM/conda_env/lib/python3.8/site-packages/pandas/core/series.py:726: RuntimeWarning: invalid value encountered in log\n",
      "  result = getattr(ufunc, method)(*inputs, **kwargs)\n"
     ]
    }
   ],
   "source": [
    "df = add_features(df_raw)\n",
    "df = rename_indicators(df)"
   ]
  },
  {
   "cell_type": "code",
   "execution_count": 6,
   "metadata": {},
   "outputs": [
    {
     "name": "stdout",
     "output_type": "stream",
     "text": [
      "(47005, 39)\n",
      "(44836, 39)\n"
     ]
    }
   ],
   "source": [
    "df = df.loc[df['total_deceased'] > 1 ]\n",
    "print(df.shape)\n",
    "df.dropna(inplace=True)\n",
    "print(df.shape)"
   ]
  },
  {
   "cell_type": "code",
   "execution_count": 7,
   "metadata": {},
   "outputs": [
    {
     "data": {
      "text/html": [
       "<div>\n",
       "<style scoped>\n",
       "    .dataframe tbody tr th:only-of-type {\n",
       "        vertical-align: middle;\n",
       "    }\n",
       "\n",
       "    .dataframe tbody tr th {\n",
       "        vertical-align: top;\n",
       "    }\n",
       "\n",
       "    .dataframe thead th {\n",
       "        text-align: right;\n",
       "    }\n",
       "</style>\n",
       "<table border=\"1\" class=\"dataframe\">\n",
       "  <thead>\n",
       "    <tr style=\"text-align: right;\">\n",
       "      <th></th>\n",
       "      <th>ind_1.1</th>\n",
       "      <th>ind_1.2</th>\n",
       "      <th>ind_1.3</th>\n",
       "      <th>ind_1.4</th>\n",
       "      <th>ind_2.1</th>\n",
       "      <th>ind_2.2</th>\n",
       "      <th>ind_2.3</th>\n",
       "      <th>ind_2.4</th>\n",
       "      <th>n_closed</th>\n",
       "      <th>react_time</th>\n",
       "      <th>betweenness_log</th>\n",
       "      <th>degree_log</th>\n",
       "      <th>closeness</th>\n",
       "      <th>country_pop_log</th>\n",
       "      <th>country_departures_log</th>\n",
       "      <th>exposed_pop_log</th>\n",
       "      <th>affected_population</th>\n",
       "    </tr>\n",
       "  </thead>\n",
       "  <tbody>\n",
       "    <tr>\n",
       "      <th>0</th>\n",
       "      <td>10.612469</td>\n",
       "      <td>-2.694055</td>\n",
       "      <td>7.678311</td>\n",
       "      <td>8.467575</td>\n",
       "      <td>8.730771</td>\n",
       "      <td>-1.039743</td>\n",
       "      <td>-0.719250</td>\n",
       "      <td>1.156398</td>\n",
       "      <td>19</td>\n",
       "      <td>20</td>\n",
       "      <td>-6.821070</td>\n",
       "      <td>-2.569464</td>\n",
       "      <td>0.426104</td>\n",
       "      <td>13.773563</td>\n",
       "      <td>6.638568</td>\n",
       "      <td>19.800943</td>\n",
       "      <td>0.323896</td>\n",
       "    </tr>\n",
       "    <tr>\n",
       "      <th>1</th>\n",
       "      <td>7.361881</td>\n",
       "      <td>-7.838180</td>\n",
       "      <td>5.481749</td>\n",
       "      <td>6.810582</td>\n",
       "      <td>7.013466</td>\n",
       "      <td>-0.374391</td>\n",
       "      <td>1.016403</td>\n",
       "      <td>1.571175</td>\n",
       "      <td>11</td>\n",
       "      <td>8</td>\n",
       "      <td>-7.093339</td>\n",
       "      <td>-1.531476</td>\n",
       "      <td>0.449393</td>\n",
       "      <td>16.721127</td>\n",
       "      <td>10.240924</td>\n",
       "      <td>22.010951</td>\n",
       "      <td>0.208307</td>\n",
       "    </tr>\n",
       "    <tr>\n",
       "      <th>2</th>\n",
       "      <td>14.081576</td>\n",
       "      <td>7.898273</td>\n",
       "      <td>19.338460</td>\n",
       "      <td>8.944669</td>\n",
       "      <td>12.630042</td>\n",
       "      <td>-1.507273</td>\n",
       "      <td>7.116466</td>\n",
       "      <td>-1.256645</td>\n",
       "      <td>13</td>\n",
       "      <td>15</td>\n",
       "      <td>-8.981960</td>\n",
       "      <td>-1.451434</td>\n",
       "      <td>0.448485</td>\n",
       "      <td>14.841385</td>\n",
       "      <td>8.723719</td>\n",
       "      <td>20.436248</td>\n",
       "      <td>0.220952</td>\n",
       "    </tr>\n",
       "    <tr>\n",
       "      <th>3</th>\n",
       "      <td>14.333439</td>\n",
       "      <td>4.071869</td>\n",
       "      <td>11.852422</td>\n",
       "      <td>10.823463</td>\n",
       "      <td>12.103705</td>\n",
       "      <td>-0.972406</td>\n",
       "      <td>-0.115824</td>\n",
       "      <td>0.464215</td>\n",
       "      <td>13</td>\n",
       "      <td>10</td>\n",
       "      <td>-7.675671</td>\n",
       "      <td>-2.763620</td>\n",
       "      <td>0.323615</td>\n",
       "      <td>11.181751</td>\n",
       "      <td>6.643790</td>\n",
       "      <td>15.157147</td>\n",
       "      <td>0.416386</td>\n",
       "    </tr>\n",
       "    <tr>\n",
       "      <th>4</th>\n",
       "      <td>10.429228</td>\n",
       "      <td>-2.396791</td>\n",
       "      <td>7.408288</td>\n",
       "      <td>7.880204</td>\n",
       "      <td>8.148301</td>\n",
       "      <td>-1.276627</td>\n",
       "      <td>-1.027080</td>\n",
       "      <td>0.741552</td>\n",
       "      <td>8</td>\n",
       "      <td>5</td>\n",
       "      <td>-5.465003</td>\n",
       "      <td>-2.070473</td>\n",
       "      <td>0.462500</td>\n",
       "      <td>13.206276</td>\n",
       "      <td>7.631917</td>\n",
       "      <td>20.600119</td>\n",
       "      <td>0.489508</td>\n",
       "    </tr>\n",
       "  </tbody>\n",
       "</table>\n",
       "</div>"
      ],
      "text/plain": [
       "     ind_1.1   ind_1.2    ind_1.3    ind_1.4    ind_2.1   ind_2.2   ind_2.3  \\\n",
       "0  10.612469 -2.694055   7.678311   8.467575   8.730771 -1.039743 -0.719250   \n",
       "1   7.361881 -7.838180   5.481749   6.810582   7.013466 -0.374391  1.016403   \n",
       "2  14.081576  7.898273  19.338460   8.944669  12.630042 -1.507273  7.116466   \n",
       "3  14.333439  4.071869  11.852422  10.823463  12.103705 -0.972406 -0.115824   \n",
       "4  10.429228 -2.396791   7.408288   7.880204   8.148301 -1.276627 -1.027080   \n",
       "\n",
       "    ind_2.4  n_closed  react_time  betweenness_log  degree_log  closeness  \\\n",
       "0  1.156398        19          20        -6.821070   -2.569464   0.426104   \n",
       "1  1.571175        11           8        -7.093339   -1.531476   0.449393   \n",
       "2 -1.256645        13          15        -8.981960   -1.451434   0.448485   \n",
       "3  0.464215        13          10        -7.675671   -2.763620   0.323615   \n",
       "4  0.741552         8           5        -5.465003   -2.070473   0.462500   \n",
       "\n",
       "   country_pop_log  country_departures_log  exposed_pop_log  \\\n",
       "0        13.773563                6.638568        19.800943   \n",
       "1        16.721127               10.240924        22.010951   \n",
       "2        14.841385                8.723719        20.436248   \n",
       "3        11.181751                6.643790        15.157147   \n",
       "4        13.206276                7.631917        20.600119   \n",
       "\n",
       "   affected_population  \n",
       "0             0.323896  \n",
       "1             0.208307  \n",
       "2             0.220952  \n",
       "3             0.416386  \n",
       "4             0.489508  "
      ]
     },
     "execution_count": 7,
     "metadata": {},
     "output_type": "execute_result"
    }
   ],
   "source": [
    "features = [\n",
    "    'ind_1.1',\n",
    "    'ind_1.2',\n",
    "    'ind_1.3',\n",
    "    'ind_1.4',\n",
    "    'ind_2.1',\n",
    "    'ind_2.2',\n",
    "    'ind_2.3',\n",
    "    'ind_2.4',\n",
    "    'n_closed',\n",
    "    'react_time',\n",
    "    'betweenness_log',\n",
    "    'degree_log',\n",
    "    'closeness',\n",
    "    'country_pop_log',\n",
    "    'country_departures_log',\n",
    "    'exposed_pop_log',\n",
    "    'affected_population',\n",
    "    ]\n",
    "\n",
    "df = df[features]\n",
    "df.head()"
   ]
  },
  {
   "cell_type": "code",
   "execution_count": 8,
   "metadata": {},
   "outputs": [
    {
     "data": {
      "text/plain": [
       "ind_1.1                   0\n",
       "ind_1.2                   0\n",
       "ind_1.3                   0\n",
       "ind_1.4                   0\n",
       "ind_2.1                   0\n",
       "ind_2.2                   0\n",
       "ind_2.3                   0\n",
       "ind_2.4                   0\n",
       "n_closed                  0\n",
       "react_time                0\n",
       "betweenness_log           0\n",
       "degree_log                0\n",
       "closeness                 0\n",
       "country_pop_log           0\n",
       "country_departures_log    0\n",
       "exposed_pop_log           0\n",
       "affected_population       0\n",
       "dtype: int64"
      ]
     },
     "execution_count": 8,
     "metadata": {},
     "output_type": "execute_result"
    }
   ],
   "source": [
    "df.isna().sum()"
   ]
  },
  {
   "cell_type": "markdown",
   "metadata": {},
   "source": [
    "# DATA PREPARATION"
   ]
  },
  {
   "cell_type": "code",
   "execution_count": 9,
   "metadata": {},
   "outputs": [],
   "source": [
    "X = df.drop('affected_population', axis=1)\n",
    "y = df['affected_population']\n",
    "\n",
    "X_train, X_val, y_train, y_val = train_test_split(X,\n",
    "                                                  y,\n",
    "                                                  random_state=seed)"
   ]
  },
  {
   "cell_type": "code",
   "execution_count": 10,
   "metadata": {},
   "outputs": [],
   "source": [
    "def ResultsRegressorCV(scores):\n",
    "    print(f\"R2: {scores['test_r2'].mean()}, {scores['test_r2'].std()}\")\n",
    "    print(f\"MAE: {-scores['test_neg_mean_absolute_error'].mean()}, {scores['test_neg_mean_absolute_error'].std()}\")\n",
    "    print(f\"RMSE: {-scores['test_neg_root_mean_squared_error'].mean()}, {scores['test_neg_root_mean_squared_error'].std()}\")\n",
    "    return None\n",
    "\n",
    "def make_scores(d_score, model_name):\n",
    "    try:\n",
    "        df = pd.read_pickle('scores_models.pkl')\n",
    "        df[model_name] = list(d_score.values())\n",
    "        df.to_pickle('scores_models.pkl')\n",
    "    except:\n",
    "        s = pd.Series(d_score)\n",
    "        s.name = model_name\n",
    "        df = pd.DataFrame(s)\n",
    "        df.to_pickle('scores_models.pkl')\n",
    "        \n",
    "def coeff_determination(y_true, y_pred):\n",
    "    \"\"\"\n",
    "    Implements the coefficient of determination to be used in a Keras model.\n",
    "\n",
    "    Parameters\n",
    "    ----------\n",
    "    y_true : np.array\n",
    "        Ground truth.\n",
    "    y_pred : np.array\n",
    "        Predictions.\n",
    "\n",
    "    Returns\n",
    "    -------\n",
    "    float\n",
    "        Coefficient of determination.\n",
    "\n",
    "    \"\"\"\n",
    "    SS_res = K.sum(K.square(y_true - y_pred))\n",
    "    SS_tot = K.sum(K.square(y_true - K.mean(y_true)))\n",
    "    return (1 - SS_res / (SS_tot + K.epsilon()))\n",
    "\n",
    "def root_mean_squared_error(y_true, y_pred):\n",
    "        return K.sqrt(K.mean(K.square(y_pred - y_true))) "
   ]
  },
  {
   "cell_type": "markdown",
   "metadata": {},
   "source": [
    "# MODEL"
   ]
  },
  {
   "cell_type": "code",
   "execution_count": 11,
   "metadata": {},
   "outputs": [],
   "source": [
    "scaler = StandardScaler()\n",
    "X_train_scaled = scaler.fit_transform(X_train.astype(np.float64))\n",
    "X_val_scaled = scaler.transform(X_val.astype(np.float64))"
   ]
  },
  {
   "cell_type": "code",
   "execution_count": 12,
   "metadata": {},
   "outputs": [],
   "source": [
    "tf.keras.backend.clear_session()"
   ]
  },
  {
   "cell_type": "code",
   "execution_count": 13,
   "metadata": {},
   "outputs": [
    {
     "data": {
      "image/png": "[encoded data removed]",
      "text/plain": [
       "<Figure size 864x864 with 4 Axes>"
      ]
     },
     "metadata": {},
     "output_type": "display_data"
    },
    {
     "name": "stdout",
     "output_type": "stream",
     "text": [
      "coeff_determination\n",
      "\ttraining         \t (min:    0.394, max:    0.959, cur:    0.959)\n",
      "\tvalidation       \t (min:    0.725, max:    0.947, cur:    0.940)\n",
      "Loss\n",
      "\ttraining         \t (min:    0.002, max:    0.023, cur:    0.002)\n",
      "\tvalidation       \t (min:    0.002, max:    0.011, cur:    0.002)\n",
      "mean_absolute_error\n",
      "\ttraining         \t (min:    0.024, max:    0.099, cur:    0.024)\n",
      "\tvalidation       \t (min:    0.025, max:    0.076, cur:    0.026)\n",
      "root_mean_squared_error\n",
      "\ttraining         \t (min:    0.037, max:    0.129, cur:    0.037)\n",
      "\tvalidation       \t (min:    0.042, max:    0.101, cur:    0.044)\n"
     ]
    }
   ],
   "source": [
    "inputs = Input(shape=X_train_scaled.shape[1:])\n",
    "h0 = Dense(32, activation='selu', kernel_initializer='lecun_normal')(inputs)\n",
    "h1 = Dense(32, activation='selu', kernel_initializer='lecun_normal')(h0)\n",
    "h2 = Dense(32, activation='selu', kernel_initializer='lecun_normal')(h1)\n",
    "h3 = Dense(32, activation='selu', kernel_initializer='lecun_normal')(h2)\n",
    "h4 = Dense(32, activation='selu', kernel_initializer='lecun_normal')(h3)\n",
    "h5 = Dense(16, activation='selu', kernel_initializer='lecun_normal')(h4)\n",
    "preds = Dense(1)(h5)\n",
    "\n",
    "early_stopping_cb = EarlyStopping(\n",
    "                            patience=10, restore_best_weights=True)\n",
    "\n",
    "model = Model(inputs=inputs, outputs=preds)\n",
    "sgd = Nadam()\n",
    "model.compile(optimizer=sgd, loss='mean_squared_error',\n",
    "              metrics=[\n",
    "                'mean_absolute_error',\n",
    "                root_mean_squared_error,\n",
    "                coeff_determination])\n",
    "\n",
    "history = model.fit(X_train_scaled, y_train, epochs=500, verbose=0,\n",
    "                    validation_data=(X_val_scaled, y_val),\n",
    "                    callbacks=[PlotLossesKeras(), early_stopping_cb]) \n",
    "\n",
    "\n",
    "score_train = model.evaluate(X_train_scaled, y_train, verbose=0)\n",
    "score_test = model.evaluate(X_val_scaled, y_val, verbose=0) "
   ]
  },
  {
   "cell_type": "code",
   "execution_count": 14,
   "metadata": {},
   "outputs": [
    {
     "name": "stdout",
     "output_type": "stream",
     "text": [
      "Train scores: [0.0015062106540426612, 0.023488188162446022, 0.0366789735853672, 0.9599042534828186]\n",
      "Validation scores: [0.0020785899832844734, 0.02582843229174614, 0.04231075942516327, 0.9467261433601379]\n"
     ]
    }
   ],
   "source": [
    "print(f\"Train scores: {score_train}\")\n",
    "print(f\"Validation scores: {score_test}\")"
   ]
  },
  {
   "cell_type": "code",
   "execution_count": 15,
   "metadata": {},
   "outputs": [
    {
     "data": {
      "text/html": [
       "<span style=\"color:#4527A0\"><h1 style=\"font-size:18px\">Search space summary</h1></span>"
      ],
      "text/plain": [
       "<IPython.core.display.HTML object>"
      ]
     },
     "metadata": {},
     "output_type": "display_data"
    },
    {
     "data": {
      "text/html": [
       "<span style=\"color:cyan\"> |-Default search space size: 2</span>"
      ],
      "text/plain": [
       "<IPython.core.display.HTML object>"
      ]
     },
     "metadata": {},
     "output_type": "display_data"
    },
    {
     "data": {
      "text/html": [
       "<span style=\"color:#7E57C2\"><h2 style=\"font-size:16px\">units_layer (Int)</h2></span>"
      ],
      "text/plain": [
       "<IPython.core.display.HTML object>"
      ]
     },
     "metadata": {},
     "output_type": "display_data"
    },
    {
     "data": {
      "text/html": [
       "<span style=\"color:cyan\"> |-default: None</span>"
      ],
      "text/plain": [
       "<IPython.core.display.HTML object>"
      ]
     },
     "metadata": {},
     "output_type": "display_data"
    },
    {
     "data": {
      "text/html": [
       "<span style=\"color:blue\"> |-max_value: 128</span>"
      ],
      "text/plain": [
       "<IPython.core.display.HTML object>"
      ]
     },
     "metadata": {},
     "output_type": "display_data"
    },
    {
     "data": {
      "text/html": [
       "<span style=\"color:cyan\"> |-min_value: 16</span>"
      ],
      "text/plain": [
       "<IPython.core.display.HTML object>"
      ]
     },
     "metadata": {},
     "output_type": "display_data"
    },
    {
     "data": {
      "text/html": [
       "<span style=\"color:blue\"> |-sampling: None</span>"
      ],
      "text/plain": [
       "<IPython.core.display.HTML object>"
      ]
     },
     "metadata": {},
     "output_type": "display_data"
    },
    {
     "data": {
      "text/html": [
       "<span style=\"color:cyan\"> |-step: 16</span>"
      ],
      "text/plain": [
       "<IPython.core.display.HTML object>"
      ]
     },
     "metadata": {},
     "output_type": "display_data"
    },
    {
     "data": {
      "text/html": [
       "<span style=\"color:#7E57C2\"><h2 style=\"font-size:16px\">num_layers (Int)</h2></span>"
      ],
      "text/plain": [
       "<IPython.core.display.HTML object>"
      ]
     },
     "metadata": {},
     "output_type": "display_data"
    },
    {
     "data": {
      "text/html": [
       "<span style=\"color:cyan\"> |-default: None</span>"
      ],
      "text/plain": [
       "<IPython.core.display.HTML object>"
      ]
     },
     "metadata": {},
     "output_type": "display_data"
    },
    {
     "data": {
      "text/html": [
       "<span style=\"color:blue\"> |-max_value: 10</span>"
      ],
      "text/plain": [
       "<IPython.core.display.HTML object>"
      ]
     },
     "metadata": {},
     "output_type": "display_data"
    },
    {
     "data": {
      "text/html": [
       "<span style=\"color:cyan\"> |-min_value: 2</span>"
      ],
      "text/plain": [
       "<IPython.core.display.HTML object>"
      ]
     },
     "metadata": {},
     "output_type": "display_data"
    },
    {
     "data": {
      "text/html": [
       "<span style=\"color:blue\"> |-sampling: None</span>"
      ],
      "text/plain": [
       "<IPython.core.display.HTML object>"
      ]
     },
     "metadata": {},
     "output_type": "display_data"
    },
    {
     "data": {
      "text/html": [
       "<span style=\"color:cyan\"> |-step: 1</span>"
      ],
      "text/plain": [
       "<IPython.core.display.HTML object>"
      ]
     },
     "metadata": {},
     "output_type": "display_data"
    },
    {
     "data": {
      "text/html": [
       "<span style=\"color:#4527A0\"><h1 style=\"font-size:18px\">Trial complete</h1></span>"
      ],
      "text/plain": [
       "<IPython.core.display.HTML object>"
      ]
     },
     "metadata": {},
     "output_type": "display_data"
    },
    {
     "data": {
      "text/html": [
       "<span style=\"color:#4527A0\"><h1 style=\"font-size:18px\">Trial summary</h1></span>"
      ],
      "text/plain": [
       "<IPython.core.display.HTML object>"
      ]
     },
     "metadata": {},
     "output_type": "display_data"
    },
    {
     "data": {
      "text/html": [
       "<span style=\"color:cyan\"> |-Trial ID: 314a5a41dd6569eabff3092afd4bed94</span>"
      ],
      "text/plain": [
       "<IPython.core.display.HTML object>"
      ]
     },
     "metadata": {},
     "output_type": "display_data"
    },
    {
     "data": {
      "text/html": [
       "<span style=\"color:cyan\"> |-Score: 0.9433827698230743</span>"
      ],
      "text/plain": [
       "<IPython.core.display.HTML object>"
      ]
     },
     "metadata": {},
     "output_type": "display_data"
    },
    {
     "data": {
      "text/html": [
       "<span style=\"color:cyan\"> |-Best step: 0</span>"
      ],
      "text/plain": [
       "<IPython.core.display.HTML object>"
      ]
     },
     "metadata": {},
     "output_type": "display_data"
    },
    {
     "data": {
      "text/html": [
       "<span style=\"color:#7E57C2\"><h2 style=\"font-size:16px\">Hyperparameters:</h2></span>"
      ],
      "text/plain": [
       "<IPython.core.display.HTML object>"
      ]
     },
     "metadata": {},
     "output_type": "display_data"
    },
    {
     "data": {
      "text/html": [
       "<span style=\"color:cyan\"> |-num_layers: 9</span>"
      ],
      "text/plain": [
       "<IPython.core.display.HTML object>"
      ]
     },
     "metadata": {},
     "output_type": "display_data"
    },
    {
     "data": {
      "text/html": [
       "<span style=\"color:blue\"> |-units_layer: 32</span>"
      ],
      "text/plain": [
       "<IPython.core.display.HTML object>"
      ]
     },
     "metadata": {},
     "output_type": "display_data"
    },
    {
     "data": {
      "text/html": [
       "<span style=\"color:#4527A0\"><h1 style=\"font-size:18px\">Trial complete</h1></span>"
      ],
      "text/plain": [
       "<IPython.core.display.HTML object>"
      ]
     },
     "metadata": {},
     "output_type": "display_data"
    },
    {
     "data": {
      "text/html": [
       "<span style=\"color:#4527A0\"><h1 style=\"font-size:18px\">Trial summary</h1></span>"
      ],
      "text/plain": [
       "<IPython.core.display.HTML object>"
      ]
     },
     "metadata": {},
     "output_type": "display_data"
    },
    {
     "data": {
      "text/html": [
       "<span style=\"color:cyan\"> |-Trial ID: 4de84f00d7c908700cdf4f19d2979760</span>"
      ],
      "text/plain": [
       "<IPython.core.display.HTML object>"
      ]
     },
     "metadata": {},
     "output_type": "display_data"
    },
    {
     "data": {
      "text/html": [
       "<span style=\"color:cyan\"> |-Score: 0.9245124757289886</span>"
      ],
      "text/plain": [
       "<IPython.core.display.HTML object>"
      ]
     },
     "metadata": {},
     "output_type": "display_data"
    },
    {
     "data": {
      "text/html": [
       "<span style=\"color:cyan\"> |-Best step: 0</span>"
      ],
      "text/plain": [
       "<IPython.core.display.HTML object>"
      ]
     },
     "metadata": {},
     "output_type": "display_data"
    },
    {
     "data": {
      "text/html": [
       "<span style=\"color:#7E57C2\"><h2 style=\"font-size:16px\">Hyperparameters:</h2></span>"
      ],
      "text/plain": [
       "<IPython.core.display.HTML object>"
      ]
     },
     "metadata": {},
     "output_type": "display_data"
    },
    {
     "data": {
      "text/html": [
       "<span style=\"color:cyan\"> |-num_layers: 5</span>"
      ],
      "text/plain": [
       "<IPython.core.display.HTML object>"
      ]
     },
     "metadata": {},
     "output_type": "display_data"
    },
    {
     "data": {
      "text/html": [
       "<span style=\"color:blue\"> |-units_layer: 16</span>"
      ],
      "text/plain": [
       "<IPython.core.display.HTML object>"
      ]
     },
     "metadata": {},
     "output_type": "display_data"
    },
    {
     "data": {
      "text/html": [
       "<span style=\"color:#4527A0\"><h1 style=\"font-size:18px\">Trial complete</h1></span>"
      ],
      "text/plain": [
       "<IPython.core.display.HTML object>"
      ]
     },
     "metadata": {},
     "output_type": "display_data"
    },
    {
     "data": {
      "text/html": [
       "<span style=\"color:#4527A0\"><h1 style=\"font-size:18px\">Trial summary</h1></span>"
      ],
      "text/plain": [
       "<IPython.core.display.HTML object>"
      ]
     },
     "metadata": {},
     "output_type": "display_data"
    },
    {
     "data": {
      "text/html": [
       "<span style=\"color:cyan\"> |-Trial ID: 543f73aaa1571d7def4cd967f8fc8dad</span>"
      ],
      "text/plain": [
       "<IPython.core.display.HTML object>"
      ]
     },
     "metadata": {},
     "output_type": "display_data"
    },
    {
     "data": {
      "text/html": [
       "<span style=\"color:cyan\"> |-Score: 0.9452237784862518</span>"
      ],
      "text/plain": [
       "<IPython.core.display.HTML object>"
      ]
     },
     "metadata": {},
     "output_type": "display_data"
    },
    {
     "data": {
      "text/html": [
       "<span style=\"color:cyan\"> |-Best step: 0</span>"
      ],
      "text/plain": [
       "<IPython.core.display.HTML object>"
      ]
     },
     "metadata": {},
     "output_type": "display_data"
    },
    {
     "data": {
      "text/html": [
       "<span style=\"color:#7E57C2\"><h2 style=\"font-size:16px\">Hyperparameters:</h2></span>"
      ],
      "text/plain": [
       "<IPython.core.display.HTML object>"
      ]
     },
     "metadata": {},
     "output_type": "display_data"
    },
    {
     "data": {
      "text/html": [
       "<span style=\"color:cyan\"> |-num_layers: 6</span>"
      ],
      "text/plain": [
       "<IPython.core.display.HTML object>"
      ]
     },
     "metadata": {},
     "output_type": "display_data"
    },
    {
     "data": {
      "text/html": [
       "<span style=\"color:blue\"> |-units_layer: 80</span>"
      ],
      "text/plain": [
       "<IPython.core.display.HTML object>"
      ]
     },
     "metadata": {},
     "output_type": "display_data"
    },
    {
     "data": {
      "text/html": [
       "<span style=\"color:#4527A0\"><h1 style=\"font-size:18px\">Trial complete</h1></span>"
      ],
      "text/plain": [
       "<IPython.core.display.HTML object>"
      ]
     },
     "metadata": {},
     "output_type": "display_data"
    },
    {
     "data": {
      "text/html": [
       "<span style=\"color:#4527A0\"><h1 style=\"font-size:18px\">Trial summary</h1></span>"
      ],
      "text/plain": [
       "<IPython.core.display.HTML object>"
      ]
     },
     "metadata": {},
     "output_type": "display_data"
    },
    {
     "data": {
      "text/html": [
       "<span style=\"color:cyan\"> |-Trial ID: e25b35a6d76cc3c61401a5c3fba94fcf</span>"
      ],
      "text/plain": [
       "<IPython.core.display.HTML object>"
      ]
     },
     "metadata": {},
     "output_type": "display_data"
    },
    {
     "data": {
      "text/html": [
       "<span style=\"color:cyan\"> |-Score: 0.945901095867157</span>"
      ],
      "text/plain": [
       "<IPython.core.display.HTML object>"
      ]
     },
     "metadata": {},
     "output_type": "display_data"
    },
    {
     "data": {
      "text/html": [
       "<span style=\"color:cyan\"> |-Best step: 0</span>"
      ],
      "text/plain": [
       "<IPython.core.display.HTML object>"
      ]
     },
     "metadata": {},
     "output_type": "display_data"
    },
    {
     "data": {
      "text/html": [
       "<span style=\"color:#7E57C2\"><h2 style=\"font-size:16px\">Hyperparameters:</h2></span>"
      ],
      "text/plain": [
       "<IPython.core.display.HTML object>"
      ]
     },
     "metadata": {},
     "output_type": "display_data"
    },
    {
     "data": {
      "text/html": [
       "<span style=\"color:cyan\"> |-num_layers: 8</span>"
      ],
      "text/plain": [
       "<IPython.core.display.HTML object>"
      ]
     },
     "metadata": {},
     "output_type": "display_data"
    },
    {
     "data": {
      "text/html": [
       "<span style=\"color:blue\"> |-units_layer: 80</span>"
      ],
      "text/plain": [
       "<IPython.core.display.HTML object>"
      ]
     },
     "metadata": {},
     "output_type": "display_data"
    },
    {
     "data": {
      "text/html": [
       "<span style=\"color:#4527A0\"><h1 style=\"font-size:18px\">Trial complete</h1></span>"
      ],
      "text/plain": [
       "<IPython.core.display.HTML object>"
      ]
     },
     "metadata": {},
     "output_type": "display_data"
    },
    {
     "data": {
      "text/html": [
       "<span style=\"color:#4527A0\"><h1 style=\"font-size:18px\">Trial summary</h1></span>"
      ],
      "text/plain": [
       "<IPython.core.display.HTML object>"
      ]
     },
     "metadata": {},
     "output_type": "display_data"
    },
    {
     "data": {
      "text/html": [
       "<span style=\"color:cyan\"> |-Trial ID: aee545aadcd2ea5791cc1f45a4bbff24</span>"
      ],
      "text/plain": [
       "<IPython.core.display.HTML object>"
      ]
     },
     "metadata": {},
     "output_type": "display_data"
    },
    {
     "data": {
      "text/html": [
       "<span style=\"color:cyan\"> |-Score: 0.9494917988777161</span>"
      ],
      "text/plain": [
       "<IPython.core.display.HTML object>"
      ]
     },
     "metadata": {},
     "output_type": "display_data"
    },
    {
     "data": {
      "text/html": [
       "<span style=\"color:cyan\"> |-Best step: 0</span>"
      ],
      "text/plain": [
       "<IPython.core.display.HTML object>"
      ]
     },
     "metadata": {},
     "output_type": "display_data"
    },
    {
     "data": {
      "text/html": [
       "<span style=\"color:#7E57C2\"><h2 style=\"font-size:16px\">Hyperparameters:</h2></span>"
      ],
      "text/plain": [
       "<IPython.core.display.HTML object>"
      ]
     },
     "metadata": {},
     "output_type": "display_data"
    },
    {
     "data": {
      "text/html": [
       "<span style=\"color:cyan\"> |-num_layers: 8</span>"
      ],
      "text/plain": [
       "<IPython.core.display.HTML object>"
      ]
     },
     "metadata": {},
     "output_type": "display_data"
    },
    {
     "data": {
      "text/html": [
       "<span style=\"color:blue\"> |-units_layer: 48</span>"
      ],
      "text/plain": [
       "<IPython.core.display.HTML object>"
      ]
     },
     "metadata": {},
     "output_type": "display_data"
    },
    {
     "data": {
      "text/html": [
       "<span style=\"color:#4527A0\"><h1 style=\"font-size:18px\">Trial complete</h1></span>"
      ],
      "text/plain": [
       "<IPython.core.display.HTML object>"
      ]
     },
     "metadata": {},
     "output_type": "display_data"
    },
    {
     "data": {
      "text/html": [
       "<span style=\"color:#4527A0\"><h1 style=\"font-size:18px\">Trial summary</h1></span>"
      ],
      "text/plain": [
       "<IPython.core.display.HTML object>"
      ]
     },
     "metadata": {},
     "output_type": "display_data"
    },
    {
     "data": {
      "text/html": [
       "<span style=\"color:cyan\"> |-Trial ID: 20d7887ca7bbe2897866d39a81386263</span>"
      ],
      "text/plain": [
       "<IPython.core.display.HTML object>"
      ]
     },
     "metadata": {},
     "output_type": "display_data"
    },
    {
     "data": {
      "text/html": [
       "<span style=\"color:cyan\"> |-Score: 0.9545598030090332</span>"
      ],
      "text/plain": [
       "<IPython.core.display.HTML object>"
      ]
     },
     "metadata": {},
     "output_type": "display_data"
    },
    {
     "data": {
      "text/html": [
       "<span style=\"color:cyan\"> |-Best step: 0</span>"
      ],
      "text/plain": [
       "<IPython.core.display.HTML object>"
      ]
     },
     "metadata": {},
     "output_type": "display_data"
    },
    {
     "data": {
      "text/html": [
       "<span style=\"color:#7E57C2\"><h2 style=\"font-size:16px\">Hyperparameters:</h2></span>"
      ],
      "text/plain": [
       "<IPython.core.display.HTML object>"
      ]
     },
     "metadata": {},
     "output_type": "display_data"
    },
    {
     "data": {
      "text/html": [
       "<span style=\"color:cyan\"> |-num_layers: 6</span>"
      ],
      "text/plain": [
       "<IPython.core.display.HTML object>"
      ]
     },
     "metadata": {},
     "output_type": "display_data"
    },
    {
     "data": {
      "text/html": [
       "<span style=\"color:blue\"> |-units_layer: 96</span>"
      ],
      "text/plain": [
       "<IPython.core.display.HTML object>"
      ]
     },
     "metadata": {},
     "output_type": "display_data"
    },
    {
     "data": {
      "text/html": [
       "<span style=\"color:#4527A0\"><h1 style=\"font-size:18px\">Trial complete</h1></span>"
      ],
      "text/plain": [
       "<IPython.core.display.HTML object>"
      ]
     },
     "metadata": {},
     "output_type": "display_data"
    },
    {
     "data": {
      "text/html": [
       "<span style=\"color:#4527A0\"><h1 style=\"font-size:18px\">Trial summary</h1></span>"
      ],
      "text/plain": [
       "<IPython.core.display.HTML object>"
      ]
     },
     "metadata": {},
     "output_type": "display_data"
    },
    {
     "data": {
      "text/html": [
       "<span style=\"color:cyan\"> |-Trial ID: 53808ee635c90857303949b7871c362f</span>"
      ],
      "text/plain": [
       "<IPython.core.display.HTML object>"
      ]
     },
     "metadata": {},
     "output_type": "display_data"
    },
    {
     "data": {
      "text/html": [
       "<span style=\"color:cyan\"> |-Score: 0.9475853145122528</span>"
      ],
      "text/plain": [
       "<IPython.core.display.HTML object>"
      ]
     },
     "metadata": {},
     "output_type": "display_data"
    },
    {
     "data": {
      "text/html": [
       "<span style=\"color:cyan\"> |-Best step: 0</span>"
      ],
      "text/plain": [
       "<IPython.core.display.HTML object>"
      ]
     },
     "metadata": {},
     "output_type": "display_data"
    },
    {
     "data": {
      "text/html": [
       "<span style=\"color:#7E57C2\"><h2 style=\"font-size:16px\">Hyperparameters:</h2></span>"
      ],
      "text/plain": [
       "<IPython.core.display.HTML object>"
      ]
     },
     "metadata": {},
     "output_type": "display_data"
    },
    {
     "data": {
      "text/html": [
       "<span style=\"color:cyan\"> |-num_layers: 5</span>"
      ],
      "text/plain": [
       "<IPython.core.display.HTML object>"
      ]
     },
     "metadata": {},
     "output_type": "display_data"
    },
    {
     "data": {
      "text/html": [
       "<span style=\"color:blue\"> |-units_layer: 64</span>"
      ],
      "text/plain": [
       "<IPython.core.display.HTML object>"
      ]
     },
     "metadata": {},
     "output_type": "display_data"
    },
    {
     "data": {
      "text/html": [
       "<span style=\"color:#4527A0\"><h1 style=\"font-size:18px\">Trial complete</h1></span>"
      ],
      "text/plain": [
       "<IPython.core.display.HTML object>"
      ]
     },
     "metadata": {},
     "output_type": "display_data"
    },
    {
     "data": {
      "text/html": [
       "<span style=\"color:#4527A0\"><h1 style=\"font-size:18px\">Trial summary</h1></span>"
      ],
      "text/plain": [
       "<IPython.core.display.HTML object>"
      ]
     },
     "metadata": {},
     "output_type": "display_data"
    },
    {
     "data": {
      "text/html": [
       "<span style=\"color:cyan\"> |-Trial ID: 133a4ef9079b7afd748b0374dde896a0</span>"
      ],
      "text/plain": [
       "<IPython.core.display.HTML object>"
      ]
     },
     "metadata": {},
     "output_type": "display_data"
    },
    {
     "data": {
      "text/html": [
       "<span style=\"color:cyan\"> |-Score: 0.9429652392864227</span>"
      ],
      "text/plain": [
       "<IPython.core.display.HTML object>"
      ]
     },
     "metadata": {},
     "output_type": "display_data"
    },
    {
     "data": {
      "text/html": [
       "<span style=\"color:cyan\"> |-Best step: 0</span>"
      ],
      "text/plain": [
       "<IPython.core.display.HTML object>"
      ]
     },
     "metadata": {},
     "output_type": "display_data"
    },
    {
     "data": {
      "text/html": [
       "<span style=\"color:#7E57C2\"><h2 style=\"font-size:16px\">Hyperparameters:</h2></span>"
      ],
      "text/plain": [
       "<IPython.core.display.HTML object>"
      ]
     },
     "metadata": {},
     "output_type": "display_data"
    },
    {
     "data": {
      "text/html": [
       "<span style=\"color:cyan\"> |-num_layers: 5</span>"
      ],
      "text/plain": [
       "<IPython.core.display.HTML object>"
      ]
     },
     "metadata": {},
     "output_type": "display_data"
    },
    {
     "data": {
      "text/html": [
       "<span style=\"color:blue\"> |-units_layer: 80</span>"
      ],
      "text/plain": [
       "<IPython.core.display.HTML object>"
      ]
     },
     "metadata": {},
     "output_type": "display_data"
    },
    {
     "data": {
      "text/html": [
       "<span style=\"color:#4527A0\"><h1 style=\"font-size:18px\">Trial complete</h1></span>"
      ],
      "text/plain": [
       "<IPython.core.display.HTML object>"
      ]
     },
     "metadata": {},
     "output_type": "display_data"
    },
    {
     "data": {
      "text/html": [
       "<span style=\"color:#4527A0\"><h1 style=\"font-size:18px\">Trial summary</h1></span>"
      ],
      "text/plain": [
       "<IPython.core.display.HTML object>"
      ]
     },
     "metadata": {},
     "output_type": "display_data"
    },
    {
     "data": {
      "text/html": [
       "<span style=\"color:cyan\"> |-Trial ID: d625065855e674a5c0e876bb52226ad7</span>"
      ],
      "text/plain": [
       "<IPython.core.display.HTML object>"
      ]
     },
     "metadata": {},
     "output_type": "display_data"
    },
    {
     "data": {
      "text/html": [
       "<span style=\"color:cyan\"> |-Score: 0.9500970542430878</span>"
      ],
      "text/plain": [
       "<IPython.core.display.HTML object>"
      ]
     },
     "metadata": {},
     "output_type": "display_data"
    },
    {
     "data": {
      "text/html": [
       "<span style=\"color:cyan\"> |-Best step: 0</span>"
      ],
      "text/plain": [
       "<IPython.core.display.HTML object>"
      ]
     },
     "metadata": {},
     "output_type": "display_data"
    },
    {
     "data": {
      "text/html": [
       "<span style=\"color:#7E57C2\"><h2 style=\"font-size:16px\">Hyperparameters:</h2></span>"
      ],
      "text/plain": [
       "<IPython.core.display.HTML object>"
      ]
     },
     "metadata": {},
     "output_type": "display_data"
    },
    {
     "data": {
      "text/html": [
       "<span style=\"color:cyan\"> |-num_layers: 8</span>"
      ],
      "text/plain": [
       "<IPython.core.display.HTML object>"
      ]
     },
     "metadata": {},
     "output_type": "display_data"
    },
    {
     "data": {
      "text/html": [
       "<span style=\"color:blue\"> |-units_layer: 64</span>"
      ],
      "text/plain": [
       "<IPython.core.display.HTML object>"
      ]
     },
     "metadata": {},
     "output_type": "display_data"
    },
    {
     "data": {
      "text/html": [
       "<span style=\"color:#4527A0\"><h1 style=\"font-size:18px\">Trial complete</h1></span>"
      ],
      "text/plain": [
       "<IPython.core.display.HTML object>"
      ]
     },
     "metadata": {},
     "output_type": "display_data"
    },
    {
     "data": {
      "text/html": [
       "<span style=\"color:#4527A0\"><h1 style=\"font-size:18px\">Trial summary</h1></span>"
      ],
      "text/plain": [
       "<IPython.core.display.HTML object>"
      ]
     },
     "metadata": {},
     "output_type": "display_data"
    },
    {
     "data": {
      "text/html": [
       "<span style=\"color:cyan\"> |-Trial ID: c300d3d0e2bde0c659184d0d347966ab</span>"
      ],
      "text/plain": [
       "<IPython.core.display.HTML object>"
      ]
     },
     "metadata": {},
     "output_type": "display_data"
    },
    {
     "data": {
      "text/html": [
       "<span style=\"color:cyan\"> |-Score: 0.9120124876499176</span>"
      ],
      "text/plain": [
       "<IPython.core.display.HTML object>"
      ]
     },
     "metadata": {},
     "output_type": "display_data"
    },
    {
     "data": {
      "text/html": [
       "<span style=\"color:cyan\"> |-Best step: 0</span>"
      ],
      "text/plain": [
       "<IPython.core.display.HTML object>"
      ]
     },
     "metadata": {},
     "output_type": "display_data"
    },
    {
     "data": {
      "text/html": [
       "<span style=\"color:#7E57C2\"><h2 style=\"font-size:16px\">Hyperparameters:</h2></span>"
      ],
      "text/plain": [
       "<IPython.core.display.HTML object>"
      ]
     },
     "metadata": {},
     "output_type": "display_data"
    },
    {
     "data": {
      "text/html": [
       "<span style=\"color:cyan\"> |-num_layers: 2</span>"
      ],
      "text/plain": [
       "<IPython.core.display.HTML object>"
      ]
     },
     "metadata": {},
     "output_type": "display_data"
    },
    {
     "data": {
      "text/html": [
       "<span style=\"color:blue\"> |-units_layer: 112</span>"
      ],
      "text/plain": [
       "<IPython.core.display.HTML object>"
      ]
     },
     "metadata": {},
     "output_type": "display_data"
    },
    {
     "data": {
      "text/html": [
       "<span style=\"color:#4527A0\"><h1 style=\"font-size:18px\">Trial complete</h1></span>"
      ],
      "text/plain": [
       "<IPython.core.display.HTML object>"
      ]
     },
     "metadata": {},
     "output_type": "display_data"
    },
    {
     "data": {
      "text/html": [
       "<span style=\"color:#4527A0\"><h1 style=\"font-size:18px\">Trial summary</h1></span>"
      ],
      "text/plain": [
       "<IPython.core.display.HTML object>"
      ]
     },
     "metadata": {},
     "output_type": "display_data"
    },
    {
     "data": {
      "text/html": [
       "<span style=\"color:cyan\"> |-Trial ID: 06d75eb7b3dcf47cd5d99aa0b71d7b8b</span>"
      ],
      "text/plain": [
       "<IPython.core.display.HTML object>"
      ]
     },
     "metadata": {},
     "output_type": "display_data"
    },
    {
     "data": {
      "text/html": [
       "<span style=\"color:cyan\"> |-Score: 0.9422007501125336</span>"
      ],
      "text/plain": [
       "<IPython.core.display.HTML object>"
      ]
     },
     "metadata": {},
     "output_type": "display_data"
    },
    {
     "data": {
      "text/html": [
       "<span style=\"color:cyan\"> |-Best step: 0</span>"
      ],
      "text/plain": [
       "<IPython.core.display.HTML object>"
      ]
     },
     "metadata": {},
     "output_type": "display_data"
    },
    {
     "data": {
      "text/html": [
       "<span style=\"color:#7E57C2\"><h2 style=\"font-size:16px\">Hyperparameters:</h2></span>"
      ],
      "text/plain": [
       "<IPython.core.display.HTML object>"
      ]
     },
     "metadata": {},
     "output_type": "display_data"
    },
    {
     "data": {
      "text/html": [
       "<span style=\"color:cyan\"> |-num_layers: 7</span>"
      ],
      "text/plain": [
       "<IPython.core.display.HTML object>"
      ]
     },
     "metadata": {},
     "output_type": "display_data"
    },
    {
     "data": {
      "text/html": [
       "<span style=\"color:blue\"> |-units_layer: 48</span>"
      ],
      "text/plain": [
       "<IPython.core.display.HTML object>"
      ]
     },
     "metadata": {},
     "output_type": "display_data"
    },
    {
     "data": {
      "text/html": [
       "<span style=\"color:#4527A0\"><h1 style=\"font-size:18px\">Trial complete</h1></span>"
      ],
      "text/plain": [
       "<IPython.core.display.HTML object>"
      ]
     },
     "metadata": {},
     "output_type": "display_data"
    },
    {
     "data": {
      "text/html": [
       "<span style=\"color:#4527A0\"><h1 style=\"font-size:18px\">Trial summary</h1></span>"
      ],
      "text/plain": [
       "<IPython.core.display.HTML object>"
      ]
     },
     "metadata": {},
     "output_type": "display_data"
    },
    {
     "data": {
      "text/html": [
       "<span style=\"color:cyan\"> |-Trial ID: 099581e88ab7c7aa8dba4190488dac93</span>"
      ],
      "text/plain": [
       "<IPython.core.display.HTML object>"
      ]
     },
     "metadata": {},
     "output_type": "display_data"
    },
    {
     "data": {
      "text/html": [
       "<span style=\"color:cyan\"> |-Score: 0.9469010829925537</span>"
      ],
      "text/plain": [
       "<IPython.core.display.HTML object>"
      ]
     },
     "metadata": {},
     "output_type": "display_data"
    },
    {
     "data": {
      "text/html": [
       "<span style=\"color:cyan\"> |-Best step: 0</span>"
      ],
      "text/plain": [
       "<IPython.core.display.HTML object>"
      ]
     },
     "metadata": {},
     "output_type": "display_data"
    },
    {
     "data": {
      "text/html": [
       "<span style=\"color:#7E57C2\"><h2 style=\"font-size:16px\">Hyperparameters:</h2></span>"
      ],
      "text/plain": [
       "<IPython.core.display.HTML object>"
      ]
     },
     "metadata": {},
     "output_type": "display_data"
    },
    {
     "data": {
      "text/html": [
       "<span style=\"color:cyan\"> |-num_layers: 7</span>"
      ],
      "text/plain": [
       "<IPython.core.display.HTML object>"
      ]
     },
     "metadata": {},
     "output_type": "display_data"
    },
    {
     "data": {
      "text/html": [
       "<span style=\"color:blue\"> |-units_layer: 32</span>"
      ],
      "text/plain": [
       "<IPython.core.display.HTML object>"
      ]
     },
     "metadata": {},
     "output_type": "display_data"
    },
    {
     "data": {
      "text/html": [
       "<span style=\"color:#4527A0\"><h1 style=\"font-size:18px\">Trial complete</h1></span>"
      ],
      "text/plain": [
       "<IPython.core.display.HTML object>"
      ]
     },
     "metadata": {},
     "output_type": "display_data"
    },
    {
     "data": {
      "text/html": [
       "<span style=\"color:#4527A0\"><h1 style=\"font-size:18px\">Trial summary</h1></span>"
      ],
      "text/plain": [
       "<IPython.core.display.HTML object>"
      ]
     },
     "metadata": {},
     "output_type": "display_data"
    },
    {
     "data": {
      "text/html": [
       "<span style=\"color:cyan\"> |-Trial ID: 70f037d1c904fdc26f00a0c75207f799</span>"
      ],
      "text/plain": [
       "<IPython.core.display.HTML object>"
      ]
     },
     "metadata": {},
     "output_type": "display_data"
    },
    {
     "data": {
      "text/html": [
       "<span style=\"color:cyan\"> |-Score: 0.9340560436248779</span>"
      ],
      "text/plain": [
       "<IPython.core.display.HTML object>"
      ]
     },
     "metadata": {},
     "output_type": "display_data"
    },
    {
     "data": {
      "text/html": [
       "<span style=\"color:cyan\"> |-Best step: 0</span>"
      ],
      "text/plain": [
       "<IPython.core.display.HTML object>"
      ]
     },
     "metadata": {},
     "output_type": "display_data"
    },
    {
     "data": {
      "text/html": [
       "<span style=\"color:#7E57C2\"><h2 style=\"font-size:16px\">Hyperparameters:</h2></span>"
      ],
      "text/plain": [
       "<IPython.core.display.HTML object>"
      ]
     },
     "metadata": {},
     "output_type": "display_data"
    },
    {
     "data": {
      "text/html": [
       "<span style=\"color:cyan\"> |-num_layers: 10</span>"
      ],
      "text/plain": [
       "<IPython.core.display.HTML object>"
      ]
     },
     "metadata": {},
     "output_type": "display_data"
    },
    {
     "data": {
      "text/html": [
       "<span style=\"color:blue\"> |-units_layer: 80</span>"
      ],
      "text/plain": [
       "<IPython.core.display.HTML object>"
      ]
     },
     "metadata": {},
     "output_type": "display_data"
    },
    {
     "data": {
      "text/html": [
       "<span style=\"color:#4527A0\"><h1 style=\"font-size:18px\">Trial complete</h1></span>"
      ],
      "text/plain": [
       "<IPython.core.display.HTML object>"
      ]
     },
     "metadata": {},
     "output_type": "display_data"
    },
    {
     "data": {
      "text/html": [
       "<span style=\"color:#4527A0\"><h1 style=\"font-size:18px\">Trial summary</h1></span>"
      ],
      "text/plain": [
       "<IPython.core.display.HTML object>"
      ]
     },
     "metadata": {},
     "output_type": "display_data"
    },
    {
     "data": {
      "text/html": [
       "<span style=\"color:cyan\"> |-Trial ID: 672842dc0f7bbb3a57de5f104674bd80</span>"
      ],
      "text/plain": [
       "<IPython.core.display.HTML object>"
      ]
     },
     "metadata": {},
     "output_type": "display_data"
    },
    {
     "data": {
      "text/html": [
       "<span style=\"color:cyan\"> |-Score: 0.9412429928779602</span>"
      ],
      "text/plain": [
       "<IPython.core.display.HTML object>"
      ]
     },
     "metadata": {},
     "output_type": "display_data"
    },
    {
     "data": {
      "text/html": [
       "<span style=\"color:cyan\"> |-Best step: 0</span>"
      ],
      "text/plain": [
       "<IPython.core.display.HTML object>"
      ]
     },
     "metadata": {},
     "output_type": "display_data"
    },
    {
     "data": {
      "text/html": [
       "<span style=\"color:#7E57C2\"><h2 style=\"font-size:16px\">Hyperparameters:</h2></span>"
      ],
      "text/plain": [
       "<IPython.core.display.HTML object>"
      ]
     },
     "metadata": {},
     "output_type": "display_data"
    },
    {
     "data": {
      "text/html": [
       "<span style=\"color:cyan\"> |-num_layers: 6</span>"
      ],
      "text/plain": [
       "<IPython.core.display.HTML object>"
      ]
     },
     "metadata": {},
     "output_type": "display_data"
    },
    {
     "data": {
      "text/html": [
       "<span style=\"color:blue\"> |-units_layer: 32</span>"
      ],
      "text/plain": [
       "<IPython.core.display.HTML object>"
      ]
     },
     "metadata": {},
     "output_type": "display_data"
    },
    {
     "data": {
      "text/html": [
       "<span style=\"color:#4527A0\"><h1 style=\"font-size:18px\">Trial complete</h1></span>"
      ],
      "text/plain": [
       "<IPython.core.display.HTML object>"
      ]
     },
     "metadata": {},
     "output_type": "display_data"
    },
    {
     "data": {
      "text/html": [
       "<span style=\"color:#4527A0\"><h1 style=\"font-size:18px\">Trial summary</h1></span>"
      ],
      "text/plain": [
       "<IPython.core.display.HTML object>"
      ]
     },
     "metadata": {},
     "output_type": "display_data"
    },
    {
     "data": {
      "text/html": [
       "<span style=\"color:cyan\"> |-Trial ID: bf25905083d7409fe8c4963ec75736e6</span>"
      ],
      "text/plain": [
       "<IPython.core.display.HTML object>"
      ]
     },
     "metadata": {},
     "output_type": "display_data"
    },
    {
     "data": {
      "text/html": [
       "<span style=\"color:cyan\"> |-Score: 0.9403482675552368</span>"
      ],
      "text/plain": [
       "<IPython.core.display.HTML object>"
      ]
     },
     "metadata": {},
     "output_type": "display_data"
    },
    {
     "data": {
      "text/html": [
       "<span style=\"color:cyan\"> |-Best step: 0</span>"
      ],
      "text/plain": [
       "<IPython.core.display.HTML object>"
      ]
     },
     "metadata": {},
     "output_type": "display_data"
    },
    {
     "data": {
      "text/html": [
       "<span style=\"color:#7E57C2\"><h2 style=\"font-size:16px\">Hyperparameters:</h2></span>"
      ],
      "text/plain": [
       "<IPython.core.display.HTML object>"
      ]
     },
     "metadata": {},
     "output_type": "display_data"
    },
    {
     "data": {
      "text/html": [
       "<span style=\"color:cyan\"> |-num_layers: 10</span>"
      ],
      "text/plain": [
       "<IPython.core.display.HTML object>"
      ]
     },
     "metadata": {},
     "output_type": "display_data"
    },
    {
     "data": {
      "text/html": [
       "<span style=\"color:blue\"> |-units_layer: 48</span>"
      ],
      "text/plain": [
       "<IPython.core.display.HTML object>"
      ]
     },
     "metadata": {},
     "output_type": "display_data"
    },
    {
     "data": {
      "text/html": [
       "<span style=\"color:#4527A0\"><h1 style=\"font-size:18px\">Trial complete</h1></span>"
      ],
      "text/plain": [
       "<IPython.core.display.HTML object>"
      ]
     },
     "metadata": {},
     "output_type": "display_data"
    },
    {
     "data": {
      "text/html": [
       "<span style=\"color:#4527A0\"><h1 style=\"font-size:18px\">Trial summary</h1></span>"
      ],
      "text/plain": [
       "<IPython.core.display.HTML object>"
      ]
     },
     "metadata": {},
     "output_type": "display_data"
    },
    {
     "data": {
      "text/html": [
       "<span style=\"color:cyan\"> |-Trial ID: 1745382f0b5688bcfacaa69072f37516</span>"
      ],
      "text/plain": [
       "<IPython.core.display.HTML object>"
      ]
     },
     "metadata": {},
     "output_type": "display_data"
    },
    {
     "data": {
      "text/html": [
       "<span style=\"color:cyan\"> |-Score: 0.9511776268482208</span>"
      ],
      "text/plain": [
       "<IPython.core.display.HTML object>"
      ]
     },
     "metadata": {},
     "output_type": "display_data"
    },
    {
     "data": {
      "text/html": [
       "<span style=\"color:cyan\"> |-Best step: 0</span>"
      ],
      "text/plain": [
       "<IPython.core.display.HTML object>"
      ]
     },
     "metadata": {},
     "output_type": "display_data"
    },
    {
     "data": {
      "text/html": [
       "<span style=\"color:#7E57C2\"><h2 style=\"font-size:16px\">Hyperparameters:</h2></span>"
      ],
      "text/plain": [
       "<IPython.core.display.HTML object>"
      ]
     },
     "metadata": {},
     "output_type": "display_data"
    },
    {
     "data": {
      "text/html": [
       "<span style=\"color:cyan\"> |-num_layers: 4</span>"
      ],
      "text/plain": [
       "<IPython.core.display.HTML object>"
      ]
     },
     "metadata": {},
     "output_type": "display_data"
    },
    {
     "data": {
      "text/html": [
       "<span style=\"color:blue\"> |-units_layer: 64</span>"
      ],
      "text/plain": [
       "<IPython.core.display.HTML object>"
      ]
     },
     "metadata": {},
     "output_type": "display_data"
    },
    {
     "data": {
      "text/html": [
       "<span style=\"color:#4527A0\"><h1 style=\"font-size:18px\">Trial complete</h1></span>"
      ],
      "text/plain": [
       "<IPython.core.display.HTML object>"
      ]
     },
     "metadata": {},
     "output_type": "display_data"
    },
    {
     "data": {
      "text/html": [
       "<span style=\"color:#4527A0\"><h1 style=\"font-size:18px\">Trial summary</h1></span>"
      ],
      "text/plain": [
       "<IPython.core.display.HTML object>"
      ]
     },
     "metadata": {},
     "output_type": "display_data"
    },
    {
     "data": {
      "text/html": [
       "<span style=\"color:cyan\"> |-Trial ID: 901789f027cbfa6a87429b1ec67e638e</span>"
      ],
      "text/plain": [
       "<IPython.core.display.HTML object>"
      ]
     },
     "metadata": {},
     "output_type": "display_data"
    },
    {
     "data": {
      "text/html": [
       "<span style=\"color:cyan\"> |-Score: 0.9326526522636414</span>"
      ],
      "text/plain": [
       "<IPython.core.display.HTML object>"
      ]
     },
     "metadata": {},
     "output_type": "display_data"
    },
    {
     "data": {
      "text/html": [
       "<span style=\"color:cyan\"> |-Best step: 0</span>"
      ],
      "text/plain": [
       "<IPython.core.display.HTML object>"
      ]
     },
     "metadata": {},
     "output_type": "display_data"
    },
    {
     "data": {
      "text/html": [
       "<span style=\"color:#7E57C2\"><h2 style=\"font-size:16px\">Hyperparameters:</h2></span>"
      ],
      "text/plain": [
       "<IPython.core.display.HTML object>"
      ]
     },
     "metadata": {},
     "output_type": "display_data"
    },
    {
     "data": {
      "text/html": [
       "<span style=\"color:cyan\"> |-num_layers: 8</span>"
      ],
      "text/plain": [
       "<IPython.core.display.HTML object>"
      ]
     },
     "metadata": {},
     "output_type": "display_data"
    },
    {
     "data": {
      "text/html": [
       "<span style=\"color:blue\"> |-units_layer: 112</span>"
      ],
      "text/plain": [
       "<IPython.core.display.HTML object>"
      ]
     },
     "metadata": {},
     "output_type": "display_data"
    },
    {
     "data": {
      "text/html": [
       "<span style=\"color:#4527A0\"><h1 style=\"font-size:18px\">Trial complete</h1></span>"
      ],
      "text/plain": [
       "<IPython.core.display.HTML object>"
      ]
     },
     "metadata": {},
     "output_type": "display_data"
    },
    {
     "data": {
      "text/html": [
       "<span style=\"color:#4527A0\"><h1 style=\"font-size:18px\">Trial summary</h1></span>"
      ],
      "text/plain": [
       "<IPython.core.display.HTML object>"
      ]
     },
     "metadata": {},
     "output_type": "display_data"
    },
    {
     "data": {
      "text/html": [
       "<span style=\"color:cyan\"> |-Trial ID: b8fe12ace9d4e3e5582b124e837a054a</span>"
      ],
      "text/plain": [
       "<IPython.core.display.HTML object>"
      ]
     },
     "metadata": {},
     "output_type": "display_data"
    },
    {
     "data": {
      "text/html": [
       "<span style=\"color:cyan\"> |-Score: 0.9552765190601349</span>"
      ],
      "text/plain": [
       "<IPython.core.display.HTML object>"
      ]
     },
     "metadata": {},
     "output_type": "display_data"
    },
    {
     "data": {
      "text/html": [
       "<span style=\"color:cyan\"> |-Best step: 0</span>"
      ],
      "text/plain": [
       "<IPython.core.display.HTML object>"
      ]
     },
     "metadata": {},
     "output_type": "display_data"
    },
    {
     "data": {
      "text/html": [
       "<span style=\"color:#7E57C2\"><h2 style=\"font-size:16px\">Hyperparameters:</h2></span>"
      ],
      "text/plain": [
       "<IPython.core.display.HTML object>"
      ]
     },
     "metadata": {},
     "output_type": "display_data"
    },
    {
     "data": {
      "text/html": [
       "<span style=\"color:cyan\"> |-num_layers: 4</span>"
      ],
      "text/plain": [
       "<IPython.core.display.HTML object>"
      ]
     },
     "metadata": {},
     "output_type": "display_data"
    },
    {
     "data": {
      "text/html": [
       "<span style=\"color:blue\"> |-units_layer: 80</span>"
      ],
      "text/plain": [
       "<IPython.core.display.HTML object>"
      ]
     },
     "metadata": {},
     "output_type": "display_data"
    },
    {
     "data": {
      "text/html": [
       "<span style=\"color:#4527A0\"><h1 style=\"font-size:18px\">Trial complete</h1></span>"
      ],
      "text/plain": [
       "<IPython.core.display.HTML object>"
      ]
     },
     "metadata": {},
     "output_type": "display_data"
    },
    {
     "data": {
      "text/html": [
       "<span style=\"color:#4527A0\"><h1 style=\"font-size:18px\">Trial summary</h1></span>"
      ],
      "text/plain": [
       "<IPython.core.display.HTML object>"
      ]
     },
     "metadata": {},
     "output_type": "display_data"
    },
    {
     "data": {
      "text/html": [
       "<span style=\"color:cyan\"> |-Trial ID: f89741a484a467610d0643e3f887a580</span>"
      ],
      "text/plain": [
       "<IPython.core.display.HTML object>"
      ]
     },
     "metadata": {},
     "output_type": "display_data"
    },
    {
     "data": {
      "text/html": [
       "<span style=\"color:cyan\"> |-Score: 0.9466425478458405</span>"
      ],
      "text/plain": [
       "<IPython.core.display.HTML object>"
      ]
     },
     "metadata": {},
     "output_type": "display_data"
    },
    {
     "data": {
      "text/html": [
       "<span style=\"color:cyan\"> |-Best step: 0</span>"
      ],
      "text/plain": [
       "<IPython.core.display.HTML object>"
      ]
     },
     "metadata": {},
     "output_type": "display_data"
    },
    {
     "data": {
      "text/html": [
       "<span style=\"color:#7E57C2\"><h2 style=\"font-size:16px\">Hyperparameters:</h2></span>"
      ],
      "text/plain": [
       "<IPython.core.display.HTML object>"
      ]
     },
     "metadata": {},
     "output_type": "display_data"
    },
    {
     "data": {
      "text/html": [
       "<span style=\"color:cyan\"> |-num_layers: 7</span>"
      ],
      "text/plain": [
       "<IPython.core.display.HTML object>"
      ]
     },
     "metadata": {},
     "output_type": "display_data"
    },
    {
     "data": {
      "text/html": [
       "<span style=\"color:blue\"> |-units_layer: 64</span>"
      ],
      "text/plain": [
       "<IPython.core.display.HTML object>"
      ]
     },
     "metadata": {},
     "output_type": "display_data"
    },
    {
     "data": {
      "text/html": [
       "<span style=\"color:#4527A0\"><h1 style=\"font-size:18px\">Trial complete</h1></span>"
      ],
      "text/plain": [
       "<IPython.core.display.HTML object>"
      ]
     },
     "metadata": {},
     "output_type": "display_data"
    },
    {
     "data": {
      "text/html": [
       "<span style=\"color:#4527A0\"><h1 style=\"font-size:18px\">Trial summary</h1></span>"
      ],
      "text/plain": [
       "<IPython.core.display.HTML object>"
      ]
     },
     "metadata": {},
     "output_type": "display_data"
    },
    {
     "data": {
      "text/html": [
       "<span style=\"color:cyan\"> |-Trial ID: d12f2e39c7dbbab1d3b11922eb4010ae</span>"
      ],
      "text/plain": [
       "<IPython.core.display.HTML object>"
      ]
     },
     "metadata": {},
     "output_type": "display_data"
    },
    {
     "data": {
      "text/html": [
       "<span style=\"color:cyan\"> |-Score: 0.931426614522934</span>"
      ],
      "text/plain": [
       "<IPython.core.display.HTML object>"
      ]
     },
     "metadata": {},
     "output_type": "display_data"
    },
    {
     "data": {
      "text/html": [
       "<span style=\"color:cyan\"> |-Best step: 0</span>"
      ],
      "text/plain": [
       "<IPython.core.display.HTML object>"
      ]
     },
     "metadata": {},
     "output_type": "display_data"
    },
    {
     "data": {
      "text/html": [
       "<span style=\"color:#7E57C2\"><h2 style=\"font-size:16px\">Hyperparameters:</h2></span>"
      ],
      "text/plain": [
       "<IPython.core.display.HTML object>"
      ]
     },
     "metadata": {},
     "output_type": "display_data"
    },
    {
     "data": {
      "text/html": [
       "<span style=\"color:cyan\"> |-num_layers: 4</span>"
      ],
      "text/plain": [
       "<IPython.core.display.HTML object>"
      ]
     },
     "metadata": {},
     "output_type": "display_data"
    },
    {
     "data": {
      "text/html": [
       "<span style=\"color:blue\"> |-units_layer: 32</span>"
      ],
      "text/plain": [
       "<IPython.core.display.HTML object>"
      ]
     },
     "metadata": {},
     "output_type": "display_data"
    },
    {
     "name": "stdout",
     "output_type": "stream",
     "text": [
      "INFO:tensorflow:Oracle triggered exit\n"
     ]
    }
   ],
   "source": [
    "def build_model(hp):\n",
    "    model = Sequential()\n",
    "    model.add(Flatten(input_shape=X_train_scaled.shape[1:]))\n",
    "    units=hp.Int('units_layer', min_value=16, max_value=128, step=16)\n",
    "        \n",
    "    for i in range(hp.Int('num_layers', 2, 10)):\n",
    "        model.add(Dense(units=units,\n",
    "                               activation='selu',\n",
    "                               kernel_initializer='lecun_normal'))\n",
    "    model.add(Dense(1))\n",
    "    model.compile(\n",
    "        optimizer=Nadam(),\n",
    "        loss='mean_squared_error',\n",
    "        metrics=[\n",
    "                'mean_absolute_error',\n",
    "                'mean_absolute_percentage_error',\n",
    "                coeff_determination])\n",
    "    \n",
    "    return model\n",
    "\n",
    "tuner = RandomSearch(\n",
    "    build_model,\n",
    "    objective=Objective('val_coeff_determination', direction='max'),\n",
    "    max_trials=20,\n",
    "    executions_per_trial=2,\n",
    "    directory='nn_trials',\n",
    "    project_name='pandemic')\n",
    "\n",
    "tuner.search_space_summary()\n",
    "\n",
    "early_stopping_cb = EarlyStopping(\n",
    "                            patience=10, restore_best_weights=True)\n",
    "\n",
    "# Uncomment netxt lines to train the models\n",
    "tuner.search(X_train_scaled, y_train,\n",
    "            epochs=500,\n",
    "            validation_data=(X_val_scaled, y_val),\n",
    "            callbacks=[early_stopping_cb],\n",
    "             verbose=0)"
   ]
  },
  {
   "cell_type": "code",
   "execution_count": 16,
   "metadata": {},
   "outputs": [
    {
     "data": {
      "text/html": [
       "<span style=\"color:#4527A0\"><h1 style=\"font-size:18px\">Results summary</h1></span>"
      ],
      "text/plain": [
       "<IPython.core.display.HTML object>"
      ]
     },
     "metadata": {},
     "output_type": "display_data"
    },
    {
     "data": {
      "text/html": [
       "<span style=\"color:cyan\"> |-Results in nn_trials/pandemic</span>"
      ],
      "text/plain": [
       "<IPython.core.display.HTML object>"
      ]
     },
     "metadata": {},
     "output_type": "display_data"
    },
    {
     "data": {
      "text/html": [
       "<span style=\"color:cyan\"> |-Showing 10 best trials</span>"
      ],
      "text/plain": [
       "<IPython.core.display.HTML object>"
      ]
     },
     "metadata": {},
     "output_type": "display_data"
    },
    {
     "data": {
      "text/html": [
       "<span style=\"color:cyan\"> |-Objective(name='val_coeff_determination', direction='max')</span>"
      ],
      "text/plain": [
       "<IPython.core.display.HTML object>"
      ]
     },
     "metadata": {},
     "output_type": "display_data"
    },
    {
     "data": {
      "text/html": [
       "<span style=\"color:#4527A0\"><h1 style=\"font-size:18px\">Trial summary</h1></span>"
      ],
      "text/plain": [
       "<IPython.core.display.HTML object>"
      ]
     },
     "metadata": {},
     "output_type": "display_data"
    },
    {
     "data": {
      "text/html": [
       "<span style=\"color:cyan\"> |-Trial ID: b8fe12ace9d4e3e5582b124e837a054a</span>"
      ],
      "text/plain": [
       "<IPython.core.display.HTML object>"
      ]
     },
     "metadata": {},
     "output_type": "display_data"
    },
    {
     "data": {
      "text/html": [
       "<span style=\"color:cyan\"> |-Score: 0.9552765190601349</span>"
      ],
      "text/plain": [
       "<IPython.core.display.HTML object>"
      ]
     },
     "metadata": {},
     "output_type": "display_data"
    },
    {
     "data": {
      "text/html": [
       "<span style=\"color:cyan\"> |-Best step: 0</span>"
      ],
      "text/plain": [
       "<IPython.core.display.HTML object>"
      ]
     },
     "metadata": {},
     "output_type": "display_data"
    },
    {
     "data": {
      "text/html": [
       "<span style=\"color:#7E57C2\"><h2 style=\"font-size:16px\">Hyperparameters:</h2></span>"
      ],
      "text/plain": [
       "<IPython.core.display.HTML object>"
      ]
     },
     "metadata": {},
     "output_type": "display_data"
    },
    {
     "data": {
      "text/html": [
       "<span style=\"color:cyan\"> |-num_layers: 4</span>"
      ],
      "text/plain": [
       "<IPython.core.display.HTML object>"
      ]
     },
     "metadata": {},
     "output_type": "display_data"
    },
    {
     "data": {
      "text/html": [
       "<span style=\"color:blue\"> |-units_layer: 80</span>"
      ],
      "text/plain": [
       "<IPython.core.display.HTML object>"
      ]
     },
     "metadata": {},
     "output_type": "display_data"
    },
    {
     "data": {
      "text/html": [
       "<span style=\"color:#4527A0\"><h1 style=\"font-size:18px\">Trial summary</h1></span>"
      ],
      "text/plain": [
       "<IPython.core.display.HTML object>"
      ]
     },
     "metadata": {},
     "output_type": "display_data"
    },
    {
     "data": {
      "text/html": [
       "<span style=\"color:cyan\"> |-Trial ID: 20d7887ca7bbe2897866d39a81386263</span>"
      ],
      "text/plain": [
       "<IPython.core.display.HTML object>"
      ]
     },
     "metadata": {},
     "output_type": "display_data"
    },
    {
     "data": {
      "text/html": [
       "<span style=\"color:cyan\"> |-Score: 0.9545598030090332</span>"
      ],
      "text/plain": [
       "<IPython.core.display.HTML object>"
      ]
     },
     "metadata": {},
     "output_type": "display_data"
    },
    {
     "data": {
      "text/html": [
       "<span style=\"color:cyan\"> |-Best step: 0</span>"
      ],
      "text/plain": [
       "<IPython.core.display.HTML object>"
      ]
     },
     "metadata": {},
     "output_type": "display_data"
    },
    {
     "data": {
      "text/html": [
       "<span style=\"color:#7E57C2\"><h2 style=\"font-size:16px\">Hyperparameters:</h2></span>"
      ],
      "text/plain": [
       "<IPython.core.display.HTML object>"
      ]
     },
     "metadata": {},
     "output_type": "display_data"
    },
    {
     "data": {
      "text/html": [
       "<span style=\"color:cyan\"> |-num_layers: 6</span>"
      ],
      "text/plain": [
       "<IPython.core.display.HTML object>"
      ]
     },
     "metadata": {},
     "output_type": "display_data"
    },
    {
     "data": {
      "text/html": [
       "<span style=\"color:blue\"> |-units_layer: 96</span>"
      ],
      "text/plain": [
       "<IPython.core.display.HTML object>"
      ]
     },
     "metadata": {},
     "output_type": "display_data"
    },
    {
     "data": {
      "text/html": [
       "<span style=\"color:#4527A0\"><h1 style=\"font-size:18px\">Trial summary</h1></span>"
      ],
      "text/plain": [
       "<IPython.core.display.HTML object>"
      ]
     },
     "metadata": {},
     "output_type": "display_data"
    },
    {
     "data": {
      "text/html": [
       "<span style=\"color:cyan\"> |-Trial ID: 1745382f0b5688bcfacaa69072f37516</span>"
      ],
      "text/plain": [
       "<IPython.core.display.HTML object>"
      ]
     },
     "metadata": {},
     "output_type": "display_data"
    },
    {
     "data": {
      "text/html": [
       "<span style=\"color:cyan\"> |-Score: 0.9511776268482208</span>"
      ],
      "text/plain": [
       "<IPython.core.display.HTML object>"
      ]
     },
     "metadata": {},
     "output_type": "display_data"
    },
    {
     "data": {
      "text/html": [
       "<span style=\"color:cyan\"> |-Best step: 0</span>"
      ],
      "text/plain": [
       "<IPython.core.display.HTML object>"
      ]
     },
     "metadata": {},
     "output_type": "display_data"
    },
    {
     "data": {
      "text/html": [
       "<span style=\"color:#7E57C2\"><h2 style=\"font-size:16px\">Hyperparameters:</h2></span>"
      ],
      "text/plain": [
       "<IPython.core.display.HTML object>"
      ]
     },
     "metadata": {},
     "output_type": "display_data"
    },
    {
     "data": {
      "text/html": [
       "<span style=\"color:cyan\"> |-num_layers: 4</span>"
      ],
      "text/plain": [
       "<IPython.core.display.HTML object>"
      ]
     },
     "metadata": {},
     "output_type": "display_data"
    },
    {
     "data": {
      "text/html": [
       "<span style=\"color:blue\"> |-units_layer: 64</span>"
      ],
      "text/plain": [
       "<IPython.core.display.HTML object>"
      ]
     },
     "metadata": {},
     "output_type": "display_data"
    },
    {
     "data": {
      "text/html": [
       "<span style=\"color:#4527A0\"><h1 style=\"font-size:18px\">Trial summary</h1></span>"
      ],
      "text/plain": [
       "<IPython.core.display.HTML object>"
      ]
     },
     "metadata": {},
     "output_type": "display_data"
    },
    {
     "data": {
      "text/html": [
       "<span style=\"color:cyan\"> |-Trial ID: d625065855e674a5c0e876bb52226ad7</span>"
      ],
      "text/plain": [
       "<IPython.core.display.HTML object>"
      ]
     },
     "metadata": {},
     "output_type": "display_data"
    },
    {
     "data": {
      "text/html": [
       "<span style=\"color:cyan\"> |-Score: 0.9500970542430878</span>"
      ],
      "text/plain": [
       "<IPython.core.display.HTML object>"
      ]
     },
     "metadata": {},
     "output_type": "display_data"
    },
    {
     "data": {
      "text/html": [
       "<span style=\"color:cyan\"> |-Best step: 0</span>"
      ],
      "text/plain": [
       "<IPython.core.display.HTML object>"
      ]
     },
     "metadata": {},
     "output_type": "display_data"
    },
    {
     "data": {
      "text/html": [
       "<span style=\"color:#7E57C2\"><h2 style=\"font-size:16px\">Hyperparameters:</h2></span>"
      ],
      "text/plain": [
       "<IPython.core.display.HTML object>"
      ]
     },
     "metadata": {},
     "output_type": "display_data"
    },
    {
     "data": {
      "text/html": [
       "<span style=\"color:cyan\"> |-num_layers: 8</span>"
      ],
      "text/plain": [
       "<IPython.core.display.HTML object>"
      ]
     },
     "metadata": {},
     "output_type": "display_data"
    },
    {
     "data": {
      "text/html": [
       "<span style=\"color:blue\"> |-units_layer: 64</span>"
      ],
      "text/plain": [
       "<IPython.core.display.HTML object>"
      ]
     },
     "metadata": {},
     "output_type": "display_data"
    },
    {
     "data": {
      "text/html": [
       "<span style=\"color:#4527A0\"><h1 style=\"font-size:18px\">Trial summary</h1></span>"
      ],
      "text/plain": [
       "<IPython.core.display.HTML object>"
      ]
     },
     "metadata": {},
     "output_type": "display_data"
    },
    {
     "data": {
      "text/html": [
       "<span style=\"color:cyan\"> |-Trial ID: aee545aadcd2ea5791cc1f45a4bbff24</span>"
      ],
      "text/plain": [
       "<IPython.core.display.HTML object>"
      ]
     },
     "metadata": {},
     "output_type": "display_data"
    },
    {
     "data": {
      "text/html": [
       "<span style=\"color:cyan\"> |-Score: 0.9494917988777161</span>"
      ],
      "text/plain": [
       "<IPython.core.display.HTML object>"
      ]
     },
     "metadata": {},
     "output_type": "display_data"
    },
    {
     "data": {
      "text/html": [
       "<span style=\"color:cyan\"> |-Best step: 0</span>"
      ],
      "text/plain": [
       "<IPython.core.display.HTML object>"
      ]
     },
     "metadata": {},
     "output_type": "display_data"
    },
    {
     "data": {
      "text/html": [
       "<span style=\"color:#7E57C2\"><h2 style=\"font-size:16px\">Hyperparameters:</h2></span>"
      ],
      "text/plain": [
       "<IPython.core.display.HTML object>"
      ]
     },
     "metadata": {},
     "output_type": "display_data"
    },
    {
     "data": {
      "text/html": [
       "<span style=\"color:cyan\"> |-num_layers: 8</span>"
      ],
      "text/plain": [
       "<IPython.core.display.HTML object>"
      ]
     },
     "metadata": {},
     "output_type": "display_data"
    },
    {
     "data": {
      "text/html": [
       "<span style=\"color:blue\"> |-units_layer: 48</span>"
      ],
      "text/plain": [
       "<IPython.core.display.HTML object>"
      ]
     },
     "metadata": {},
     "output_type": "display_data"
    },
    {
     "data": {
      "text/html": [
       "<span style=\"color:#4527A0\"><h1 style=\"font-size:18px\">Trial summary</h1></span>"
      ],
      "text/plain": [
       "<IPython.core.display.HTML object>"
      ]
     },
     "metadata": {},
     "output_type": "display_data"
    },
    {
     "data": {
      "text/html": [
       "<span style=\"color:cyan\"> |-Trial ID: 53808ee635c90857303949b7871c362f</span>"
      ],
      "text/plain": [
       "<IPython.core.display.HTML object>"
      ]
     },
     "metadata": {},
     "output_type": "display_data"
    },
    {
     "data": {
      "text/html": [
       "<span style=\"color:cyan\"> |-Score: 0.9475853145122528</span>"
      ],
      "text/plain": [
       "<IPython.core.display.HTML object>"
      ]
     },
     "metadata": {},
     "output_type": "display_data"
    },
    {
     "data": {
      "text/html": [
       "<span style=\"color:cyan\"> |-Best step: 0</span>"
      ],
      "text/plain": [
       "<IPython.core.display.HTML object>"
      ]
     },
     "metadata": {},
     "output_type": "display_data"
    },
    {
     "data": {
      "text/html": [
       "<span style=\"color:#7E57C2\"><h2 style=\"font-size:16px\">Hyperparameters:</h2></span>"
      ],
      "text/plain": [
       "<IPython.core.display.HTML object>"
      ]
     },
     "metadata": {},
     "output_type": "display_data"
    },
    {
     "data": {
      "text/html": [
       "<span style=\"color:cyan\"> |-num_layers: 5</span>"
      ],
      "text/plain": [
       "<IPython.core.display.HTML object>"
      ]
     },
     "metadata": {},
     "output_type": "display_data"
    },
    {
     "data": {
      "text/html": [
       "<span style=\"color:blue\"> |-units_layer: 64</span>"
      ],
      "text/plain": [
       "<IPython.core.display.HTML object>"
      ]
     },
     "metadata": {},
     "output_type": "display_data"
    },
    {
     "data": {
      "text/html": [
       "<span style=\"color:#4527A0\"><h1 style=\"font-size:18px\">Trial summary</h1></span>"
      ],
      "text/plain": [
       "<IPython.core.display.HTML object>"
      ]
     },
     "metadata": {},
     "output_type": "display_data"
    },
    {
     "data": {
      "text/html": [
       "<span style=\"color:cyan\"> |-Trial ID: 099581e88ab7c7aa8dba4190488dac93</span>"
      ],
      "text/plain": [
       "<IPython.core.display.HTML object>"
      ]
     },
     "metadata": {},
     "output_type": "display_data"
    },
    {
     "data": {
      "text/html": [
       "<span style=\"color:cyan\"> |-Score: 0.9469010829925537</span>"
      ],
      "text/plain": [
       "<IPython.core.display.HTML object>"
      ]
     },
     "metadata": {},
     "output_type": "display_data"
    },
    {
     "data": {
      "text/html": [
       "<span style=\"color:cyan\"> |-Best step: 0</span>"
      ],
      "text/plain": [
       "<IPython.core.display.HTML object>"
      ]
     },
     "metadata": {},
     "output_type": "display_data"
    },
    {
     "data": {
      "text/html": [
       "<span style=\"color:#7E57C2\"><h2 style=\"font-size:16px\">Hyperparameters:</h2></span>"
      ],
      "text/plain": [
       "<IPython.core.display.HTML object>"
      ]
     },
     "metadata": {},
     "output_type": "display_data"
    },
    {
     "data": {
      "text/html": [
       "<span style=\"color:cyan\"> |-num_layers: 7</span>"
      ],
      "text/plain": [
       "<IPython.core.display.HTML object>"
      ]
     },
     "metadata": {},
     "output_type": "display_data"
    },
    {
     "data": {
      "text/html": [
       "<span style=\"color:blue\"> |-units_layer: 32</span>"
      ],
      "text/plain": [
       "<IPython.core.display.HTML object>"
      ]
     },
     "metadata": {},
     "output_type": "display_data"
    },
    {
     "data": {
      "text/html": [
       "<span style=\"color:#4527A0\"><h1 style=\"font-size:18px\">Trial summary</h1></span>"
      ],
      "text/plain": [
       "<IPython.core.display.HTML object>"
      ]
     },
     "metadata": {},
     "output_type": "display_data"
    },
    {
     "data": {
      "text/html": [
       "<span style=\"color:cyan\"> |-Trial ID: f89741a484a467610d0643e3f887a580</span>"
      ],
      "text/plain": [
       "<IPython.core.display.HTML object>"
      ]
     },
     "metadata": {},
     "output_type": "display_data"
    },
    {
     "data": {
      "text/html": [
       "<span style=\"color:cyan\"> |-Score: 0.9466425478458405</span>"
      ],
      "text/plain": [
       "<IPython.core.display.HTML object>"
      ]
     },
     "metadata": {},
     "output_type": "display_data"
    },
    {
     "data": {
      "text/html": [
       "<span style=\"color:cyan\"> |-Best step: 0</span>"
      ],
      "text/plain": [
       "<IPython.core.display.HTML object>"
      ]
     },
     "metadata": {},
     "output_type": "display_data"
    },
    {
     "data": {
      "text/html": [
       "<span style=\"color:#7E57C2\"><h2 style=\"font-size:16px\">Hyperparameters:</h2></span>"
      ],
      "text/plain": [
       "<IPython.core.display.HTML object>"
      ]
     },
     "metadata": {},
     "output_type": "display_data"
    },
    {
     "data": {
      "text/html": [
       "<span style=\"color:cyan\"> |-num_layers: 7</span>"
      ],
      "text/plain": [
       "<IPython.core.display.HTML object>"
      ]
     },
     "metadata": {},
     "output_type": "display_data"
    },
    {
     "data": {
      "text/html": [
       "<span style=\"color:blue\"> |-units_layer: 64</span>"
      ],
      "text/plain": [
       "<IPython.core.display.HTML object>"
      ]
     },
     "metadata": {},
     "output_type": "display_data"
    },
    {
     "data": {
      "text/html": [
       "<span style=\"color:#4527A0\"><h1 style=\"font-size:18px\">Trial summary</h1></span>"
      ],
      "text/plain": [
       "<IPython.core.display.HTML object>"
      ]
     },
     "metadata": {},
     "output_type": "display_data"
    },
    {
     "data": {
      "text/html": [
       "<span style=\"color:cyan\"> |-Trial ID: e25b35a6d76cc3c61401a5c3fba94fcf</span>"
      ],
      "text/plain": [
       "<IPython.core.display.HTML object>"
      ]
     },
     "metadata": {},
     "output_type": "display_data"
    },
    {
     "data": {
      "text/html": [
       "<span style=\"color:cyan\"> |-Score: 0.945901095867157</span>"
      ],
      "text/plain": [
       "<IPython.core.display.HTML object>"
      ]
     },
     "metadata": {},
     "output_type": "display_data"
    },
    {
     "data": {
      "text/html": [
       "<span style=\"color:cyan\"> |-Best step: 0</span>"
      ],
      "text/plain": [
       "<IPython.core.display.HTML object>"
      ]
     },
     "metadata": {},
     "output_type": "display_data"
    },
    {
     "data": {
      "text/html": [
       "<span style=\"color:#7E57C2\"><h2 style=\"font-size:16px\">Hyperparameters:</h2></span>"
      ],
      "text/plain": [
       "<IPython.core.display.HTML object>"
      ]
     },
     "metadata": {},
     "output_type": "display_data"
    },
    {
     "data": {
      "text/html": [
       "<span style=\"color:cyan\"> |-num_layers: 8</span>"
      ],
      "text/plain": [
       "<IPython.core.display.HTML object>"
      ]
     },
     "metadata": {},
     "output_type": "display_data"
    },
    {
     "data": {
      "text/html": [
       "<span style=\"color:blue\"> |-units_layer: 80</span>"
      ],
      "text/plain": [
       "<IPython.core.display.HTML object>"
      ]
     },
     "metadata": {},
     "output_type": "display_data"
    },
    {
     "data": {
      "text/html": [
       "<span style=\"color:#4527A0\"><h1 style=\"font-size:18px\">Trial summary</h1></span>"
      ],
      "text/plain": [
       "<IPython.core.display.HTML object>"
      ]
     },
     "metadata": {},
     "output_type": "display_data"
    },
    {
     "data": {
      "text/html": [
       "<span style=\"color:cyan\"> |-Trial ID: 543f73aaa1571d7def4cd967f8fc8dad</span>"
      ],
      "text/plain": [
       "<IPython.core.display.HTML object>"
      ]
     },
     "metadata": {},
     "output_type": "display_data"
    },
    {
     "data": {
      "text/html": [
       "<span style=\"color:cyan\"> |-Score: 0.9452237784862518</span>"
      ],
      "text/plain": [
       "<IPython.core.display.HTML object>"
      ]
     },
     "metadata": {},
     "output_type": "display_data"
    },
    {
     "data": {
      "text/html": [
       "<span style=\"color:cyan\"> |-Best step: 0</span>"
      ],
      "text/plain": [
       "<IPython.core.display.HTML object>"
      ]
     },
     "metadata": {},
     "output_type": "display_data"
    },
    {
     "data": {
      "text/html": [
       "<span style=\"color:#7E57C2\"><h2 style=\"font-size:16px\">Hyperparameters:</h2></span>"
      ],
      "text/plain": [
       "<IPython.core.display.HTML object>"
      ]
     },
     "metadata": {},
     "output_type": "display_data"
    },
    {
     "data": {
      "text/html": [
       "<span style=\"color:cyan\"> |-num_layers: 6</span>"
      ],
      "text/plain": [
       "<IPython.core.display.HTML object>"
      ]
     },
     "metadata": {},
     "output_type": "display_data"
    },
    {
     "data": {
      "text/html": [
       "<span style=\"color:blue\"> |-units_layer: 80</span>"
      ],
      "text/plain": [
       "<IPython.core.display.HTML object>"
      ]
     },
     "metadata": {},
     "output_type": "display_data"
    }
   ],
   "source": [
    "tuner.results_summary()"
   ]
  },
  {
   "cell_type": "code",
   "execution_count": null,
   "metadata": {},
   "outputs": [],
   "source": [
    "tf.keras.backend.clear_session()"
   ]
  },
  {
   "cell_type": "code",
   "execution_count": 17,
   "metadata": {},
   "outputs": [
    {
     "data": {
      "image/png": "[encoded data removed]",
      "text/plain": [
       "<Figure size 864x864 with 4 Axes>"
      ]
     },
     "metadata": {},
     "output_type": "display_data"
    },
    {
     "name": "stdout",
     "output_type": "stream",
     "text": [
      "coeff_determination\n",
      "\ttraining         \t (min:   -0.125, max:    0.957, cur:    0.957)\n",
      "\tvalidation       \t (min:   -0.048, max:    0.948, cur:    0.946)\n",
      "Loss\n",
      "\ttraining         \t (min:    0.002, max:    0.043, cur:    0.002)\n",
      "\tvalidation       \t (min:    0.002, max:    0.044, cur:    0.002)\n",
      "mean_absolute_error\n",
      "\ttraining         \t (min:    0.025, max:    0.125, cur:    0.025)\n",
      "\tvalidation       \t (min:    0.026, max:    0.116, cur:    0.029)\n",
      "root_mean_squared_error\n",
      "\ttraining         \t (min:    0.038, max:    0.160, cur:    0.038)\n",
      "\tvalidation       \t (min:    0.043, max:    0.155, cur:    0.043)\n"
     ]
    }
   ],
   "source": [
    "inputs = Input(shape=X_train_scaled.shape[1:])\n",
    "h0 = Dense(80, activation='selu', kernel_initializer='lecun_normal')(inputs)\n",
    "h1 = Dense(80, activation='selu', kernel_initializer='lecun_normal')(h0)\n",
    "h2 = Dense(80, activation='selu', kernel_initializer='lecun_normal')(h1)\n",
    "h3 = Dense(80, activation='selu', kernel_initializer='lecun_normal')(h2)\n",
    "preds = Dense(1)(h3)\n",
    "\n",
    "early_stopping_cb = EarlyStopping(\n",
    "                            patience=10, restore_best_weights=True)\n",
    "\n",
    "model = Model(inputs=inputs, outputs=preds)\n",
    "sgd = Nadam()\n",
    "model.compile(optimizer=sgd, loss='mean_squared_error',\n",
    "              metrics=[\n",
    "                'mean_absolute_error',\n",
    "                root_mean_squared_error,\n",
    "                coeff_determination])\n",
    "\n",
    "history = model.fit(X_train_scaled, y_train, epochs=500, verbose=0,\n",
    "                    validation_data=(X_val_scaled, y_val),\n",
    "                    callbacks=[PlotLossesKeras(), early_stopping_cb]) \n",
    "\n",
    "\n",
    "score_train = model.evaluate(X_train_scaled, y_train, verbose=0)\n",
    "score_test = model.evaluate(X_val_scaled, y_val, verbose=0) "
   ]
  },
  {
   "cell_type": "code",
   "execution_count": 18,
   "metadata": {},
   "outputs": [
    {
     "name": "stdout",
     "output_type": "stream",
     "text": [
      "Model: \"model\"\n",
      "_________________________________________________________________\n",
      "Layer (type)                 Output Shape              Param #   \n",
      "=================================================================\n",
      "input_1 (InputLayer)         [(None, 16)]              0         \n",
      "_________________________________________________________________\n",
      "dense_5 (Dense)              (None, 80)                1360      \n",
      "_________________________________________________________________\n",
      "dense_6 (Dense)              (None, 80)                6480      \n",
      "_________________________________________________________________\n",
      "dense_7 (Dense)              (None, 80)                6480      \n",
      "_________________________________________________________________\n",
      "dense_8 (Dense)              (None, 80)                6480      \n",
      "_________________________________________________________________\n",
      "dense_9 (Dense)              (None, 1)                 81        \n",
      "=================================================================\n",
      "Total params: 20,881\n",
      "Trainable params: 20,881\n",
      "Non-trainable params: 0\n",
      "_________________________________________________________________\n"
     ]
    }
   ],
   "source": [
    "model.summary()"
   ]
  },
  {
   "cell_type": "code",
   "execution_count": 20,
   "metadata": {},
   "outputs": [
    {
     "data": {
      "text/plain": [
       "0.9500535222779545"
      ]
     },
     "execution_count": 20,
     "metadata": {},
     "output_type": "execute_result"
    }
   ],
   "source": [
    "y_pred = model.predict(X_val_scaled)\n",
    "r2_score(y_val, y_pred)"
   ]
  },
  {
   "cell_type": "code",
   "execution_count": 19,
   "metadata": {},
   "outputs": [],
   "source": [
    "# model.save('models/neural_network.h5')\n",
    "model = keras.models.load_model('models/neural_network.h5')"
   ]
  },
  {
   "cell_type": "code",
   "execution_count": 45,
   "metadata": {},
   "outputs": [
    {
     "data": {
      "text/html": [
       "\n",
       "    <style>\n",
       "    table.eli5-weights tr:hover {\n",
       "        filter: brightness(85%);\n",
       "    }\n",
       "</style>\n",
       "\n",
       "\n",
       "\n",
       "    \n",
       "\n",
       "    \n",
       "\n",
       "    \n",
       "\n",
       "    \n",
       "\n",
       "    \n",
       "\n",
       "    \n",
       "\n",
       "\n",
       "    \n",
       "\n",
       "    \n",
       "\n",
       "    \n",
       "\n",
       "    \n",
       "\n",
       "    \n",
       "\n",
       "    \n",
       "\n",
       "\n",
       "    \n",
       "\n",
       "    \n",
       "\n",
       "    \n",
       "\n",
       "    \n",
       "\n",
       "    \n",
       "        <table class=\"eli5-weights eli5-feature-importances\" style=\"border-collapse: collapse; border: none; margin-top: 0em; table-layout: auto;\">\n",
       "    <thead>\n",
       "    <tr style=\"border: none;\">\n",
       "        <th style=\"padding: 0 1em 0 0.5em; text-align: right; border: none;\">Weight</th>\n",
       "        <th style=\"padding: 0 0.5em 0 0.5em; text-align: left; border: none;\">Feature</th>\n",
       "    </tr>\n",
       "    </thead>\n",
       "    <tbody>\n",
       "    \n",
       "        <tr style=\"background-color: hsl(120, 100.00%, 80.00%); border: none;\">\n",
       "            <td style=\"padding: 0 1em 0 0.5em; text-align: right; border: none;\">\n",
       "                0.9720\n",
       "                \n",
       "                    &plusmn; 0.0210\n",
       "                \n",
       "            </td>\n",
       "            <td style=\"padding: 0 0.5em 0 0.5em; text-align: left; border: none;\">\n",
       "                ind_2.4\n",
       "            </td>\n",
       "        </tr>\n",
       "    \n",
       "        <tr style=\"background-color: hsl(120, 100.00%, 83.13%); border: none;\">\n",
       "            <td style=\"padding: 0 1em 0 0.5em; text-align: right; border: none;\">\n",
       "                0.7623\n",
       "                \n",
       "                    &plusmn; 0.0117\n",
       "                \n",
       "            </td>\n",
       "            <td style=\"padding: 0 0.5em 0 0.5em; text-align: left; border: none;\">\n",
       "                ind_1.3\n",
       "            </td>\n",
       "        </tr>\n",
       "    \n",
       "        <tr style=\"background-color: hsl(120, 100.00%, 83.15%); border: none;\">\n",
       "            <td style=\"padding: 0 1em 0 0.5em; text-align: right; border: none;\">\n",
       "                0.7607\n",
       "                \n",
       "                    &plusmn; 0.0267\n",
       "                \n",
       "            </td>\n",
       "            <td style=\"padding: 0 0.5em 0 0.5em; text-align: left; border: none;\">\n",
       "                ind_1.2\n",
       "            </td>\n",
       "        </tr>\n",
       "    \n",
       "        <tr style=\"background-color: hsl(120, 100.00%, 88.94%); border: none;\">\n",
       "            <td style=\"padding: 0 1em 0 0.5em; text-align: right; border: none;\">\n",
       "                0.4168\n",
       "                \n",
       "                    &plusmn; 0.0073\n",
       "                \n",
       "            </td>\n",
       "            <td style=\"padding: 0 0.5em 0 0.5em; text-align: left; border: none;\">\n",
       "                ind_2.3\n",
       "            </td>\n",
       "        </tr>\n",
       "    \n",
       "        <tr style=\"background-color: hsl(120, 100.00%, 91.89%); border: none;\">\n",
       "            <td style=\"padding: 0 1em 0 0.5em; text-align: right; border: none;\">\n",
       "                0.2676\n",
       "                \n",
       "                    &plusmn; 0.0117\n",
       "                \n",
       "            </td>\n",
       "            <td style=\"padding: 0 0.5em 0 0.5em; text-align: left; border: none;\">\n",
       "                degree_log\n",
       "            </td>\n",
       "        </tr>\n",
       "    \n",
       "        <tr style=\"background-color: hsl(120, 100.00%, 92.14%); border: none;\">\n",
       "            <td style=\"padding: 0 1em 0 0.5em; text-align: right; border: none;\">\n",
       "                0.2561\n",
       "                \n",
       "                    &plusmn; 0.0069\n",
       "                \n",
       "            </td>\n",
       "            <td style=\"padding: 0 0.5em 0 0.5em; text-align: left; border: none;\">\n",
       "                ind_1.4\n",
       "            </td>\n",
       "        </tr>\n",
       "    \n",
       "        <tr style=\"background-color: hsl(120, 100.00%, 92.17%); border: none;\">\n",
       "            <td style=\"padding: 0 1em 0 0.5em; text-align: right; border: none;\">\n",
       "                0.2545\n",
       "                \n",
       "                    &plusmn; 0.0070\n",
       "                \n",
       "            </td>\n",
       "            <td style=\"padding: 0 0.5em 0 0.5em; text-align: left; border: none;\">\n",
       "                n_closed\n",
       "            </td>\n",
       "        </tr>\n",
       "    \n",
       "        <tr style=\"background-color: hsl(120, 100.00%, 93.38%); border: none;\">\n",
       "            <td style=\"padding: 0 1em 0 0.5em; text-align: right; border: none;\">\n",
       "                0.2001\n",
       "                \n",
       "                    &plusmn; 0.0089\n",
       "                \n",
       "            </td>\n",
       "            <td style=\"padding: 0 0.5em 0 0.5em; text-align: left; border: none;\">\n",
       "                ind_2.1\n",
       "            </td>\n",
       "        </tr>\n",
       "    \n",
       "        <tr style=\"background-color: hsl(120, 100.00%, 95.25%); border: none;\">\n",
       "            <td style=\"padding: 0 1em 0 0.5em; text-align: right; border: none;\">\n",
       "                0.1248\n",
       "                \n",
       "                    &plusmn; 0.0045\n",
       "                \n",
       "            </td>\n",
       "            <td style=\"padding: 0 0.5em 0 0.5em; text-align: left; border: none;\">\n",
       "                ind_2.2\n",
       "            </td>\n",
       "        </tr>\n",
       "    \n",
       "        <tr style=\"background-color: hsl(120, 100.00%, 95.47%); border: none;\">\n",
       "            <td style=\"padding: 0 1em 0 0.5em; text-align: right; border: none;\">\n",
       "                0.1165\n",
       "                \n",
       "                    &plusmn; 0.0062\n",
       "                \n",
       "            </td>\n",
       "            <td style=\"padding: 0 0.5em 0 0.5em; text-align: left; border: none;\">\n",
       "                country_departures_log\n",
       "            </td>\n",
       "        </tr>\n",
       "    \n",
       "        <tr style=\"background-color: hsl(120, 100.00%, 95.59%); border: none;\">\n",
       "            <td style=\"padding: 0 1em 0 0.5em; text-align: right; border: none;\">\n",
       "                0.1120\n",
       "                \n",
       "                    &plusmn; 0.0044\n",
       "                \n",
       "            </td>\n",
       "            <td style=\"padding: 0 0.5em 0 0.5em; text-align: left; border: none;\">\n",
       "                ind_1.1\n",
       "            </td>\n",
       "        </tr>\n",
       "    \n",
       "        <tr style=\"background-color: hsl(120, 100.00%, 96.02%); border: none;\">\n",
       "            <td style=\"padding: 0 1em 0 0.5em; text-align: right; border: none;\">\n",
       "                0.0967\n",
       "                \n",
       "                    &plusmn; 0.0075\n",
       "                \n",
       "            </td>\n",
       "            <td style=\"padding: 0 0.5em 0 0.5em; text-align: left; border: none;\">\n",
       "                react_time\n",
       "            </td>\n",
       "        </tr>\n",
       "    \n",
       "        <tr style=\"background-color: hsl(120, 100.00%, 96.17%); border: none;\">\n",
       "            <td style=\"padding: 0 1em 0 0.5em; text-align: right; border: none;\">\n",
       "                0.0917\n",
       "                \n",
       "                    &plusmn; 0.0032\n",
       "                \n",
       "            </td>\n",
       "            <td style=\"padding: 0 0.5em 0 0.5em; text-align: left; border: none;\">\n",
       "                country_pop_log\n",
       "            </td>\n",
       "        </tr>\n",
       "    \n",
       "        <tr style=\"background-color: hsl(120, 100.00%, 96.30%); border: none;\">\n",
       "            <td style=\"padding: 0 1em 0 0.5em; text-align: right; border: none;\">\n",
       "                0.0872\n",
       "                \n",
       "                    &plusmn; 0.0068\n",
       "                \n",
       "            </td>\n",
       "            <td style=\"padding: 0 0.5em 0 0.5em; text-align: left; border: none;\">\n",
       "                closeness\n",
       "            </td>\n",
       "        </tr>\n",
       "    \n",
       "        <tr style=\"background-color: hsl(120, 100.00%, 97.04%); border: none;\">\n",
       "            <td style=\"padding: 0 1em 0 0.5em; text-align: right; border: none;\">\n",
       "                0.0635\n",
       "                \n",
       "                    &plusmn; 0.0046\n",
       "                \n",
       "            </td>\n",
       "            <td style=\"padding: 0 0.5em 0 0.5em; text-align: left; border: none;\">\n",
       "                exposed_pop_log\n",
       "            </td>\n",
       "        </tr>\n",
       "    \n",
       "        <tr style=\"background-color: hsl(120, 100.00%, 98.63%); border: none;\">\n",
       "            <td style=\"padding: 0 1em 0 0.5em; text-align: right; border: none;\">\n",
       "                0.0211\n",
       "                \n",
       "                    &plusmn; 0.0028\n",
       "                \n",
       "            </td>\n",
       "            <td style=\"padding: 0 0.5em 0 0.5em; text-align: left; border: none;\">\n",
       "                betweenness_log\n",
       "            </td>\n",
       "        </tr>\n",
       "    \n",
       "    \n",
       "    </tbody>\n",
       "</table>\n",
       "    \n",
       "\n",
       "    \n",
       "\n",
       "\n",
       "    \n",
       "\n",
       "    \n",
       "\n",
       "    \n",
       "\n",
       "    \n",
       "\n",
       "    \n",
       "\n",
       "    \n",
       "\n",
       "\n",
       "\n"
      ],
      "text/plain": [
       "<IPython.core.display.HTML object>"
      ]
     },
     "execution_count": 45,
     "metadata": {},
     "output_type": "execute_result"
    }
   ],
   "source": [
    "perm = PermutationImportance(model, n_iter=10, scoring='r2', random_state=seed).fit(X_val_scaled,y_val)\n",
    "eli5.show_weights(perm, feature_names = X_train.columns.tolist())"
   ]
  },
  {
   "cell_type": "markdown",
   "metadata": {},
   "source": [
    "# TEST SET"
   ]
  },
  {
   "cell_type": "code",
   "execution_count": 55,
   "metadata": {},
   "outputs": [
    {
     "data": {
      "text/html": [
       "<div>\n",
       "<style scoped>\n",
       "    .dataframe tbody tr th:only-of-type {\n",
       "        vertical-align: middle;\n",
       "    }\n",
       "\n",
       "    .dataframe tbody tr th {\n",
       "        vertical-align: top;\n",
       "    }\n",
       "\n",
       "    .dataframe thead th {\n",
       "        text-align: right;\n",
       "    }\n",
       "</style>\n",
       "<table border=\"1\" class=\"dataframe\">\n",
       "  <thead>\n",
       "    <tr style=\"text-align: right;\">\n",
       "      <th></th>\n",
       "      <th>i_country</th>\n",
       "      <th>R0</th>\n",
       "      <th>Tc</th>\n",
       "      <th>Tr</th>\n",
       "      <th>omega</th>\n",
       "      <th>ind_inf_1</th>\n",
       "      <th>ind_inf_2</th>\n",
       "      <th>ind_inf_sumgrad</th>\n",
       "      <th>ind_inf_p</th>\n",
       "      <th>ind_mort_1</th>\n",
       "      <th>ind_mort_2</th>\n",
       "      <th>ind_mort_3</th>\n",
       "      <th>ind_mort_sumgrad</th>\n",
       "      <th>n_closed</th>\n",
       "      <th>react_time</th>\n",
       "      <th>total_infected</th>\n",
       "      <th>total_deceased</th>\n",
       "      <th>total_recovered</th>\n",
       "    </tr>\n",
       "  </thead>\n",
       "  <tbody>\n",
       "    <tr>\n",
       "      <th>0</th>\n",
       "      <td>MRT</td>\n",
       "      <td>6.957955</td>\n",
       "      <td>1.712730</td>\n",
       "      <td>11.917101</td>\n",
       "      <td>0.421474</td>\n",
       "      <td>5.200000e+00</td>\n",
       "      <td>8.642633e+00</td>\n",
       "      <td>2.391741e+01</td>\n",
       "      <td>0.000035</td>\n",
       "      <td>0.717949</td>\n",
       "      <td>4.460011</td>\n",
       "      <td>4.170287</td>\n",
       "      <td>9.5</td>\n",
       "      <td>11</td>\n",
       "      <td>20</td>\n",
       "      <td>1.128905e+06</td>\n",
       "      <td>9.414420e+05</td>\n",
       "      <td>1.873230e+05</td>\n",
       "    </tr>\n",
       "    <tr>\n",
       "      <th>1</th>\n",
       "      <td>CRI</td>\n",
       "      <td>10.071858</td>\n",
       "      <td>1.993278</td>\n",
       "      <td>20.076016</td>\n",
       "      <td>0.256798</td>\n",
       "      <td>8.853333e+01</td>\n",
       "      <td>2.085479e+02</td>\n",
       "      <td>1.121798e+03</td>\n",
       "      <td>0.000531</td>\n",
       "      <td>0.508660</td>\n",
       "      <td>1.089355</td>\n",
       "      <td>4.263092</td>\n",
       "      <td>240.0</td>\n",
       "      <td>18</td>\n",
       "      <td>16</td>\n",
       "      <td>2.215812e+09</td>\n",
       "      <td>1.856075e+09</td>\n",
       "      <td>3.600110e+08</td>\n",
       "    </tr>\n",
       "    <tr>\n",
       "      <th>2</th>\n",
       "      <td>DNK</td>\n",
       "      <td>13.220658</td>\n",
       "      <td>2.176956</td>\n",
       "      <td>28.780786</td>\n",
       "      <td>0.556694</td>\n",
       "      <td>0.000000e+00</td>\n",
       "      <td>0.000000e+00</td>\n",
       "      <td>0.000000e+00</td>\n",
       "      <td>0.000000</td>\n",
       "      <td>0.000000</td>\n",
       "      <td>0.000000</td>\n",
       "      <td>0.000000</td>\n",
       "      <td>0.0</td>\n",
       "      <td>9</td>\n",
       "      <td>12</td>\n",
       "      <td>1.000000e+00</td>\n",
       "      <td>0.000000e+00</td>\n",
       "      <td>0.000000e+00</td>\n",
       "    </tr>\n",
       "    <tr>\n",
       "      <th>3</th>\n",
       "      <td>GRC</td>\n",
       "      <td>10.596798</td>\n",
       "      <td>0.878435</td>\n",
       "      <td>9.308599</td>\n",
       "      <td>0.953062</td>\n",
       "      <td>4.333333e+00</td>\n",
       "      <td>8.490222e+00</td>\n",
       "      <td>1.022128e+01</td>\n",
       "      <td>0.000012</td>\n",
       "      <td>0.823077</td>\n",
       "      <td>9.969037</td>\n",
       "      <td>7.228118</td>\n",
       "      <td>8.0</td>\n",
       "      <td>10</td>\n",
       "      <td>20</td>\n",
       "      <td>4.477377e+08</td>\n",
       "      <td>4.023809e+08</td>\n",
       "      <td>4.534857e+07</td>\n",
       "    </tr>\n",
       "    <tr>\n",
       "      <th>4</th>\n",
       "      <td>FIN</td>\n",
       "      <td>7.026326</td>\n",
       "      <td>2.165711</td>\n",
       "      <td>15.216989</td>\n",
       "      <td>0.433996</td>\n",
       "      <td>0.000000e+00</td>\n",
       "      <td>0.000000e+00</td>\n",
       "      <td>0.000000e+00</td>\n",
       "      <td>0.000000</td>\n",
       "      <td>0.000000</td>\n",
       "      <td>0.000000</td>\n",
       "      <td>0.000000</td>\n",
       "      <td>0.0</td>\n",
       "      <td>9</td>\n",
       "      <td>18</td>\n",
       "      <td>1.000000e+00</td>\n",
       "      <td>0.000000e+00</td>\n",
       "      <td>0.000000e+00</td>\n",
       "    </tr>\n",
       "    <tr>\n",
       "      <th>...</th>\n",
       "      <td>...</td>\n",
       "      <td>...</td>\n",
       "      <td>...</td>\n",
       "      <td>...</td>\n",
       "      <td>...</td>\n",
       "      <td>...</td>\n",
       "      <td>...</td>\n",
       "      <td>...</td>\n",
       "      <td>...</td>\n",
       "      <td>...</td>\n",
       "      <td>...</td>\n",
       "      <td>...</td>\n",
       "      <td>...</td>\n",
       "      <td>...</td>\n",
       "      <td>...</td>\n",
       "      <td>...</td>\n",
       "      <td>...</td>\n",
       "      <td>...</td>\n",
       "    </tr>\n",
       "    <tr>\n",
       "      <th>7995</th>\n",
       "      <td>PLW</td>\n",
       "      <td>15.000192</td>\n",
       "      <td>1.136469</td>\n",
       "      <td>17.047250</td>\n",
       "      <td>0.062791</td>\n",
       "      <td>1.058593e+05</td>\n",
       "      <td>9.130263e+04</td>\n",
       "      <td>3.299506e+06</td>\n",
       "      <td>176.353732</td>\n",
       "      <td>0.074554</td>\n",
       "      <td>0.049978</td>\n",
       "      <td>0.621937</td>\n",
       "      <td>118502.5</td>\n",
       "      <td>11</td>\n",
       "      <td>18</td>\n",
       "      <td>5.120920e+09</td>\n",
       "      <td>2.647732e+09</td>\n",
       "      <td>2.473577e+09</td>\n",
       "    </tr>\n",
       "    <tr>\n",
       "      <th>7996</th>\n",
       "      <td>GUM</td>\n",
       "      <td>15.249274</td>\n",
       "      <td>1.770462</td>\n",
       "      <td>26.998260</td>\n",
       "      <td>0.327660</td>\n",
       "      <td>9.250000e+01</td>\n",
       "      <td>2.244101e+02</td>\n",
       "      <td>1.052011e+03</td>\n",
       "      <td>0.016740</td>\n",
       "      <td>0.581622</td>\n",
       "      <td>1.391915</td>\n",
       "      <td>7.305558</td>\n",
       "      <td>288.0</td>\n",
       "      <td>13</td>\n",
       "      <td>10</td>\n",
       "      <td>3.000256e+09</td>\n",
       "      <td>2.695716e+09</td>\n",
       "      <td>3.047204e+08</td>\n",
       "    </tr>\n",
       "    <tr>\n",
       "      <th>7997</th>\n",
       "      <td>OMN</td>\n",
       "      <td>10.832344</td>\n",
       "      <td>1.294841</td>\n",
       "      <td>14.026168</td>\n",
       "      <td>0.455143</td>\n",
       "      <td>2.284667e+02</td>\n",
       "      <td>7.268619e+02</td>\n",
       "      <td>2.398521e+03</td>\n",
       "      <td>0.001419</td>\n",
       "      <td>0.589145</td>\n",
       "      <td>1.485245</td>\n",
       "      <td>5.108631</td>\n",
       "      <td>876.5</td>\n",
       "      <td>11</td>\n",
       "      <td>9</td>\n",
       "      <td>2.862542e+09</td>\n",
       "      <td>2.474888e+09</td>\n",
       "      <td>3.876690e+08</td>\n",
       "    </tr>\n",
       "    <tr>\n",
       "      <th>7998</th>\n",
       "      <td>NCL</td>\n",
       "      <td>13.829648</td>\n",
       "      <td>0.589161</td>\n",
       "      <td>8.147894</td>\n",
       "      <td>0.098775</td>\n",
       "      <td>8.396607e+06</td>\n",
       "      <td>1.930275e+06</td>\n",
       "      <td>1.220615e+08</td>\n",
       "      <td>886.778145</td>\n",
       "      <td>0.261722</td>\n",
       "      <td>0.367218</td>\n",
       "      <td>0.696197</td>\n",
       "      <td>7306416.5</td>\n",
       "      <td>14</td>\n",
       "      <td>7</td>\n",
       "      <td>4.966547e+09</td>\n",
       "      <td>2.214751e+09</td>\n",
       "      <td>2.751913e+09</td>\n",
       "    </tr>\n",
       "    <tr>\n",
       "      <th>7999</th>\n",
       "      <td>AZE</td>\n",
       "      <td>9.027026</td>\n",
       "      <td>0.671068</td>\n",
       "      <td>6.057748</td>\n",
       "      <td>0.731421</td>\n",
       "      <td>1.364662e+05</td>\n",
       "      <td>2.595687e+05</td>\n",
       "      <td>1.126425e+06</td>\n",
       "      <td>0.411773</td>\n",
       "      <td>0.603231</td>\n",
       "      <td>2.350649</td>\n",
       "      <td>3.366744</td>\n",
       "      <td>763705.0</td>\n",
       "      <td>5</td>\n",
       "      <td>16</td>\n",
       "      <td>3.972298e+09</td>\n",
       "      <td>3.240877e+09</td>\n",
       "      <td>7.314459e+08</td>\n",
       "    </tr>\n",
       "  </tbody>\n",
       "</table>\n",
       "<p>8000 rows × 18 columns</p>\n",
       "</div>"
      ],
      "text/plain": [
       "     i_country         R0        Tc         Tr     omega     ind_inf_1  \\\n",
       "0          MRT   6.957955  1.712730  11.917101  0.421474  5.200000e+00   \n",
       "1          CRI  10.071858  1.993278  20.076016  0.256798  8.853333e+01   \n",
       "2          DNK  13.220658  2.176956  28.780786  0.556694  0.000000e+00   \n",
       "3          GRC  10.596798  0.878435   9.308599  0.953062  4.333333e+00   \n",
       "4          FIN   7.026326  2.165711  15.216989  0.433996  0.000000e+00   \n",
       "...        ...        ...       ...        ...       ...           ...   \n",
       "7995       PLW  15.000192  1.136469  17.047250  0.062791  1.058593e+05   \n",
       "7996       GUM  15.249274  1.770462  26.998260  0.327660  9.250000e+01   \n",
       "7997       OMN  10.832344  1.294841  14.026168  0.455143  2.284667e+02   \n",
       "7998       NCL  13.829648  0.589161   8.147894  0.098775  8.396607e+06   \n",
       "7999       AZE   9.027026  0.671068   6.057748  0.731421  1.364662e+05   \n",
       "\n",
       "         ind_inf_2  ind_inf_sumgrad   ind_inf_p  ind_mort_1  ind_mort_2  \\\n",
       "0     8.642633e+00     2.391741e+01    0.000035    0.717949    4.460011   \n",
       "1     2.085479e+02     1.121798e+03    0.000531    0.508660    1.089355   \n",
       "2     0.000000e+00     0.000000e+00    0.000000    0.000000    0.000000   \n",
       "3     8.490222e+00     1.022128e+01    0.000012    0.823077    9.969037   \n",
       "4     0.000000e+00     0.000000e+00    0.000000    0.000000    0.000000   \n",
       "...            ...              ...         ...         ...         ...   \n",
       "7995  9.130263e+04     3.299506e+06  176.353732    0.074554    0.049978   \n",
       "7996  2.244101e+02     1.052011e+03    0.016740    0.581622    1.391915   \n",
       "7997  7.268619e+02     2.398521e+03    0.001419    0.589145    1.485245   \n",
       "7998  1.930275e+06     1.220615e+08  886.778145    0.261722    0.367218   \n",
       "7999  2.595687e+05     1.126425e+06    0.411773    0.603231    2.350649   \n",
       "\n",
       "      ind_mort_3  ind_mort_sumgrad  n_closed  react_time  total_infected  \\\n",
       "0       4.170287               9.5        11          20    1.128905e+06   \n",
       "1       4.263092             240.0        18          16    2.215812e+09   \n",
       "2       0.000000               0.0         9          12    1.000000e+00   \n",
       "3       7.228118               8.0        10          20    4.477377e+08   \n",
       "4       0.000000               0.0         9          18    1.000000e+00   \n",
       "...          ...               ...       ...         ...             ...   \n",
       "7995    0.621937          118502.5        11          18    5.120920e+09   \n",
       "7996    7.305558             288.0        13          10    3.000256e+09   \n",
       "7997    5.108631             876.5        11           9    2.862542e+09   \n",
       "7998    0.696197         7306416.5        14           7    4.966547e+09   \n",
       "7999    3.366744          763705.0         5          16    3.972298e+09   \n",
       "\n",
       "      total_deceased  total_recovered  \n",
       "0       9.414420e+05     1.873230e+05  \n",
       "1       1.856075e+09     3.600110e+08  \n",
       "2       0.000000e+00     0.000000e+00  \n",
       "3       4.023809e+08     4.534857e+07  \n",
       "4       0.000000e+00     0.000000e+00  \n",
       "...              ...              ...  \n",
       "7995    2.647732e+09     2.473577e+09  \n",
       "7996    2.695716e+09     3.047204e+08  \n",
       "7997    2.474888e+09     3.876690e+08  \n",
       "7998    2.214751e+09     2.751913e+09  \n",
       "7999    3.240877e+09     7.314459e+08  \n",
       "\n",
       "[8000 rows x 18 columns]"
      ]
     },
     "execution_count": 55,
     "metadata": {},
     "output_type": "execute_result"
    }
   ],
   "source": [
    "df_test = pd.read_csv('../../data/processed/simulation_results_REV4_test.csv')\n",
    "df_test"
   ]
  },
  {
   "cell_type": "code",
   "execution_count": 56,
   "metadata": {},
   "outputs": [
    {
     "name": "stderr",
     "output_type": "stream",
     "text": [
      "invalid value encountered in log\n"
     ]
    }
   ],
   "source": [
    "df_test = add_features(df_test)\n",
    "df_test = rename_indicators(df_test)"
   ]
  },
  {
   "cell_type": "code",
   "execution_count": 57,
   "metadata": {},
   "outputs": [
    {
     "name": "stdout",
     "output_type": "stream",
     "text": [
      "(5436, 39)\n",
      "(5185, 39)\n"
     ]
    }
   ],
   "source": [
    "df_test = df_test.loc[df_test['total_deceased'] > 1 ]\n",
    "print(df_test.shape)\n",
    "df_test.dropna(inplace=True)\n",
    "print(df_test.shape)"
   ]
  },
  {
   "cell_type": "code",
   "execution_count": 58,
   "metadata": {},
   "outputs": [
    {
     "data": {
      "text/html": [
       "<div>\n",
       "<style scoped>\n",
       "    .dataframe tbody tr th:only-of-type {\n",
       "        vertical-align: middle;\n",
       "    }\n",
       "\n",
       "    .dataframe tbody tr th {\n",
       "        vertical-align: top;\n",
       "    }\n",
       "\n",
       "    .dataframe thead th {\n",
       "        text-align: right;\n",
       "    }\n",
       "</style>\n",
       "<table border=\"1\" class=\"dataframe\">\n",
       "  <thead>\n",
       "    <tr style=\"text-align: right;\">\n",
       "      <th></th>\n",
       "      <th>ind_1.1</th>\n",
       "      <th>ind_1.2</th>\n",
       "      <th>ind_1.3</th>\n",
       "      <th>ind_1.4</th>\n",
       "      <th>ind_2.1</th>\n",
       "      <th>ind_2.2</th>\n",
       "      <th>ind_2.3</th>\n",
       "      <th>ind_2.4</th>\n",
       "      <th>n_closed</th>\n",
       "      <th>react_time</th>\n",
       "      <th>betweenness_log</th>\n",
       "      <th>degree_log</th>\n",
       "      <th>closeness</th>\n",
       "      <th>country_pop_log</th>\n",
       "      <th>country_departures_log</th>\n",
       "      <th>exposed_pop_log</th>\n",
       "      <th>affected_population</th>\n",
       "    </tr>\n",
       "  </thead>\n",
       "  <tbody>\n",
       "    <tr>\n",
       "      <th>0</th>\n",
       "      <td>3.174607</td>\n",
       "      <td>-10.248013</td>\n",
       "      <td>1.648659</td>\n",
       "      <td>2.156707</td>\n",
       "      <td>2.251292</td>\n",
       "      <td>-0.331357</td>\n",
       "      <td>1.495151</td>\n",
       "      <td>1.427985</td>\n",
       "      <td>11</td>\n",
       "      <td>20</td>\n",
       "      <td>-9.989554</td>\n",
       "      <td>-2.763620</td>\n",
       "      <td>0.402904</td>\n",
       "      <td>15.297869</td>\n",
       "      <td>6.858565</td>\n",
       "      <td>19.156177</td>\n",
       "      <td>0.000125</td>\n",
       "    </tr>\n",
       "    <tr>\n",
       "      <th>1</th>\n",
       "      <td>7.022688</td>\n",
       "      <td>-7.540260</td>\n",
       "      <td>4.483379</td>\n",
       "      <td>5.340169</td>\n",
       "      <td>5.480639</td>\n",
       "      <td>-0.675976</td>\n",
       "      <td>0.085586</td>\n",
       "      <td>1.449995</td>\n",
       "      <td>18</td>\n",
       "      <td>16</td>\n",
       "      <td>-8.073405</td>\n",
       "      <td>-2.224624</td>\n",
       "      <td>0.408088</td>\n",
       "      <td>15.424837</td>\n",
       "      <td>7.991931</td>\n",
       "      <td>20.327708</td>\n",
       "      <td>0.246387</td>\n",
       "    </tr>\n",
       "    <tr>\n",
       "      <th>3</th>\n",
       "      <td>2.324472</td>\n",
       "      <td>-11.320802</td>\n",
       "      <td>1.466337</td>\n",
       "      <td>2.138915</td>\n",
       "      <td>2.079442</td>\n",
       "      <td>-0.194706</td>\n",
       "      <td>2.299484</td>\n",
       "      <td>1.977979</td>\n",
       "      <td>10</td>\n",
       "      <td>20</td>\n",
       "      <td>-6.129009</td>\n",
       "      <td>-0.971861</td>\n",
       "      <td>0.504545</td>\n",
       "      <td>16.188337</td>\n",
       "      <td>9.990124</td>\n",
       "      <td>20.978504</td>\n",
       "      <td>0.053415</td>\n",
       "    </tr>\n",
       "    <tr>\n",
       "      <th>5</th>\n",
       "      <td>17.296856</td>\n",
       "      <td>7.314873</td>\n",
       "      <td>19.338513</td>\n",
       "      <td>11.886407</td>\n",
       "      <td>15.410504</td>\n",
       "      <td>-1.486454</td>\n",
       "      <td>4.059960</td>\n",
       "      <td>-1.224325</td>\n",
       "      <td>0</td>\n",
       "      <td>14</td>\n",
       "      <td>-8.073405</td>\n",
       "      <td>-2.224624</td>\n",
       "      <td>0.408088</td>\n",
       "      <td>15.424837</td>\n",
       "      <td>7.991931</td>\n",
       "      <td>20.327708</td>\n",
       "      <td>0.227000</td>\n",
       "    </tr>\n",
       "    <tr>\n",
       "      <th>7</th>\n",
       "      <td>18.732431</td>\n",
       "      <td>8.647402</td>\n",
       "      <td>16.166950</td>\n",
       "      <td>14.393026</td>\n",
       "      <td>16.057403</td>\n",
       "      <td>-1.978746</td>\n",
       "      <td>-1.026244</td>\n",
       "      <td>-1.220580</td>\n",
       "      <td>18</td>\n",
       "      <td>7</td>\n",
       "      <td>-36.043653</td>\n",
       "      <td>-4.709530</td>\n",
       "      <td>0.383420</td>\n",
       "      <td>10.920745</td>\n",
       "      <td>7.980024</td>\n",
       "      <td>19.605983</td>\n",
       "      <td>0.011278</td>\n",
       "    </tr>\n",
       "  </tbody>\n",
       "</table>\n",
       "</div>"
      ],
      "text/plain": [
       "     ind_1.1    ind_1.2    ind_1.3    ind_1.4    ind_2.1   ind_2.2   ind_2.3  \\\n",
       "0   3.174607 -10.248013   1.648659   2.156707   2.251292 -0.331357  1.495151   \n",
       "1   7.022688  -7.540260   4.483379   5.340169   5.480639 -0.675976  0.085586   \n",
       "3   2.324472 -11.320802   1.466337   2.138915   2.079442 -0.194706  2.299484   \n",
       "5  17.296856   7.314873  19.338513  11.886407  15.410504 -1.486454  4.059960   \n",
       "7  18.732431   8.647402  16.166950  14.393026  16.057403 -1.978746 -1.026244   \n",
       "\n",
       "    ind_2.4  n_closed  react_time  betweenness_log  degree_log  closeness  \\\n",
       "0  1.427985        11          20        -9.989554   -2.763620   0.402904   \n",
       "1  1.449995        18          16        -8.073405   -2.224624   0.408088   \n",
       "3  1.977979        10          20        -6.129009   -0.971861   0.504545   \n",
       "5 -1.224325         0          14        -8.073405   -2.224624   0.408088   \n",
       "7 -1.220580        18           7       -36.043653   -4.709530   0.383420   \n",
       "\n",
       "   country_pop_log  country_departures_log  exposed_pop_log  \\\n",
       "0        15.297869                6.858565        19.156177   \n",
       "1        15.424837                7.991931        20.327708   \n",
       "3        16.188337                9.990124        20.978504   \n",
       "5        15.424837                7.991931        20.327708   \n",
       "7        10.920745                7.980024        19.605983   \n",
       "\n",
       "   affected_population  \n",
       "0             0.000125  \n",
       "1             0.246387  \n",
       "3             0.053415  \n",
       "5             0.227000  \n",
       "7             0.011278  "
      ]
     },
     "execution_count": 58,
     "metadata": {},
     "output_type": "execute_result"
    }
   ],
   "source": [
    "features = [\n",
    "    'ind_1.1',\n",
    "    'ind_1.2',\n",
    "    'ind_1.3',\n",
    "    'ind_1.4',\n",
    "    'ind_2.1',\n",
    "    'ind_2.2',\n",
    "    'ind_2.3',\n",
    "    'ind_2.4',\n",
    "    'n_closed',\n",
    "    'react_time',\n",
    "    'betweenness_log',\n",
    "    'degree_log',\n",
    "    'closeness',\n",
    "    'country_pop_log',\n",
    "    'country_departures_log',\n",
    "    'exposed_pop_log',\n",
    "    'affected_population',\n",
    "    ]\n",
    "\n",
    "df_test = df_test[features]\n",
    "df_test.head()"
   ]
  },
  {
   "cell_type": "code",
   "execution_count": 59,
   "metadata": {},
   "outputs": [],
   "source": [
    "X_test = df.drop('affected_population', axis=1)\n",
    "y_test = df['affected_population']"
   ]
  },
  {
   "cell_type": "code",
   "execution_count": 60,
   "metadata": {},
   "outputs": [],
   "source": [
    "X_test_scaled = scaler.transform(X_test.astype(np.float64))"
   ]
  },
  {
   "cell_type": "code",
   "execution_count": 61,
   "metadata": {},
   "outputs": [
    {
     "name": "stdout",
     "output_type": "stream",
     "text": [
      "1402/1402 [==============================] - ETA: 0s - loss: 0.0013 - mean_absolute_error: 0.0234 - root_mean_squared_error: 0.0358 - coeff_determination: 0.964 - ETA: 2s - loss: 0.0019 - mean_absolute_error: 0.0254 - root_mean_squared_error: 0.0414 - coeff_determination: 0.952 - ETA: 3s - loss: 0.0019 - mean_absolute_error: 0.0256 - root_mean_squared_error: 0.0417 - coeff_determination: 0.952 - ETA: 2s - loss: 0.0018 - mean_absolute_error: 0.0252 - root_mean_squared_error: 0.0405 - coeff_determination: 0.951 - ETA: 2s - loss: 0.0017 - mean_absolute_error: 0.0251 - root_mean_squared_error: 0.0399 - coeff_determination: 0.953 - ETA: 2s - loss: 0.0017 - mean_absolute_error: 0.0247 - root_mean_squared_error: 0.0392 - coeff_determination: 0.955 - ETA: 2s - loss: 0.0016 - mean_absolute_error: 0.0245 - root_mean_squared_error: 0.0385 - coeff_determination: 0.956 - ETA: 2s - loss: 0.0016 - mean_absolute_error: 0.0245 - root_mean_squared_error: 0.0383 - coeff_determination: 0.957 - ETA: 2s - loss: 0.0016 - mean_absolute_error: 0.0247 - root_mean_squared_error: 0.0387 - coeff_determination: 0.956 - ETA: 1s - loss: 0.0017 - mean_absolute_error: 0.0247 - root_mean_squared_error: 0.0388 - coeff_determination: 0.956 - ETA: 1s - loss: 0.0017 - mean_absolute_error: 0.0248 - root_mean_squared_error: 0.0389 - coeff_determination: 0.956 - ETA: 1s - loss: 0.0017 - mean_absolute_error: 0.0248 - root_mean_squared_error: 0.0390 - coeff_determination: 0.955 - ETA: 1s - loss: 0.0017 - mean_absolute_error: 0.0247 - root_mean_squared_error: 0.0389 - coeff_determination: 0.955 - ETA: 1s - loss: 0.0017 - mean_absolute_error: 0.0247 - root_mean_squared_error: 0.0391 - coeff_determination: 0.955 - ETA: 1s - loss: 0.0017 - mean_absolute_error: 0.0248 - root_mean_squared_error: 0.0392 - coeff_determination: 0.955 - ETA: 1s - loss: 0.0017 - mean_absolute_error: 0.0248 - root_mean_squared_error: 0.0391 - coeff_determination: 0.955 - ETA: 1s - loss: 0.0017 - mean_absolute_error: 0.0247 - root_mean_squared_error: 0.0389 - coeff_determination: 0.955 - ETA: 1s - loss: 0.0017 - mean_absolute_error: 0.0247 - root_mean_squared_error: 0.0389 - coeff_determination: 0.956 - ETA: 1s - loss: 0.0017 - mean_absolute_error: 0.0247 - root_mean_squared_error: 0.0389 - coeff_determination: 0.956 - ETA: 1s - loss: 0.0017 - mean_absolute_error: 0.0246 - root_mean_squared_error: 0.0387 - coeff_determination: 0.956 - ETA: 1s - loss: 0.0017 - mean_absolute_error: 0.0246 - root_mean_squared_error: 0.0388 - coeff_determination: 0.955 - ETA: 1s - loss: 0.0017 - mean_absolute_error: 0.0246 - root_mean_squared_error: 0.0387 - coeff_determination: 0.956 - ETA: 1s - loss: 0.0017 - mean_absolute_error: 0.0246 - root_mean_squared_error: 0.0387 - coeff_determination: 0.956 - ETA: 1s - loss: 0.0017 - mean_absolute_error: 0.0246 - root_mean_squared_error: 0.0386 - coeff_determination: 0.956 - ETA: 0s - loss: 0.0016 - mean_absolute_error: 0.0245 - root_mean_squared_error: 0.0384 - coeff_determination: 0.956 - ETA: 0s - loss: 0.0016 - mean_absolute_error: 0.0245 - root_mean_squared_error: 0.0384 - coeff_determination: 0.956 - ETA: 0s - loss: 0.0016 - mean_absolute_error: 0.0245 - root_mean_squared_error: 0.0383 - coeff_determination: 0.956 - ETA: 0s - loss: 0.0016 - mean_absolute_error: 0.0244 - root_mean_squared_error: 0.0382 - coeff_determination: 0.957 - ETA: 0s - loss: 0.0016 - mean_absolute_error: 0.0244 - root_mean_squared_error: 0.0381 - coeff_determination: 0.957 - ETA: 0s - loss: 0.0016 - mean_absolute_error: 0.0244 - root_mean_squared_error: 0.0382 - coeff_determination: 0.957 - ETA: 0s - loss: 0.0016 - mean_absolute_error: 0.0244 - root_mean_squared_error: 0.0382 - coeff_determination: 0.957 - ETA: 0s - loss: 0.0016 - mean_absolute_error: 0.0244 - root_mean_squared_error: 0.0382 - coeff_determination: 0.956 - ETA: 0s - loss: 0.0016 - mean_absolute_error: 0.0244 - root_mean_squared_error: 0.0382 - coeff_determination: 0.957 - ETA: 0s - loss: 0.0016 - mean_absolute_error: 0.0244 - root_mean_squared_error: 0.0382 - coeff_determination: 0.956 - ETA: 0s - loss: 0.0016 - mean_absolute_error: 0.0245 - root_mean_squared_error: 0.0383 - coeff_determination: 0.956 - ETA: 0s - loss: 0.0016 - mean_absolute_error: 0.0245 - root_mean_squared_error: 0.0384 - coeff_determination: 0.956 - ETA: 0s - loss: 0.0016 - mean_absolute_error: 0.0245 - root_mean_squared_error: 0.0384 - coeff_determination: 0.956 - ETA: 0s - loss: 0.0016 - mean_absolute_error: 0.0245 - root_mean_squared_error: 0.0385 - coeff_determination: 0.956 - ETA: 0s - loss: 0.0017 - mean_absolute_error: 0.0245 - root_mean_squared_error: 0.0385 - coeff_determination: 0.956 - ETA: 0s - loss: 0.0017 - mean_absolute_error: 0.0245 - root_mean_squared_error: 0.0385 - coeff_determination: 0.956 - ETA: 0s - loss: 0.0016 - mean_absolute_error: 0.0245 - root_mean_squared_error: 0.0384 - coeff_determination: 0.956 - ETA: 0s - loss: 0.0016 - mean_absolute_error: 0.0245 - root_mean_squared_error: 0.0384 - coeff_determination: 0.956 - 2s 1ms/step - loss: 0.0016 - mean_absolute_error: 0.0245 - root_mean_squared_error: 0.0384 - coeff_determination: 0.9564\n"
     ]
    },
    {
     "data": {
      "text/plain": [
       "[0.001641289098188281,\n",
       " 0.02449168637394905,\n",
       " 0.03842581436038017,\n",
       " 0.9564163088798523]"
      ]
     },
     "execution_count": 61,
     "metadata": {},
     "output_type": "execute_result"
    }
   ],
   "source": [
    "model.evaluate(X_test_scaled, y_test)"
   ]
  },
  {
   "cell_type": "code",
   "execution_count": 81,
   "metadata": {},
   "outputs": [],
   "source": [
    "def plot_predictions(y_test, y_predicted, samples=20):\n",
    "\n",
    "    df_predicted = pd.DataFrame({'Actual': y_test, 'Predicted': y_predicted})\n",
    "    df_predicted.sample(samples).plot(kind='barh', figsize=(10, 15))\n",
    "    plt.title('Neural Network Sampled Predictions', fontsize=20)\n",
    "    plt.xlabel('Affected Population [%]')\n",
    "    plt.ylabel('Index label')\n",
    "    plt.show()\n",
    "    return None"
   ]
  },
  {
   "cell_type": "code",
   "execution_count": 82,
   "metadata": {},
   "outputs": [],
   "source": [
    "y_pred = model.predict(X_test_scaled)"
   ]
  },
  {
   "cell_type": "code",
   "execution_count": 84,
   "metadata": {},
   "outputs": [
    {
     "data": {
      "image/png": "[encoded data removed]",
      "text/plain": [
       "<Figure size 720x1080 with 1 Axes>"
      ]
     },
     "metadata": {},
     "output_type": "display_data"
    }
   ],
   "source": [
    "plot_predictions(y_test.reset_index(drop=True), y_pred.flatten(), samples=20)"
   ]
  },
  {
   "cell_type": "code",
   "execution_count": null,
   "metadata": {},
   "outputs": [],
   "source": []
  }
 ],
 "metadata": {
  "kernelspec": {
   "display_name": "Python 3",
   "language": "python",
   "name": "python3"
  },
  "language_info": {
   "codemirror_mode": {
    "name": "ipython",
    "version": 3
   },
   "file_extension": ".py",
   "mimetype": "text/x-python",
   "name": "python",
   "nbconvert_exporter": "python",
   "pygments_lexer": "ipython3",
   "version": "3.8.5"
  }
 },
 "nbformat": 4,
 "nbformat_minor": 4
}
