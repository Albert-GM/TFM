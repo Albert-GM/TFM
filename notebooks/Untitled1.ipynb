{
 "cells": [
  {
   "cell_type": "code",
   "execution_count": 49,
   "metadata": {},
   "outputs": [],
   "source": [
    "# =============================================================================\n",
    "#\n",
    "# =============================================================================\n",
    "\n",
    "\n",
    "# allows to import own functions\n",
    "import sys\n",
    "import os\n",
    "import re\n",
    "root_project = re.findall(r'(^\\S*TFM-master)', os.getcwd())[0]\n",
    "sys.path.append(root_project)\n",
    "\n",
    "from src.utils.help_func import results_searchcv, make_train_val_test,plot_predictions\n",
    "from src.features.add_features import features_graph, features_pop\n",
    "from sklearn.tree import DecisionTreeRegressor\n",
    "from sklearn.model_selection import RandomizedSearchCV\n",
    "import pandas as pd\n",
    "from scipy.stats import randint\n",
    "from yellowbrick.model_selection import LearningCurve, FeatureImportances\n",
    "from yellowbrick.regressor import ResidualsPlot\n",
    "from sklearn.metrics import r2_score\n",
    "import joblib\n",
    "import numpy as np\n",
    "from matplotlib import pyplot as plt\n",
    "import seaborn as sns\n",
    "sns.set()\n",
    "from sklearn.compose import TransformedTargetRegressor\n",
    "from sklearn.pipeline import Pipeline\n",
    "\n",
    "df = pd.read_csv(\n",
    "    f'{root_project}/data/processed/simulation_results_rev17_wide.csv')\n",
    "df = features_graph(df)\n",
    "df = features_pop(df)\n",
    "\n",
    "PATH =  f\"{root_project}/models/decision_tree_rev17.pkl\"\n",
    "\n",
    "df['total_deceased'] = df['total_deceased'].replace(0,np.finfo(float).eps)\n",
    "\n",
    "features = [\n",
    "    'Tr',\n",
    "    'inf_pow_1',\n",
    "    'inf_pow_2',\n",
    "    'mort_pow_1',\n",
    "    'mort_pow_2',\n",
    "    'mort_pow_3',\n",
    "    'n_closed',\n",
    "    'react_time',\n",
    "    'total_deceased',\n",
    "    'betweenness',\n",
    "    'degree',\n",
    "    'closeness',\n",
    "    'country_pop']\n",
    "\n",
    "\n",
    "\n",
    "df = df[features]"
   ]
  },
  {
   "cell_type": "code",
   "execution_count": 50,
   "metadata": {},
   "outputs": [
    {
     "name": "stdout",
     "output_type": "stream",
     "text": [
      "Train_validation set: (31008, 12)\n",
      "Test set: (7751, 12)\n",
      "====================\n",
      "Fitting 5 folds for each of 100 candidates, totalling 500 fits\n"
     ]
    },
    {
     "name": "stderr",
     "output_type": "stream",
     "text": [
      "[Parallel(n_jobs=-1)]: Using backend LokyBackend with 8 concurrent workers.\n",
      "[Parallel(n_jobs=-1)]: Done  34 tasks      | elapsed:    0.9s\n",
      "[Parallel(n_jobs=-1)]: Done 276 tasks      | elapsed:    4.8s\n",
      "[Parallel(n_jobs=-1)]: Done 500 out of 500 | elapsed:    8.1s finished\n"
     ]
    },
    {
     "data": {
      "text/plain": [
       "RandomizedSearchCV(estimator=Pipeline(steps=[('model',\n",
       "                                              TransformedTargetRegressor(func=<ufunc 'log'>,\n",
       "                                                                         inverse_func=<ufunc 'exp'>,\n",
       "                                                                         regressor=DecisionTreeRegressor()))]),\n",
       "                   n_iter=100, n_jobs=-1,\n",
       "                   param_distributions={'model__regressor__max_depth': <scipy.stats._distn_infrastructure.rv_frozen object at 0x7fab929b1850>,\n",
       "                                        'model__regressor__min_samples_leaf': <scipy.stats._distn_infrastructure.rv_frozen object at 0x7fabf0647730>},\n",
       "                   random_state=42, verbose=2)"
      ]
     },
     "execution_count": 50,
     "metadata": {},
     "output_type": "execute_result"
    }
   ],
   "source": [
    "X_train_val, y_train_val, X_test, y_test = make_train_val_test(df, out_mode=1)\n",
    "\n",
    "pipe = Pipeline([\n",
    "    ('model', TransformedTargetRegressor(regressor=DecisionTreeRegressor(), func=np.log, inverse_func=np.exp))\n",
    "])\n",
    "\n",
    "\n",
    "param_dist = dict(\n",
    "    model__regressor__max_depth=randint(low=8, high=18),\n",
    "    model__regressor__min_samples_leaf=randint(2, 20),\n",
    ")\n",
    "\n",
    "random_search = RandomizedSearchCV(pipe,\n",
    "                                   param_distributions=param_dist, verbose=2,\n",
    "                                   n_iter=100, \n",
    "                                   random_state=42, n_jobs=-1)\n",
    "\n",
    "\n",
    "random_search.fit(X_train_val, y_train_val)"
   ]
  },
  {
   "cell_type": "code",
   "execution_count": 51,
   "metadata": {},
   "outputs": [
    {
     "name": "stdout",
     "output_type": "stream",
     "text": [
      "====================\n",
      "Cross-val best score:\n",
      "0.7797399782908527\n",
      "Cross-val std:\n",
      "0.010940607862023716\n",
      "Best parameters found:\n",
      "{'model__regressor__max_depth': 14, 'model__regressor__min_samples_leaf': 3}\n",
      "Score in test:\n",
      "0.7703850038632898\n",
      "R^2 in test\n",
      "0.7703850038632898\n",
      "MAE in test:\n",
      "476740829.3852974\n",
      "====================\n"
     ]
    }
   ],
   "source": [
    "results_searchcv(random_search, X_test, y_test)"
   ]
  },
  {
   "cell_type": "code",
   "execution_count": 52,
   "metadata": {},
   "outputs": [
    {
     "data": {
      "text/plain": [
       "array([3.98876834e+09, 2.22044605e-16, 2.22044605e-16, ...,\n",
       "       5.34057623e+09, 3.02107339e+09, 5.71321517e+09])"
      ]
     },
     "execution_count": 52,
     "metadata": {},
     "output_type": "execute_result"
    }
   ],
   "source": [
    "random_search.predict(X_test)"
   ]
  },
  {
   "cell_type": "code",
   "execution_count": 53,
   "metadata": {},
   "outputs": [
    {
     "name": "stdout",
     "output_type": "stream",
     "text": [
      "Fitting 5 folds for each of 50 candidates, totalling 250 fits\n"
     ]
    },
    {
     "name": "stderr",
     "output_type": "stream",
     "text": [
      "[Parallel(n_jobs=-1)]: Using backend LokyBackend with 8 concurrent workers.\n",
      "[Parallel(n_jobs=-1)]: Done  34 tasks      | elapsed:    0.8s\n",
      "[Parallel(n_jobs=-1)]: Done 235 out of 250 | elapsed:    3.8s remaining:    0.2s\n",
      "[Parallel(n_jobs=-1)]: Done 250 out of 250 | elapsed:    4.0s finished\n"
     ]
    },
    {
     "name": "stdout",
     "output_type": "stream",
     "text": [
      "====================\n",
      "Cross-val best score:\n",
      "0.8388588434253961\n",
      "Cross-val std:\n",
      "0.0061789086729539255\n",
      "Best parameters found:\n",
      "{'max_depth': 14, 'min_samples_leaf': 19}\n",
      "Score in test:\n",
      "0.8447317165640315\n",
      "R^2 in test\n",
      "0.8447317165640315\n",
      "MAE in test:\n",
      "427604825.8813874\n",
      "====================\n"
     ]
    }
   ],
   "source": [
    "param_dist = dict(\n",
    "    max_depth=randint(low=8, high=18),\n",
    "    min_samples_leaf=randint(2, 20),\n",
    ")\n",
    "\n",
    "random_search = RandomizedSearchCV(DecisionTreeRegressor(random_state=42),\n",
    "                                   param_distributions=param_dist, verbose=2,\n",
    "                                   n_iter=50, \n",
    "                                   random_state=42, n_jobs=-1)\n",
    "\n",
    "random_search.fit(X_train_val, y_train_val)\n",
    "\n",
    "# Load the model in path\n",
    "\n",
    "results_searchcv(random_search, X_test, y_test)"
   ]
  }
 ],
 "metadata": {
  "kernelspec": {
   "display_name": "Python 3",
   "language": "python",
   "name": "python3"
  },
  "language_info": {
   "codemirror_mode": {
    "name": "ipython",
    "version": 3
   },
   "file_extension": ".py",
   "mimetype": "text/x-python",
   "name": "python",
   "nbconvert_exporter": "python",
   "pygments_lexer": "ipython3",
   "version": "3.8.5"
  }
 },
 "nbformat": 4,
 "nbformat_minor": 4
}
