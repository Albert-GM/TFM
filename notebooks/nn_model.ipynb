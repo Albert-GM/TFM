{
 "cells": [
  {
   "cell_type": "code",
   "execution_count": 1,
   "metadata": {},
   "outputs": [],
   "source": [
    "import tensorflow as tf\n",
    "from tensorflow import keras\n",
    "import numpy as np\n",
    "import matplotlib.pyplot as plt\n",
    "import pandas as pd\n",
    "import networkx as nx\n",
    "import json\n",
    "import datetime\n",
    "import seaborn as sns\n",
    "from sklearn.pipeline import Pipeline\n",
    "from sklearn.preprocessing import StandardScaler\n",
    "from sklearn.model_selection import train_test_split\n",
    "\n",
    "\n",
    "from tensorflow.keras.layers import Input, Dense, Dropout\n",
    "from tensorflow.keras.models import Model, Sequential\n",
    "from tensorflow.keras.optimizers import Adam, Nadam\n",
    "from tensorflow.keras import initializers\n",
    "from livelossplot import PlotLossesKeras"
   ]
  },
  {
   "cell_type": "code",
   "execution_count": 2,
   "metadata": {},
   "outputs": [
    {
     "data": {
      "text/plain": [
       "'/device:GPU:0'"
      ]
     },
     "execution_count": 2,
     "metadata": {},
     "output_type": "execute_result"
    }
   ],
   "source": [
    "tf.test.gpu_device_name()"
   ]
  },
  {
   "cell_type": "code",
   "execution_count": 3,
   "metadata": {},
   "outputs": [
    {
     "data": {
      "text/plain": [
       "[name: \"/device:CPU:0\"\n",
       " device_type: \"CPU\"\n",
       " memory_limit: 268435456\n",
       " locality {\n",
       " }\n",
       " incarnation: 14346449853121273371,\n",
       " name: \"/device:XLA_CPU:0\"\n",
       " device_type: \"XLA_CPU\"\n",
       " memory_limit: 17179869184\n",
       " locality {\n",
       " }\n",
       " incarnation: 17905333686325546241\n",
       " physical_device_desc: \"device: XLA_CPU device\",\n",
       " name: \"/device:GPU:0\"\n",
       " device_type: \"GPU\"\n",
       " memory_limit: 5909348352\n",
       " locality {\n",
       "   bus_id: 1\n",
       "   links {\n",
       "   }\n",
       " }\n",
       " incarnation: 8524918575486884346\n",
       " physical_device_desc: \"device: 0, name: GeForce RTX 2060 SUPER, pci bus id: 0000:01:00.0, compute capability: 7.5\",\n",
       " name: \"/device:XLA_GPU:0\"\n",
       " device_type: \"XLA_GPU\"\n",
       " memory_limit: 17179869184\n",
       " locality {\n",
       " }\n",
       " incarnation: 5866871031808443700\n",
       " physical_device_desc: \"device: XLA_GPU device\"]"
      ]
     },
     "execution_count": 3,
     "metadata": {},
     "output_type": "execute_result"
    }
   ],
   "source": [
    "from tensorflow.python.client import device_lib\n",
    "device_lib.list_local_devices()"
   ]
  },
  {
   "cell_type": "code",
   "execution_count": 4,
   "metadata": {},
   "outputs": [
    {
     "data": {
      "text/plain": [
       "[PhysicalDevice(name='/physical_device:GPU:0', device_type='GPU')]"
      ]
     },
     "execution_count": 4,
     "metadata": {},
     "output_type": "execute_result"
    }
   ],
   "source": [
    "tf.config.list_physical_devices('GPU')"
   ]
  },
  {
   "cell_type": "code",
   "execution_count": 5,
   "metadata": {},
   "outputs": [
    {
     "data": {
      "text/html": [
       "<div>\n",
       "<style scoped>\n",
       "    .dataframe tbody tr th:only-of-type {\n",
       "        vertical-align: middle;\n",
       "    }\n",
       "\n",
       "    .dataframe tbody tr th {\n",
       "        vertical-align: top;\n",
       "    }\n",
       "\n",
       "    .dataframe thead th {\n",
       "        text-align: right;\n",
       "    }\n",
       "</style>\n",
       "<table border=\"1\" class=\"dataframe\">\n",
       "  <thead>\n",
       "    <tr style=\"text-align: right;\">\n",
       "      <th></th>\n",
       "      <th>initial_country</th>\n",
       "      <th>idx_country</th>\n",
       "      <th>R0</th>\n",
       "      <th>Tc</th>\n",
       "      <th>Tr</th>\n",
       "      <th>omega</th>\n",
       "      <th>total_infected</th>\n",
       "      <th>total_death</th>\n",
       "      <th>total_recovered</th>\n",
       "    </tr>\n",
       "  </thead>\n",
       "  <tbody>\n",
       "    <tr>\n",
       "      <th>0</th>\n",
       "      <td>LBN</td>\n",
       "      <td>106</td>\n",
       "      <td>7.490802</td>\n",
       "      <td>2.538351</td>\n",
       "      <td>19.014286</td>\n",
       "      <td>0.151272</td>\n",
       "      <td>1.387830e+10</td>\n",
       "      <td>1.041677e+10</td>\n",
       "      <td>3.621539e+09</td>\n",
       "    </tr>\n",
       "    <tr>\n",
       "      <th>1</th>\n",
       "      <td>GRL</td>\n",
       "      <td>74</td>\n",
       "      <td>11.937003</td>\n",
       "      <td>0.746976</td>\n",
       "      <td>8.916655</td>\n",
       "      <td>0.061480</td>\n",
       "      <td>1.433578e+10</td>\n",
       "      <td>5.165585e+09</td>\n",
       "      <td>9.422941e+09</td>\n",
       "    </tr>\n",
       "    <tr>\n",
       "      <th>2</th>\n",
       "      <td>MMR</td>\n",
       "      <td>130</td>\n",
       "      <td>6.674172</td>\n",
       "      <td>0.428118</td>\n",
       "      <td>2.857336</td>\n",
       "      <td>0.002080</td>\n",
       "      <td>1.432738e+10</td>\n",
       "      <td>8.502669e+07</td>\n",
       "      <td>1.430724e+10</td>\n",
       "    </tr>\n",
       "    <tr>\n",
       "      <th>3</th>\n",
       "      <td>TCD</td>\n",
       "      <td>37</td>\n",
       "      <td>19.398197</td>\n",
       "      <td>0.858268</td>\n",
       "      <td>16.648853</td>\n",
       "      <td>0.000078</td>\n",
       "      <td>1.439593e+10</td>\n",
       "      <td>1.870849e+07</td>\n",
       "      <td>1.442633e+10</td>\n",
       "    </tr>\n",
       "    <tr>\n",
       "      <th>4</th>\n",
       "      <td>GNQ</td>\n",
       "      <td>57</td>\n",
       "      <td>19.844231</td>\n",
       "      <td>0.622328</td>\n",
       "      <td>12.349630</td>\n",
       "      <td>0.074393</td>\n",
       "      <td>1.435014e+10</td>\n",
       "      <td>7.005585e+09</td>\n",
       "      <td>7.625351e+09</td>\n",
       "    </tr>\n",
       "    <tr>\n",
       "      <th>...</th>\n",
       "      <td>...</td>\n",
       "      <td>...</td>\n",
       "      <td>...</td>\n",
       "      <td>...</td>\n",
       "      <td>...</td>\n",
       "      <td>...</td>\n",
       "      <td>...</td>\n",
       "      <td>...</td>\n",
       "      <td>...</td>\n",
       "    </tr>\n",
       "    <tr>\n",
       "      <th>9995</th>\n",
       "      <td>KNA</td>\n",
       "      <td>172</td>\n",
       "      <td>3.051127</td>\n",
       "      <td>0.175870</td>\n",
       "      <td>0.536603</td>\n",
       "      <td>0.097821</td>\n",
       "      <td>1.429916e+10</td>\n",
       "      <td>9.762028e+08</td>\n",
       "      <td>1.859744e+10</td>\n",
       "    </tr>\n",
       "    <tr>\n",
       "      <th>9996</th>\n",
       "      <td>BIH</td>\n",
       "      <td>23</td>\n",
       "      <td>0.702684</td>\n",
       "      <td>13.698232</td>\n",
       "      <td>9.625529</td>\n",
       "      <td>0.043587</td>\n",
       "      <td>1.000000e+00</td>\n",
       "      <td>0.000000e+00</td>\n",
       "      <td>0.000000e+00</td>\n",
       "    </tr>\n",
       "    <tr>\n",
       "      <th>9997</th>\n",
       "      <td>SDN</td>\n",
       "      <td>175</td>\n",
       "      <td>0.838272</td>\n",
       "      <td>9.865214</td>\n",
       "      <td>8.269731</td>\n",
       "      <td>0.004503</td>\n",
       "      <td>1.000000e+00</td>\n",
       "      <td>0.000000e+00</td>\n",
       "      <td>0.000000e+00</td>\n",
       "    </tr>\n",
       "    <tr>\n",
       "      <th>9998</th>\n",
       "      <td>HUN</td>\n",
       "      <td>84</td>\n",
       "      <td>19.360133</td>\n",
       "      <td>0.948360</td>\n",
       "      <td>18.360371</td>\n",
       "      <td>0.029889</td>\n",
       "      <td>1.434934e+10</td>\n",
       "      <td>5.169317e+09</td>\n",
       "      <td>9.419837e+09</td>\n",
       "    </tr>\n",
       "    <tr>\n",
       "      <th>9999</th>\n",
       "      <td>LBR</td>\n",
       "      <td>108</td>\n",
       "      <td>7.588738</td>\n",
       "      <td>1.443382</td>\n",
       "      <td>10.953451</td>\n",
       "      <td>0.048155</td>\n",
       "      <td>1.432307e+10</td>\n",
       "      <td>5.018895e+09</td>\n",
       "      <td>9.515213e+09</td>\n",
       "    </tr>\n",
       "  </tbody>\n",
       "</table>\n",
       "<p>10000 rows × 9 columns</p>\n",
       "</div>"
      ],
      "text/plain": [
       "     initial_country  idx_country         R0         Tc         Tr     omega  \\\n",
       "0                LBN          106   7.490802   2.538351  19.014286  0.151272   \n",
       "1                GRL           74  11.937003   0.746976   8.916655  0.061480   \n",
       "2                MMR          130   6.674172   0.428118   2.857336  0.002080   \n",
       "3                TCD           37  19.398197   0.858268  16.648853  0.000078   \n",
       "4                GNQ           57  19.844231   0.622328  12.349630  0.074393   \n",
       "...              ...          ...        ...        ...        ...       ...   \n",
       "9995             KNA          172   3.051127   0.175870   0.536603  0.097821   \n",
       "9996             BIH           23   0.702684  13.698232   9.625529  0.043587   \n",
       "9997             SDN          175   0.838272   9.865214   8.269731  0.004503   \n",
       "9998             HUN           84  19.360133   0.948360  18.360371  0.029889   \n",
       "9999             LBR          108   7.588738   1.443382  10.953451  0.048155   \n",
       "\n",
       "      total_infected   total_death  total_recovered  \n",
       "0       1.387830e+10  1.041677e+10     3.621539e+09  \n",
       "1       1.433578e+10  5.165585e+09     9.422941e+09  \n",
       "2       1.432738e+10  8.502669e+07     1.430724e+10  \n",
       "3       1.439593e+10  1.870849e+07     1.442633e+10  \n",
       "4       1.435014e+10  7.005585e+09     7.625351e+09  \n",
       "...              ...           ...              ...  \n",
       "9995    1.429916e+10  9.762028e+08     1.859744e+10  \n",
       "9996    1.000000e+00  0.000000e+00     0.000000e+00  \n",
       "9997    1.000000e+00  0.000000e+00     0.000000e+00  \n",
       "9998    1.434934e+10  5.169317e+09     9.419837e+09  \n",
       "9999    1.432307e+10  5.018895e+09     9.515213e+09  \n",
       "\n",
       "[10000 rows x 9 columns]"
      ]
     },
     "execution_count": 5,
     "metadata": {},
     "output_type": "execute_result"
    }
   ],
   "source": [
    "df = pd.read_pickle('../data/processed/simulation_results_10k.pickle')\n",
    "df"
   ]
  },
  {
   "cell_type": "code",
   "execution_count": 6,
   "metadata": {},
   "outputs": [
    {
     "data": {
      "text/html": [
       "<div>\n",
       "<style scoped>\n",
       "    .dataframe tbody tr th:only-of-type {\n",
       "        vertical-align: middle;\n",
       "    }\n",
       "\n",
       "    .dataframe tbody tr th {\n",
       "        vertical-align: top;\n",
       "    }\n",
       "\n",
       "    .dataframe thead th {\n",
       "        text-align: right;\n",
       "    }\n",
       "</style>\n",
       "<table border=\"1\" class=\"dataframe\">\n",
       "  <thead>\n",
       "    <tr style=\"text-align: right;\">\n",
       "      <th></th>\n",
       "      <th>idx_country</th>\n",
       "      <th>R0</th>\n",
       "      <th>Tc</th>\n",
       "      <th>Tr</th>\n",
       "      <th>omega</th>\n",
       "      <th>total_infected</th>\n",
       "      <th>total_death</th>\n",
       "      <th>total_recovered</th>\n",
       "    </tr>\n",
       "  </thead>\n",
       "  <tbody>\n",
       "    <tr>\n",
       "      <th>count</th>\n",
       "      <td>10000.000000</td>\n",
       "      <td>10000.000000</td>\n",
       "      <td>10000.000000</td>\n",
       "      <td>10000.000000</td>\n",
       "      <td>10000.000000</td>\n",
       "      <td>1.000000e+04</td>\n",
       "      <td>1.000000e+04</td>\n",
       "      <td>1.000000e+04</td>\n",
       "    </tr>\n",
       "    <tr>\n",
       "      <th>mean</th>\n",
       "      <td>101.649600</td>\n",
       "      <td>9.961199</td>\n",
       "      <td>10.807644</td>\n",
       "      <td>9.889748</td>\n",
       "      <td>0.100984</td>\n",
       "      <td>1.224645e+10</td>\n",
       "      <td>4.381650e+09</td>\n",
       "      <td>9.802043e+09</td>\n",
       "    </tr>\n",
       "    <tr>\n",
       "      <th>std</th>\n",
       "      <td>58.882425</td>\n",
       "      <td>5.785663</td>\n",
       "      <td>590.530415</td>\n",
       "      <td>5.707638</td>\n",
       "      <td>0.100687</td>\n",
       "      <td>4.692058e+09</td>\n",
       "      <td>3.561102e+09</td>\n",
       "      <td>3.775653e+10</td>\n",
       "    </tr>\n",
       "    <tr>\n",
       "      <th>min</th>\n",
       "      <td>0.000000</td>\n",
       "      <td>0.000111</td>\n",
       "      <td>0.000155</td>\n",
       "      <td>0.001951</td>\n",
       "      <td>0.000002</td>\n",
       "      <td>1.000000e+00</td>\n",
       "      <td>0.000000e+00</td>\n",
       "      <td>0.000000e+00</td>\n",
       "    </tr>\n",
       "    <tr>\n",
       "      <th>25%</th>\n",
       "      <td>51.000000</td>\n",
       "      <td>4.905381</td>\n",
       "      <td>0.497781</td>\n",
       "      <td>4.935927</td>\n",
       "      <td>0.030001</td>\n",
       "      <td>1.395681e+10</td>\n",
       "      <td>1.028010e+09</td>\n",
       "      <td>4.875866e+09</td>\n",
       "    </tr>\n",
       "    <tr>\n",
       "      <th>50%</th>\n",
       "      <td>102.000000</td>\n",
       "      <td>10.026822</td>\n",
       "      <td>0.990654</td>\n",
       "      <td>9.905077</td>\n",
       "      <td>0.070257</td>\n",
       "      <td>1.432583e+10</td>\n",
       "      <td>3.834818e+09</td>\n",
       "      <td>8.535535e+09</td>\n",
       "    </tr>\n",
       "    <tr>\n",
       "      <th>75%</th>\n",
       "      <td>152.250000</td>\n",
       "      <td>14.912676</td>\n",
       "      <td>1.995541</td>\n",
       "      <td>14.739758</td>\n",
       "      <td>0.140886</td>\n",
       "      <td>1.434903e+10</td>\n",
       "      <td>7.267127e+09</td>\n",
       "      <td>1.182062e+10</td>\n",
       "    </tr>\n",
       "    <tr>\n",
       "      <th>max</th>\n",
       "      <td>204.000000</td>\n",
       "      <td>19.996334</td>\n",
       "      <td>58779.388647</td>\n",
       "      <td>19.989358</td>\n",
       "      <td>1.055234</td>\n",
       "      <td>1.446550e+10</td>\n",
       "      <td>1.332664e+10</td>\n",
       "      <td>2.424226e+12</td>\n",
       "    </tr>\n",
       "  </tbody>\n",
       "</table>\n",
       "</div>"
      ],
      "text/plain": [
       "        idx_country            R0            Tc            Tr         omega  \\\n",
       "count  10000.000000  10000.000000  10000.000000  10000.000000  10000.000000   \n",
       "mean     101.649600      9.961199     10.807644      9.889748      0.100984   \n",
       "std       58.882425      5.785663    590.530415      5.707638      0.100687   \n",
       "min        0.000000      0.000111      0.000155      0.001951      0.000002   \n",
       "25%       51.000000      4.905381      0.497781      4.935927      0.030001   \n",
       "50%      102.000000     10.026822      0.990654      9.905077      0.070257   \n",
       "75%      152.250000     14.912676      1.995541     14.739758      0.140886   \n",
       "max      204.000000     19.996334  58779.388647     19.989358      1.055234   \n",
       "\n",
       "       total_infected   total_death  total_recovered  \n",
       "count    1.000000e+04  1.000000e+04     1.000000e+04  \n",
       "mean     1.224645e+10  4.381650e+09     9.802043e+09  \n",
       "std      4.692058e+09  3.561102e+09     3.775653e+10  \n",
       "min      1.000000e+00  0.000000e+00     0.000000e+00  \n",
       "25%      1.395681e+10  1.028010e+09     4.875866e+09  \n",
       "50%      1.432583e+10  3.834818e+09     8.535535e+09  \n",
       "75%      1.434903e+10  7.267127e+09     1.182062e+10  \n",
       "max      1.446550e+10  1.332664e+10     2.424226e+12  "
      ]
     },
     "execution_count": 6,
     "metadata": {},
     "output_type": "execute_result"
    }
   ],
   "source": [
    "df.describe()"
   ]
  },
  {
   "cell_type": "code",
   "execution_count": 7,
   "metadata": {},
   "outputs": [
    {
     "data": {
      "text/plain": [
       "<AxesSubplot:ylabel='Frequency'>"
      ]
     },
     "execution_count": 7,
     "metadata": {},
     "output_type": "execute_result"
    },
    {
     "data": {
      "image/png": "[encoded data removed]",
      "text/plain": [
       "<Figure size 432x288 with 1 Axes>"
      ]
     },
     "metadata": {
      "needs_background": "light"
     },
     "output_type": "display_data"
    }
   ],
   "source": [
    "df['R0'].plot(kind='hist')"
   ]
  },
  {
   "cell_type": "code",
   "execution_count": 8,
   "metadata": {},
   "outputs": [
    {
     "data": {
      "text/plain": [
       "<AxesSubplot:ylabel='Frequency'>"
      ]
     },
     "execution_count": 8,
     "metadata": {},
     "output_type": "execute_result"
    },
    {
     "data": {
      "image/png": "[encoded data removed]",
      "text/plain": [
       "<Figure size 432x288 with 1 Axes>"
      ]
     },
     "metadata": {
      "needs_background": "light"
     },
     "output_type": "display_data"
    }
   ],
   "source": [
    "df['Tc'].plot(kind='hist')"
   ]
  },
  {
   "cell_type": "code",
   "execution_count": 9,
   "metadata": {},
   "outputs": [
    {
     "data": {
      "text/plain": [
       "<AxesSubplot:ylabel='Frequency'>"
      ]
     },
     "execution_count": 9,
     "metadata": {},
     "output_type": "execute_result"
    },
    {
     "data": {
      "image/png": "[encoded data removed]",
      "text/plain": [
       "<Figure size 432x288 with 1 Axes>"
      ]
     },
     "metadata": {
      "needs_background": "light"
     },
     "output_type": "display_data"
    }
   ],
   "source": [
    "df['Tr'].plot(kind='hist')"
   ]
  },
  {
   "cell_type": "code",
   "execution_count": 10,
   "metadata": {},
   "outputs": [
    {
     "data": {
      "text/plain": [
       "<AxesSubplot:ylabel='Frequency'>"
      ]
     },
     "execution_count": 10,
     "metadata": {},
     "output_type": "execute_result"
    },
    {
     "data": {
      "image/png": "[encoded data removed]",
      "text/plain": [
       "<Figure size 432x288 with 1 Axes>"
      ]
     },
     "metadata": {
      "needs_background": "light"
     },
     "output_type": "display_data"
    }
   ],
   "source": [
    "df['omega'].plot(kind='hist')"
   ]
  },
  {
   "cell_type": "code",
   "execution_count": 11,
   "metadata": {},
   "outputs": [
    {
     "data": {
      "text/html": [
       "<div>\n",
       "<style scoped>\n",
       "    .dataframe tbody tr th:only-of-type {\n",
       "        vertical-align: middle;\n",
       "    }\n",
       "\n",
       "    .dataframe tbody tr th {\n",
       "        vertical-align: top;\n",
       "    }\n",
       "\n",
       "    .dataframe thead th {\n",
       "        text-align: right;\n",
       "    }\n",
       "</style>\n",
       "<table border=\"1\" class=\"dataframe\">\n",
       "  <thead>\n",
       "    <tr style=\"text-align: right;\">\n",
       "      <th></th>\n",
       "      <th>initial_country</th>\n",
       "      <th>idx_country</th>\n",
       "      <th>R0</th>\n",
       "      <th>Tc</th>\n",
       "      <th>Tr</th>\n",
       "      <th>omega</th>\n",
       "      <th>total_infected</th>\n",
       "      <th>total_death</th>\n",
       "      <th>total_recovered</th>\n",
       "      <th>iso2</th>\n",
       "      <th>betweenness</th>\n",
       "      <th>degree</th>\n",
       "      <th>closeness</th>\n",
       "    </tr>\n",
       "  </thead>\n",
       "  <tbody>\n",
       "    <tr>\n",
       "      <th>0</th>\n",
       "      <td>LBN</td>\n",
       "      <td>106</td>\n",
       "      <td>7.490802</td>\n",
       "      <td>2.538351</td>\n",
       "      <td>19.014286</td>\n",
       "      <td>0.151272</td>\n",
       "      <td>1.387830e+10</td>\n",
       "      <td>1.041677e+10</td>\n",
       "      <td>3.621539e+09</td>\n",
       "      <td>LB</td>\n",
       "      <td>0.001057</td>\n",
       "      <td>0.270270</td>\n",
       "      <td>0.460581</td>\n",
       "    </tr>\n",
       "    <tr>\n",
       "      <th>1</th>\n",
       "      <td>GRL</td>\n",
       "      <td>74</td>\n",
       "      <td>11.937003</td>\n",
       "      <td>0.746976</td>\n",
       "      <td>8.916655</td>\n",
       "      <td>0.061480</td>\n",
       "      <td>1.433578e+10</td>\n",
       "      <td>5.165585e+09</td>\n",
       "      <td>9.422941e+09</td>\n",
       "      <td>GL</td>\n",
       "      <td>0.000058</td>\n",
       "      <td>0.027027</td>\n",
       "      <td>0.356340</td>\n",
       "    </tr>\n",
       "    <tr>\n",
       "      <th>2</th>\n",
       "      <td>MMR</td>\n",
       "      <td>130</td>\n",
       "      <td>6.674172</td>\n",
       "      <td>0.428118</td>\n",
       "      <td>2.857336</td>\n",
       "      <td>0.002080</td>\n",
       "      <td>1.432738e+10</td>\n",
       "      <td>8.502669e+07</td>\n",
       "      <td>1.430724e+10</td>\n",
       "      <td>MM</td>\n",
       "      <td>0.000069</td>\n",
       "      <td>0.117117</td>\n",
       "      <td>0.393617</td>\n",
       "    </tr>\n",
       "    <tr>\n",
       "      <th>3</th>\n",
       "      <td>TCD</td>\n",
       "      <td>37</td>\n",
       "      <td>19.398197</td>\n",
       "      <td>0.858268</td>\n",
       "      <td>16.648853</td>\n",
       "      <td>0.000078</td>\n",
       "      <td>1.439593e+10</td>\n",
       "      <td>1.870849e+07</td>\n",
       "      <td>1.442633e+10</td>\n",
       "      <td>TD</td>\n",
       "      <td>0.000064</td>\n",
       "      <td>0.058559</td>\n",
       "      <td>0.408088</td>\n",
       "    </tr>\n",
       "    <tr>\n",
       "      <th>4</th>\n",
       "      <td>GNQ</td>\n",
       "      <td>57</td>\n",
       "      <td>19.844231</td>\n",
       "      <td>0.622328</td>\n",
       "      <td>12.349630</td>\n",
       "      <td>0.074393</td>\n",
       "      <td>1.435014e+10</td>\n",
       "      <td>7.005585e+09</td>\n",
       "      <td>7.625351e+09</td>\n",
       "      <td>GQ</td>\n",
       "      <td>0.000072</td>\n",
       "      <td>0.063063</td>\n",
       "      <td>0.391534</td>\n",
       "    </tr>\n",
       "  </tbody>\n",
       "</table>\n",
       "</div>"
      ],
      "text/plain": [
       "  initial_country  idx_country         R0        Tc         Tr     omega  \\\n",
       "0             LBN          106   7.490802  2.538351  19.014286  0.151272   \n",
       "1             GRL           74  11.937003  0.746976   8.916655  0.061480   \n",
       "2             MMR          130   6.674172  0.428118   2.857336  0.002080   \n",
       "3             TCD           37  19.398197  0.858268  16.648853  0.000078   \n",
       "4             GNQ           57  19.844231  0.622328  12.349630  0.074393   \n",
       "\n",
       "   total_infected   total_death  total_recovered iso2  betweenness    degree  \\\n",
       "0    1.387830e+10  1.041677e+10     3.621539e+09   LB     0.001057  0.270270   \n",
       "1    1.433578e+10  5.165585e+09     9.422941e+09   GL     0.000058  0.027027   \n",
       "2    1.432738e+10  8.502669e+07     1.430724e+10   MM     0.000069  0.117117   \n",
       "3    1.439593e+10  1.870849e+07     1.442633e+10   TD     0.000064  0.058559   \n",
       "4    1.435014e+10  7.005585e+09     7.625351e+09   GQ     0.000072  0.063063   \n",
       "\n",
       "   closeness  \n",
       "0   0.460581  \n",
       "1   0.356340  \n",
       "2   0.393617  \n",
       "3   0.408088  \n",
       "4   0.391534  "
      ]
     },
     "execution_count": 11,
     "metadata": {},
     "output_type": "execute_result"
    }
   ],
   "source": [
    "with open('../data/interim/alpha3_to_alpha2.txt', 'r') as file:\n",
    "    alpha3_to_alpha2 = json.load(file)\n",
    "    \n",
    "graph = nx.read_gpickle('../data/interim/routes_countries.gpickle')\n",
    "\n",
    "degree = dict(nx.degree_centrality(graph))\n",
    "betw = nx.betweenness_centrality(graph)\n",
    "closeness = nx.closeness_centrality(graph)\n",
    "\n",
    "df['iso2'] = df['initial_country'].map(alpha3_to_alpha2)\n",
    "df['betweenness'] = df['iso2'].map(betw)\n",
    "df['degree'] = df['iso2'].map(degree)\n",
    "df['closeness'] = df['iso2'].map(closeness)\n",
    "df.head()"
   ]
  },
  {
   "cell_type": "code",
   "execution_count": 12,
   "metadata": {},
   "outputs": [],
   "source": [
    "df['total_death'] = df['total_death'] / 1000"
   ]
  },
  {
   "cell_type": "code",
   "execution_count": 13,
   "metadata": {},
   "outputs": [
    {
     "data": {
      "image/png": "[encoded data removed]",
      "text/plain": [
       "<Figure size 1080x720 with 2 Axes>"
      ]
     },
     "metadata": {
      "needs_background": "light"
     },
     "output_type": "display_data"
    }
   ],
   "source": [
    "corr_matrix = df.corr()\n",
    "fig, ax = plt.subplots(1, 1, figsize=(15, 10))\n",
    "sns.heatmap(corr_matrix, vmax=1, vmin=-1, annot=True, cmap=\"YlGnBu\", ax=ax)\n",
    "plt.tight_layout()"
   ]
  },
  {
   "cell_type": "code",
   "execution_count": 14,
   "metadata": {},
   "outputs": [
    {
     "data": {
      "text/html": [
       "<div>\n",
       "<style scoped>\n",
       "    .dataframe tbody tr th:only-of-type {\n",
       "        vertical-align: middle;\n",
       "    }\n",
       "\n",
       "    .dataframe tbody tr th {\n",
       "        vertical-align: top;\n",
       "    }\n",
       "\n",
       "    .dataframe thead th {\n",
       "        text-align: right;\n",
       "    }\n",
       "</style>\n",
       "<table border=\"1\" class=\"dataframe\">\n",
       "  <thead>\n",
       "    <tr style=\"text-align: right;\">\n",
       "      <th></th>\n",
       "      <th>R0</th>\n",
       "      <th>Tc</th>\n",
       "      <th>Tr</th>\n",
       "      <th>omega</th>\n",
       "      <th>total_death</th>\n",
       "      <th>betweenness</th>\n",
       "      <th>degree</th>\n",
       "      <th>closeness</th>\n",
       "    </tr>\n",
       "  </thead>\n",
       "  <tbody>\n",
       "    <tr>\n",
       "      <th>0</th>\n",
       "      <td>7.490802</td>\n",
       "      <td>2.538351</td>\n",
       "      <td>19.014286</td>\n",
       "      <td>0.151272</td>\n",
       "      <td>1.041677e+07</td>\n",
       "      <td>0.001057</td>\n",
       "      <td>0.270270</td>\n",
       "      <td>0.460581</td>\n",
       "    </tr>\n",
       "    <tr>\n",
       "      <th>1</th>\n",
       "      <td>11.937003</td>\n",
       "      <td>0.746976</td>\n",
       "      <td>8.916655</td>\n",
       "      <td>0.061480</td>\n",
       "      <td>5.165585e+06</td>\n",
       "      <td>0.000058</td>\n",
       "      <td>0.027027</td>\n",
       "      <td>0.356340</td>\n",
       "    </tr>\n",
       "    <tr>\n",
       "      <th>2</th>\n",
       "      <td>6.674172</td>\n",
       "      <td>0.428118</td>\n",
       "      <td>2.857336</td>\n",
       "      <td>0.002080</td>\n",
       "      <td>8.502669e+04</td>\n",
       "      <td>0.000069</td>\n",
       "      <td>0.117117</td>\n",
       "      <td>0.393617</td>\n",
       "    </tr>\n",
       "    <tr>\n",
       "      <th>3</th>\n",
       "      <td>19.398197</td>\n",
       "      <td>0.858268</td>\n",
       "      <td>16.648853</td>\n",
       "      <td>0.000078</td>\n",
       "      <td>1.870849e+04</td>\n",
       "      <td>0.000064</td>\n",
       "      <td>0.058559</td>\n",
       "      <td>0.408088</td>\n",
       "    </tr>\n",
       "    <tr>\n",
       "      <th>4</th>\n",
       "      <td>19.844231</td>\n",
       "      <td>0.622328</td>\n",
       "      <td>12.349630</td>\n",
       "      <td>0.074393</td>\n",
       "      <td>7.005585e+06</td>\n",
       "      <td>0.000072</td>\n",
       "      <td>0.063063</td>\n",
       "      <td>0.391534</td>\n",
       "    </tr>\n",
       "    <tr>\n",
       "      <th>...</th>\n",
       "      <td>...</td>\n",
       "      <td>...</td>\n",
       "      <td>...</td>\n",
       "      <td>...</td>\n",
       "      <td>...</td>\n",
       "      <td>...</td>\n",
       "      <td>...</td>\n",
       "      <td>...</td>\n",
       "    </tr>\n",
       "    <tr>\n",
       "      <th>9995</th>\n",
       "      <td>3.051127</td>\n",
       "      <td>0.175870</td>\n",
       "      <td>0.536603</td>\n",
       "      <td>0.097821</td>\n",
       "      <td>9.762028e+05</td>\n",
       "      <td>0.000724</td>\n",
       "      <td>0.045045</td>\n",
       "      <td>0.388112</td>\n",
       "    </tr>\n",
       "    <tr>\n",
       "      <th>9996</th>\n",
       "      <td>0.702684</td>\n",
       "      <td>13.698232</td>\n",
       "      <td>9.625529</td>\n",
       "      <td>0.043587</td>\n",
       "      <td>0.000000e+00</td>\n",
       "      <td>0.000007</td>\n",
       "      <td>0.090090</td>\n",
       "      <td>0.403636</td>\n",
       "    </tr>\n",
       "    <tr>\n",
       "      <th>9997</th>\n",
       "      <td>0.838272</td>\n",
       "      <td>9.865214</td>\n",
       "      <td>8.269731</td>\n",
       "      <td>0.004503</td>\n",
       "      <td>0.000000e+00</td>\n",
       "      <td>0.000296</td>\n",
       "      <td>0.108108</td>\n",
       "      <td>0.411874</td>\n",
       "    </tr>\n",
       "    <tr>\n",
       "      <th>9998</th>\n",
       "      <td>19.360133</td>\n",
       "      <td>0.948360</td>\n",
       "      <td>18.360371</td>\n",
       "      <td>0.029889</td>\n",
       "      <td>5.169317e+06</td>\n",
       "      <td>0.000300</td>\n",
       "      <td>0.297297</td>\n",
       "      <td>0.469345</td>\n",
       "    </tr>\n",
       "    <tr>\n",
       "      <th>9999</th>\n",
       "      <td>7.588738</td>\n",
       "      <td>1.443382</td>\n",
       "      <td>10.953451</td>\n",
       "      <td>0.048155</td>\n",
       "      <td>5.018895e+06</td>\n",
       "      <td>0.000032</td>\n",
       "      <td>0.054054</td>\n",
       "      <td>0.398564</td>\n",
       "    </tr>\n",
       "  </tbody>\n",
       "</table>\n",
       "<p>10000 rows × 8 columns</p>\n",
       "</div>"
      ],
      "text/plain": [
       "             R0         Tc         Tr     omega   total_death  betweenness  \\\n",
       "0      7.490802   2.538351  19.014286  0.151272  1.041677e+07     0.001057   \n",
       "1     11.937003   0.746976   8.916655  0.061480  5.165585e+06     0.000058   \n",
       "2      6.674172   0.428118   2.857336  0.002080  8.502669e+04     0.000069   \n",
       "3     19.398197   0.858268  16.648853  0.000078  1.870849e+04     0.000064   \n",
       "4     19.844231   0.622328  12.349630  0.074393  7.005585e+06     0.000072   \n",
       "...         ...        ...        ...       ...           ...          ...   \n",
       "9995   3.051127   0.175870   0.536603  0.097821  9.762028e+05     0.000724   \n",
       "9996   0.702684  13.698232   9.625529  0.043587  0.000000e+00     0.000007   \n",
       "9997   0.838272   9.865214   8.269731  0.004503  0.000000e+00     0.000296   \n",
       "9998  19.360133   0.948360  18.360371  0.029889  5.169317e+06     0.000300   \n",
       "9999   7.588738   1.443382  10.953451  0.048155  5.018895e+06     0.000032   \n",
       "\n",
       "        degree  closeness  \n",
       "0     0.270270   0.460581  \n",
       "1     0.027027   0.356340  \n",
       "2     0.117117   0.393617  \n",
       "3     0.058559   0.408088  \n",
       "4     0.063063   0.391534  \n",
       "...        ...        ...  \n",
       "9995  0.045045   0.388112  \n",
       "9996  0.090090   0.403636  \n",
       "9997  0.108108   0.411874  \n",
       "9998  0.297297   0.469345  \n",
       "9999  0.054054   0.398564  \n",
       "\n",
       "[10000 rows x 8 columns]"
      ]
     },
     "execution_count": 14,
     "metadata": {},
     "output_type": "execute_result"
    }
   ],
   "source": [
    "df_model = df[['R0', 'Tc', 'Tr', 'omega', 'total_death', 'betweenness', 'degree', 'closeness']]\n",
    "df_model"
   ]
  },
  {
   "cell_type": "code",
   "execution_count": 15,
   "metadata": {},
   "outputs": [
    {
     "name": "stdout",
     "output_type": "stream",
     "text": [
      "Training set: (7500, 7)\n",
      "Test set: (2500, 7)\n"
     ]
    }
   ],
   "source": [
    "X = df_model.drop('total_death', axis=1)\n",
    "y = df_model['total_death']\n",
    "\n",
    "X_train, X_test, y_train, y_test = train_test_split(X, y, random_state=42)\n",
    "\n",
    "print(f\"Training set: {X_train.shape}\")\n",
    "print(f\"Test set: {X_test.shape}\")"
   ]
  },
  {
   "cell_type": "code",
   "execution_count": 16,
   "metadata": {},
   "outputs": [],
   "source": [
    "scaler = StandardScaler()\n",
    "X_train_scaled = scaler.fit_transform(X_train)\n",
    "X_test_scaled = scaler.transform(X_test)"
   ]
  },
  {
   "cell_type": "code",
   "execution_count": 17,
   "metadata": {},
   "outputs": [],
   "source": [
    "from tensorflow.keras import backend as K\n",
    "\n",
    "def coeff_determination(y_true, y_pred):\n",
    "    SS_res =  K.sum(K.square( y_true-y_pred )) \n",
    "    SS_tot = K.sum(K.square( y_true - K.mean(y_true) ) ) \n",
    "    return ( 1 - SS_res/(SS_tot + K.epsilon()) )"
   ]
  },
  {
   "cell_type": "code",
   "execution_count": 18,
   "metadata": {},
   "outputs": [],
   "source": [
    "# inputs = Input(X_train_scaled.shape[1:])\n",
    "# h0 = Dense(20, activation='relu')(inputs)\n",
    "# h1 = Dense(10, activation='relu')(h0)\n",
    "# preds = Dense(1)(h1)\n",
    "\n",
    "# model = Model(inputs, preds)\n",
    "# sgd = Adam(lr=0.0001)\n",
    "# model.compile(optimizer=sgd, loss= 'mean_squared_error', metrics=['mean_absolute_percentage_error'])\n",
    "# history = model.fit(X_train_scaled, y_train.values, batch_size=128, epochs=50, verbose=0,\n",
    "#                     validation_data=(X_test_scaled, y_test.values),\n",
    "#                    callbacks=[PlotLossesKeras()])\n",
    "\n",
    "# score_train = model.evaluate(X_train_scaled, y_train.values, verbose=0)\n",
    "# score_test = model.evaluate(X_test_scaled, y_test.values, verbose=0)\n",
    "\n",
    "# print('Train score:', score_train[0])\n",
    "# print('Train MAPE:', score_train[1])\n",
    "# print('Test score:', score_test[0])\n",
    "# print('Test MAPE:', score_test[1])"
   ]
  },
  {
   "cell_type": "code",
   "execution_count": 19,
   "metadata": {},
   "outputs": [],
   "source": [
    "# model.summary()"
   ]
  },
  {
   "cell_type": "markdown",
   "metadata": {},
   "source": [
    "# MODELO 2"
   ]
  },
  {
   "cell_type": "code",
   "execution_count": 20,
   "metadata": {},
   "outputs": [
    {
     "name": "stdout",
     "output_type": "stream",
     "text": [
      "Training set: (7500, 7)\n",
      "Test set: (2500, 7)\n"
     ]
    }
   ],
   "source": [
    "X = df_model.drop('total_death', axis=1)\n",
    "y = df_model['total_death']\n",
    "\n",
    "X_train, X_test, y_train, y_test = train_test_split(X, y, random_state=42)\n",
    "\n",
    "print(f\"Training set: {X_train.shape}\")\n",
    "print(f\"Test set: {X_test.shape}\")"
   ]
  },
  {
   "cell_type": "code",
   "execution_count": 21,
   "metadata": {},
   "outputs": [],
   "source": [
    "X_train, X_test, y_train, y_test = X_train.values, X_test.values, y_train.values, y_test.values"
   ]
  },
  {
   "cell_type": "code",
   "execution_count": 22,
   "metadata": {},
   "outputs": [],
   "source": [
    "# inputs = Input(X_train_scaled.shape[1:])\n",
    "# h0 = Dense(20, activation='selu', kernel_initializer='lecun_normal')(inputs)\n",
    "# h1 = Dense(30, activation='selu', kernel_initializer='lecun_normal')(h0)\n",
    "# h2 = Dense(10, activation='selu', kernel_initializer='lecun_normal')(h1)\n",
    "# preds = Dense(1)(h2)\n",
    "\n",
    "# model = Model(inputs, preds)\n",
    "# sgd = Nadam(lr=0.0001)\n",
    "# model.compile(optimizer=sgd, loss= 'mean_squared_error', metrics=['mean_absolute_percentage_error'])\n",
    "# history = model.fit(X_train, y_train, batch_size=128, epochs=50, verbose=0,\n",
    "#                     validation_data=(X_test, y_test),\n",
    "#                    callbacks=[PlotLossesKeras()])\n",
    "\n",
    "# score_train = model.evaluate(X_train, y_train, verbose=0)\n",
    "# score_test = model.evaluate(X_test, y_test, verbose=0)\n",
    "\n",
    "# print('Train score:', score_train[0])\n",
    "# print('Train MAPE:', score_train[1])\n",
    "# print('Test score:', score_test[0])\n",
    "# print('Test MAPE:', score_test[1])"
   ]
  },
  {
   "cell_type": "code",
   "execution_count": 23,
   "metadata": {},
   "outputs": [],
   "source": [
    "# model.summary()"
   ]
  },
  {
   "cell_type": "markdown",
   "metadata": {},
   "source": [
    "# TENSORBOARD"
   ]
  },
  {
   "cell_type": "code",
   "execution_count": 24,
   "metadata": {},
   "outputs": [],
   "source": [
    "import os\n",
    "import time\n",
    "root_logdir_tensorboard = os.path.join(os.curdir, \"my_logs\")\n",
    "root_logdir_checkpoints = os.path.join(os.curdir, \"checkpoints\")"
   ]
  },
  {
   "cell_type": "code",
   "execution_count": 25,
   "metadata": {},
   "outputs": [],
   "source": [
    "# !rm -rf ./my_logs"
   ]
  },
  {
   "cell_type": "code",
   "execution_count": 26,
   "metadata": {},
   "outputs": [],
   "source": [
    "# %load_ext tensorboard"
   ]
  },
  {
   "cell_type": "code",
   "execution_count": 27,
   "metadata": {},
   "outputs": [],
   "source": [
    "# !tensorboard --logdir=./my_logs --port=6006"
   ]
  },
  {
   "cell_type": "code",
   "execution_count": null,
   "metadata": {},
   "outputs": [
    {
     "name": "stdout",
     "output_type": "stream",
     "text": [
      "2-layers-3-nodes-run_12_08_2020-18_17_34\n",
      "Train score: 26079710412800.0\n",
      "Train MAPE: 3916336.5\n",
      "Test score: 24480766230528.0\n",
      "Test MAPE: 3751703.0\n",
      "========\n",
      "2-layers-5-nodes-run_12_08_2020-18_23_20\n"
     ]
    }
   ],
   "source": [
    "dense_layers = [2, 3, 4]\n",
    "layer_sizes = [3, 5, 7]\n",
    "\n",
    "# dense_layers = [2]\n",
    "# layer_sizes = [10]\n",
    "\n",
    "for dense_layer in dense_layers:\n",
    "    for layer_size in layer_sizes:\n",
    "        run_time = time.strftime(\"run_%d_%m_%Y-%H_%M_%S\")\n",
    "        NAME = f\"{dense_layer}-layers-{layer_size}-nodes-{run_time}\"\n",
    "        print(NAME)\n",
    "        model = Sequential()\n",
    "        inputs = Input(X_train.shape[1:])\n",
    "        \n",
    "        for l in range(dense_layer-1):\n",
    "            model.add(Dense(layer_size, activation='selu', kernel_initializer='lecun_normal'))\n",
    "        \n",
    "        model.add(Dense(1))\n",
    "        \n",
    "        tensorboard_cb = keras.callbacks.TensorBoard(f\"{root_logdir_tensorboard}/{NAME}\")\n",
    "        early_stopping_cb = keras.callbacks.EarlyStopping(patience=10, restore_best_weights=True)\n",
    "        checkpoint_cb = keras.callbacks.ModelCheckpoint(f\"{root_logdir_checkpoints}/{NAME}.h5\",\n",
    "                                                       save_best_only=True)\n",
    "\n",
    "        model.compile(optimizer=Nadam(), loss='mean_squared_error', metrics=['mean_absolute_error'])\n",
    "        \n",
    "        history = model.fit(X_train, y_train, epochs=500, verbose=0,\n",
    "                            validation_data=(X_test, y_test),\n",
    "                           callbacks=[tensorboard_cb, early_stopping_cb, checkpoint_cb])\n",
    "\n",
    "        score_train = model.evaluate(X_train, y_train, verbose=0)\n",
    "        score_test = model.evaluate(X_test, y_test, verbose=0)\n",
    "\n",
    "        print('Train score:', score_train[0])\n",
    "        print('Train MAPE:', score_train[1])\n",
    "        print('Test score:', score_test[0])\n",
    "        print('Test MAPE:', score_test[1])\n",
    "        print('========')"
   ]
  },
  {
   "cell_type": "code",
   "execution_count": null,
   "metadata": {},
   "outputs": [],
   "source": []
  },
  {
   "cell_type": "code",
   "execution_count": null,
   "metadata": {},
   "outputs": [],
   "source": []
  },
  {
   "cell_type": "code",
   "execution_count": null,
   "metadata": {},
   "outputs": [],
   "source": []
  },
  {
   "cell_type": "code",
   "execution_count": null,
   "metadata": {},
   "outputs": [],
   "source": []
  },
  {
   "cell_type": "code",
   "execution_count": null,
   "metadata": {},
   "outputs": [],
   "source": []
  },
  {
   "cell_type": "code",
   "execution_count": null,
   "metadata": {},
   "outputs": [],
   "source": [
    "def get_run_logdir():\n",
    "#     import time\n",
    "    run_id = time.strftime(\"run_%Y_%m_%d-%H_%M_%S\")\n",
    "    return os.path.join(root_logdir_tensorboard, run_id)\n",
    "\n",
    "run_logdir = get_run_logdir()"
   ]
  },
  {
   "cell_type": "code",
   "execution_count": null,
   "metadata": {},
   "outputs": [],
   "source": [
    "# inputs = Input(X_train_scaled.shape[1:])\n",
    "# h0 = Dense(20, activation='selu', kernel_initializer='lecun_normal')(inputs)\n",
    "# h1 = Dense(30, activation='selu', kernel_initializer='lecun_normal')(h0)\n",
    "# h2 = Dense(10, activation='selu', kernel_initializer='lecun_normal')(h1)\n",
    "# preds = Dense(1)(h2)\n",
    "\n",
    "# tensorboard_cb = keras.callbacks.TensorBoard(run_logdir)\n",
    "# early_stopping_cb = keras.callbacks.EarlyStopping(patience=10, restore_best_weights=True)\n",
    "# checkpoint_cb = keras.callbacks.ModelCheckpoint('my_keras_model.h5')\n",
    "\n",
    "# model = Model(inputs, preds)\n",
    "# sgd = Nadam()\n",
    "# model.compile(optimizer=sgd, loss= 'mean_squared_error', metrics=['mean_absolute_error'])\n",
    "# history = model.fit(X_train, y_train, epochs=10000, verbose=0,\n",
    "#                     validation_data=(X_test, y_test),\n",
    "#                    callbacks=[tensorboard_cb, early_stopping_cb, checkpoint_cb])\n",
    "\n",
    "# score_train = model.evaluate(X_train, y_train, verbose=0)\n",
    "# score_test = model.evaluate(X_test, y_test, verbose=0)\n",
    "\n",
    "# print('Train score:', score_train[0])\n",
    "# print('Train MAPE:', score_train[1])\n",
    "# print('Test score:', score_test[0])\n",
    "# print('Test MAPE:', score_test[1])\n",
    "# print('========')"
   ]
  },
  {
   "cell_type": "code",
   "execution_count": null,
   "metadata": {},
   "outputs": [],
   "source": [
    "y_pred = model.predict(X_test)"
   ]
  },
  {
   "cell_type": "code",
   "execution_count": null,
   "metadata": {},
   "outputs": [],
   "source": [
    "from sklearn.metrics import mean_absolute_error\n",
    "from sklearn.metrics import r2_score"
   ]
  },
  {
   "cell_type": "code",
   "execution_count": null,
   "metadata": {},
   "outputs": [],
   "source": [
    "y_pred.shape"
   ]
  },
  {
   "cell_type": "code",
   "execution_count": null,
   "metadata": {},
   "outputs": [],
   "source": [
    "mean_absolute_error(y_test, y_pred)"
   ]
  },
  {
   "cell_type": "code",
   "execution_count": null,
   "metadata": {},
   "outputs": [],
   "source": [
    "r2_score(y_test, y_pred)"
   ]
  },
  {
   "cell_type": "code",
   "execution_count": null,
   "metadata": {},
   "outputs": [],
   "source": [
    "model.save('saved_model/nn_10k') "
   ]
  },
  {
   "cell_type": "code",
   "execution_count": null,
   "metadata": {},
   "outputs": [],
   "source": []
  },
  {
   "cell_type": "code",
   "execution_count": null,
   "metadata": {},
   "outputs": [],
   "source": []
  },
  {
   "cell_type": "code",
   "execution_count": null,
   "metadata": {},
   "outputs": [],
   "source": []
  }
 ],
 "metadata": {
  "kernelspec": {
   "display_name": "Python 3",
   "language": "python",
   "name": "python3"
  },
  "language_info": {
   "codemirror_mode": {
    "name": "ipython",
    "version": 3
   },
   "file_extension": ".py",
   "mimetype": "text/x-python",
   "name": "python",
   "nbconvert_exporter": "python",
   "pygments_lexer": "ipython3",
   "version": "3.8.5"
  }
 },
 "nbformat": 4,
 "nbformat_minor": 4
}
