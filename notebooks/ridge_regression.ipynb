{
 "cells": [
  {
   "cell_type": "code",
   "execution_count": 1,
   "metadata": {},
   "outputs": [
    {
     "name": "stderr",
     "output_type": "stream",
     "text": [
      "/disks/hdd2T/Drive/TFM-master/conda_env/lib/python3.8/site-packages/sklearn/utils/deprecation.py:143: FutureWarning: The sklearn.metrics.classification module is  deprecated in version 0.22 and will be removed in version 0.24. The corresponding classes / functions should instead be imported from sklearn.metrics. Anything that cannot be imported from sklearn.metrics is now part of the private API.\n",
      "  warnings.warn(message, FutureWarning)\n"
     ]
    }
   ],
   "source": [
    "# =============================================================================\n",
    "# \n",
    "# =============================================================================\n",
    "\n",
    "\n",
    "# allows to import own functions\n",
    "import sys\n",
    "import os\n",
    "import re\n",
    "root_project = re.findall(r'(^\\S*TFM-master)', os.getcwd())[0]\n",
    "sys.path.append(root_project)\n",
    "\n",
    "from scipy.stats import  loguniform\n",
    "import pandas as pd\n",
    "from sklearn.model_selection import  RandomizedSearchCV\n",
    "from sklearn.preprocessing import StandardScaler\n",
    "from sklearn.linear_model import Ridge\n",
    "from src.features.add_features import features_graph, features_pop\n",
    "from src.utils.help_func import results_searchcv,results_estimator, make_train_val_test\n",
    "from sklearn.pipeline import Pipeline\n",
    "from yellowbrick.model_selection import LearningCurve, FeatureImportances\n",
    "from yellowbrick.regressor import ResidualsPlot\n",
    "import joblib\n",
    "from matplotlib import pyplot as plt\n",
    "import seaborn as sns\n",
    "sns.set()\n",
    "from sklearn import linear_model"
   ]
  },
  {
   "cell_type": "code",
   "execution_count": 2,
   "metadata": {},
   "outputs": [
    {
     "data": {
      "text/html": [
       "<div>\n",
       "<style scoped>\n",
       "    .dataframe tbody tr th:only-of-type {\n",
       "        vertical-align: middle;\n",
       "    }\n",
       "\n",
       "    .dataframe tbody tr th {\n",
       "        vertical-align: top;\n",
       "    }\n",
       "\n",
       "    .dataframe thead th {\n",
       "        text-align: right;\n",
       "    }\n",
       "</style>\n",
       "<table border=\"1\" class=\"dataframe\">\n",
       "  <thead>\n",
       "    <tr style=\"text-align: right;\">\n",
       "      <th></th>\n",
       "      <th>Tr</th>\n",
       "      <th>inf_pow_1</th>\n",
       "      <th>inf_pow_2</th>\n",
       "      <th>mort_pow_1</th>\n",
       "      <th>mort_pow_2</th>\n",
       "      <th>mort_pow_3</th>\n",
       "      <th>n_closed</th>\n",
       "      <th>react_time</th>\n",
       "      <th>total_deceased</th>\n",
       "      <th>betweenness</th>\n",
       "      <th>degree</th>\n",
       "      <th>closeness</th>\n",
       "      <th>country_pop</th>\n",
       "    </tr>\n",
       "  </thead>\n",
       "  <tbody>\n",
       "    <tr>\n",
       "      <th>0</th>\n",
       "      <td>21.671765</td>\n",
       "      <td>0.000000</td>\n",
       "      <td>0.000000</td>\n",
       "      <td>0.000000</td>\n",
       "      <td>0.000000</td>\n",
       "      <td>0.000000</td>\n",
       "      <td>0</td>\n",
       "      <td>13</td>\n",
       "      <td>0.000000e+00</td>\n",
       "      <td>0.000000</td>\n",
       "      <td>0.045045</td>\n",
       "      <td>0.386760</td>\n",
       "      <td>6465513.0</td>\n",
       "    </tr>\n",
       "    <tr>\n",
       "      <th>1</th>\n",
       "      <td>17.728633</td>\n",
       "      <td>23.071429</td>\n",
       "      <td>49.500000</td>\n",
       "      <td>0.445820</td>\n",
       "      <td>0.727273</td>\n",
       "      <td>3.891892</td>\n",
       "      <td>18</td>\n",
       "      <td>30</td>\n",
       "      <td>3.332951e+09</td>\n",
       "      <td>0.000000</td>\n",
       "      <td>0.081081</td>\n",
       "      <td>0.378194</td>\n",
       "      <td>631636.0</td>\n",
       "    </tr>\n",
       "    <tr>\n",
       "      <th>2</th>\n",
       "      <td>10.894668</td>\n",
       "      <td>1162.785714</td>\n",
       "      <td>2241.777778</td>\n",
       "      <td>0.195651</td>\n",
       "      <td>0.157861</td>\n",
       "      <td>1.262386</td>\n",
       "      <td>18</td>\n",
       "      <td>23</td>\n",
       "      <td>4.940972e+09</td>\n",
       "      <td>0.000288</td>\n",
       "      <td>0.072072</td>\n",
       "      <td>0.405109</td>\n",
       "      <td>14439018.0</td>\n",
       "    </tr>\n",
       "    <tr>\n",
       "      <th>3</th>\n",
       "      <td>22.770250</td>\n",
       "      <td>0.000000</td>\n",
       "      <td>0.000000</td>\n",
       "      <td>0.000000</td>\n",
       "      <td>0.000000</td>\n",
       "      <td>0.000000</td>\n",
       "      <td>5</td>\n",
       "      <td>7</td>\n",
       "      <td>0.000000e+00</td>\n",
       "      <td>0.000072</td>\n",
       "      <td>0.063063</td>\n",
       "      <td>0.391534</td>\n",
       "      <td>1308974.0</td>\n",
       "    </tr>\n",
       "    <tr>\n",
       "      <th>4</th>\n",
       "      <td>28.228049</td>\n",
       "      <td>1.214286</td>\n",
       "      <td>1.000000</td>\n",
       "      <td>0.823529</td>\n",
       "      <td>7.000000</td>\n",
       "      <td>7.000000</td>\n",
       "      <td>5</td>\n",
       "      <td>24</td>\n",
       "      <td>5.074933e+06</td>\n",
       "      <td>0.009627</td>\n",
       "      <td>0.387387</td>\n",
       "      <td>0.526066</td>\n",
       "      <td>33699947.0</td>\n",
       "    </tr>\n",
       "    <tr>\n",
       "      <th>...</th>\n",
       "      <td>...</td>\n",
       "      <td>...</td>\n",
       "      <td>...</td>\n",
       "      <td>...</td>\n",
       "      <td>...</td>\n",
       "      <td>...</td>\n",
       "      <td>...</td>\n",
       "      <td>...</td>\n",
       "      <td>...</td>\n",
       "      <td>...</td>\n",
       "      <td>...</td>\n",
       "      <td>...</td>\n",
       "      <td>...</td>\n",
       "    </tr>\n",
       "    <tr>\n",
       "      <th>78799</th>\n",
       "      <td>20.028500</td>\n",
       "      <td>46.785714</td>\n",
       "      <td>35.562500</td>\n",
       "      <td>0.213740</td>\n",
       "      <td>0.246046</td>\n",
       "      <td>1.428571</td>\n",
       "      <td>18</td>\n",
       "      <td>12</td>\n",
       "      <td>2.155893e+08</td>\n",
       "      <td>0.000184</td>\n",
       "      <td>0.085586</td>\n",
       "      <td>0.405850</td>\n",
       "      <td>17247807.0</td>\n",
       "    </tr>\n",
       "    <tr>\n",
       "      <th>78800</th>\n",
       "      <td>16.916117</td>\n",
       "      <td>2.928571</td>\n",
       "      <td>5.500000</td>\n",
       "      <td>0.658537</td>\n",
       "      <td>2.454545</td>\n",
       "      <td>4.500000</td>\n",
       "      <td>18</td>\n",
       "      <td>24</td>\n",
       "      <td>6.462500e+05</td>\n",
       "      <td>0.000788</td>\n",
       "      <td>0.288288</td>\n",
       "      <td>0.486842</td>\n",
       "      <td>1926542.0</td>\n",
       "    </tr>\n",
       "    <tr>\n",
       "      <th>78801</th>\n",
       "      <td>14.254116</td>\n",
       "      <td>0.000000</td>\n",
       "      <td>0.000000</td>\n",
       "      <td>0.000000</td>\n",
       "      <td>0.000000</td>\n",
       "      <td>0.000000</td>\n",
       "      <td>12</td>\n",
       "      <td>8</td>\n",
       "      <td>0.000000e+00</td>\n",
       "      <td>0.000464</td>\n",
       "      <td>0.063063</td>\n",
       "      <td>0.323615</td>\n",
       "      <td>71808.0</td>\n",
       "    </tr>\n",
       "    <tr>\n",
       "      <th>78802</th>\n",
       "      <td>25.001036</td>\n",
       "      <td>1.000000</td>\n",
       "      <td>0.000000</td>\n",
       "      <td>1.000000</td>\n",
       "      <td>0.000000</td>\n",
       "      <td>14.000000</td>\n",
       "      <td>9</td>\n",
       "      <td>28</td>\n",
       "      <td>1.153780e+05</td>\n",
       "      <td>0.000126</td>\n",
       "      <td>0.234234</td>\n",
       "      <td>0.448485</td>\n",
       "      <td>2789533.0</td>\n",
       "    </tr>\n",
       "    <tr>\n",
       "      <th>78803</th>\n",
       "      <td>27.494083</td>\n",
       "      <td>0.000000</td>\n",
       "      <td>0.000000</td>\n",
       "      <td>0.000000</td>\n",
       "      <td>0.000000</td>\n",
       "      <td>0.000000</td>\n",
       "      <td>3</td>\n",
       "      <td>30</td>\n",
       "      <td>0.000000e+00</td>\n",
       "      <td>0.000292</td>\n",
       "      <td>0.054054</td>\n",
       "      <td>0.385417</td>\n",
       "      <td>575991.0</td>\n",
       "    </tr>\n",
       "  </tbody>\n",
       "</table>\n",
       "<p>78804 rows × 13 columns</p>\n",
       "</div>"
      ],
      "text/plain": [
       "              Tr    inf_pow_1    inf_pow_2  mort_pow_1  mort_pow_2  \\\n",
       "0      21.671765     0.000000     0.000000    0.000000    0.000000   \n",
       "1      17.728633    23.071429    49.500000    0.445820    0.727273   \n",
       "2      10.894668  1162.785714  2241.777778    0.195651    0.157861   \n",
       "3      22.770250     0.000000     0.000000    0.000000    0.000000   \n",
       "4      28.228049     1.214286     1.000000    0.823529    7.000000   \n",
       "...          ...          ...          ...         ...         ...   \n",
       "78799  20.028500    46.785714    35.562500    0.213740    0.246046   \n",
       "78800  16.916117     2.928571     5.500000    0.658537    2.454545   \n",
       "78801  14.254116     0.000000     0.000000    0.000000    0.000000   \n",
       "78802  25.001036     1.000000     0.000000    1.000000    0.000000   \n",
       "78803  27.494083     0.000000     0.000000    0.000000    0.000000   \n",
       "\n",
       "       mort_pow_3  n_closed  react_time  total_deceased  betweenness  \\\n",
       "0        0.000000         0          13    0.000000e+00     0.000000   \n",
       "1        3.891892        18          30    3.332951e+09     0.000000   \n",
       "2        1.262386        18          23    4.940972e+09     0.000288   \n",
       "3        0.000000         5           7    0.000000e+00     0.000072   \n",
       "4        7.000000         5          24    5.074933e+06     0.009627   \n",
       "...           ...       ...         ...             ...          ...   \n",
       "78799    1.428571        18          12    2.155893e+08     0.000184   \n",
       "78800    4.500000        18          24    6.462500e+05     0.000788   \n",
       "78801    0.000000        12           8    0.000000e+00     0.000464   \n",
       "78802   14.000000         9          28    1.153780e+05     0.000126   \n",
       "78803    0.000000         3          30    0.000000e+00     0.000292   \n",
       "\n",
       "         degree  closeness  country_pop  \n",
       "0      0.045045   0.386760    6465513.0  \n",
       "1      0.081081   0.378194     631636.0  \n",
       "2      0.072072   0.405109   14439018.0  \n",
       "3      0.063063   0.391534    1308974.0  \n",
       "4      0.387387   0.526066   33699947.0  \n",
       "...         ...        ...          ...  \n",
       "78799  0.085586   0.405850   17247807.0  \n",
       "78800  0.288288   0.486842    1926542.0  \n",
       "78801  0.063063   0.323615      71808.0  \n",
       "78802  0.234234   0.448485    2789533.0  \n",
       "78803  0.054054   0.385417     575991.0  \n",
       "\n",
       "[78804 rows x 13 columns]"
      ]
     },
     "execution_count": 2,
     "metadata": {},
     "output_type": "execute_result"
    }
   ],
   "source": [
    "# Path to save the model\n",
    "# PATH =  f\"{root_project}/models/linear_regression_rev17.pkl\"\n",
    "\n",
    "# Read data\n",
    "df_i = pd.read_csv(\n",
    "    f'{root_project}/data/processed/simulation_results_rev17_wide_static.csv')\n",
    "# Load features\n",
    "df_i = features_graph(df_i)\n",
    "df_i = features_pop(df_i)\n",
    "\n",
    "df = df_i.copy()\n",
    "\n",
    "# size_data = 20000 # enter  desired subset of data\n",
    "# df = df.sample(size_data)\n",
    "\n",
    "features = [\n",
    "    'Tr',\n",
    "    'inf_pow_1',\n",
    "    'inf_pow_2',\n",
    "    'mort_pow_1',\n",
    "    'mort_pow_2',\n",
    "    'mort_pow_3',\n",
    "    'n_closed',\n",
    "    'react_time',\n",
    "    'total_deceased',\n",
    "    'betweenness',\n",
    "    'degree',\n",
    "    'closeness',\n",
    "    'country_pop']\n",
    "\n",
    "# features = [\n",
    "#     'Tr',\n",
    "#     'inf_pow_1',\n",
    "#     'inf_pow_2',\n",
    "#     'mort_pow_2',\n",
    "#     'mort_pow_3',\n",
    "#     'n_closed',\n",
    "#     'react_time',\n",
    "#     'total_deceased',\n",
    "#     'country_pop']\n",
    "\n",
    "df = df[features]\n",
    "df"
   ]
  },
  {
   "cell_type": "code",
   "execution_count": 3,
   "metadata": {},
   "outputs": [
    {
     "name": "stdout",
     "output_type": "stream",
     "text": [
      "====================\n",
      "Train_validation set: (63044, 12)\n",
      "Test set: (15760, 12)\n",
      "====================\n",
      "Fitting 5 folds for each of 50 candidates, totalling 250 fits\n"
     ]
    },
    {
     "name": "stderr",
     "output_type": "stream",
     "text": [
      "[Parallel(n_jobs=-1)]: Using backend LokyBackend with 8 concurrent workers.\n",
      "[Parallel(n_jobs=-1)]: Done  34 tasks      | elapsed:    1.3s\n"
     ]
    },
    {
     "name": "stdout",
     "output_type": "stream",
     "text": [
      "====================\n",
      "Cross-val best score:\n",
      "0.19687124334132483\n",
      "Cross-val std:\n",
      "0.003522107831319672\n",
      "Best parameters found:\n",
      "{'estimator__alpha': 7.852755494724249, 'estimator__fit_intercept': True}\n",
      "Score in test:\n",
      "0.1956260897622666\n",
      "R-squared in test\n",
      "0.1956260897622666\n",
      "RMSE in test:\n",
      "4.033525570751097e+18\n",
      "MAE in test:\n",
      "1713137094.0523715\n",
      "====================\n"
     ]
    },
    {
     "name": "stderr",
     "output_type": "stream",
     "text": [
      "[Parallel(n_jobs=-1)]: Done 250 out of 250 | elapsed:    3.3s finished\n"
     ]
    }
   ],
   "source": [
    "X_train_val, y_train_val, X_test, y_test = make_train_val_test(df, out_mode=1)\n",
    "\n",
    "pipe = Pipeline([\n",
    "    ('preprocess', StandardScaler()),\n",
    "    ('estimator', Ridge())\n",
    "])\n",
    "\n",
    "param_dist = dict(\n",
    "    estimator__fit_intercept = [True, False],\n",
    "    estimator__alpha = loguniform(0.001, 10)\n",
    ")\n",
    "\n",
    "\n",
    "random_search = RandomizedSearchCV(pipe, param_distributions=param_dist,\n",
    "                                   verbose=1, n_iter=50, \n",
    "                                   random_state=42, n_jobs=-1)\n",
    "\n",
    "random_search.fit(X_train_val, y_train_val)\n",
    "# joblib.dump(random_search, PATH)\n",
    "\n",
    "# Load a model in path\n",
    "# random_search = joblib.load(PATH)\n",
    "\n",
    "# Prints out useful information about the model\n",
    "results_searchcv(random_search, X_test, y_test)"
   ]
  },
  {
   "cell_type": "code",
   "execution_count": 4,
   "metadata": {},
   "outputs": [
    {
     "name": "stderr",
     "output_type": "stream",
     "text": [
      "/disks/hdd2T/Drive/TFM-master/conda_env/lib/python3.8/site-packages/sklearn/base.py:209: FutureWarning: From version 0.24, get_params will raise an AttributeError if a parameter cannot be retrieved as an instance attribute. Previously it would return None.\n",
      "  warnings.warn('From version 0.24, get_params will raise an '\n"
     ]
    },
    {
     "data": {
      "image/png": "[encoded data removed]",
      "text/plain": [
       "<Figure size 720x360 with 1 Axes>"
      ]
     },
     "metadata": {},
     "output_type": "display_data"
    },
    {
     "data": {
      "text/plain": [
       "<AxesSubplot:title={'center':'Learning Curve for Ridge'}, xlabel='Training Instances', ylabel='Score'>"
      ]
     },
     "execution_count": 4,
     "metadata": {},
     "output_type": "execute_result"
    }
   ],
   "source": [
    "# Plot learning curves\n",
    "fig, ax = plt.subplots(1, 1, figsize = (10,5))\n",
    "visualizer = LearningCurve(random_search.best_estimator_, scoring='r2')\n",
    "visualizer.fit(X_train_val, y_train_val)        # Fit the data to the visualizer\n",
    "visualizer.show()           # Finalize and render the figure"
   ]
  },
  {
   "cell_type": "code",
   "execution_count": 5,
   "metadata": {},
   "outputs": [
    {
     "name": "stderr",
     "output_type": "stream",
     "text": [
      "/disks/hdd2T/Drive/TFM-master/conda_env/lib/python3.8/site-packages/sklearn/base.py:209: FutureWarning: From version 0.24, get_params will raise an AttributeError if a parameter cannot be retrieved as an instance attribute. Previously it would return None.\n",
      "  warnings.warn('From version 0.24, get_params will raise an '\n"
     ]
    },
    {
     "data": {
      "image/png": "[encoded data removed]",
      "text/plain": [
       "<Figure size 720x360 with 1 Axes>"
      ]
     },
     "metadata": {},
     "output_type": "display_data"
    },
    {
     "data": {
      "text/plain": [
       "<AxesSubplot:title={'center':'Feature Importances of 12 Features using Ridge'}, xlabel='coefficient value'>"
      ]
     },
     "execution_count": 5,
     "metadata": {},
     "output_type": "execute_result"
    }
   ],
   "source": [
    "# Plot feature importances\n",
    "fig, ax = plt.subplots(1, 1, figsize = (10,5))\n",
    "viz = FeatureImportances(random_search.best_estimator_['estimator'], relative=False)\n",
    "viz.fit(X_train_val, y_train_val)\n",
    "viz.show()"
   ]
  },
  {
   "cell_type": "code",
   "execution_count": 6,
   "metadata": {},
   "outputs": [
    {
     "data": {
      "image/png": "[encoded data removed]",
      "text/plain": [
       "<Figure size 720x360 with 2 Axes>"
      ]
     },
     "metadata": {},
     "output_type": "display_data"
    },
    {
     "data": {
      "text/plain": [
       "<AxesSubplot:title={'center':'Residuals for Ridge Model'}, xlabel='Predicted Value', ylabel='Residuals'>"
      ]
     },
     "execution_count": 6,
     "metadata": {},
     "output_type": "execute_result"
    }
   ],
   "source": [
    "# Plot residual plots\n",
    "fig, ax = plt.subplots(1, 1, figsize = (10,5))\n",
    "viz = ResidualsPlot(random_search.best_estimator_)\n",
    "viz.fit(X_train_val, y_train_val)\n",
    "viz.score(X_test, y_test)\n",
    "viz.show()"
   ]
  },
  {
   "cell_type": "markdown",
   "metadata": {},
   "source": [
    "# TRANFORMING TARGET"
   ]
  },
  {
   "cell_type": "code",
   "execution_count": 16,
   "metadata": {},
   "outputs": [
    {
     "name": "stdout",
     "output_type": "stream",
     "text": [
      "====================\n",
      "Train_validation set: (63044, 12)\n",
      "Test set: (15760, 12)\n",
      "====================\n"
     ]
    }
   ],
   "source": [
    "import numpy as np\n",
    "from sklearn.compose import TransformedTargetRegressor\n",
    "from sklearn.preprocessing import QuantileTransformer, quantile_transform\n",
    "from scipy.stats import uniform, expon, randint, truncexpon\n",
    "\n",
    "\n",
    "df_2 = df_i.copy()\n",
    "\n",
    "features = [\n",
    "    'Tr',\n",
    "    'inf_pow_1',\n",
    "    'inf_pow_2',\n",
    "    'mort_pow_1',\n",
    "    'mort_pow_2',\n",
    "    'mort_pow_3',\n",
    "    'n_closed',\n",
    "    'react_time',\n",
    "    'total_deceased',\n",
    "    'betweenness',\n",
    "    'degree',\n",
    "    'closeness',\n",
    "    'country_pop']\n",
    "\n",
    "df_2 = df_2[features]\n",
    "\n",
    "# df_2['total_deceased'] = df_2['total_deceased'].replace(0,20)\n",
    "\n",
    "X_train_val, y_train_val, X_test, y_test = make_train_val_test(df_2, out_mode=1)"
   ]
  },
  {
   "cell_type": "code",
   "execution_count": 17,
   "metadata": {},
   "outputs": [
    {
     "name": "stdout",
     "output_type": "stream",
     "text": [
      "Fitting 5 folds for each of 50 candidates, totalling 250 fits\n"
     ]
    },
    {
     "name": "stderr",
     "output_type": "stream",
     "text": [
      "[Parallel(n_jobs=-1)]: Using backend LokyBackend with 8 concurrent workers.\n",
      "[Parallel(n_jobs=-1)]: Done  52 tasks      | elapsed:    0.7s\n",
      "[Parallel(n_jobs=-1)]: Done 235 out of 250 | elapsed:    2.6s remaining:    0.2s\n",
      "[Parallel(n_jobs=-1)]: Done 250 out of 250 | elapsed:    2.7s finished\n"
     ]
    },
    {
     "data": {
      "text/plain": [
       "RandomizedSearchCV(estimator=Pipeline(steps=[('preprocess', StandardScaler()),\n",
       "                                             ('estimator',\n",
       "                                              TransformedTargetRegressor(regressor=Ridge(),\n",
       "                                                                         transformer=QuantileTransformer(n_quantiles=300,\n",
       "                                                                                                         output_distribution='normal')))]),\n",
       "                   n_iter=50, n_jobs=-1,\n",
       "                   param_distributions={'estimator__regressor__alpha': <scipy.stats._distn_infrastructure.rv_frozen object at 0x7f6d707d47f0>},\n",
       "                   random_state=42, verbose=1)"
      ]
     },
     "execution_count": 17,
     "metadata": {},
     "output_type": "execute_result"
    }
   ],
   "source": [
    "regr_trans = TransformedTargetRegressor(\n",
    "    regressor=Ridge(),\n",
    "    transformer=QuantileTransformer(n_quantiles=300,\n",
    "                                    output_distribution='normal'))\n",
    "pipe = Pipeline([\n",
    "    ('preprocess', StandardScaler()),\n",
    "    ('estimator', regr_trans)\n",
    "])\n",
    "\n",
    "\n",
    "# param_dist = dict(\n",
    "#     estimator__regressor__loss = ['squared_loss'],\n",
    "#     estimator__regressor__penalty=['l2', 'l1'],\n",
    "#     estimator__regressor__alpha = [1]\n",
    "# )\n",
    "\n",
    "param_dist = dict(\n",
    "    estimator__regressor__alpha = loguniform(0.00001, 10)\n",
    ")\n",
    "\n",
    "\n",
    "\n",
    "random_search = RandomizedSearchCV(pipe, param_distributions=param_dist,\n",
    "                                   verbose=1, n_iter=50, \n",
    "                                   random_state=42, n_jobs=-1)\n",
    "\n",
    "random_search.fit(X_train_val, y_train_val)"
   ]
  },
  {
   "cell_type": "code",
   "execution_count": 18,
   "metadata": {},
   "outputs": [
    {
     "name": "stdout",
     "output_type": "stream",
     "text": [
      "====================\n",
      "Cross-val best score:\n",
      "-0.6106105715393387\n",
      "Cross-val std:\n",
      "0.019528391701404104\n",
      "Best parameters found:\n",
      "{'estimator__regressor__alpha': 1.3289448722869188e-05}\n",
      "Score in test:\n",
      "-0.6174089952694546\n",
      "R-squared in test\n",
      "-0.6174089952694546\n",
      "RMSE in test:\n",
      "8.110482522803421e+18\n",
      "MAE in test:\n",
      "1904269366.1742837\n",
      "====================\n"
     ]
    }
   ],
   "source": [
    "results_searchcv(random_search, X_test, y_test)"
   ]
  },
  {
   "cell_type": "code",
   "execution_count": null,
   "metadata": {},
   "outputs": [],
   "source": []
  }
 ],
 "metadata": {
  "kernelspec": {
   "display_name": "Python 3",
   "language": "python",
   "name": "python3"
  },
  "language_info": {
   "codemirror_mode": {
    "name": "ipython",
    "version": 3
   },
   "file_extension": ".py",
   "mimetype": "text/x-python",
   "name": "python",
   "nbconvert_exporter": "python",
   "pygments_lexer": "ipython3",
   "version": "3.8.5"
  }
 },
 "nbformat": 4,
 "nbformat_minor": 4
}
