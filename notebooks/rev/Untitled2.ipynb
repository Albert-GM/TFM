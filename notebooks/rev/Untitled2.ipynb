{
 "cells": [
  {
   "cell_type": "code",
   "execution_count": 1,
   "metadata": {},
   "outputs": [
    {
     "name": "stderr",
     "output_type": "stream",
     "text": [
      "/disks/hdd2T/Drive/TFM-master/conda_env/lib/python3.8/site-packages/sklearn/utils/deprecation.py:143: FutureWarning: The sklearn.metrics.classification module is  deprecated in version 0.22 and will be removed in version 0.24. The corresponding classes / functions should instead be imported from sklearn.metrics. Anything that cannot be imported from sklearn.metrics is now part of the private API.\n",
      "  warnings.warn(message, FutureWarning)\n"
     ]
    }
   ],
   "source": [
    "# =============================================================================\n",
    "# \n",
    "# =============================================================================\n",
    "\n",
    "\n",
    "# allows to import own functions\n",
    "import sys\n",
    "import os\n",
    "import re\n",
    "root_project = re.findall(r'(^\\S*TFM-master)', os.getcwd())[0]\n",
    "sys.path.append(root_project)\n",
    "\n",
    "from scipy.stats import  loguniform\n",
    "import pandas as pd\n",
    "from sklearn.model_selection import  RandomizedSearchCV\n",
    "from sklearn.preprocessing import StandardScaler\n",
    "from sklearn.linear_model import SGDRegressor\n",
    "from src.features.add_features import features_graph, features_pop\n",
    "from src.utils.help_func import results_searchcv, make_train_val_test\n",
    "from sklearn.pipeline import Pipeline\n",
    "from sklearn.compose import TransformedTargetRegressor\n",
    "from yellowbrick.model_selection import LearningCurve, FeatureImportances\n",
    "from yellowbrick.regressor import ResidualsPlot\n",
    "import joblib\n",
    "import numpy as np\n",
    "from matplotlib import pyplot as plt\n",
    "import seaborn as sns\n",
    "sns.set()\n",
    "\n",
    "# Path to save the model\n",
    "PATH =  f\"{root_project}/models/linear_regression_rev17.pkl\"\n",
    "\n",
    "# Read data\n",
    "df = pd.read_csv(\n",
    "    f'{root_project}/data/processed/simulation_results_rev17_wide_static.csv')\n",
    "# Load features\n",
    "df = features_graph(df)\n",
    "df = features_pop(df)\n",
    "\n",
    "# size_data = 20000 # enter  desired subset of data\n",
    "# df = df.sample(size_data)\n",
    "\n",
    "# df['total_deceased'] = df['total_deceased'].replace(0,5)"
   ]
  },
  {
   "cell_type": "code",
   "execution_count": 2,
   "metadata": {},
   "outputs": [
    {
     "name": "stdout",
     "output_type": "stream",
     "text": [
      "====================\n",
      "Train_validation set: (40757, 12)\n",
      "Test set: (10189, 12)\n",
      "====================\n"
     ]
    }
   ],
   "source": [
    "features = [\n",
    "    'Tr',\n",
    "    'inf_pow_1',\n",
    "    'inf_pow_2',\n",
    "    'mort_pow_1',\n",
    "    'mort_pow_2',\n",
    "    'mort_pow_3',\n",
    "    'n_closed',\n",
    "    'react_time',\n",
    "    'total_deceased',\n",
    "    'betweenness',\n",
    "    'degree',\n",
    "    'closeness',\n",
    "    'country_pop']\n",
    "\n",
    "\n",
    "df = df[features]\n",
    "\n",
    "X_train_val, y_train_val, X_test, y_test = make_train_val_test(df, out_mode=1)"
   ]
  },
  {
   "cell_type": "code",
   "execution_count": 3,
   "metadata": {},
   "outputs": [
    {
     "data": {
      "text/html": [
       "<div>\n",
       "<style scoped>\n",
       "    .dataframe tbody tr th:only-of-type {\n",
       "        vertical-align: middle;\n",
       "    }\n",
       "\n",
       "    .dataframe tbody tr th {\n",
       "        vertical-align: top;\n",
       "    }\n",
       "\n",
       "    .dataframe thead th {\n",
       "        text-align: right;\n",
       "    }\n",
       "</style>\n",
       "<table border=\"1\" class=\"dataframe\">\n",
       "  <thead>\n",
       "    <tr style=\"text-align: right;\">\n",
       "      <th></th>\n",
       "      <th>Tr</th>\n",
       "      <th>inf_pow_1</th>\n",
       "      <th>inf_pow_2</th>\n",
       "      <th>mort_pow_1</th>\n",
       "      <th>mort_pow_2</th>\n",
       "      <th>mort_pow_3</th>\n",
       "      <th>n_closed</th>\n",
       "      <th>react_time</th>\n",
       "      <th>betweenness</th>\n",
       "      <th>degree</th>\n",
       "      <th>closeness</th>\n",
       "      <th>country_pop</th>\n",
       "    </tr>\n",
       "  </thead>\n",
       "  <tbody>\n",
       "    <tr>\n",
       "      <th>count</th>\n",
       "      <td>40757.000000</td>\n",
       "      <td>4.075700e+04</td>\n",
       "      <td>4.075700e+04</td>\n",
       "      <td>40757.000000</td>\n",
       "      <td>4.075700e+04</td>\n",
       "      <td>40757.000000</td>\n",
       "      <td>40757.000000</td>\n",
       "      <td>40757.000000</td>\n",
       "      <td>40757.000000</td>\n",
       "      <td>40757.000000</td>\n",
       "      <td>40757.000000</td>\n",
       "      <td>4.075700e+04</td>\n",
       "    </tr>\n",
       "    <tr>\n",
       "      <th>mean</th>\n",
       "      <td>16.088939</td>\n",
       "      <td>2.378935e+06</td>\n",
       "      <td>4.804419e+05</td>\n",
       "      <td>0.271604</td>\n",
       "      <td>-7.573450e+01</td>\n",
       "      <td>2.025349</td>\n",
       "      <td>9.526879</td>\n",
       "      <td>15.489069</td>\n",
       "      <td>0.006655</td>\n",
       "      <td>0.193561</td>\n",
       "      <td>0.439457</td>\n",
       "      <td>3.705079e+07</td>\n",
       "    </tr>\n",
       "    <tr>\n",
       "      <th>std</th>\n",
       "      <td>8.065400</td>\n",
       "      <td>2.057435e+07</td>\n",
       "      <td>3.329096e+06</td>\n",
       "      <td>0.415033</td>\n",
       "      <td>1.139212e+04</td>\n",
       "      <td>3.211596</td>\n",
       "      <td>5.762209</td>\n",
       "      <td>8.651087</td>\n",
       "      <td>0.019112</td>\n",
       "      <td>0.190075</td>\n",
       "      <td>0.066073</td>\n",
       "      <td>1.409184e+08</td>\n",
       "    </tr>\n",
       "    <tr>\n",
       "      <th>min</th>\n",
       "      <td>2.002059</td>\n",
       "      <td>0.000000e+00</td>\n",
       "      <td>-1.124679e+06</td>\n",
       "      <td>0.000000</td>\n",
       "      <td>-2.076870e+06</td>\n",
       "      <td>0.000000</td>\n",
       "      <td>0.000000</td>\n",
       "      <td>1.000000</td>\n",
       "      <td>0.000000</td>\n",
       "      <td>0.009009</td>\n",
       "      <td>0.296395</td>\n",
       "      <td>1.164600e+04</td>\n",
       "    </tr>\n",
       "    <tr>\n",
       "      <th>25%</th>\n",
       "      <td>9.107522</td>\n",
       "      <td>0.000000e+00</td>\n",
       "      <td>0.000000e+00</td>\n",
       "      <td>0.000000</td>\n",
       "      <td>0.000000e+00</td>\n",
       "      <td>0.000000</td>\n",
       "      <td>5.000000</td>\n",
       "      <td>8.000000</td>\n",
       "      <td>0.000058</td>\n",
       "      <td>0.063063</td>\n",
       "      <td>0.392920</td>\n",
       "      <td>1.136191e+06</td>\n",
       "    </tr>\n",
       "    <tr>\n",
       "      <th>50%</th>\n",
       "      <td>16.101771</td>\n",
       "      <td>1.571429e+01</td>\n",
       "      <td>1.950000e+01</td>\n",
       "      <td>0.172414</td>\n",
       "      <td>1.242038e-01</td>\n",
       "      <td>0.818230</td>\n",
       "      <td>10.000000</td>\n",
       "      <td>15.000000</td>\n",
       "      <td>0.000554</td>\n",
       "      <td>0.126126</td>\n",
       "      <td>0.427746</td>\n",
       "      <td>6.982084e+06</td>\n",
       "    </tr>\n",
       "    <tr>\n",
       "      <th>75%</th>\n",
       "      <td>23.112889</td>\n",
       "      <td>1.636071e+03</td>\n",
       "      <td>2.050000e+03</td>\n",
       "      <td>0.424419</td>\n",
       "      <td>6.000000e-01</td>\n",
       "      <td>2.810526</td>\n",
       "      <td>15.000000</td>\n",
       "      <td>23.000000</td>\n",
       "      <td>0.003726</td>\n",
       "      <td>0.252252</td>\n",
       "      <td>0.477419</td>\n",
       "      <td>2.626237e+07</td>\n",
       "    </tr>\n",
       "    <tr>\n",
       "      <th>max</th>\n",
       "      <td>29.999595</td>\n",
       "      <td>5.045927e+08</td>\n",
       "      <td>8.714938e+07</td>\n",
       "      <td>21.000000</td>\n",
       "      <td>8.960714e+03</td>\n",
       "      <td>71.000000</td>\n",
       "      <td>19.000000</td>\n",
       "      <td>30.000000</td>\n",
       "      <td>0.184702</td>\n",
       "      <td>0.995495</td>\n",
       "      <td>0.634286</td>\n",
       "      <td>1.392730e+09</td>\n",
       "    </tr>\n",
       "  </tbody>\n",
       "</table>\n",
       "</div>"
      ],
      "text/plain": [
       "                 Tr     inf_pow_1     inf_pow_2    mort_pow_1    mort_pow_2  \\\n",
       "count  40757.000000  4.075700e+04  4.075700e+04  40757.000000  4.075700e+04   \n",
       "mean      16.088939  2.378935e+06  4.804419e+05      0.271604 -7.573450e+01   \n",
       "std        8.065400  2.057435e+07  3.329096e+06      0.415033  1.139212e+04   \n",
       "min        2.002059  0.000000e+00 -1.124679e+06      0.000000 -2.076870e+06   \n",
       "25%        9.107522  0.000000e+00  0.000000e+00      0.000000  0.000000e+00   \n",
       "50%       16.101771  1.571429e+01  1.950000e+01      0.172414  1.242038e-01   \n",
       "75%       23.112889  1.636071e+03  2.050000e+03      0.424419  6.000000e-01   \n",
       "max       29.999595  5.045927e+08  8.714938e+07     21.000000  8.960714e+03   \n",
       "\n",
       "         mort_pow_3      n_closed    react_time   betweenness        degree  \\\n",
       "count  40757.000000  40757.000000  40757.000000  40757.000000  40757.000000   \n",
       "mean       2.025349      9.526879     15.489069      0.006655      0.193561   \n",
       "std        3.211596      5.762209      8.651087      0.019112      0.190075   \n",
       "min        0.000000      0.000000      1.000000      0.000000      0.009009   \n",
       "25%        0.000000      5.000000      8.000000      0.000058      0.063063   \n",
       "50%        0.818230     10.000000     15.000000      0.000554      0.126126   \n",
       "75%        2.810526     15.000000     23.000000      0.003726      0.252252   \n",
       "max       71.000000     19.000000     30.000000      0.184702      0.995495   \n",
       "\n",
       "          closeness   country_pop  \n",
       "count  40757.000000  4.075700e+04  \n",
       "mean       0.439457  3.705079e+07  \n",
       "std        0.066073  1.409184e+08  \n",
       "min        0.296395  1.164600e+04  \n",
       "25%        0.392920  1.136191e+06  \n",
       "50%        0.427746  6.982084e+06  \n",
       "75%        0.477419  2.626237e+07  \n",
       "max        0.634286  1.392730e+09  "
      ]
     },
     "execution_count": 3,
     "metadata": {},
     "output_type": "execute_result"
    }
   ],
   "source": [
    "X_train_val.describe()"
   ]
  },
  {
   "cell_type": "code",
   "execution_count": 4,
   "metadata": {},
   "outputs": [
    {
     "data": {
      "text/plain": [
       "count    4.075700e+04\n",
       "mean     1.938966e+09\n",
       "std      2.243429e+09\n",
       "min      0.000000e+00\n",
       "25%      0.000000e+00\n",
       "50%      8.434097e+07\n",
       "75%      4.128409e+09\n",
       "max      6.678113e+09\n",
       "Name: total_deceased, dtype: float64"
      ]
     },
     "execution_count": 4,
     "metadata": {},
     "output_type": "execute_result"
    }
   ],
   "source": [
    "y_train_val.describe()"
   ]
  },
  {
   "cell_type": "code",
   "execution_count": 5,
   "metadata": {},
   "outputs": [
    {
     "data": {
      "text/plain": [
       "Tr             0\n",
       "inf_pow_1      0\n",
       "inf_pow_2      0\n",
       "mort_pow_1     0\n",
       "mort_pow_2     0\n",
       "mort_pow_3     0\n",
       "n_closed       0\n",
       "react_time     0\n",
       "betweenness    0\n",
       "degree         0\n",
       "closeness      0\n",
       "country_pop    0\n",
       "dtype: int64"
      ]
     },
     "execution_count": 5,
     "metadata": {},
     "output_type": "execute_result"
    }
   ],
   "source": [
    "X_train_val.isna().sum()"
   ]
  },
  {
   "cell_type": "code",
   "execution_count": 6,
   "metadata": {},
   "outputs": [
    {
     "data": {
      "text/plain": [
       "0"
      ]
     },
     "execution_count": 6,
     "metadata": {},
     "output_type": "execute_result"
    }
   ],
   "source": [
    "y_train_val.isna().sum()"
   ]
  },
  {
   "cell_type": "code",
   "execution_count": 11,
   "metadata": {},
   "outputs": [
    {
     "name": "stdout",
     "output_type": "stream",
     "text": [
      "Fitting 5 folds for each of 100 candidates, totalling 500 fits\n"
     ]
    },
    {
     "name": "stderr",
     "output_type": "stream",
     "text": [
      "[Parallel(n_jobs=-1)]: Using backend LokyBackend with 8 concurrent workers.\n",
      "[Parallel(n_jobs=-1)]: Done  34 tasks      | elapsed:   13.8s\n",
      "[Parallel(n_jobs=-1)]: Done 184 tasks      | elapsed:  1.4min\n",
      "[Parallel(n_jobs=-1)]: Done 434 tasks      | elapsed:  3.2min\n"
     ]
    },
    {
     "name": "stdout",
     "output_type": "stream",
     "text": [
      "====================\n",
      "Cross-val best score:\n",
      "0.18643943263204316\n",
      "Cross-val std:\n",
      "0.004214011753899934\n",
      "Best parameters found:\n",
      "{'estimator__alpha': 0.2729378165037475, 'estimator__loss': 'squared_loss', 'estimator__penalty': 'l2'}\n",
      "Score in test:\n",
      "0.1841632911089558\n",
      "R^2 in test\n",
      "0.1841632911089558\n",
      "MAE in test:\n",
      "1784086604.184498\n",
      "====================\n"
     ]
    },
    {
     "name": "stderr",
     "output_type": "stream",
     "text": [
      "[Parallel(n_jobs=-1)]: Done 500 out of 500 | elapsed:  3.7min finished\n"
     ]
    }
   ],
   "source": [
    "# transf_target = TransformedTargetRegressor(regressor=SGDRegressor(), func=np.log, inverse_func=np.exp)\n",
    "\n",
    "# pipe = Pipeline([\n",
    "#     ('preprocess', StandardScaler()),\n",
    "#     ('estimator', transf_target)\n",
    "# ])\n",
    "\n",
    "pipe = Pipeline([\n",
    "    ('preprocess', StandardScaler()),\n",
    "    ('estimator', SGDRegressor()),\n",
    "])\n",
    "\n",
    "# param_dist = dict(\n",
    "#     estimator__regressor__loss = ['squared_loss', 'huber'],\n",
    "#     estimator__regressor__penalty=['l2', 'l1'],\n",
    "#     estimator__regressor__alpha = loguniform(0.00001, 1)\n",
    "# )\n",
    "\n",
    "param_dist = dict(\n",
    "    estimator__loss = ['squared_loss', 'huber'],\n",
    "    estimator__penalty=['l2', 'l1'],\n",
    "    estimator__alpha = loguniform(0.00001, 1)\n",
    ")\n",
    "\n",
    "random_search = RandomizedSearchCV(pipe, param_distributions=param_dist,\n",
    "                                   verbose=1, n_iter=100, \n",
    "                                   random_state=42, n_jobs=-1)\n",
    "\n",
    "random_search.fit(X_train_val, y_train_val)\n",
    "\n",
    "\n",
    "# Prints out useful information about the model\n",
    "results_searchcv(random_search, X_test, y_test)"
   ]
  },
  {
   "cell_type": "code",
   "execution_count": 12,
   "metadata": {},
   "outputs": [
    {
     "data": {
      "image/png": "[encoded data removed]",
      "text/plain": [
       "<Figure size 720x360 with 2 Axes>"
      ]
     },
     "metadata": {},
     "output_type": "display_data"
    },
    {
     "data": {
      "text/plain": [
       "<AxesSubplot:title={'center':'Residuals for SGDRegressor Model'}, xlabel='Predicted Value', ylabel='Residuals'>"
      ]
     },
     "execution_count": 12,
     "metadata": {},
     "output_type": "execute_result"
    }
   ],
   "source": []
  },
  {
   "cell_type": "code",
   "execution_count": 18,
   "metadata": {},
   "outputs": [
    {
     "data": {
      "text/plain": [
       "{'estimator__alpha': 0.2729378165037475,\n",
       " 'estimator__loss': 'squared_loss',\n",
       " 'estimator__penalty': 'l2'}"
      ]
     },
     "execution_count": 18,
     "metadata": {},
     "output_type": "execute_result"
    }
   ],
   "source": [
    "random_search.best_params_"
   ]
  },
  {
   "cell_type": "code",
   "execution_count": 21,
   "metadata": {},
   "outputs": [
    {
     "name": "stdout",
     "output_type": "stream",
     "text": [
      "====================\n",
      "Train_validation set: (40020, 12)\n",
      "Test set: (10005, 12)\n",
      "====================\n"
     ]
    },
    {
     "data": {
      "text/plain": [
       "Pipeline(steps=[('preprocess', StandardScaler()),\n",
       "                ('estimator', SGDRegressor(alpha=0.2729))])"
      ]
     },
     "execution_count": 21,
     "metadata": {},
     "output_type": "execute_result"
    }
   ],
   "source": [
    "df = pd.read_csv(\n",
    "    f'{root_project}/data/processed/simulation_results_rev17_wide_static.csv')\n",
    "# Load features\n",
    "df = features_graph(df)\n",
    "df = features_pop(df)\n",
    "\n",
    "df['total_deceased'] = np.log(df['total_deceased'].replace(0, np.finfo(float).eps))\n",
    "\n",
    "\n",
    "features = [\n",
    "    'Tr',\n",
    "    'inf_pow_1',\n",
    "    'inf_pow_2',\n",
    "    'mort_pow_1',\n",
    "    'mort_pow_2',\n",
    "    'mort_pow_3',\n",
    "    'n_closed',\n",
    "    'react_time',\n",
    "    'total_deceased',\n",
    "    'betweenness',\n",
    "    'degree',\n",
    "    'closeness',\n",
    "    'country_pop']\n",
    "\n",
    "df = df[features]\n",
    "\n",
    "X_train_val, y_train_val, X_test, y_test = make_train_val_test(df, out_mode=1)\n",
    "\n",
    "\n",
    "# pipe = Pipeline([\n",
    "#     ('preprocess', StandardScaler()),\n",
    "#     ('estimator', transf_target)\n",
    "# ])\n",
    "\n",
    "pipe = Pipeline([\n",
    "    ('preprocess', StandardScaler()),\n",
    "    ('estimator', SGDRegressor(alpha=0.2729, loss='squared_loss', penalty='l2')),\n",
    "])\n",
    "\n",
    "\n",
    "pipe.fit(X_train_val, y_train_val)"
   ]
  },
  {
   "cell_type": "code",
   "execution_count": 25,
   "metadata": {},
   "outputs": [
    {
     "data": {
      "text/plain": [
       "0.31549448297558635"
      ]
     },
     "execution_count": 25,
     "metadata": {},
     "output_type": "execute_result"
    }
   ],
   "source": [
    "from sklearn.metrics import mean_absolute_error, mean_squared_error, r2_score\n",
    "\n",
    "\n",
    "y_prediction = pipe.predict(X_test)\n",
    "r2_score(y_test, y_prediction)"
   ]
  },
  {
   "cell_type": "code",
   "execution_count": 27,
   "metadata": {},
   "outputs": [
    {
     "data": {
      "text/plain": [
       "-2.0208010516951907e+106"
      ]
     },
     "execution_count": 27,
     "metadata": {},
     "output_type": "execute_result"
    }
   ],
   "source": [
    "y_prediction = pipe.predict(X_test)\n",
    "r2_score(np.exp(y_test), np.exp(y_prediction))"
   ]
  },
  {
   "cell_type": "code",
   "execution_count": 17,
   "metadata": {},
   "outputs": [
    {
     "data": {
      "text/plain": [
       "0       -36.043653\n",
       "1        21.927124\n",
       "2        22.320828\n",
       "3       -36.043653\n",
       "4        15.439824\n",
       "           ...    \n",
       "50020    22.228386\n",
       "50021     5.192957\n",
       "50022    22.377521\n",
       "50023    21.925203\n",
       "50024    22.403521\n",
       "Name: total_deceased, Length: 50025, dtype: float64"
      ]
     },
     "execution_count": 17,
     "metadata": {},
     "output_type": "execute_result"
    }
   ],
   "source": [
    "df['total_deceased']"
   ]
  },
  {
   "cell_type": "code",
   "execution_count": 28,
   "metadata": {},
   "outputs": [],
   "source": [
    "from sklearn.linear_model import Ridge"
   ]
  },
  {
   "cell_type": "code",
   "execution_count": 29,
   "metadata": {},
   "outputs": [
    {
     "name": "stdout",
     "output_type": "stream",
     "text": [
      "====================\n",
      "Train_validation set: (40020, 12)\n",
      "Test set: (10005, 12)\n",
      "====================\n",
      "Fitting 5 folds for each of 100 candidates, totalling 500 fits\n"
     ]
    },
    {
     "name": "stderr",
     "output_type": "stream",
     "text": [
      "[Parallel(n_jobs=-1)]: Using backend LokyBackend with 8 concurrent workers.\n",
      "[Parallel(n_jobs=-1)]: Done  34 tasks      | elapsed:    1.2s\n"
     ]
    },
    {
     "name": "stdout",
     "output_type": "stream",
     "text": [
      "====================\n",
      "Cross-val best score:\n",
      "0.16995823162366172\n",
      "Cross-val std:\n",
      "0.05989989461090491\n",
      "Best parameters found:\n",
      "{'estimator__alpha': 0.0010521761868451127, 'estimator__fit_intercept': True}\n",
      "Score in test:\n",
      "0.19471415865490294\n",
      "R^2 in test\n",
      "0.19471415865490294\n",
      "MAE in test:\n",
      "1721547541.0811586\n",
      "====================\n"
     ]
    },
    {
     "name": "stderr",
     "output_type": "stream",
     "text": [
      "[Parallel(n_jobs=-1)]: Done 500 out of 500 | elapsed:    3.7s finished\n"
     ]
    }
   ],
   "source": [
    "df = pd.read_csv(\n",
    "    f'{root_project}/data/processed/simulation_results_rev17_wide_static.csv')\n",
    "# Load features\n",
    "df = features_graph(df)\n",
    "df = features_pop(df)\n",
    "\n",
    "features = [\n",
    "    'Tr',\n",
    "    'inf_pow_1',\n",
    "    'inf_pow_2',\n",
    "    'mort_pow_1',\n",
    "    'mort_pow_2',\n",
    "    'mort_pow_3',\n",
    "    'n_closed',\n",
    "    'react_time',\n",
    "    'total_deceased',\n",
    "    'betweenness',\n",
    "    'degree',\n",
    "    'closeness',\n",
    "    'country_pop']\n",
    "\n",
    "df = df[features]\n",
    "\n",
    "X_train_val, y_train_val, X_test, y_test = make_train_val_test(df, out_mode=1)\n",
    "\n",
    "pipe = Pipeline([\n",
    "    ('preprocess', StandardScaler()),\n",
    "    ('estimator', Ridge()),\n",
    "])\n",
    "\n",
    "\n",
    "param_dist = dict(\n",
    "    estimator__fit_intercept = [True, False],\n",
    "    estimator__alpha = loguniform(0.001, 10)\n",
    ")\n",
    "\n",
    "random_search = RandomizedSearchCV(pipe, param_distributions=param_dist,\n",
    "                                   verbose=1, n_iter=100, \n",
    "                                   random_state=42, n_jobs=-1)\n",
    "\n",
    "random_search.fit(X_train_val, y_train_val)\n",
    "\n",
    "\n",
    "# Prints out useful information about the model\n",
    "results_searchcv(random_search, X_test, y_test)"
   ]
  },
  {
   "cell_type": "code",
   "execution_count": null,
   "metadata": {},
   "outputs": [],
   "source": []
  },
  {
   "cell_type": "code",
   "execution_count": 33,
   "metadata": {},
   "outputs": [
    {
     "name": "stdout",
     "output_type": "stream",
     "text": [
      "====================\n",
      "Train_validation set: (40020, 12)\n",
      "Test set: (10005, 12)\n",
      "====================\n"
     ]
    },
    {
     "name": "stderr",
     "output_type": "stream",
     "text": [
      "/disks/hdd2T/Drive/TFM-master/conda_env/lib/python3.8/site-packages/sklearn/linear_model/_ridge.py:147: LinAlgWarning: Ill-conditioned matrix (rcond=6.83691e-21): result may not be accurate.\n",
      "  return linalg.solve(A, Xy, sym_pos=True,\n"
     ]
    },
    {
     "data": {
      "text/plain": [
       "TransformedTargetRegressor(regressor=Ridge(alpha=0.0010521761868451127),\n",
       "                           transformer=QuantileTransformer(n_quantiles=300,\n",
       "                                                           output_distribution='normal'))"
      ]
     },
     "execution_count": 33,
     "metadata": {},
     "output_type": "execute_result"
    }
   ],
   "source": [
    "from sklearn.preprocessing import QuantileTransformer, quantile_transform\n",
    "\n",
    "df = pd.read_csv(\n",
    "    f'{root_project}/data/processed/simulation_results_rev17_wide_static.csv')\n",
    "# Load features\n",
    "df = features_graph(df)\n",
    "df = features_pop(df)\n",
    "\n",
    "features = [\n",
    "    'Tr',\n",
    "    'inf_pow_1',\n",
    "    'inf_pow_2',\n",
    "    'mort_pow_1',\n",
    "    'mort_pow_2',\n",
    "    'mort_pow_3',\n",
    "    'n_closed',\n",
    "    'react_time',\n",
    "    'total_deceased',\n",
    "    'betweenness',\n",
    "    'degree',\n",
    "    'closeness',\n",
    "    'country_pop']\n",
    "\n",
    "df = df[features]\n",
    "\n",
    "X_train_val, y_train_val, X_test, y_test = make_train_val_test(df, out_mode=1)\n",
    "\n",
    "regr_trans = TransformedTargetRegressor(\n",
    "    regressor=Ridge(alpha= 0.0010521761868451127),\n",
    "    transformer=QuantileTransformer(n_quantiles=300,\n",
    "                                    output_distribution='normal'))\n",
    "\n",
    "\n",
    "regr_trans.fit(X_train_val, y_train_val)"
   ]
  },
  {
   "cell_type": "code",
   "execution_count": 36,
   "metadata": {},
   "outputs": [
    {
     "data": {
      "text/plain": [
       "-0.619694057334296"
      ]
     },
     "execution_count": 36,
     "metadata": {},
     "output_type": "execute_result"
    }
   ],
   "source": [
    "y_prediction = regr_trans.predict(X_test)\n",
    "r2_score(y_test, y_prediction)"
   ]
  },
  {
   "cell_type": "code",
   "execution_count": null,
   "metadata": {},
   "outputs": [],
   "source": []
  }
 ],
 "metadata": {
  "kernelspec": {
   "display_name": "Python 3",
   "language": "python",
   "name": "python3"
  },
  "language_info": {
   "codemirror_mode": {
    "name": "ipython",
    "version": 3
   },
   "file_extension": ".py",
   "mimetype": "text/x-python",
   "name": "python",
   "nbconvert_exporter": "python",
   "pygments_lexer": "ipython3",
   "version": "3.8.5"
  }
 },
 "nbformat": 4,
 "nbformat_minor": 4
}
